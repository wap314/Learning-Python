{
 "cells": [
  {
   "cell_type": "markdown",
   "metadata": {},
   "source": [
    "# Chapter 15 - Classes and Objects"
   ]
  },
  {
   "cell_type": "markdown",
   "metadata": {},
   "source": [
    "At this point you know how to use functions to organize code and built-in types to organize\n",
    "data. The next step is to learn “object-oriented programming”, which uses programmerdefined types to organize both code and data. Object-oriented programming is a big topic;\n",
    "it will take a few chapters to get there."
   ]
  },
  {
   "cell_type": "markdown",
   "metadata": {},
   "source": [
    "## 15.1 Progammer-defined Types"
   ]
  },
  {
   "cell_type": "markdown",
   "metadata": {},
   "source": [
    "We have used many of Python’s built-in types; now we are going to define a new type. As\n",
    "an example, we will create a type called Point that represents a point in two-dimensional\n",
    "space.\n",
    "\n",
    "In mathematical notation, points are often written in parentheses with a comma separating\n",
    "the coordinates. For example, (0, 0) represents the origin, and (x, y) represents the point x\n",
    "units to the right and y units up from the origin.\n",
    "There are several ways we might represent points in Python:\n",
    "\n",
    "* We could store the coordinates separately in two variables, x and y.\n",
    "* We could store the coordinates as elements in a list or tuple.\n",
    "* We could create a new type to represent points as objects.\n",
    "\n",
    "Creating a new type is more complicated than the other options, but it has advantages that\n",
    "will be apparent soon.\n",
    "\n",
    "A progammer-defined type is also called a class. A class definition look like this:"
   ]
  },
  {
   "cell_type": "code",
   "execution_count": 1,
   "metadata": {},
   "outputs": [],
   "source": [
    "class Point:\n",
    "    \"\"\"Represents a point in 2D space.\"\"\""
   ]
  },
  {
   "cell_type": "markdown",
   "metadata": {},
   "source": [
    "The header indicates that the new class is called Point. The body is a docstring that explains what the class is for. You can define variables and methods inside a class definition,\n",
    "but we will get back to that later.\n",
    "\n",
    "Defining a class named Point creates a class object."
   ]
  },
  {
   "cell_type": "code",
   "execution_count": 4,
   "metadata": {},
   "outputs": [
    {
     "data": {
      "text/plain": [
       "__main__.Point"
      ]
     },
     "execution_count": 4,
     "metadata": {},
     "output_type": "execute_result"
    }
   ],
   "source": [
    "Point"
   ]
  },
  {
   "cell_type": "markdown",
   "metadata": {},
   "source": [
    "Because Point is defined at the top level, its “full name” is __ main __.Point.\n",
    "\n",
    "The class object is like a factory for creating objects. To create a Point, you call Point as if it\n",
    "were a function."
   ]
  },
  {
   "cell_type": "code",
   "execution_count": 5,
   "metadata": {},
   "outputs": [
    {
     "data": {
      "text/plain": [
       "<__main__.Point at 0x1db112d1390>"
      ]
     },
     "execution_count": 5,
     "metadata": {},
     "output_type": "execute_result"
    }
   ],
   "source": [
    "blank = Point()\n",
    "blank"
   ]
  },
  {
   "cell_type": "markdown",
   "metadata": {},
   "source": [
    "The return value is a reference to a Point object, which we assign to blank.\n",
    "\n",
    "Creating a new object is called instantiation, and the object is an instance of the class.\n",
    "When you print an instance, Python tells you what class it belongs to and where it is stored\n",
    "in memory (the prefix 0x means that the following number is in hexadecimal).\n",
    "\n",
    "Every object is an instance of some class, so “object” and “instance” are interchangeable.\n",
    "But in this chapter I use “instance” to indicate that I am talking about a programmerdefined type."
   ]
  },
  {
   "cell_type": "markdown",
   "metadata": {},
   "source": [
    "## 15.2 Attributes"
   ]
  },
  {
   "cell_type": "markdown",
   "metadata": {},
   "source": [
    "You can assign values to an instance using dot notation:"
   ]
  },
  {
   "cell_type": "code",
   "execution_count": 6,
   "metadata": {},
   "outputs": [],
   "source": [
    "blank.x = 3.0\n",
    "blank.y = 4.0"
   ]
  },
  {
   "cell_type": "markdown",
   "metadata": {},
   "source": [
    "This syntax is similar to the syntax for selecting a variable from a module, such as math.pi\n",
    "or string.whitespace. In this case, though, we are assigning values to named elements of\n",
    "an object. These elements are called attributes.\n",
    "\n",
    "Figure 15.1 is a state diagram that shows the result of these assignments. A state diagram\n",
    "that shows an object and its attributes is called an object diagram.\n",
    "\n",
    "The variable blank refers to a Point object, which contains two attributes. Each attribute\n",
    "refers to a floating-point number."
   ]
  },
  {
   "cell_type": "markdown",
   "metadata": {},
   "source": [
    "![](blank_point.jpg)\n",
    "Figure 15.1"
   ]
  },
  {
   "cell_type": "markdown",
   "metadata": {},
   "source": [
    "You can read the value of an attribute using the same syntax:"
   ]
  },
  {
   "cell_type": "code",
   "execution_count": 11,
   "metadata": {},
   "outputs": [
    {
     "data": {
      "text/plain": [
       "4.0"
      ]
     },
     "execution_count": 11,
     "metadata": {},
     "output_type": "execute_result"
    }
   ],
   "source": [
    "blank.y"
   ]
  },
  {
   "cell_type": "code",
   "execution_count": 12,
   "metadata": {},
   "outputs": [
    {
     "data": {
      "text/plain": [
       "3.0"
      ]
     },
     "execution_count": 12,
     "metadata": {},
     "output_type": "execute_result"
    }
   ],
   "source": [
    "x = blank.x\n",
    "x"
   ]
  },
  {
   "cell_type": "markdown",
   "metadata": {},
   "source": [
    "The expression blank.x means, “Go to the object blank refers to and get the value of x.” In\n",
    "the example, we assign that value to a variable named x. There is no conflict between the\n",
    "variable x and the attribute x.\n",
    "\n",
    "You can use dot notation as part of any expression. For example:"
   ]
  },
  {
   "cell_type": "code",
   "execution_count": 24,
   "metadata": {},
   "outputs": [
    {
     "name": "stdout",
     "output_type": "stream",
     "text": [
      " (3.0, 4.0)\n"
     ]
    }
   ],
   "source": [
    "print('',(blank.x,blank.y))"
   ]
  },
  {
   "cell_type": "code",
   "execution_count": 26,
   "metadata": {},
   "outputs": [
    {
     "data": {
      "text/plain": [
       "5.0"
      ]
     },
     "execution_count": 26,
     "metadata": {},
     "output_type": "execute_result"
    }
   ],
   "source": [
    "import math\n",
    "\n",
    "distance = math.sqrt(blank.x**2 + blank.y**2)\n",
    "distance"
   ]
  },
  {
   "cell_type": "markdown",
   "metadata": {},
   "source": [
    "*__You can pass an instance as an argument in the usual way. For example:__*"
   ]
  },
  {
   "cell_type": "code",
   "execution_count": 29,
   "metadata": {},
   "outputs": [],
   "source": [
    "def print_point(p):\n",
    "    print('', (p.x,p.y))"
   ]
  },
  {
   "cell_type": "code",
   "execution_count": 30,
   "metadata": {},
   "outputs": [
    {
     "name": "stdout",
     "output_type": "stream",
     "text": [
      " (3.0, 4.0)\n"
     ]
    }
   ],
   "source": [
    "print_point(blank)"
   ]
  },
  {
   "cell_type": "markdown",
   "metadata": {},
   "source": [
    "Inside the function, p is an alias for blank, so if the function modifies p, blank changes.\n",
    "\n",
    "__Exercise:__ Write a function called dist_points that take two Points as arguments and returns the distance between them."
   ]
  },
  {
   "cell_type": "markdown",
   "metadata": {},
   "source": [
    "## 15.3 Rectangles"
   ]
  },
  {
   "cell_type": "markdown",
   "metadata": {},
   "source": [
    "Sometimes it is obvious what the attributes of an object should be, but other times you have\n",
    "to make decisions. For example, imagine you are designing a class to represent rectangles.\n",
    "What attributes would you use to specify the location and size of a rectangle? You can ignore angle; to keep things simple, assume that the rectangle is either vertical or horizontal.\n",
    "There are at least two possibilities:\n",
    "\n",
    "* You could specify one corner of the rectangle (or the center), the width, and the\n",
    "height.\n",
    "* You could specify two opposing corners.\n",
    "\n",
    "At this point it is hard to say whether either is better than the other, so we’ll implement the\n",
    "first one, just as an example.\n",
    "\n",
    "Here is the class definition:"
   ]
  },
  {
   "cell_type": "code",
   "execution_count": 31,
   "metadata": {},
   "outputs": [],
   "source": [
    "class Rectangle:\n",
    "    \"\"\"Represents a rectangle. Attributes: width, height, corner.\"\"\""
   ]
  },
  {
   "cell_type": "markdown",
   "metadata": {},
   "source": [
    "The docstring lists the attributes: width and height are numbers; corner is a Point object\n",
    "that specifies the lower-left corner.\n",
    "\n",
    "*__To represents a rectangle, you have to instantiate a Rectangle object and assign values to the attributes:__*"
   ]
  },
  {
   "cell_type": "code",
   "execution_count": 32,
   "metadata": {},
   "outputs": [],
   "source": [
    "box = Rectangle() #instantiate a Rectangle object\n",
    "\n",
    "#Assign values to attributes\n",
    "box.width = 100.0\n",
    "box.height = 200.0\n",
    "\n",
    "box.corner = Point() #Attribute corner is an instance of class Point !\n",
    "\n",
    "#Assign values to attributes\n",
    "box.corner.x = 0.0\n",
    "box.corner.y = 0.0"
   ]
  },
  {
   "cell_type": "markdown",
   "metadata": {},
   "source": [
    "The expression box.corner.x means, “Go to the object box refers to and select the attribute\n",
    "named corner; then go to that object and select the attribute named x.”\n",
    "\n",
    "Figure 15.2 shows the state of this object. *__An object that is an attribute of another object is\n",
    "embedded.__*"
   ]
  },
  {
   "cell_type": "markdown",
   "metadata": {},
   "source": [
    "![](blank_rect.jpg)"
   ]
  },
  {
   "cell_type": "markdown",
   "metadata": {},
   "source": [
    "## 15.4 Instances as Return Values"
   ]
  },
  {
   "cell_type": "markdown",
   "metadata": {},
   "source": [
    "*__Functions can return instances.__* For example, find_center takes a Rectangle as an argument and returns a Point that contains the coordinates of the center of the Rectangle:"
   ]
  },
  {
   "cell_type": "code",
   "execution_count": 33,
   "metadata": {},
   "outputs": [],
   "source": [
    "def find_center(rect):\n",
    "    \"\"\"Create function with Rectangle (box) as argument and return Point (coord. of center of box).\"\"\"\n",
    "    p = Point()\n",
    "    p.x = rect.corner.x + rect.width/2\n",
    "    p.y = rect.corner.y + rect.height/2\n",
    "    return p"
   ]
  },
  {
   "cell_type": "markdown",
   "metadata": {},
   "source": [
    "Here is an example that passes box as an argument and assigns the resulting Point to\n",
    "center:"
   ]
  },
  {
   "cell_type": "code",
   "execution_count": 37,
   "metadata": {},
   "outputs": [
    {
     "name": "stdout",
     "output_type": "stream",
     "text": [
      "<__main__.Point object at 0x000001DB112E7080>\n",
      " (50.0, 100.0)\n"
     ]
    }
   ],
   "source": [
    "center = find_center(box)\n",
    "print(center)\n",
    "print_point(center)"
   ]
  },
  {
   "cell_type": "markdown",
   "metadata": {},
   "source": [
    "## Objects are Mutable"
   ]
  },
  {
   "cell_type": "markdown",
   "metadata": {},
   "source": [
    "*__You can change the state of an object by making an assignment to one of its attributes.__* For\n",
    "example, to change the size of a rectangle without changing its position, you can modify\n",
    "the values of width and height:"
   ]
  },
  {
   "cell_type": "code",
   "execution_count": 38,
   "metadata": {},
   "outputs": [],
   "source": [
    "box.width = box.width + 50\n",
    "box.height = box.height + 100"
   ]
  },
  {
   "cell_type": "markdown",
   "metadata": {},
   "source": [
    "*__You can also write functions that modify objects.__* For example, grow_rectangle takes a\n",
    "Rectangle object and two numbers, dwidth and dheight, and adds the numbers to the\n",
    "width and height of the rectangle:"
   ]
  },
  {
   "cell_type": "code",
   "execution_count": 45,
   "metadata": {},
   "outputs": [],
   "source": [
    "def grow_rectangle(rect,dwidth,dheight):\n",
    "    \"\"\"Take a Rectangle object as argument and add modify its width and height.\"\"\"\n",
    "    rect.width = rect.width + dwidth\n",
    "    rect.height = rect.height + dheight"
   ]
  },
  {
   "cell_type": "markdown",
   "metadata": {},
   "source": [
    "Here is an example that demonstrates the effect:"
   ]
  },
  {
   "cell_type": "code",
   "execution_count": 46,
   "metadata": {},
   "outputs": [
    {
     "data": {
      "text/plain": [
       "(150.0, 300.0)"
      ]
     },
     "execution_count": 46,
     "metadata": {},
     "output_type": "execute_result"
    }
   ],
   "source": [
    "box.width, box.height"
   ]
  },
  {
   "cell_type": "code",
   "execution_count": 47,
   "metadata": {},
   "outputs": [
    {
     "data": {
      "text/plain": [
       "(200.0, 400.0)"
      ]
     },
     "execution_count": 47,
     "metadata": {},
     "output_type": "execute_result"
    }
   ],
   "source": [
    "grow_rectangle(box,50,100)\n",
    "box.width, box.height"
   ]
  },
  {
   "cell_type": "markdown",
   "metadata": {},
   "source": [
    "Inside the function, rect is an alias for box, so when the function modifies rect, box\n",
    "changes.\n",
    "\n",
    "__Exercise:__ write a function named move_rectangle that takes a Rectangle and two\n",
    "numbers named dx and dy. It should change the location of the rectangle by adding dx to\n",
    "the x coordinate of corner and adding dy to the y coordinate of corner."
   ]
  },
  {
   "cell_type": "markdown",
   "metadata": {},
   "source": [
    "## 15.6 Copying"
   ]
  },
  {
   "cell_type": "markdown",
   "metadata": {},
   "source": [
    "Aliasing can make a program difficult to read because changes in one place might have\n",
    "unexpected effects in another place. It is hard to keep track of all the variables that might\n",
    "refer to a given object.\n",
    "\n",
    "Copying an object is often an alternative to aliasing. The copy module contains a function\n",
    "called copy that can duplicate any object:"
   ]
  },
  {
   "cell_type": "markdown",
   "metadata": {},
   "source": [
    "p1 = Point()\n",
    "p1.x = 3.0\n",
    "p1.y = 4.0"
   ]
  },
  {
   "cell_type": "code",
   "execution_count": 49,
   "metadata": {},
   "outputs": [],
   "source": [
    "import copy\n",
    "\n",
    "p2 = copy.copy(p1)"
   ]
  },
  {
   "cell_type": "markdown",
   "metadata": {},
   "source": [
    "p1 and p2 contain the same data, but they are not the same Point."
   ]
  },
  {
   "cell_type": "code",
   "execution_count": 50,
   "metadata": {},
   "outputs": [
    {
     "name": "stdout",
     "output_type": "stream",
     "text": [
      " (3.0, 4.0)\n"
     ]
    }
   ],
   "source": [
    "print_point(p1)"
   ]
  },
  {
   "cell_type": "code",
   "execution_count": 51,
   "metadata": {},
   "outputs": [
    {
     "name": "stdout",
     "output_type": "stream",
     "text": [
      " (3.0, 4.0)\n"
     ]
    }
   ],
   "source": [
    "print_point(p2)"
   ]
  },
  {
   "cell_type": "code",
   "execution_count": 53,
   "metadata": {},
   "outputs": [
    {
     "data": {
      "text/plain": [
       "False"
      ]
     },
     "execution_count": 53,
     "metadata": {},
     "output_type": "execute_result"
    }
   ],
   "source": [
    "p1 is p2"
   ]
  },
  {
   "cell_type": "code",
   "execution_count": 52,
   "metadata": {},
   "outputs": [
    {
     "data": {
      "text/plain": [
       "False"
      ]
     },
     "execution_count": 52,
     "metadata": {},
     "output_type": "execute_result"
    }
   ],
   "source": [
    "p1 == p2"
   ]
  },
  {
   "cell_type": "markdown",
   "metadata": {},
   "source": [
    "The is operator indicates that p1 and p2 are not the same object, which is what we expected. But you might have expected == to yield True because these points contain the\n",
    "same data. In that case, you will be disappointed to learn that for instances, the default\n",
    "behavior of the == operator is the same as the is operator; it checks object identity, not\n",
    "object equivalence. That’s because for programmer-defined types, Python doesn’t know\n",
    "what should be considered equivalent. At least, not yet.\n",
    "\n",
    "*__If you use copy.copy to duplicate a Rectangle, you will find that it copies the Rectangle\n",
    "object but not the embedded Point.__*"
   ]
  },
  {
   "cell_type": "code",
   "execution_count": 54,
   "metadata": {},
   "outputs": [],
   "source": [
    "box2 = copy.copy(box)"
   ]
  },
  {
   "cell_type": "code",
   "execution_count": 55,
   "metadata": {},
   "outputs": [
    {
     "data": {
      "text/plain": [
       "False"
      ]
     },
     "execution_count": 55,
     "metadata": {},
     "output_type": "execute_result"
    }
   ],
   "source": [
    "box2 is box"
   ]
  },
  {
   "cell_type": "code",
   "execution_count": 57,
   "metadata": {},
   "outputs": [
    {
     "data": {
      "text/plain": [
       "True"
      ]
     },
     "execution_count": 57,
     "metadata": {},
     "output_type": "execute_result"
    }
   ],
   "source": [
    "box2.corner is box.corner"
   ]
  },
  {
   "cell_type": "markdown",
   "metadata": {},
   "source": [
    "Figure 15.3 shows what the object diagram looks like. *__This operation is called a shallow\n",
    "copy because it copies the object and any references it contains, but not the embedded\n",
    "objects.__*"
   ]
  },
  {
   "cell_type": "markdown",
   "metadata": {},
   "source": [
    "![](box2.jpg)"
   ]
  },
  {
   "cell_type": "markdown",
   "metadata": {},
   "source": [
    "For most applications, this is not what you want. In this example, invoking\n",
    "grow_rectangle on one of the Rectangles would not affect the other, but invoking\n",
    "move_rectangle on either would affect both! This behavior is confusing and error-prone.\n",
    "\n",
    "Fortunately, *__the copy module provides a method named deepcopy that copies not only the\n",
    "object but also the objects it refers to, and the objects they refer to, and so on.__* You will not\n",
    "be surprised to learn that this operation is called a deep copy."
   ]
  },
  {
   "cell_type": "code",
   "execution_count": 59,
   "metadata": {},
   "outputs": [],
   "source": [
    "box3 = copy.deepcopy(box)"
   ]
  },
  {
   "cell_type": "code",
   "execution_count": 60,
   "metadata": {},
   "outputs": [
    {
     "data": {
      "text/plain": [
       "False"
      ]
     },
     "execution_count": 60,
     "metadata": {},
     "output_type": "execute_result"
    }
   ],
   "source": [
    "box3 is box"
   ]
  },
  {
   "cell_type": "code",
   "execution_count": 61,
   "metadata": {},
   "outputs": [
    {
     "data": {
      "text/plain": [
       "False"
      ]
     },
     "execution_count": 61,
     "metadata": {},
     "output_type": "execute_result"
    }
   ],
   "source": [
    "box3.corner is box.corner"
   ]
  },
  {
   "cell_type": "markdown",
   "metadata": {},
   "source": [
    "*__Exercise:__* write a version of move_rectangle that creates and returns a new Rectangle\n",
    "instead of modifying the old one."
   ]
  },
  {
   "cell_type": "markdown",
   "metadata": {},
   "source": [
    "## 15.7 Debugging"
   ]
  },
  {
   "cell_type": "markdown",
   "metadata": {},
   "source": [
    "When you start working with objects, you are likely to encounter some new exceptions. If\n",
    "you try to access an attribute that doesn’t exist, you get an AttributeError:"
   ]
  },
  {
   "cell_type": "code",
   "execution_count": 63,
   "metadata": {},
   "outputs": [
    {
     "ename": "AttributeError",
     "evalue": "'Point' object has no attribute 'z'",
     "output_type": "error",
     "traceback": [
      "\u001b[1;31m---------------------------------------------------------------------------\u001b[0m",
      "\u001b[1;31mAttributeError\u001b[0m                            Traceback (most recent call last)",
      "\u001b[1;32m<ipython-input-63-ef3ebdb9e0e0>\u001b[0m in \u001b[0;36m<module>\u001b[1;34m\u001b[0m\n\u001b[0;32m      2\u001b[0m \u001b[0mpo\u001b[0m\u001b[1;33m.\u001b[0m\u001b[0mx\u001b[0m \u001b[1;33m=\u001b[0m \u001b[1;36m3\u001b[0m\u001b[1;33m\u001b[0m\u001b[1;33m\u001b[0m\u001b[0m\n\u001b[0;32m      3\u001b[0m \u001b[0mpo\u001b[0m\u001b[1;33m.\u001b[0m\u001b[0my\u001b[0m \u001b[1;33m=\u001b[0m \u001b[1;36m4\u001b[0m\u001b[1;33m\u001b[0m\u001b[1;33m\u001b[0m\u001b[0m\n\u001b[1;32m----> 4\u001b[1;33m \u001b[0mpo\u001b[0m\u001b[1;33m.\u001b[0m\u001b[0mz\u001b[0m\u001b[1;33m\u001b[0m\u001b[1;33m\u001b[0m\u001b[0m\n\u001b[0m",
      "\u001b[1;31mAttributeError\u001b[0m: 'Point' object has no attribute 'z'"
     ]
    }
   ],
   "source": [
    "po = Point()\n",
    "po.x = 3\n",
    "po.y = 4\n",
    "po.z"
   ]
  },
  {
   "cell_type": "code",
   "execution_count": 65,
   "metadata": {},
   "outputs": [
    {
     "data": {
      "text/plain": [
       "__main__.Point"
      ]
     },
     "execution_count": 65,
     "metadata": {},
     "output_type": "execute_result"
    }
   ],
   "source": [
    "type(po) #what type an object is"
   ]
  },
  {
   "cell_type": "code",
   "execution_count": 67,
   "metadata": {},
   "outputs": [
    {
     "data": {
      "text/plain": [
       "True"
      ]
     },
     "execution_count": 67,
     "metadata": {},
     "output_type": "execute_result"
    }
   ],
   "source": [
    "isinstance(po,Point) #check whether an object is an istance of that class"
   ]
  },
  {
   "cell_type": "markdown",
   "metadata": {},
   "source": [
    "If you are not sure whether an object has a particular attribute, you can use the built-in\n",
    "function hasattr. The first argument can be any object; the second argument is a string that contains the name\n",
    "of the attribute."
   ]
  },
  {
   "cell_type": "code",
   "execution_count": 75,
   "metadata": {},
   "outputs": [
    {
     "data": {
      "text/plain": [
       "True"
      ]
     },
     "execution_count": 75,
     "metadata": {},
     "output_type": "execute_result"
    }
   ],
   "source": [
    "hasattr(po,'x')"
   ]
  },
  {
   "cell_type": "code",
   "execution_count": 69,
   "metadata": {},
   "outputs": [
    {
     "data": {
      "text/plain": [
       "True"
      ]
     },
     "execution_count": 69,
     "metadata": {},
     "output_type": "execute_result"
    }
   ],
   "source": [
    "hasattr(po,'y')"
   ]
  },
  {
   "cell_type": "code",
   "execution_count": 72,
   "metadata": {},
   "outputs": [
    {
     "data": {
      "text/plain": [
       "False"
      ]
     },
     "execution_count": 72,
     "metadata": {},
     "output_type": "execute_result"
    }
   ],
   "source": [
    "hasattr(po,'z')"
   ]
  },
  {
   "cell_type": "code",
   "execution_count": 73,
   "metadata": {},
   "outputs": [],
   "source": [
    "po.z = 8"
   ]
  },
  {
   "cell_type": "code",
   "execution_count": 74,
   "metadata": {},
   "outputs": [
    {
     "data": {
      "text/plain": [
       "True"
      ]
     },
     "execution_count": 74,
     "metadata": {},
     "output_type": "execute_result"
    }
   ],
   "source": [
    "hasattr(po,'z')"
   ]
  },
  {
   "cell_type": "code",
   "execution_count": 70,
   "metadata": {},
   "outputs": [
    {
     "data": {
      "text/plain": [
       "False"
      ]
     },
     "execution_count": 70,
     "metadata": {},
     "output_type": "execute_result"
    }
   ],
   "source": [
    "hasattr(po,'z')"
   ]
  },
  {
   "cell_type": "markdown",
   "metadata": {},
   "source": [
    "You can also use a try statement to see if the object has the attributes you need:"
   ]
  },
  {
   "cell_type": "code",
   "execution_count": 71,
   "metadata": {},
   "outputs": [],
   "source": [
    "try:\n",
    "    x = po.x\n",
    "except AttributeError:\n",
    "    x = 0"
   ]
  },
  {
   "cell_type": "markdown",
   "metadata": {},
   "source": [
    "This approach can make it easier to write functions that work with different types; more\n",
    "on that topic is coming up in Section 17.9."
   ]
  },
  {
   "cell_type": "markdown",
   "metadata": {},
   "source": [
    "## 15.8 Glossary"
   ]
  },
  {
   "cell_type": "markdown",
   "metadata": {},
   "source": [
    "* class: A programmer-defined type. A class definition creates a new class object.\n",
    "* class object: An object that contains information about a programmer-defined type. The\n",
    "class object can be used to create instances of the type.\n",
    "* instance: An object that belongs to a class.\n",
    "* instantiate: To create a new object.\n",
    "* attribute: One of the named values associated with an object.\n",
    "* embedded object: An object that is stored as an attribute of another object.\n",
    "* shallow copy: To copy the contents of an object, including any references to embedded\n",
    "objects; implemented by the copy function in the copy module.\n",
    "* deep copy: To copy the contents of an object as well as any embedded objects, and any\n",
    "objects embedded in them, and so on; implemented by the deepcopy function in the\n",
    "copy module.\n",
    "* object diagram: A diagram that shows objects, their attributes, and the values of the attributes."
   ]
  }
 ],
 "metadata": {
  "kernelspec": {
   "display_name": "Python 3",
   "language": "python",
   "name": "python3"
  },
  "language_info": {
   "codemirror_mode": {
    "name": "ipython",
    "version": 3
   },
   "file_extension": ".py",
   "mimetype": "text/x-python",
   "name": "python",
   "nbconvert_exporter": "python",
   "pygments_lexer": "ipython3",
   "version": "3.7.3"
  }
 },
 "nbformat": 4,
 "nbformat_minor": 2
}
