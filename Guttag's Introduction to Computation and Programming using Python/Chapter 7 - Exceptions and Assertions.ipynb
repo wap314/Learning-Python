{
 "cells": [
  {
   "cell_type": "markdown",
   "metadata": {},
   "source": [
    "# Chapter 7 - Exceptions and Assertions"
   ]
  },
  {
   "cell_type": "markdown",
   "metadata": {},
   "source": [
    "Exceptions are not rare in Python. In fact, they are everywhere. Every module in standard Python library uses them and Python raises them in many circumstances. The following is a simple example:"
   ]
  },
  {
   "cell_type": "code",
   "execution_count": null,
   "metadata": {},
   "outputs": [],
   "source": [
    "test = [1,2,3]\n",
    "len(test)"
   ]
  },
  {
   "cell_type": "code",
   "execution_count": null,
   "metadata": {},
   "outputs": [],
   "source": [
    "test[3]"
   ]
  },
  {
   "cell_type": "markdown",
   "metadata": {},
   "source": [
    "IndexError is the type od Exception that Python raises when a program try to access an element that is outside the bounds of an indexable type. Most of the built-in exceptions of Python deal with a situations in which a program has attempted to execute a statement with no appropriate semantics."
   ]
  },
  {
   "cell_type": "markdown",
   "metadata": {},
   "source": [
    "## 7.1 Handling Exceptions"
   ]
  },
  {
   "cell_type": "markdown",
   "metadata": {},
   "source": [
    "When an exception is raised that causes the program to terminate, we say that unhandled exception has been raised. An exception does not need to lead to program termination. Exceptions, when raised, can and should be handled by the program. An exception is something the programmer can and should anticipate. "
   ]
  },
  {
   "cell_type": "code",
   "execution_count": null,
   "metadata": {},
   "outputs": [],
   "source": [
    "numSuccesses = 7\n",
    "numFailures = 0\n",
    "\n",
    "successFailureRatio = numSuccesses/numFailures\n",
    "print('The success/failure ratio is', successFailureRatio)\n",
    "print('Now here')"
   ]
  },
  {
   "cell_type": "code",
   "execution_count": null,
   "metadata": {},
   "outputs": [],
   "source": [
    "numSuccesses = 7\n",
    "numFailures = 0\n",
    "\n",
    "try:\n",
    "    successFailureRatio = numSuccesses/numFailures\n",
    "    print('The success/failure ratio is', successFailureRatio)\n",
    "except ZeroDivisionError:\n",
    "    print('No failures, so the success/failure ratio is undefined.')\n",
    "print('Now here')"
   ]
  },
  {
   "cell_type": "markdown",
   "metadata": {},
   "source": [
    "Finger exercise: Implement a function that meets the specification below. Use a try-except block."
   ]
  },
  {
   "cell_type": "code",
   "execution_count": null,
   "metadata": {},
   "outputs": [],
   "source": [
    "def is_number(s):\n",
    "    try:\n",
    "        float(s)\n",
    "        return True\n",
    "    except ValueError:\n",
    "        return False"
   ]
  },
  {
   "cell_type": "code",
   "execution_count": null,
   "metadata": {},
   "outputs": [],
   "source": [
    "def sumDigit(s):\n",
    "    \"\"\"Assumes s is a string. Return the sum of the decimal digits in s. \n",
    "       For example, if s = 'a2b3c', it returns 5.\"\"\" \n",
    "    try:\n",
    "        #iterate over string s, if it found a digit,accumulate it and return sum.\n",
    "        acc = 0 #Initialize accumulator.\n",
    "        for i in s:\n",
    "            if is_number(i) == True:\n",
    "                acc = acc + float(i)\n",
    "        return acc\n",
    "    except:\n",
    "        #if s contain no digit, return an appropriate statement.\n",
    "        return s"
   ]
  },
  {
   "cell_type": "markdown",
   "metadata": {},
   "source": [
    "Let's look another example:"
   ]
  },
  {
   "cell_type": "code",
   "execution_count": 4,
   "metadata": {},
   "outputs": [
    {
     "name": "stdout",
     "output_type": "stream",
     "text": [
      "Enter an integer: r\n"
     ]
    },
    {
     "ename": "ValueError",
     "evalue": "invalid literal for int() with base 10: 'r'",
     "output_type": "error",
     "traceback": [
      "\u001b[1;31m---------------------------------------------------------------------------\u001b[0m",
      "\u001b[1;31mValueError\u001b[0m                                Traceback (most recent call last)",
      "\u001b[1;32m<ipython-input-4-1ad046228df4>\u001b[0m in \u001b[0;36m<module>\u001b[1;34m\u001b[0m\n\u001b[1;32m----> 1\u001b[1;33m \u001b[0mval\u001b[0m \u001b[1;33m=\u001b[0m \u001b[0mint\u001b[0m\u001b[1;33m(\u001b[0m\u001b[0minput\u001b[0m\u001b[1;33m(\u001b[0m\u001b[1;34m'Enter an integer: '\u001b[0m\u001b[1;33m)\u001b[0m\u001b[1;33m)\u001b[0m\u001b[1;33m\u001b[0m\u001b[1;33m\u001b[0m\u001b[0m\n\u001b[0m\u001b[0;32m      2\u001b[0m \u001b[0mprint\u001b[0m\u001b[1;33m(\u001b[0m\u001b[1;34m'The square of the number you entered is'\u001b[0m\u001b[1;33m,\u001b[0m \u001b[0mval\u001b[0m\u001b[1;33m**\u001b[0m\u001b[1;36m2\u001b[0m\u001b[1;33m)\u001b[0m\u001b[1;33m\u001b[0m\u001b[1;33m\u001b[0m\u001b[0m\n",
      "\u001b[1;31mValueError\u001b[0m: invalid literal for int() with base 10: 'r'"
     ]
    }
   ],
   "source": [
    "val = int(input('Enter an integer: '))\n",
    "print('The square of the number you entered is', val**2)"
   ]
  },
  {
   "cell_type": "markdown",
   "metadata": {},
   "source": [
    "What the programmer should have written would look something like:"
   ]
  },
  {
   "cell_type": "code",
   "execution_count": 3,
   "metadata": {},
   "outputs": [
    {
     "name": "stdout",
     "output_type": "stream",
     "text": [
      "Enter an integer: s\n",
      "s is not an integer.\n",
      "Enter an integer: f\n",
      "f is not an integer.\n",
      "Enter an integer: 7.6\n",
      "7.6 is not an integer.\n",
      "Enter an integer: 3\n",
      "The square of the number you entered is 9\n"
     ]
    }
   ],
   "source": [
    "while True:\n",
    "    val = input('Enter an integer: ')\n",
    "    try:\n",
    "        val = int(val)\n",
    "        print('The square of the number you entered is', val**2)\n",
    "        break #to exit while loop.\n",
    "    except ValueError:\n",
    "        print(val, 'is not an integer.')"
   ]
  },
  {
   "cell_type": "markdown",
   "metadata": {},
   "source": [
    "We can introduce the following function:"
   ]
  },
  {
   "cell_type": "code",
   "execution_count": 11,
   "metadata": {},
   "outputs": [],
   "source": [
    "def readInt():\n",
    "    while True:\n",
    "        val = input('Enter an integer: ')\n",
    "        try:\n",
    "            return int(val)\n",
    "        except ValueError:\n",
    "            print(val,'is not an integer.')"
   ]
  },
  {
   "cell_type": "code",
   "execution_count": 13,
   "metadata": {},
   "outputs": [
    {
     "name": "stdout",
     "output_type": "stream",
     "text": [
      "Enter an integer: y\n",
      "y is not an integer.\n",
      "Enter an integer: e\n",
      "e is not an integer.\n",
      "Enter an integer: 3.4\n",
      "3.4 is not an integer.\n",
      "Enter an integer: 7\n"
     ]
    },
    {
     "data": {
      "text/plain": [
       "7"
      ]
     },
     "execution_count": 13,
     "metadata": {},
     "output_type": "execute_result"
    }
   ],
   "source": [
    "readInt()"
   ]
  },
  {
   "cell_type": "markdown",
   "metadata": {},
   "source": [
    "Better yet this function can be generalize to ask for any type of input:"
   ]
  },
  {
   "cell_type": "code",
   "execution_count": 16,
   "metadata": {},
   "outputs": [],
   "source": [
    "def readVal(valType, reqMsg, errorMsg):\n",
    "    while True:\n",
    "        val = input(reqMsg)\n",
    "        try:\n",
    "            return valType(val)\n",
    "        except ValueError:\n",
    "            print(val, errorMsg)"
   ]
  },
  {
   "cell_type": "code",
   "execution_count": 17,
   "metadata": {},
   "outputs": [
    {
     "name": "stdout",
     "output_type": "stream",
     "text": [
      "Enter an integer :e\n",
      "e is not an integer.\n",
      "Enter an integer :5.4\n",
      "5.4 is not an integer.\n",
      "Enter an integer :2\n"
     ]
    },
    {
     "data": {
      "text/plain": [
       "2"
      ]
     },
     "execution_count": 17,
     "metadata": {},
     "output_type": "execute_result"
    }
   ],
   "source": [
    "readVal(int, 'Enter an integer :', 'is not an integer.')"
   ]
  },
  {
   "cell_type": "markdown",
   "metadata": {},
   "source": [
    "The function redVal is polymorphic, i.e. it works for arguments for many different types."
   ]
  },
  {
   "cell_type": "code",
   "execution_count": 25,
   "metadata": {},
   "outputs": [
    {
     "name": "stdout",
     "output_type": "stream",
     "text": [
      "Enter an integer :r\n",
      "r is not an integer.\n",
      "Enter an integer :5.7\n",
      "5.7 is not an integer.\n",
      "Enter an integer :5\n",
      "5\n"
     ]
    }
   ],
   "source": [
    "val = readVal(int, 'Enter an integer :', 'is not an integer.')\n",
    "print(val)"
   ]
  },
  {
   "cell_type": "markdown",
   "metadata": {},
   "source": [
    "If it is possible for a block of program code to raise more than one kind of exception, the reserved word except can be followed by a tuple of exceptions:\n",
    "\n",
    "except (ValueError, TypeError):\n",
    "\n",
    "in which case the except block will be entered if any of the listed exceptions is raised within the try block. Alternatively we can write separate except block for each kind of exception. If the programmers write\n",
    "\n",
    "except:\n",
    "\n",
    "the except block will be entered if any kind of exception is raised within the try block. The following program is an example :"
   ]
  },
  {
   "cell_type": "code",
   "execution_count": 28,
   "metadata": {},
   "outputs": [],
   "source": [
    "def getRatios(vect1,vect2):\n",
    "    \"\"\"Assumes that vect1 and vect2 ae equal length lists of numbers. Return a list containing the meaningful\n",
    "       values of vect1[i]/vect2[i]\"\"\"\n",
    "    ratios = []\n",
    "    for i in range(len(vect1)):\n",
    "        try:\n",
    "            ratios.append(vect1[i]/vect2[i])\n",
    "        except ZeroDivisionError:\n",
    "            ratios.append(float('nan'))\n",
    "        except:\n",
    "            raise ValueError('getRatios called with bad arguments.')\n",
    "    return ratios"
   ]
  },
  {
   "cell_type": "code",
   "execution_count": 29,
   "metadata": {},
   "outputs": [
    {
     "data": {
      "text/plain": [
       "[0.3333333333333333, nan]"
      ]
     },
     "execution_count": 29,
     "metadata": {},
     "output_type": "execute_result"
    }
   ],
   "source": [
    "getRatios([1,2],[3,0])"
   ]
  },
  {
   "cell_type": "markdown",
   "metadata": {},
   "source": [
    "## 7.2 Exception as a Control Flow Mechanism"
   ]
  },
  {
   "cell_type": "markdown",
   "metadata": {},
   "source": [
    "Don't think of exceptions as purely as errors. They are a convenient flow-of-control mechanism that can be used to simplify programs. In Python, it is more usual to have a function raise an exception when it cannot produce a result that is consistent with the function's specification. \n",
    "\n",
    "The Python raise statement forces a specified exception to occur. The form of a raise statement is:\n",
    "\n",
    "raise exceptionName(arguments)\n",
    "\n",
    "Most of the time the argument is a single string, which is used to describe the reason the exception is being raised."
   ]
  },
  {
   "cell_type": "markdown",
   "metadata": {},
   "source": [
    "Finger Exercise: Implement a function that satisfies the specification:"
   ]
  },
  {
   "cell_type": "code",
   "execution_count": 31,
   "metadata": {},
   "outputs": [],
   "source": [
    "def findAnEven(L):\n",
    "    \"\"\"Assumes L is a list of integers. Returns the first even number in L.\n",
    "       Raises ValueError if L does not contain an even number.\"\"\""
   ]
  },
  {
   "cell_type": "markdown",
   "metadata": {},
   "source": [
    "The following code illustrates how a program might use getRatios:"
   ]
  },
  {
   "cell_type": "code",
   "execution_count": 33,
   "metadata": {},
   "outputs": [
    {
     "name": "stdout",
     "output_type": "stream",
     "text": [
      "[1.0, 1.0, nan, 2.0]\n",
      "[]\n",
      "getRatios called with bad arguments.\n"
     ]
    }
   ],
   "source": [
    "try:\n",
    "    print(getRatios([1.0,2.0,7.0,6.0], [1.0,2.0,0.0,3.0]))\n",
    "    print(getRatios([], []))\n",
    "    print(getRatios([1.0, 2.0], [3.0]))\n",
    "except ValueError as msg:\n",
    "    #msg is bound to the argument associated with ValueError when it was raised.\n",
    "    print(msg)"
   ]
  },
  {
   "cell_type": "code",
   "execution_count": 35,
   "metadata": {},
   "outputs": [],
   "source": [
    "def getGrades(fname):\n",
    "    try:\n",
    "        gradesFile = open(fname, 'r') #open file for reading\n",
    "    except IOError:\n",
    "        raise ValueError('getGrades could not open ' + fname)\n",
    "        \n",
    "    grades = []\n",
    "    for line in gradesFile:\n",
    "        try:\n",
    "            grades.append(float(line))\n",
    "        except:\n",
    "            raise ValueError('Unable to convert line to float.')\n",
    "    return grades"
   ]
  },
  {
   "cell_type": "markdown",
   "metadata": {},
   "source": [
    "## 7.3 Assertions"
   ]
  },
  {
   "cell_type": "markdown",
   "metadata": {},
   "source": [
    "The Python assert statement provides programmers with a simple way to confirm that the state of a computation is as expected. An assert statement can take two forms:\n",
    "\n",
    "assert Boolean expression\n",
    "\n",
    "or \n",
    "\n",
    "assert Boolean expression, argument\n",
    "\n",
    "When an assert statement is encountered, the Boolean expression is evaluated. If it evaluates to True, execution proceeds on its merry way. If it evaluates to False, an AssertionError exception is raised."
   ]
  },
  {
   "cell_type": "code",
   "execution_count": null,
   "metadata": {},
   "outputs": [],
   "source": []
  }
 ],
 "metadata": {
  "kernelspec": {
   "display_name": "Python 3",
   "language": "python",
   "name": "python3"
  },
  "language_info": {
   "codemirror_mode": {
    "name": "ipython",
    "version": 3
   },
   "file_extension": ".py",
   "mimetype": "text/x-python",
   "name": "python",
   "nbconvert_exporter": "python",
   "pygments_lexer": "ipython3",
   "version": "3.7.3"
  }
 },
 "nbformat": 4,
 "nbformat_minor": 2
}
