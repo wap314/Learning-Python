{
 "cells": [
  {
   "cell_type": "markdown",
   "metadata": {},
   "source": [
    "# Chapter 23 - Databases and SQL"
   ]
  },
  {
   "cell_type": "markdown",
   "metadata": {},
   "source": [
    "The data you need will often live in databases, systems designed for efficiently storing\n",
    "and querying data. The bulk of these are relational databases, such as Oracle, MySQL,\n",
    "and SQL Server, which store data in tables and are typically queried using Structured\n",
    "Query Language (SQL), a declarative language for manipulating data.\n",
    "\n",
    "SQL is a pretty essential part of the data scientist’s toolkit. In this chapter, *__we’ll create\n",
    "NotQuiteABase, a Python implementation of something that’s not quite a database__*.\n",
    "We’ll also cover the basics of SQL while showing how they work in our not-quite\n",
    "database, which is the most “from scratch” way I could think of to help you under‐\n",
    "stand what they’re doing. My hope is that *__solving problems in NotQuiteABase will\n",
    "give you a good sense of how you might solve the same problems using SQL__*."
   ]
  },
  {
   "cell_type": "markdown",
   "metadata": {},
   "source": [
    "## CREATE TABLE and INSERT"
   ]
  },
  {
   "cell_type": "markdown",
   "metadata": {},
   "source": [
    "A relational database is a collection of tables (and of relationships among them). A\n",
    "table is simply a collection of rows, not unlike the matrices we’ve been working with.\n",
    "However, a table also has associated with it a fixed schema consisting of column\n",
    "names and column types.\n",
    "For example, imagine a users data set containing for each user her user_id, name,\n",
    "and num_friends:"
   ]
  },
  {
   "cell_type": "code",
   "execution_count": 1,
   "metadata": {},
   "outputs": [],
   "source": [
    "users = [[0, \"Hero\", 0],\n",
    "         [1, \"Dunn\", 2],\n",
    "         [2, \"Sue\", 3],\n",
    "         [3, \"Chi\", 3]]"
   ]
  },
  {
   "cell_type": "code",
   "execution_count": 2,
   "metadata": {},
   "outputs": [
    {
     "data": {
      "text/plain": [
       "[[0, 'Hero', 0], [1, 'Dunn', 2], [2, 'Sue', 3], [3, 'Chi', 3]]"
      ]
     },
     "execution_count": 2,
     "metadata": {},
     "output_type": "execute_result"
    }
   ],
   "source": [
    "users"
   ]
  },
  {
   "cell_type": "markdown",
   "metadata": {},
   "source": [
    "In SQL, we might create this table with:\n",
    "\n",
    "    CREATE TABLE users (\n",
    "        user_id INT NOT NULL,\n",
    "        name VARCHAR(200),\n",
    "        num_friends INT);\n",
    "        \n",
    "Notice that we specified that the user_id and num_friends must be integers (and that\n",
    "user_id isn’t allowed to be NULL, which indicates a missing value and is sort of like\n",
    "our None) and that the name should be a string of length 200 or less. NotQuiteABase\n",
    "won’t take types into account, but we’ll behave as if it did.\n",
    "\n",
    "You can insert the rows with INSERT statements:\n",
    "\n",
    "    INSERT INTO users (user_id, name, num_friends) VALUES (0, 'Hero', 0);\n",
    "    \n",
    "In NotQuiteABase, you’ll create a Table simply by specifying the names of its col‐\n",
    "umns. And to insert a row, you’ll use the table’s insert() method, which takes a list\n",
    "of row values that need to be in the same order as the table’s column names.\n",
    "\n",
    "Behind the scenes, we’ll store each row as a dict from column names to values. A real\n",
    "database would never use such a space-wasting representation, but doing so will\n",
    "make NotQuiteABase much easier to work with:"
   ]
  },
  {
   "cell_type": "code",
   "execution_count": 3,
   "metadata": {},
   "outputs": [],
   "source": [
    "class Table:\n",
    "    def __init__(self, columns):\n",
    "        self.columns = columns\n",
    "        self.rows = []\n",
    "        \n",
    "    def __repr__(self):\n",
    "        \"\"\"Pretty representation of the table: columns then rows.\"\"\"\n",
    "        return str(self.columns) + \"\\n\" + \"\\n\".join(map(str,self.rows))\n",
    "    \n",
    "    def insert(self, row_values):\n",
    "        if len(row_values) != len(self.columns):\n",
    "            raise TypeError(\"wrong number of elements\")\n",
    "        row_dict = dict(zip(self.columns,row_values))\n",
    "        self.rows.append(row_dict)"
   ]
  },
  {
   "cell_type": "code",
   "execution_count": 4,
   "metadata": {},
   "outputs": [],
   "source": [
    "users = Table([\"user_id\", \"name\", \"num_friends\"])"
   ]
  },
  {
   "cell_type": "code",
   "execution_count": 5,
   "metadata": {},
   "outputs": [
    {
     "data": {
      "text/plain": [
       "['user_id', 'name', 'num_friends']"
      ]
     },
     "execution_count": 5,
     "metadata": {},
     "output_type": "execute_result"
    }
   ],
   "source": [
    "users"
   ]
  },
  {
   "cell_type": "code",
   "execution_count": 6,
   "metadata": {},
   "outputs": [],
   "source": [
    "users.insert([0, \"Hero\", 0])"
   ]
  },
  {
   "cell_type": "code",
   "execution_count": 7,
   "metadata": {},
   "outputs": [
    {
     "data": {
      "text/plain": [
       "['user_id', 'name', 'num_friends']\n",
       "{'user_id': 0, 'name': 'Hero', 'num_friends': 0}"
      ]
     },
     "execution_count": 7,
     "metadata": {},
     "output_type": "execute_result"
    }
   ],
   "source": [
    "users"
   ]
  },
  {
   "cell_type": "code",
   "execution_count": 8,
   "metadata": {},
   "outputs": [],
   "source": [
    "users.insert([1, \"Dunn\", 2])\n",
    "users.insert([2, \"Sue\", 3])\n",
    "users.insert([3, \"Chi\", 3])\n",
    "users.insert([4, \"Thor\", 3])\n",
    "users.insert([5, \"Clive\", 2])\n",
    "users.insert([6, \"Hicks\", 3])\n",
    "users.insert([7, \"Devin\", 2])\n",
    "users.insert([8, \"Kate\", 2])\n",
    "users.insert([9, \"Klein\", 3])\n",
    "users.insert([10, \"Jen\", 1])"
   ]
  },
  {
   "cell_type": "markdown",
   "metadata": {},
   "source": [
    "If you now print users, you’ll see:"
   ]
  },
  {
   "cell_type": "code",
   "execution_count": 10,
   "metadata": {},
   "outputs": [
    {
     "data": {
      "text/plain": [
       "['user_id', 'name', 'num_friends']\n",
       "{'user_id': 0, 'name': 'Hero', 'num_friends': 0}\n",
       "{'user_id': 1, 'name': 'Dunn', 'num_friends': 2}\n",
       "{'user_id': 2, 'name': 'Sue', 'num_friends': 3}\n",
       "{'user_id': 3, 'name': 'Chi', 'num_friends': 3}\n",
       "{'user_id': 4, 'name': 'Thor', 'num_friends': 3}\n",
       "{'user_id': 5, 'name': 'Clive', 'num_friends': 2}\n",
       "{'user_id': 6, 'name': 'Hicks', 'num_friends': 3}\n",
       "{'user_id': 7, 'name': 'Devin', 'num_friends': 2}\n",
       "{'user_id': 8, 'name': 'Kate', 'num_friends': 2}\n",
       "{'user_id': 9, 'name': 'Klein', 'num_friends': 3}\n",
       "{'user_id': 10, 'name': 'Jen', 'num_friends': 1}"
      ]
     },
     "execution_count": 10,
     "metadata": {},
     "output_type": "execute_result"
    }
   ],
   "source": [
    "users"
   ]
  },
  {
   "cell_type": "markdown",
   "metadata": {},
   "source": [
    "## UPDATE"
   ]
  },
  {
   "cell_type": "markdown",
   "metadata": {},
   "source": [
    "Sometimes you need to update the data that’s already in the database. For instance, if\n",
    "Dunn acquires another friend, you might need to do this:\n",
    "\n",
    "    UPDATE users\n",
    "    SET num_friends = 3\n",
    "    WHERE user_id = 1;\n",
    "    \n",
    "The key features are:\n",
    "* What table to update\n",
    "* Which rows to update\n",
    "* Which fields to update\n",
    "* What their new values should be\n",
    "\n",
    "We’ll add a similar update method to NotQuiteABase. *__Its first argument will be a\n",
    "dict whose keys are the columns to update and whose values are the new values for\n",
    "those fields. And its second argument is a predicate that returns True for rows that\n",
    "should be updated__*, False otherwise:"
   ]
  },
  {
   "cell_type": "code",
   "execution_count": 26,
   "metadata": {},
   "outputs": [],
   "source": [
    "class Table:\n",
    "    def __init__(self, columns):\n",
    "        self.columns = columns\n",
    "        self.rows = []\n",
    "        \n",
    "    def __repr__(self):\n",
    "        \"\"\"Pretty representation of the table: columns then rows.\"\"\"\n",
    "        return str(self.columns) + \"\\n\" + \"\\n\".join(map(str,self.rows))\n",
    "    \n",
    "    def insert(self, row_values):\n",
    "        if len(row_values) != len(self.columns):\n",
    "            raise TypeError(\"wrong number of elements\")\n",
    "        row_dict = dict(zip(self.columns,row_values))\n",
    "        self.rows.append(row_dict)\n",
    "\n",
    "    def update(self, updates, predicate):\n",
    "        for row in self.rows:\n",
    "            if predicate(row):\n",
    "                for column, new_value in updates.items():\n",
    "                    row[column] = new_value"
   ]
  },
  {
   "cell_type": "markdown",
   "metadata": {},
   "source": [
    "after which we can simply do this:"
   ]
  },
  {
   "cell_type": "code",
   "execution_count": 41,
   "metadata": {},
   "outputs": [],
   "source": [
    "users = Table([\"user_id\", \"name\", \"num_friends\"])\n",
    "\n",
    "users.insert([0, \"Hero\", 0])\n",
    "users.insert([1, \"Dunn\", 2])\n",
    "users.insert([2, \"Sue\", 3])\n",
    "users.insert([3, \"Chi\", 3])\n",
    "users.insert([4, \"Thor\", 3])\n",
    "users.insert([5, \"Clive\", 2])\n",
    "users.insert([6, \"Hicks\", 3])\n",
    "users.insert([7, \"Devin\", 2])\n",
    "users.insert([8, \"Kate\", 2])\n",
    "users.insert([9, \"Klein\", 3])\n",
    "users.insert([10, \"Jen\", 1])"
   ]
  },
  {
   "cell_type": "code",
   "execution_count": 42,
   "metadata": {},
   "outputs": [
    {
     "data": {
      "text/plain": [
       "['user_id', 'name', 'num_friends']\n",
       "{'user_id': 0, 'name': 'Hero', 'num_friends': 0}\n",
       "{'user_id': 1, 'name': 'Dunn', 'num_friends': 2}\n",
       "{'user_id': 2, 'name': 'Sue', 'num_friends': 3}\n",
       "{'user_id': 3, 'name': 'Chi', 'num_friends': 3}\n",
       "{'user_id': 4, 'name': 'Thor', 'num_friends': 3}\n",
       "{'user_id': 5, 'name': 'Clive', 'num_friends': 2}\n",
       "{'user_id': 6, 'name': 'Hicks', 'num_friends': 3}\n",
       "{'user_id': 7, 'name': 'Devin', 'num_friends': 2}\n",
       "{'user_id': 8, 'name': 'Kate', 'num_friends': 2}\n",
       "{'user_id': 9, 'name': 'Klein', 'num_friends': 3}\n",
       "{'user_id': 10, 'name': 'Jen', 'num_friends': 1}"
      ]
     },
     "execution_count": 42,
     "metadata": {},
     "output_type": "execute_result"
    }
   ],
   "source": [
    "users"
   ]
  },
  {
   "cell_type": "code",
   "execution_count": 30,
   "metadata": {},
   "outputs": [],
   "source": [
    "users.update({'num_friends' : 3}, # set num_friends = 3\n",
    "    lambda row: row['user_id'] == 1) # in rows where user_id == 1"
   ]
  },
  {
   "cell_type": "code",
   "execution_count": 31,
   "metadata": {},
   "outputs": [
    {
     "data": {
      "text/plain": [
       "['user_id', 'name', 'num_friends']\n",
       "{'user_id': 0, 'name': 'Hero', 'num_friends': 0}\n",
       "{'user_id': 1, 'name': 'Dunn', 'num_friends': 3}\n",
       "{'user_id': 2, 'name': 'Sue', 'num_friends': 3}\n",
       "{'user_id': 3, 'name': 'Chi', 'num_friends': 3}\n",
       "{'user_id': 4, 'name': 'Thor', 'num_friends': 3}\n",
       "{'user_id': 5, 'name': 'Clive', 'num_friends': 2}\n",
       "{'user_id': 6, 'name': 'Hicks', 'num_friends': 3}\n",
       "{'user_id': 7, 'name': 'Devin', 'num_friends': 2}\n",
       "{'user_id': 8, 'name': 'Kate', 'num_friends': 2}\n",
       "{'user_id': 9, 'name': 'Klein', 'num_friends': 3}\n",
       "{'user_id': 10, 'name': 'Jen', 'num_friends': 1}"
      ]
     },
     "execution_count": 31,
     "metadata": {},
     "output_type": "execute_result"
    }
   ],
   "source": [
    "users"
   ]
  },
  {
   "cell_type": "markdown",
   "metadata": {},
   "source": [
    "## DELETE"
   ]
  },
  {
   "cell_type": "markdown",
   "metadata": {},
   "source": [
    "There are two ways to delete rows from a table in SQL. The dangerous way deletes\n",
    "every row from a table:\n",
    "\n",
    "    DELETE FROM users;\n",
    "    \n",
    "The less dangerous way adds a WHERE clause and only deletes rows that match a cer‐\n",
    "tain condition:\n",
    "\n",
    "    DELETE FROM users WHERE user_id = 1;\n",
    "    \n",
    "It’s easy to add this functionality to our Table:"
   ]
  },
  {
   "cell_type": "code",
   "execution_count": 38,
   "metadata": {},
   "outputs": [],
   "source": [
    "class Table:\n",
    "    def __init__(self, columns):\n",
    "        self.columns = columns\n",
    "        self.rows = []\n",
    "        \n",
    "    def __repr__(self):\n",
    "        \"\"\"Pretty representation of the table: columns then rows.\"\"\"\n",
    "        return str(self.columns) + \"\\n\" + \"\\n\".join(map(str,self.rows))\n",
    "    \n",
    "    def insert(self, row_values):\n",
    "        if len(row_values) != len(self.columns):\n",
    "            raise TypeError(\"wrong number of elements\")\n",
    "        row_dict = dict(zip(self.columns,row_values))\n",
    "        self.rows.append(row_dict)\n",
    "\n",
    "    def update(self, updates, predicate):\n",
    "        for row in self.rows:\n",
    "            if predicate(row):\n",
    "                for column, new_value in updates.items():\n",
    "                    row[column] = new_value\n",
    "\n",
    "    def delete(self, predicate = lambda row:True):\n",
    "        \"\"\"Delete all rows matching predicate\n",
    "        or all rows if no predicate supplied.\"\"\"\n",
    "        self.rows = [row for row in self.rows if not(predicate(row))]"
   ]
  },
  {
   "cell_type": "markdown",
   "metadata": {},
   "source": [
    "If you supply a predicate function (i.e., a WHERE clause), this deletes only the rows\n",
    "that satisfy it. If you don’t supply one, the default predicate always returns True, and\n",
    "you will delete every row."
   ]
  },
  {
   "cell_type": "code",
   "execution_count": 44,
   "metadata": {},
   "outputs": [],
   "source": [
    "users = Table([\"user_id\", \"name\", \"num_friends\"])\n",
    "\n",
    "users.insert([0, \"Hero\", 0])\n",
    "users.insert([1, \"Dunn\", 2])\n",
    "users.insert([2, \"Sue\", 3])\n",
    "users.insert([3, \"Chi\", 3])\n",
    "users.insert([4, \"Thor\", 3])\n",
    "users.insert([5, \"Clive\", 2])\n",
    "users.insert([6, \"Hicks\", 3])\n",
    "users.insert([7, \"Devin\", 2])\n",
    "users.insert([8, \"Kate\", 2])\n",
    "users.insert([9, \"Klein\", 3])\n",
    "users.insert([10, \"Jen\", 1])"
   ]
  },
  {
   "cell_type": "code",
   "execution_count": 45,
   "metadata": {},
   "outputs": [
    {
     "data": {
      "text/plain": [
       "['user_id', 'name', 'num_friends']\n",
       "{'user_id': 0, 'name': 'Hero', 'num_friends': 0}\n",
       "{'user_id': 1, 'name': 'Dunn', 'num_friends': 2}\n",
       "{'user_id': 2, 'name': 'Sue', 'num_friends': 3}\n",
       "{'user_id': 3, 'name': 'Chi', 'num_friends': 3}\n",
       "{'user_id': 4, 'name': 'Thor', 'num_friends': 3}\n",
       "{'user_id': 5, 'name': 'Clive', 'num_friends': 2}\n",
       "{'user_id': 6, 'name': 'Hicks', 'num_friends': 3}\n",
       "{'user_id': 7, 'name': 'Devin', 'num_friends': 2}\n",
       "{'user_id': 8, 'name': 'Kate', 'num_friends': 2}\n",
       "{'user_id': 9, 'name': 'Klein', 'num_friends': 3}\n",
       "{'user_id': 10, 'name': 'Jen', 'num_friends': 1}"
      ]
     },
     "execution_count": 45,
     "metadata": {},
     "output_type": "execute_result"
    }
   ],
   "source": [
    "users"
   ]
  },
  {
   "cell_type": "code",
   "execution_count": 46,
   "metadata": {},
   "outputs": [],
   "source": [
    "users.delete(lambda row: row[\"user_id\"] == 1) # deletes rows with user_id == 1"
   ]
  },
  {
   "cell_type": "code",
   "execution_count": 47,
   "metadata": {},
   "outputs": [
    {
     "data": {
      "text/plain": [
       "['user_id', 'name', 'num_friends']\n",
       "{'user_id': 0, 'name': 'Hero', 'num_friends': 0}\n",
       "{'user_id': 2, 'name': 'Sue', 'num_friends': 3}\n",
       "{'user_id': 3, 'name': 'Chi', 'num_friends': 3}\n",
       "{'user_id': 4, 'name': 'Thor', 'num_friends': 3}\n",
       "{'user_id': 5, 'name': 'Clive', 'num_friends': 2}\n",
       "{'user_id': 6, 'name': 'Hicks', 'num_friends': 3}\n",
       "{'user_id': 7, 'name': 'Devin', 'num_friends': 2}\n",
       "{'user_id': 8, 'name': 'Kate', 'num_friends': 2}\n",
       "{'user_id': 9, 'name': 'Klein', 'num_friends': 3}\n",
       "{'user_id': 10, 'name': 'Jen', 'num_friends': 1}"
      ]
     },
     "execution_count": 47,
     "metadata": {},
     "output_type": "execute_result"
    }
   ],
   "source": [
    "users"
   ]
  },
  {
   "cell_type": "markdown",
   "metadata": {},
   "source": [
    "## SELECT"
   ]
  },
  {
   "cell_type": "markdown",
   "metadata": {},
   "source": [
    "Typically you don’t inspect SQL tables directly. Instead you query them with a SELECT\n",
    "statement:\n",
    "\n",
    "    SELECT * FROM users; -- get the entire contents\n",
    "    SELECT * FROM users LIMIT 2; -- get the first two rows\n",
    "    SELECT user_id FROM users; -- only get specific columns\n",
    "    SELECT user_id FROM users WHERE name = 'Dunn'; -- only get specific rows\n",
    "    \n",
    "You can also use SELECT statements to calculate fields:\n",
    "    \n",
    "    SELECT LENGTH(name) AS name_length FROM users;\n",
    "    \n",
    "We’ll give our Table class a select() method that returns a new Table. The method\n",
    "accepts two optional arguments:\n",
    "* keep_columns specifies the name of the columns you want to keep in the result.\n",
    "If you don’t supply it, the result contains all the columns.\n",
    "* additional_columns is a dictionary whose keys are new column names and\n",
    "whose values are functions specifying how to compute the values of the new columns.\n",
    "\n",
    "If you were to supply neither of them, you’d simply get back a copy of the table:"
   ]
  },
  {
   "cell_type": "code",
   "execution_count": 49,
   "metadata": {},
   "outputs": [],
   "source": [
    "def select(self, keep_columns=None, additional_columns=None):\n",
    "    if keep_columns is None:        # If no columns specified\n",
    "        keep_columns = self.columns # return all columns.\n",
    "        \n",
    "    if additional_columns is None:\n",
    "        additional_columns = {}\n",
    "        \n",
    "    # new table for results\n",
    "    result_table = Table(keep_columns + additional_column_keys())\n",
    "    \n",
    "    for row in self.rows:\n",
    "        new_row = [row[column] for column in keep_columns]\n",
    "        for column_name, calculation in additional_columns.items():\n",
    "            new_row.append(calculation(row))\n",
    "        result_table.insert(new_row)\n",
    "        \n",
    "    return result_table"
   ]
  },
  {
   "cell_type": "markdown",
   "metadata": {},
   "source": [
    "Our select() returns a new Table, while the typical SQL SELECT just produces some\n",
    "sort of transient result set (unless you explicitly insert the results into a table).\n",
    "\n",
    "We’ll also need where() and limit() methods. Both are pretty simple:"
   ]
  },
  {
   "cell_type": "code",
   "execution_count": 50,
   "metadata": {},
   "outputs": [],
   "source": [
    "def where(self, predicate=lambda row: True):\n",
    "    \"\"\"Return only the rows that satisfy the supplied predicate.\"\"\"\n",
    "    where_table = Table(self.columns)\n",
    "    where_table.rows = filter(predicate, self.rows)\n",
    "    return where_table\n",
    "\n",
    "def limit(self, num_rows):\n",
    "    \"\"\"Return only the first num_rows rows.\"\"\"\n",
    "    limit_table = Table(self.columns)\n",
    "    limit_table.rows = self.rows[:num_rows]\n",
    "    return limit_table"
   ]
  },
  {
   "cell_type": "markdown",
   "metadata": {},
   "source": [
    "after which we can easily construct NotQuiteABase equivalents to the preceding SQL\n",
    "statements:\n",
    "    \n",
    "    # SELECT * FROM users;\n",
    "    users.select()\n",
    "    \n",
    "    # SELECT * FROM users LIMIT 2;\n",
    "    users.limit(2)\n",
    "    \n",
    "    # SELECT user_id FROM users;\n",
    "    users.select(keep_columns=[\"user_id\"])"
   ]
  },
  {
   "cell_type": "code",
   "execution_count": 61,
   "metadata": {},
   "outputs": [],
   "source": [
    "class Table:\n",
    "    def __init__(self, columns):\n",
    "        self.columns = columns\n",
    "        self.rows = []\n",
    "        \n",
    "    def __repr__(self):\n",
    "        \"\"\"Pretty representation of the table: columns then rows.\"\"\"\n",
    "        return str(self.columns) + \"\\n\" + \"\\n\".join(map(str,self.rows))\n",
    "    \n",
    "    def insert(self, row_values):\n",
    "        if len(row_values) != len(self.columns):\n",
    "            raise TypeError(\"wrong number of elements\")\n",
    "        row_dict = dict(zip(self.columns,row_values))\n",
    "        self.rows.append(row_dict)\n",
    "\n",
    "    def update(self, updates, predicate):\n",
    "        for row in self.rows:\n",
    "            if predicate(row):\n",
    "                for column, new_value in updates.items():\n",
    "                    row[column] = new_value\n",
    "                    \n",
    "    def select(self, keep_columns=None, additional_columns=None):\n",
    "        if keep_columns is None:        # If no columns specified\n",
    "            keep_columns = self.columns # return all columns.\n",
    "\n",
    "        if additional_columns is None:\n",
    "            additional_columns = {}\n",
    "\n",
    "        # new table for results\n",
    "        result_table = Table(keep_columns + additional_columns.keys())\n",
    "\n",
    "        for row in self.rows:\n",
    "            new_row = [row[column] for column in keep_columns]\n",
    "            for column_name, calculation in additional_columns.items():\n",
    "                new_row.append(calculation(row))\n",
    "            result_table.insert(new_row)\n",
    "\n",
    "        return result_table\n",
    "\n",
    "    def where(self, predicate=lambda row: True):\n",
    "        \"\"\"Return only the rows that satisfy the supplied predicate.\"\"\"\n",
    "        where_table = Table(self.columns)\n",
    "        where_table.rows = filter(predicate, self.rows)\n",
    "        return where_table\n",
    "\n",
    "    def limit(self, num_rows):\n",
    "        \"\"\"Return only the first num_rows rows.\"\"\"\n",
    "        limit_table = Table(self.columns)\n",
    "        limit_table.rows = self.rows[:num_rows]\n",
    "        return limit_table"
   ]
  },
  {
   "cell_type": "code",
   "execution_count": 62,
   "metadata": {},
   "outputs": [],
   "source": [
    "users = Table([\"user_id\", \"name\", \"num_friends\"])\n",
    "\n",
    "users.insert([0, \"Hero\", 0])\n",
    "users.insert([1, \"Dunn\", 2])\n",
    "users.insert([2, \"Sue\", 3])\n",
    "users.insert([3, \"Chi\", 3])\n",
    "users.insert([4, \"Thor\", 3])\n",
    "users.insert([5, \"Clive\", 2])\n",
    "users.insert([6, \"Hicks\", 3])\n",
    "users.insert([7, \"Devin\", 2])\n",
    "users.insert([8, \"Kate\", 2])\n",
    "users.insert([9, \"Klein\", 3])\n",
    "users.insert([10, \"Jen\", 1])"
   ]
  },
  {
   "cell_type": "code",
   "execution_count": 63,
   "metadata": {},
   "outputs": [
    {
     "data": {
      "text/plain": [
       "['user_id', 'name', 'num_friends']\n",
       "{'user_id': 0, 'name': 'Hero', 'num_friends': 0}\n",
       "{'user_id': 1, 'name': 'Dunn', 'num_friends': 2}\n",
       "{'user_id': 2, 'name': 'Sue', 'num_friends': 3}\n",
       "{'user_id': 3, 'name': 'Chi', 'num_friends': 3}\n",
       "{'user_id': 4, 'name': 'Thor', 'num_friends': 3}\n",
       "{'user_id': 5, 'name': 'Clive', 'num_friends': 2}\n",
       "{'user_id': 6, 'name': 'Hicks', 'num_friends': 3}\n",
       "{'user_id': 7, 'name': 'Devin', 'num_friends': 2}\n",
       "{'user_id': 8, 'name': 'Kate', 'num_friends': 2}\n",
       "{'user_id': 9, 'name': 'Klein', 'num_friends': 3}\n",
       "{'user_id': 10, 'name': 'Jen', 'num_friends': 1}"
      ]
     },
     "execution_count": 63,
     "metadata": {},
     "output_type": "execute_result"
    }
   ],
   "source": [
    "users"
   ]
  },
  {
   "cell_type": "code",
   "execution_count": 65,
   "metadata": {},
   "outputs": [
    {
     "ename": "TypeError",
     "evalue": "can only concatenate list (not \"dict_keys\") to list",
     "output_type": "error",
     "traceback": [
      "\u001b[1;31m---------------------------------------------------------------------------\u001b[0m",
      "\u001b[1;31mTypeError\u001b[0m                                 Traceback (most recent call last)",
      "\u001b[1;32m<ipython-input-65-26db8ed8c56c>\u001b[0m in \u001b[0;36m<module>\u001b[1;34m\u001b[0m\n\u001b[0;32m      1\u001b[0m \u001b[1;31m# SELECT user_id FROM users WHERE name = 'Dunn';\u001b[0m\u001b[1;33m\u001b[0m\u001b[1;33m\u001b[0m\u001b[1;33m\u001b[0m\u001b[0m\n\u001b[1;32m----> 2\u001b[1;33m \u001b[0musers\u001b[0m\u001b[1;33m.\u001b[0m\u001b[0mwhere\u001b[0m\u001b[1;33m(\u001b[0m\u001b[1;32mlambda\u001b[0m \u001b[0mrow\u001b[0m\u001b[1;33m:\u001b[0m \u001b[0mrow\u001b[0m\u001b[1;33m[\u001b[0m\u001b[1;34m\"name\"\u001b[0m\u001b[1;33m]\u001b[0m \u001b[1;33m==\u001b[0m \u001b[1;34m\"Dunn\"\u001b[0m\u001b[1;33m)\u001b[0m\u001b[1;33m.\u001b[0m\u001b[0mselect\u001b[0m\u001b[1;33m(\u001b[0m\u001b[0mkeep_columns\u001b[0m\u001b[1;33m=\u001b[0m\u001b[1;33m[\u001b[0m\u001b[1;34m\"user_id\"\u001b[0m\u001b[1;33m]\u001b[0m\u001b[1;33m)\u001b[0m\u001b[1;33m\u001b[0m\u001b[1;33m\u001b[0m\u001b[0m\n\u001b[0m",
      "\u001b[1;32m<ipython-input-61-ba216322a899>\u001b[0m in \u001b[0;36mselect\u001b[1;34m(self, keep_columns, additional_columns)\u001b[0m\n\u001b[0;32m     28\u001b[0m \u001b[1;33m\u001b[0m\u001b[0m\n\u001b[0;32m     29\u001b[0m         \u001b[1;31m# new table for results\u001b[0m\u001b[1;33m\u001b[0m\u001b[1;33m\u001b[0m\u001b[1;33m\u001b[0m\u001b[0m\n\u001b[1;32m---> 30\u001b[1;33m         \u001b[0mresult_table\u001b[0m \u001b[1;33m=\u001b[0m \u001b[0mTable\u001b[0m\u001b[1;33m(\u001b[0m\u001b[0mkeep_columns\u001b[0m \u001b[1;33m+\u001b[0m \u001b[0madditional_columns\u001b[0m\u001b[1;33m.\u001b[0m\u001b[0mkeys\u001b[0m\u001b[1;33m(\u001b[0m\u001b[1;33m)\u001b[0m\u001b[1;33m)\u001b[0m\u001b[1;33m\u001b[0m\u001b[1;33m\u001b[0m\u001b[0m\n\u001b[0m\u001b[0;32m     31\u001b[0m \u001b[1;33m\u001b[0m\u001b[0m\n\u001b[0;32m     32\u001b[0m         \u001b[1;32mfor\u001b[0m \u001b[0mrow\u001b[0m \u001b[1;32min\u001b[0m \u001b[0mself\u001b[0m\u001b[1;33m.\u001b[0m\u001b[0mrows\u001b[0m\u001b[1;33m:\u001b[0m\u001b[1;33m\u001b[0m\u001b[1;33m\u001b[0m\u001b[0m\n",
      "\u001b[1;31mTypeError\u001b[0m: can only concatenate list (not \"dict_keys\") to list"
     ]
    }
   ],
   "source": [
    "# SELECT user_id FROM users WHERE name = 'Dunn';\n",
    "users.where(lambda row: row[\"name\"] == \"Dunn\").select(keep_columns=[\"user_id\"])"
   ]
  },
  {
   "cell_type": "markdown",
   "metadata": {},
   "source": [
    "## GROUP BY"
   ]
  },
  {
   "cell_type": "markdown",
   "metadata": {},
   "source": [
    "Another common SQL operation is GROUP BY, which groups together rows with identical values in specified columns and produces aggregate values like MIN and MAX and\n",
    "COUNT and SUM.\n",
    "\n",
    "For example, you might want to find the number of users and the smallest user_id\n",
    "for each possible name length:\n",
    "\n",
    "    SELECT LENGTH(name) as name_length,\n",
    "        MIN(user_id) AS min_user_id,\n",
    "        COUNT(*) AS num_users\n",
    "    FROM users\n",
    "    GROUP BY LENGTH(name);\n",
    "    \n",
    "Every field we SELECT needs to be either in the GROUP BY clause (which name_length\n",
    "is) or an aggregate computation (which min_user_id and num_users are).\n",
    "\n",
    "SQL also supports a HAVING clause that behaves similarly to a WHERE clause except that\n",
    "its filter is applied to the aggregates (whereas a WHERE would filter out rows before\n",
    "aggregation even took place).\n",
    "\n",
    "You might want to know the average number of friends for users whose names start\n",
    "with specific letters but only see the results for letters whose corresponding average is\n",
    "greater than 1. (Yes, some of these examples are contrived.)\n",
    "\n",
    "    SELECT SUBSTR(name, 1, 1) AS first_letter,\n",
    "        AVG(num_friends) AS avg_num_friends\n",
    "    FROM users\n",
    "    GROUP BY SUBSTR(name, 1, 1)\n",
    "    HAVING AVG(num_friends) > 1;\n",
    "    \n",
    "You can also compute overall aggregates. In that case, you leave off the GROUP BY:\n",
    "\n",
    "    SELECT SUM(user_id) as user_id_sum\n",
    "    FROM users\n",
    "    WHERE user_id > 1;\n",
    "    \n",
    "To add this functionality to NotQuiteABase Tables, we’ll add a group_by() method.\n",
    "It takes the names of the columns you want to group by, a dictionary of the aggrega‐\n",
    "tion functions you want to run over each group, and an optional predicate having\n",
    "that operates on multiple rows.\n",
    "\n",
    "Then it does the following steps:\n",
    "1. Creates a defaultdict to map tuples (of the group-by-values) to rows (contain‐\n",
    "ing the group-by-values). Recall that you can’t use lists as dict keys; you have to\n",
    "use tuples.\n",
    "2. Iterates over the rows of the table, populating the defaultdict.\n",
    "3. Creates a new table with the correct output columns.\n",
    "4. Iterates over the defaultdict and populates the output table, applying the having filter if any."
   ]
  },
  {
   "cell_type": "code",
   "execution_count": 67,
   "metadata": {},
   "outputs": [],
   "source": [
    "class Table:\n",
    "    def __init__(self, columns):\n",
    "        self.columns = columns\n",
    "        self.rows = []\n",
    "        \n",
    "    def __repr__(self):\n",
    "        \"\"\"Pretty representation of the table: columns then rows.\"\"\"\n",
    "        return str(self.columns) + \"\\n\" + \"\\n\".join(map(str,self.rows))\n",
    "    \n",
    "    def insert(self, row_values):\n",
    "        if len(row_values) != len(self.columns):\n",
    "            raise TypeError(\"wrong number of elements\")\n",
    "        row_dict = dict(zip(self.columns,row_values))\n",
    "        self.rows.append(row_dict)\n",
    "\n",
    "    def update(self, updates, predicate):\n",
    "        for row in self.rows:\n",
    "            if predicate(row):\n",
    "                for column, new_value in updates.items():\n",
    "                    row[column] = new_value\n",
    "                    \n",
    "    def select(self, keep_columns=None, additional_columns=None):\n",
    "        if keep_columns is None:        # If no columns specified\n",
    "            keep_columns = self.columns # return all columns.\n",
    "\n",
    "        if additional_columns is None:\n",
    "            additional_columns = {}\n",
    "\n",
    "        # new table for results\n",
    "        result_table = Table(keep_columns + additional_columns.keys())\n",
    "\n",
    "        for row in self.rows:\n",
    "            new_row = [row[column] for column in keep_columns]\n",
    "            for column_name, calculation in additional_columns.items():\n",
    "                new_row.append(calculation(row))\n",
    "            result_table.insert(new_row)\n",
    "\n",
    "        return result_table\n",
    "\n",
    "    def where(self, predicate=lambda row: True):\n",
    "        \"\"\"Return only the rows that satisfy the supplied predicate.\"\"\"\n",
    "        where_table = Table(self.columns)\n",
    "        where_table.rows = filter(predicate, self.rows)\n",
    "        return where_table\n",
    "\n",
    "    def limit(self, num_rows):\n",
    "        \"\"\"Return only the first num_rows rows.\"\"\"\n",
    "        limit_table = Table(self.columns)\n",
    "        limit_table.rows = self.rows[:num_rows]\n",
    "        return limit_table\n",
    "\n",
    "    def group_by(self, group_by_columns, aggregates, having=None):\n",
    "\n",
    "        grouped_rows = defaultdict(list)\n",
    "\n",
    "        #populate groups\n",
    "        for row in self.rows:\n",
    "            key = tuple(row[column] for column in group_by_columns)\n",
    "            grouped_rows[key].append(row)\n",
    "\n",
    "        # result table consists of group_by columns and aggregates\n",
    "        result_table = Table(group_by_columns + aggregates.keys())\n",
    "\n",
    "        for key, rows in grouped_rows.iteritems():\n",
    "            if having is None or having(rows):\n",
    "                new_row = list(key)\n",
    "                for aggregate_name, aggregate_fn in aggregates.iteritems():\n",
    "                    new_row.append(aggregate_fn(rows))\n",
    "                result_table.insert(new_row)\n",
    "\n",
    "        return result_table"
   ]
  },
  {
   "cell_type": "code",
   "execution_count": 68,
   "metadata": {},
   "outputs": [],
   "source": [
    "users = Table([\"user_id\", \"name\", \"num_friends\"])\n",
    "\n",
    "users.insert([0, \"Hero\", 0])\n",
    "users.insert([1, \"Dunn\", 2])\n",
    "users.insert([2, \"Sue\", 3])\n",
    "users.insert([3, \"Chi\", 3])\n",
    "users.insert([4, \"Thor\", 3])\n",
    "users.insert([5, \"Clive\", 2])\n",
    "users.insert([6, \"Hicks\", 3])\n",
    "users.insert([7, \"Devin\", 2])\n",
    "users.insert([8, \"Kate\", 2])\n",
    "users.insert([9, \"Klein\", 3])\n",
    "users.insert([10, \"Jen\", 1])"
   ]
  },
  {
   "cell_type": "markdown",
   "metadata": {},
   "source": [
    "Again, let’s see how we would do the equivalent of the preceding SQL statements. The\n",
    "name_length metrics are:"
   ]
  },
  {
   "cell_type": "code",
   "execution_count": 69,
   "metadata": {},
   "outputs": [],
   "source": [
    "def min_user_id(rows): return min(row[\"user_id\"] for row in rows)"
   ]
  },
  {
   "cell_type": "code",
   "execution_count": 70,
   "metadata": {},
   "outputs": [
    {
     "ename": "NameError",
     "evalue": "name 'name_length' is not defined",
     "output_type": "error",
     "traceback": [
      "\u001b[1;31m---------------------------------------------------------------------------\u001b[0m",
      "\u001b[1;31mNameError\u001b[0m                                 Traceback (most recent call last)",
      "\u001b[1;32m<ipython-input-70-97de8b0cfc74>\u001b[0m in \u001b[0;36m<module>\u001b[1;34m\u001b[0m\n\u001b[1;32m----> 1\u001b[1;33m \u001b[0mstats_by_length\u001b[0m \u001b[1;33m=\u001b[0m \u001b[0musers\u001b[0m\u001b[1;33m.\u001b[0m\u001b[0mselect\u001b[0m\u001b[1;33m(\u001b[0m\u001b[0madditional_columns\u001b[0m\u001b[1;33m=\u001b[0m\u001b[1;33m{\u001b[0m\u001b[1;34m\"name_length\"\u001b[0m \u001b[1;33m:\u001b[0m \u001b[0mname_length\u001b[0m\u001b[1;33m}\u001b[0m\u001b[1;33m)\u001b[0m\u001b[0;31m \u001b[0m\u001b[0;31m\\\u001b[0m\u001b[1;33m\u001b[0m\u001b[1;33m\u001b[0m\u001b[0m\n\u001b[0m\u001b[0;32m      2\u001b[0m                     .group_by(group_by_columns=[\"name_length\"], \n\u001b[0;32m      3\u001b[0m                               aggregates={\"min_user_id\" : min_user_id, \"num_user_id\" : len})\n",
      "\u001b[1;31mNameError\u001b[0m: name 'name_length' is not defined"
     ]
    }
   ],
   "source": [
    "stats_by_length = users.select(additional_columns={\"name_length\" : name_length}) \\\n",
    "                    .group_by(group_by_columns=[\"name_length\"], \n",
    "                              aggregates={\"min_user_id\" : min_user_id, \"num_user_id\" : len})"
   ]
  },
  {
   "cell_type": "code",
   "execution_count": null,
   "metadata": {},
   "outputs": [],
   "source": []
  }
 ],
 "metadata": {
  "kernelspec": {
   "display_name": "Python 3",
   "language": "python",
   "name": "python3"
  },
  "language_info": {
   "codemirror_mode": {
    "name": "ipython",
    "version": 3
   },
   "file_extension": ".py",
   "mimetype": "text/x-python",
   "name": "python",
   "nbconvert_exporter": "python",
   "pygments_lexer": "ipython3",
   "version": "3.7.3"
  }
 },
 "nbformat": 4,
 "nbformat_minor": 2
}
