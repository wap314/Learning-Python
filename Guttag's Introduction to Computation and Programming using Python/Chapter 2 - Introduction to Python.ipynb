{
 "cells": [
  {
   "cell_type": "markdown",
   "metadata": {},
   "source": [
    "# Chapter 2 - Introduction to Python"
   ]
  },
  {
   "cell_type": "markdown",
   "metadata": {},
   "source": [
    "We use Python as a vehicle to presents concepts related to computational problem solving and thinking. Since it's introduction by Guido von Rossum, Python has undergone many changes. A large number of people began developing libraries that interfaced seamlessly with Python, and development of the Python ecosystem became a community-based acitivity. \n",
    "\n",
    "As a programming language, Python has a set of primitive constructs, a syntax, a static semantic and a semantic. The primitive constructs in Python include literals (e.g. number and string) and infix operators (e.g. + and -). The syntax defines which strings of character and symbols are well formed. For example, the sequence of primitives [literal] [operator] [literal] is syntactically well formed, while [literal] [literal] is not. The static semantic define which syntactically valid strings have meaning. For example, the sequence 3.8/'abc' is syntactically well formed but produces static semantic error since it is not meaningful to divide a number by a string of character. The semantic associates a meaning to each syntactically correct strings of symbols that has no static semantic error. Note that syntax errors are the most common kind of error but they are the least dangerous kind of error. \n",
    "\n",
    "In short, when you program, anything you type is basically a string of characters and symbols consisted of primitive constructs (ex. sequence of literals and infix operators). If those string is syntactically well formed, then it has a meaning which is defined by the static semantic. Finally the semantic associate meaning to that syntactically correct strings of symbols that has no static semantic error."
   ]
  },
  {
   "cell_type": "markdown",
   "metadata": {},
   "source": [
    "## 2.1 The Basic Elements of Python"
   ]
  },
  {
   "cell_type": "markdown",
   "metadata": {},
   "source": [
    "A Python script is a sequence of definition and command. The scripts are executed by the Python interpreter. A command (often called statement) instruct the interpreter to do something. Below are example of sequence of commands:"
   ]
  },
  {
   "cell_type": "code",
   "execution_count": 3,
   "metadata": {},
   "outputs": [
    {
     "name": "stdout",
     "output_type": "stream",
     "text": [
      "Quantum theory is incomplete.\n",
      "It can not be a complete description of nature.\n",
      "This is what Albert Einstein believe. Although it is a controversial view.\n"
     ]
    }
   ],
   "source": [
    "print('Quantum theory is incomplete.')\n",
    "print('It can not be a complete description of nature.')\n",
    "print('This is what Albert Einstein believe.','Although it is a controversial view.')"
   ]
  },
  {
   "cell_type": "markdown",
   "metadata": {},
   "source": [
    "### 2.1.1 Objects, Expression and Numerical types"
   ]
  },
  {
   "cell_type": "markdown",
   "metadata": {},
   "source": [
    "Python programs manipulate Objects and every object has a Type that defines the kind of things that program can do with that object. Object's types are either scalar or non-scalar. Scalar objects are indivisible. Non-scalar objects (for example string) have internal structures. \n",
    "\n",
    "Many types of objects can be denoted by literals. For example, the text 2 is a literal representing a number and the text 'abc' is a literal representing a string.\n",
    "\n",
    "Python has four types of scalar objects: int (integer), float (real numbers), bool (Boolean values True and False) and None (a type with a single value).\n",
    "\n",
    "Objects and operators can be combined to form expressions, each of which evaluates to an object of some type (value of the expressions). Below are some examples :"
   ]
  },
  {
   "cell_type": "code",
   "execution_count": 11,
   "metadata": {},
   "outputs": [
    {
     "data": {
      "text/plain": [
       "5"
      ]
     },
     "execution_count": 11,
     "metadata": {},
     "output_type": "execute_result"
    }
   ],
   "source": [
    "# if both of type int, then the value is int.\n",
    "2 + 3"
   ]
  },
  {
   "cell_type": "code",
   "execution_count": 3,
   "metadata": {},
   "outputs": [
    {
     "data": {
      "text/plain": [
       "6.0"
      ]
     },
     "execution_count": 3,
     "metadata": {},
     "output_type": "execute_result"
    }
   ],
   "source": [
    "#if either one of them if float, the value is float.\n",
    "2.0 + 4"
   ]
  },
  {
   "cell_type": "code",
   "execution_count": 28,
   "metadata": {},
   "outputs": [
    {
     "data": {
      "text/plain": [
       "True"
      ]
     },
     "execution_count": 28,
     "metadata": {},
     "output_type": "execute_result"
    }
   ],
   "source": [
    "5 != 9 "
   ]
  },
  {
   "cell_type": "code",
   "execution_count": 6,
   "metadata": {},
   "outputs": [
    {
     "data": {
      "text/plain": [
       "2"
      ]
     },
     "execution_count": 6,
     "metadata": {},
     "output_type": "execute_result"
    }
   ],
   "source": [
    "#the operator // perform integer division which return the quotient and ignore remainder.\n",
    "8 // 3"
   ]
  },
  {
   "cell_type": "code",
   "execution_count": 23,
   "metadata": {},
   "outputs": [
    {
     "data": {
      "text/plain": [
       "1.5"
      ]
     },
     "execution_count": 23,
     "metadata": {},
     "output_type": "execute_result"
    }
   ],
   "source": [
    "#the operator /  perform floating number division.\n",
    "6/4"
   ]
  },
  {
   "cell_type": "code",
   "execution_count": 4,
   "metadata": {},
   "outputs": [
    {
     "data": {
      "text/plain": [
       "2"
      ]
     },
     "execution_count": 4,
     "metadata": {},
     "output_type": "execute_result"
    }
   ],
   "source": [
    "#the operator % perform modulo which gives the remainder of division.\n",
    "23 % 3"
   ]
  },
  {
   "cell_type": "code",
   "execution_count": 8,
   "metadata": {},
   "outputs": [
    {
     "data": {
      "text/plain": [
       "8.0"
      ]
     },
     "execution_count": 8,
     "metadata": {},
     "output_type": "execute_result"
    }
   ],
   "source": [
    "#the operator ** perform power.\n",
    "2**3.0"
   ]
  },
  {
   "cell_type": "markdown",
   "metadata": {},
   "source": [
    "The function 'type' can be used to find the type of an object:"
   ]
  },
  {
   "cell_type": "code",
   "execution_count": 27,
   "metadata": {},
   "outputs": [
    {
     "data": {
      "text/plain": [
       "int"
      ]
     },
     "execution_count": 27,
     "metadata": {},
     "output_type": "execute_result"
    }
   ],
   "source": [
    "type(3)"
   ]
  },
  {
   "cell_type": "code",
   "execution_count": 28,
   "metadata": {},
   "outputs": [
    {
     "data": {
      "text/plain": [
       "float"
      ]
     },
     "execution_count": 28,
     "metadata": {},
     "output_type": "execute_result"
    }
   ],
   "source": [
    "type(6.709)"
   ]
  },
  {
   "cell_type": "code",
   "execution_count": 24,
   "metadata": {},
   "outputs": [
    {
     "data": {
      "text/plain": [
       "bool"
      ]
     },
     "execution_count": 24,
     "metadata": {},
     "output_type": "execute_result"
    }
   ],
   "source": [
    "type(2 == 4)"
   ]
  },
  {
   "cell_type": "markdown",
   "metadata": {},
   "source": [
    "### 2.1.2 Variables and Assignment"
   ]
  },
  {
   "cell_type": "markdown",
   "metadata": {},
   "source": [
    " Variables provides ways to associate names with objects (int, float, bool ets). For examples:"
   ]
  },
  {
   "cell_type": "code",
   "execution_count": 34,
   "metadata": {},
   "outputs": [
    {
     "name": "stdout",
     "output_type": "stream",
     "text": [
      "radius = 1\n",
      "area = 3.14\n",
      "radius = 2\n"
     ]
    }
   ],
   "source": [
    "pi = 3.14\n",
    "radius = 1\n",
    "print('radius =',radius)\n",
    "area = pi*(radius**2)\n",
    "\n",
    "radius = 2\n",
    "\n",
    "print('area =', area)\n",
    "print('radius =', radius)"
   ]
  },
  {
   "cell_type": "markdown",
   "metadata": {},
   "source": [
    " In Python, a variable is just a name, nothing more. An object can have one, more than one or no name associated with it. Python variable names are case-sensitive. Also there are some small number of reserved words (keywords) in Python that have built-in meaning and cannot be used as variable names.\n",
    " \n",
    " Python allow multiple assignment. For example:"
   ]
  },
  {
   "cell_type": "code",
   "execution_count": 38,
   "metadata": {},
   "outputs": [
    {
     "name": "stdout",
     "output_type": "stream",
     "text": [
      "x = 3 and y =  4\n"
     ]
    }
   ],
   "source": [
    "x,y = 3,4\n",
    "print('x =',x,'and y = ',y)"
   ]
  },
  {
   "cell_type": "markdown",
   "metadata": {},
   "source": [
    "## 2.2 Branching Programs"
   ]
  },
  {
   "cell_type": "markdown",
   "metadata": {},
   "source": [
    "Thus far, we have been looking at straight-line program that execute one statement after the other in the order in which they appear and stop when they are out of statements. \n",
    "\n",
    "Branching programs are more interesting. The simplest one is conditional. A conditional statement has three parts:\n",
    "\n",
    "1) a test, i.e. an Boolean expression that evaluate to either True or False.\n",
    "\n",
    "2) a block of code that is executed if the test evaluates to True.\n",
    "\n",
    "3) an optional block of code that is executed if test evaluates to False.\n",
    "\n",
    "After a conditional statement is executed, execution resumes at the code following the statement. Below is the flowchart for such conditional statement :"
   ]
  },
  {
   "cell_type": "markdown",
   "metadata": {},
   "source": [
    "![](conditional_flowchart.jpg)"
   ]
  },
  {
   "cell_type": "markdown",
   "metadata": {},
   "source": [
    "In Python, a conditional statement has the form of skeleton code :"
   ]
  },
  {
   "cell_type": "markdown",
   "metadata": {},
   "source": [
    "![](conditional_skelcode.jpg)"
   ]
  },
  {
   "cell_type": "markdown",
   "metadata": {},
   "source": [
    "When implementing conditional statement, we will often use 'else' and 'elif' (else if). It is important to understand the subtle difference between them.\n",
    "\n",
    "Consider an If-Else conditional statement. Let Ti be the test (explicit) follow from If and Te be the test (implicit) follow from Else. Note that Te is simply ~Ti (negation of Ti), since the block of code follow from Else is only executed if Ti is false (thus negation of Ti). Below is an example:"
   ]
  },
  {
   "cell_type": "code",
   "execution_count": 12,
   "metadata": {},
   "outputs": [
    {
     "name": "stdout",
     "output_type": "stream",
     "text": [
      "x is a negative number.\n"
     ]
    }
   ],
   "source": [
    "x=-13\n",
    "\n",
    "if x<0:\n",
    "    print('x is a negative number.')\n",
    "else: \n",
    "    # ~(x<0) == x>=0\n",
    "    print('x is a non-negative number.')"
   ]
  },
  {
   "cell_type": "markdown",
   "metadata": {},
   "source": [
    "There are occasion where we wish to use more If-like conditional, this can be realized using Elif (else if). Let Ti be the test (explicit) follow from either If or Elif. Then Te is simply the conjunction (and connective) of all ~Ti. This can seen from the fact that the block of code following Else only executed when all values of Ti's are false. Thus the test (implicit) follow from Else must obey all the negation of Ti's (thus conjunction of all Ti's). Below is an example:"
   ]
  },
  {
   "cell_type": "code",
   "execution_count": 15,
   "metadata": {},
   "outputs": [
    {
     "name": "stdout",
     "output_type": "stream",
     "text": [
      "x is positive number.\n"
     ]
    }
   ],
   "source": [
    "x=2\n",
    "\n",
    "if x<0:\n",
    "    print('x is a negative number.')\n",
    "elif x==0:\n",
    "    print('x is zero.')\n",
    "else:\n",
    "    # ~(x<0) and ~(x=0) == (x>=0) and (x!=0) == x>0\n",
    "    print('x is positive number.')"
   ]
  },
  {
   "cell_type": "markdown",
   "metadata": {},
   "source": [
    "Now consider an example where a program print \"Even\" when value of variable x is even and print \"Odd\" otherwise. Note that this is a mathematical problem. What is it for an integer x to be even or odd ? We know that for any integer n, then 2n is an even number. Thus x is even iff x mod 2 = 0, otherwise x is odd. "
   ]
  },
  {
   "cell_type": "code",
   "execution_count": 29,
   "metadata": {},
   "outputs": [
    {
     "name": "stdout",
     "output_type": "stream",
     "text": [
      "x is Even.\n"
     ]
    }
   ],
   "source": [
    "x = 8\n",
    "\n",
    "if x%2 == 0:            \n",
    "    # x mod 2 = 0\n",
    "    print('x is Even.') \n",
    "else: \n",
    "    # ~(x mod 2 = 0) == x mod 2 != 0 \n",
    "    print('x is Odd.')"
   ]
  },
  {
   "cell_type": "markdown",
   "metadata": {},
   "source": [
    "Note that else imply the negation of the test expression. In the above example, it means that if x mod 2 isn't equal to zero, then print 'x is Odd.'\n",
    "\n",
    "When either the True block of the False block of a conditional contain another conditional, the conditional statements are said to be nested.\n",
    "\n",
    "Let's consider an example of nested conditional. Given an integer x, determine whether x divisible by both 2 and 3, either one of them or none of them. Note that if an integer is divisible by another integer y, then x mod y = 0, otherwise x is not divisible by y."
   ]
  },
  {
   "cell_type": "code",
   "execution_count": 44,
   "metadata": {},
   "outputs": [
    {
     "name": "stdout",
     "output_type": "stream",
     "text": [
      "x is not divisible by both 2 and 3.\n"
     ]
    }
   ],
   "source": [
    "x = 11\n",
    "\n",
    "if x%2 == 0:   \n",
    "    # (x mod 2 = 0)\n",
    "    if x%3 == 0:\n",
    "        # (x mod 2 = 0) and (x mod 3 = 0)\n",
    "        print('x is divisible by both 2 and 3.')\n",
    "    else:\n",
    "         # (x mod 2 = 0) and ~(x mod 3 = 0) == (x mod 2 = 0) and (x mod 3 != 0)\n",
    "        print('x is divisible by 2, but not by 3.')\n",
    "else: \n",
    "    # ~(x mod 2 = 0) == x mod 2 != 0\n",
    "    if x%3 == 0:\n",
    "        # (x mod 2 != 0) and (x mod 3 = 0)\n",
    "        print('x is divisible by 3, but not by 2.')\n",
    "    else:\n",
    "         # (x mod 2 != 0) and ~(x mod 3 = 0) == (x mod 2 != 0) and (x mod 3 != 0)\n",
    "        print('x is not divisible by both 2 and 3.')"
   ]
  },
  {
   "cell_type": "markdown",
   "metadata": {},
   "source": [
    "In some cases we will need compound Boolean expression in the test of a conditional. Consider an example where we have a set consisted of three number x,y and z and we wish to determine which is the smallest number in the set."
   ]
  },
  {
   "cell_type": "code",
   "execution_count": 43,
   "metadata": {},
   "outputs": [
    {
     "name": "stdout",
     "output_type": "stream",
     "text": [
      "z is the smallest number.\n"
     ]
    }
   ],
   "source": [
    "#x,y,z = 1,2,3 #x is the smallest number.\n",
    "#x,y,z = 4,2,3\n",
    "x,y,z = 4,2,1\n",
    "\n",
    "if x<y and x<z: \n",
    "    # (x<y and x<z) == 'x is the smallest number'\n",
    "    print('x is the smallest number.')\n",
    "else: \n",
    "    #  ~('x is the smallest number') == 'x is not the smallest number'\n",
    "    if y<z:\n",
    "        # 'x is not the smallest number' and (y<z) == 'y is the smallest number'\n",
    "        print('y is the smallest number.')\n",
    "    else:\n",
    "        # 'x is not the smallest number' and 'y is not the smallest number' == 'neither x nor y is the smallest number'\n",
    "        #                                                                   == 'z is the smallest number'\n",
    "        print('z is the smallest number.')"
   ]
  },
  {
   "cell_type": "markdown",
   "metadata": {},
   "source": [
    "Exercise: Given a set of three variables, print the largest odd number among them. If none of them are odd, it should print a message to that effect."
   ]
  },
  {
   "cell_type": "code",
   "execution_count": 63,
   "metadata": {},
   "outputs": [
    {
     "name": "stdout",
     "output_type": "stream",
     "text": [
      "both x and z are odd.\n",
      "z is the largest odd.\n"
     ]
    }
   ],
   "source": [
    "# A set has the properties that its element is distinguishable.\n",
    "x,y,z = 135,88,187\n",
    "\n",
    "if x%2 != 0: \n",
    "    # 'x is odd'\n",
    "    if y%2 != 0: \n",
    "        # 'x and y are odd'\n",
    "        if z%2 != 0:  \n",
    "            # 'x,y and z are odd'\n",
    "            print('x,y and z are all odd.')\n",
    "            if x<y and x>z:\n",
    "                # ('x,y and z are odd') and ('x is the largest odd')\n",
    "                print('x is the largest odd.')\n",
    "            else:\n",
    "                # ('x,y and z are odd') and ('x is not the largest odd')\n",
    "                if y>z:\n",
    "                    # ('x,y and z are odd') and ('x is not the largest odd') and (y>z)\n",
    "                    print('y is the largest odd.')\n",
    "                else:\n",
    "                    # ('x,y and z are odd') and ('x is not the largest odd') and (z>y)\n",
    "                    print('z is the largest odd.')\n",
    "        else:                \n",
    "            # 'x and y are odd' \n",
    "            print('both x and y are odd.')\n",
    "            if x>y:\n",
    "                # ('x and y are odd') and (x>y)\n",
    "                print('x is the largest odd.')\n",
    "            else:\n",
    "                # ('x and y are odd') and (x<y)\n",
    "                print('y is the largest odd.')\n",
    "    else:                       \n",
    "        # 'x is odd, y is even and z is still unknown'\n",
    "        if z%2 != 0:            \n",
    "            # 'both x and z are odd'\n",
    "            print('both x and z are odd.')\n",
    "            if x>z:\n",
    "                # ('both x and z are odd') and (x>z)\n",
    "                print('x is the largest odd.')\n",
    "            else:\n",
    "                 # ('both x and z are odd') and (x<z)\n",
    "                print('z is the largest odd.')\n",
    "        else:  \n",
    "            # 'x is the only odd'\n",
    "            print('x is the largest odd.')\n",
    "else:                           \n",
    "    # 'x is even'\n",
    "    if y%2 != 0:                \n",
    "        # 'x is even and y is odd'\n",
    "        if z%2 != 0:            \n",
    "            # 'x is even, y and z are odd'\n",
    "            if y>z:\n",
    "                # ('x is even, y and z are odd') and (y>z)\n",
    "                print('y is the largest odd.')\n",
    "            else:\n",
    "                # ('x is even, y and z are odd') and (y<z)\n",
    "                print('z is the largest odd.')\n",
    "        else:                  \n",
    "            # 'x and z are even, y is odd'\n",
    "            print('y is the largest odd.')\n",
    "    else:\n",
    "        # 'x and y are even'\n",
    "        if z%2 != 0:            \n",
    "            # 'x and y are even, z is odd'\n",
    "            print('z is the largest odd.')\n",
    "        else:                   \n",
    "            # 'all of them are even'\n",
    "            print('No odd number !')"
   ]
  },
  {
   "cell_type": "markdown",
   "metadata": {},
   "source": [
    "## 2.3 Strings and Input"
   ]
  },
  {
   "cell_type": "markdown",
   "metadata": {},
   "source": [
    "String of characters is represented by object of the type str. Note that the literal '123' denotes a string of three character, not a number. "
   ]
  },
  {
   "cell_type": "code",
   "execution_count": 28,
   "metadata": {},
   "outputs": [
    {
     "data": {
      "text/plain": [
       "15"
      ]
     },
     "execution_count": 28,
     "metadata": {},
     "output_type": "execute_result"
    }
   ],
   "source": [
    "3*5"
   ]
  },
  {
   "cell_type": "code",
   "execution_count": 29,
   "metadata": {},
   "outputs": [
    {
     "data": {
      "text/plain": [
       "'aaa'"
      ]
     },
     "execution_count": 29,
     "metadata": {},
     "output_type": "execute_result"
    }
   ],
   "source": [
    "3*'a'"
   ]
  },
  {
   "cell_type": "code",
   "execution_count": 30,
   "metadata": {},
   "outputs": [
    {
     "data": {
      "text/plain": [
       "10"
      ]
     },
     "execution_count": 30,
     "metadata": {},
     "output_type": "execute_result"
    }
   ],
   "source": [
    "2+8"
   ]
  },
  {
   "cell_type": "code",
   "execution_count": 32,
   "metadata": {},
   "outputs": [
    {
     "data": {
      "text/plain": [
       "'ka'"
      ]
     },
     "execution_count": 32,
     "metadata": {},
     "output_type": "execute_result"
    }
   ],
   "source": [
    "'k'+'a'"
   ]
  },
  {
   "cell_type": "markdown",
   "metadata": {},
   "source": [
    "The operator * and + are said to be overloaded: they have different meanings depending upon the type of the object to which it is applied. The length of a string can be found using the len function."
   ]
  },
  {
   "cell_type": "code",
   "execution_count": 34,
   "metadata": {},
   "outputs": [
    {
     "data": {
      "text/plain": [
       "3"
      ]
     },
     "execution_count": 34,
     "metadata": {},
     "output_type": "execute_result"
    }
   ],
   "source": [
    "len('abc')"
   ]
  },
  {
   "cell_type": "markdown",
   "metadata": {},
   "source": [
    "Indexing can be used to extract individual characters from a string. In Python, all indexing is zero-based."
   ]
  },
  {
   "cell_type": "code",
   "execution_count": 2,
   "metadata": {},
   "outputs": [
    {
     "data": {
      "text/plain": [
       "'c'"
      ]
     },
     "execution_count": 2,
     "metadata": {},
     "output_type": "execute_result"
    }
   ],
   "source": [
    "'abc'[2]"
   ]
  },
  {
   "cell_type": "markdown",
   "metadata": {},
   "source": [
    "Negative numbers are used to index from the end of a string."
   ]
  },
  {
   "cell_type": "code",
   "execution_count": 16,
   "metadata": {},
   "outputs": [
    {
     "data": {
      "text/plain": [
       "'ab'"
      ]
     },
     "execution_count": 16,
     "metadata": {},
     "output_type": "execute_result"
    }
   ],
   "source": [
    "'abc'[:-1]"
   ]
  },
  {
   "cell_type": "markdown",
   "metadata": {},
   "source": [
    "Slicing is used to extract substrings of arbitrary length. For string[start:end], indexing ends at index end-1."
   ]
  },
  {
   "cell_type": "code",
   "execution_count": 40,
   "metadata": {},
   "outputs": [
    {
     "data": {
      "text/plain": [
       "'ab'"
      ]
     },
     "execution_count": 40,
     "metadata": {},
     "output_type": "execute_result"
    }
   ],
   "source": [
    "'abc'[0:2]"
   ]
  },
  {
   "cell_type": "code",
   "execution_count": 41,
   "metadata": {},
   "outputs": [
    {
     "data": {
      "text/plain": [
       "'abc'"
      ]
     },
     "execution_count": 41,
     "metadata": {},
     "output_type": "execute_result"
    }
   ],
   "source": [
    "'abc'[0:len('abc')]"
   ]
  },
  {
   "cell_type": "markdown",
   "metadata": {},
   "source": [
    "### 2.3.1 Input"
   ]
  },
  {
   "cell_type": "markdown",
   "metadata": {},
   "source": [
    "Python 3 has a function, input, that can be used to get input directly from a user. "
   ]
  },
  {
   "cell_type": "code",
   "execution_count": 71,
   "metadata": {},
   "outputs": [
    {
     "name": "stdout",
     "output_type": "stream",
     "text": [
      "What is ur name ? Albert\n"
     ]
    }
   ],
   "source": [
    "name = input('What is ur name ? ')"
   ]
  },
  {
   "cell_type": "code",
   "execution_count": 72,
   "metadata": {},
   "outputs": [
    {
     "name": "stdout",
     "output_type": "stream",
     "text": [
      "Aru u Albert ?\n"
     ]
    }
   ],
   "source": [
    "print('Aru u',name,'?')"
   ]
  },
  {
   "cell_type": "code",
   "execution_count": 73,
   "metadata": {},
   "outputs": [
    {
     "name": "stdout",
     "output_type": "stream",
     "text": [
      "Enter an integer: 23\n"
     ]
    }
   ],
   "source": [
    "n = input('Enter an integer: ')"
   ]
  },
  {
   "cell_type": "code",
   "execution_count": 74,
   "metadata": {},
   "outputs": [
    {
     "data": {
      "text/plain": [
       "str"
      ]
     },
     "execution_count": 74,
     "metadata": {},
     "output_type": "execute_result"
    }
   ],
   "source": [
    "type(n)"
   ]
  },
  {
   "cell_type": "markdown",
   "metadata": {},
   "source": [
    "Notice that the variable is bound to the string '34', not the integer 34. Fortunately, a type of conversion can be applied to it."
   ]
  },
  {
   "cell_type": "code",
   "execution_count": 75,
   "metadata": {},
   "outputs": [
    {
     "data": {
      "text/plain": [
       "23"
      ]
     },
     "execution_count": 75,
     "metadata": {},
     "output_type": "execute_result"
    }
   ],
   "source": [
    "int(n)"
   ]
  },
  {
   "cell_type": "markdown",
   "metadata": {},
   "source": [
    "## 2.4 Iteration"
   ]
  },
  {
   "cell_type": "markdown",
   "metadata": {},
   "source": [
    "Note that not all computational task can be solved using branching programs. Consider a program that ask the user how many times he wants to print the letter X and then print a string with that number of X. If we use branching programs, then it is obvious that we need as many conditional as there are positive intergers - and there are infinite number of those.\n",
    "\n",
    "When we want the program to do the same thing many times, we use iteration. A flowchart of generic iteration (also called looping) is shown below:"
   ]
  },
  {
   "cell_type": "markdown",
   "metadata": {},
   "source": [
    "![](looping_flowchart.jpg)"
   ]
  },
  {
   "cell_type": "markdown",
   "metadata": {},
   "source": [
    "It begins with a test. If the test evaluates to True, the programs execute the loop body once, and then goes back to reevaluate the test. This is repeated until the test evaluates to False. Consider the following example using while statement :"
   ]
  },
  {
   "cell_type": "code",
   "execution_count": 85,
   "metadata": {},
   "outputs": [
    {
     "name": "stdout",
     "output_type": "stream",
     "text": [
      "Enter an integer :5\n",
      "iter = 0 , ans = 5\n",
      "iter = 1 , ans = 10\n",
      "iter = 2 , ans = 15\n",
      "iter = 3 , ans = 20\n",
      "iter = 4 , ans = 25\n",
      "Square of  5 is 25\n"
     ]
    }
   ],
   "source": [
    "#Squaring an integer - the hard way.\n",
    "m = input('Enter an integer :')\n",
    "n = int(m) #convert string to integer\n",
    "\n",
    "ans=n\n",
    "iter=0\n",
    "\n",
    "print('iter = 0 , ans =',n)\n",
    "\n",
    "while iter<n-1:\n",
    "    #execute when iter<n-1\n",
    "    iter = iter+1\n",
    "    ans  = ans+n\n",
    "    print('iter =',iter,', ans =',ans)\n",
    "    \n",
    "#execute when iter>=n-1  \n",
    "print('Square of ',m,'is',ans)    "
   ]
  },
  {
   "cell_type": "markdown",
   "metadata": {},
   "source": [
    "Finger exercise: Replace the comment in the following code with a while loop."
   ]
  },
  {
   "cell_type": "code",
   "execution_count": 86,
   "metadata": {},
   "outputs": [
    {
     "name": "stdout",
     "output_type": "stream",
     "text": [
      "How many times should I print the letter X? 3\n",
      "\n"
     ]
    }
   ],
   "source": [
    "numXs = int(input('How many times should I print the letter X? '))\n",
    "toPrint = ''\n",
    "#concatenate X to toPrint numXs times\n",
    "print(toPrint)"
   ]
  },
  {
   "cell_type": "code",
   "execution_count": 90,
   "metadata": {},
   "outputs": [
    {
     "name": "stdout",
     "output_type": "stream",
     "text": [
      "How many times do you want to print the letter X ? 5\n",
      "XXX\n"
     ]
    }
   ],
   "source": [
    "#Instead, i will use my own approach.\n",
    "numXs = int(input('How many times do you want to print the letter X ? '))\n",
    "toPrint=''\n",
    "iter=0\n",
    "\n",
    "while iter<n:\n",
    "    iter=iter+1\n",
    "    toPrint=toPrint+'X'\n",
    "    \n",
    "print(toPrint)"
   ]
  },
  {
   "cell_type": "markdown",
   "metadata": {},
   "source": [
    "In some cases it will be convenient to exit a loop without testing the loop condition. Executing a break statement terminates the loop in which it is contained, and transfer control to the code immediately following the loop. Below is an example:"
   ]
  },
  {
   "cell_type": "code",
   "execution_count": 91,
   "metadata": {},
   "outputs": [
    {
     "name": "stdout",
     "output_type": "stream",
     "text": [
      "132  is both divisible by 11 and 12.\n"
     ]
    }
   ],
   "source": [
    "#Find a positive integer that is divisible by both 11 and 12.\n",
    "n=1 #Start with one.\n",
    "\n",
    "while True:\n",
    "    #the test evaluation is always True.\n",
    "    if n%11 == 0 and n%12 ==0 :\n",
    "        break #terminates the loop if the integer is divisible by both 11 and 12.\n",
    "    else:\n",
    "        n=n+1 #otherwise, check the next integer.\n",
    "\n",
    "#execute when we find such integer\n",
    "print(n,' is both divisible by 11 and 12.')"
   ]
  },
  {
   "cell_type": "markdown",
   "metadata": {},
   "source": [
    "We have now cover pretty much everything about Python that we need to know to star writing interesting programs that deal with numbers and strings. In the next chapter, we are going to solve some simple problems using what we already learned.\n",
    "\n",
    "Finger Exercise: Write a program that asks the user to input 10 integers, and then print the largest odd number that was entered. If no odd number was entered, it should print a message to that effect.\n",
    "\n",
    "To solve the exercise, we will consider first two subproblems. Subproblem 1: Given a finite set of integer, find the largest number in the set. Subproblem 2: Given a finite set of integer, find it's subset contain only of odd numbers."
   ]
  },
  {
   "cell_type": "code",
   "execution_count": 98,
   "metadata": {},
   "outputs": [
    {
     "name": "stdout",
     "output_type": "stream",
     "text": [
      "The biggest number in the list is 300\n"
     ]
    }
   ],
   "source": [
    "#Subproblem 1: Given a finite set of integer, find the largest number in the set.\n",
    "\n",
    "#N = [1,2,3] #Finite list of integer.\n",
    "#N = [6,2,1] #Finite list of integer.\n",
    "#N = [1,9,3] #Finite list of integer.\n",
    "#N = [1,2,3,8,4,5] #Finite list of integer.\n",
    "N = [140,2,3,8,4,5,-289,15,300,17] #Finite list of integer.\n",
    "i=0      #iteration variable.\n",
    "ans=N[i] #Start with the first number as candidate answer.\n",
    "\n",
    "while i<len(N)-1:   #Keep iterate over the list until just before the last number.\n",
    "    if ans>N[i+1]:  #If the candidate answer is bigger than the next number,\n",
    "        i+=1        #then compare candidate answer with the two next number (by increasing the iter. number).\n",
    "    else:           \n",
    "        # ans <= N[i+1]\n",
    "        ans=N[i+1]  #then take that number as new candidate answer.\n",
    "        i+=1        #Move to the next number.\n",
    "        \n",
    "#At this point we already have the answer.\n",
    "print('The biggest number in the list is',ans)"
   ]
  },
  {
   "cell_type": "code",
   "execution_count": 102,
   "metadata": {},
   "outputs": [
    {
     "name": "stdout",
     "output_type": "stream",
     "text": [
      "Nbar= [-1, 3, -5, 289, 15, -17]\n"
     ]
    }
   ],
   "source": [
    "#Subproblem 2: Given a finite list of integer, create sublist contain only of odd numbers from the original list.\n",
    "\n",
    "#N=[1,2,3,4,5,6,7,8]\n",
    "#N=[2,4,6,8,10,12]\n",
    "N=[-1,2,3,8,4,-5,289,15,100,-17]\n",
    "i=0     #Start with the first number.\n",
    "Nbar=[] #We'll add odd number (if any) to this empty list.\n",
    "\n",
    "while i<=len(N)-1:        #Keep iterate until the last number.\n",
    "    if N[i]%2 != 0:       #If current number is odd,\n",
    "        Nbar=Nbar+[N[i]]  #then add that number to Nbar\n",
    "        i+=1              #Move to the next number.\n",
    "    else: \n",
    "        #If current number is even, we don't add it to Nbar,\n",
    "        i+=1              #just simply move to the next number.\n",
    "        \n",
    "#At this point we already have the result. Either Nbar is empty or non-empty.\n",
    "if Nbar==[]:\n",
    "    print('The given list contains no odd numbers!')\n",
    "else:\n",
    "    print('Nbar=',Nbar)"
   ]
  },
  {
   "cell_type": "code",
   "execution_count": 107,
   "metadata": {},
   "outputs": [
    {
     "name": "stdout",
     "output_type": "stream",
     "text": [
      "N = [1, 2, -3, 8, 4, 5, 289, 15, 100, 17]\n",
      "N_odd = [1, -3, 5, 289, 15, 17]\n",
      "The biggest odd number in N_odd is 289\n"
     ]
    }
   ],
   "source": [
    "#Original Problem : Given finite list of integer, print the largest odd number that was entered.\n",
    "N=[1,2,-3,8,4,5,289,15,100,17]\n",
    "print('N =',N)\n",
    "i=0     #Start with the first number.\n",
    "Nbar=[] #We'll add odd number (if any) to this empty list.\n",
    "\n",
    "while i<=len(N)-1:        #Keep iterate until the last number.\n",
    "    if N[i]%2 != 0:       #If current number is odd,\n",
    "        Nbar=Nbar+[N[i]]  #then add that number to Nbar\n",
    "        i+=1              #Move to the next number.\n",
    "    else:                 #If current number is odd, we don't add it ti Nbar,\n",
    "        i+=1              #just simply move to the next number.\n",
    "        \n",
    "#At this point we already have the result. Either Nbar is empty or non-empty.\n",
    "if Nbar==[]:\n",
    "    print('The given list contains no odd numbers!')\n",
    "else:\n",
    "    # we have a non-empty Nbar.\n",
    "    print('N_odd =',Nbar)\n",
    "    \n",
    "    j=0      # iteration variable.\n",
    "    ans=N[j] # Start with the first number as candidate answer.\n",
    "\n",
    "    while j<len(Nbar)-1:   #Keep iterate until just before the last number.\n",
    "        if ans>Nbar[j+1]:  #If the candidate answer is bigger than the next number,\n",
    "            j+=1           #then compare candidate answer with the two next number.\n",
    "        else:              \n",
    "            # ans <= Nbar[j+1]\n",
    "            ans=Nbar[j+1]  #then take that number as new candidate answer.\n",
    "            j+=1           #Move to the next number.\n",
    "            \n",
    "    #At this point we already have the answer.\n",
    "    print('The biggest odd number in N_odd is',ans)"
   ]
  }
 ],
 "metadata": {
  "kernelspec": {
   "display_name": "Python 3",
   "language": "python",
   "name": "python3"
  },
  "language_info": {
   "codemirror_mode": {
    "name": "ipython",
    "version": 3
   },
   "file_extension": ".py",
   "mimetype": "text/x-python",
   "name": "python",
   "nbconvert_exporter": "python",
   "pygments_lexer": "ipython3",
   "version": "3.7.3"
  }
 },
 "nbformat": 4,
 "nbformat_minor": 2
}
