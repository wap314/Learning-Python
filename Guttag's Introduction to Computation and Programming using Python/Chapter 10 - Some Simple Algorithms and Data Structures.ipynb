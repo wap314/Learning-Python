{
 "cells": [
  {
   "cell_type": "markdown",
   "metadata": {},
   "source": [
    "# Chapter 10 - Some Simple Algorithms and Data Structures"
   ]
  },
  {
   "cell_type": "markdown",
   "metadata": {},
   "source": [
    "Though we expend a fair number of pages in this book talking about efficiency,\n",
    "the goal is not to make you expert in designing efficient programs. There are\n",
    "many long books (and even some good long books) devoted exclusively to that\n",
    "topic.56 In Chapter 9, we introduced some of the basic concepts underlying complexity analysis. In this chapter we use those concepts to look at the complexity of\n",
    "a few classic algorithms. The goal of this chapter is to help you develop some\n",
    "general intuitions about how to approach questions of efficiency. By the time you\n",
    "get through this chapter you should understand why some programs complete in\n",
    "the blink of an eye, why some need to run overnight, and why some wouldn’t\n",
    "complete in your lifetime.\n",
    "The first algorithms we looked at in this book were based on brute-force exhaustive enumeration. We argued that modern computers are so fast that it is often the case that employing clever algorithms is a waste of time. Writing code\n",
    "that is simple and obviously correct, is often the right way to go.\n",
    "\n",
    "We then looked at some problems (e.g., finding an approximation to the\n",
    "roots of a polynomial) where the search space was too large to make brute force\n",
    "practical. This led us to consider more efficient algorithms such as bisection\n",
    "search and Newton-Raphson. The major point was that the key to efficiency is a\n",
    "good algorithm, not clever coding tricks.\n",
    "In the sciences (physical, life, and social), programmers often start by quickly\n",
    "coding up a simple algorithm to test the plausibility of a hypothesis about a data\n",
    "set, and then run it on a small amount of data. If this yields encouraging results,\n",
    "the hard work of producing an implementation that can be run (perhaps over\n",
    "and over again) on large data sets begins. Such implementations need to be based\n",
    "on efficient algorithms.\n",
    "Efficient algorithms are hard to invent. Successful professional computer scientists might invent one algorithm during their whole career—if they are lucky.\n",
    "Most of us never invent a novel algorithm. What we do instead is learn to reduce\n",
    "the most complex aspects of the problems we are faced with to previously solved\n",
    "problems.\n",
    "\n",
    "More specifically, we\n",
    "* Develop an understanding of the inherent complexity of the problem,\n",
    "* Think about how to break that problem up into subproblems, and\n",
    "* Relate those subproblems to other problems for which efficient algorithms already exist.\n",
    "This chapter contains a few examples intended to give you some intuition\n",
    "about algorithm design. Many other algorithms appear elsewhere in the book.\n",
    "Keep in mind that the most efficient algorithm is not always the algorithm of\n",
    "choice. A program that does everything in the most efficient possible way is often\n",
    "needlessly difficult to understand. It is often a good strategy to start by solving\n",
    "the problem at hand in the most straightforward manner possible, instrument it\n",
    "to find any computational bottlenecks, and then look for ways to improve the\n",
    "computational complexity of those parts of the program contributing to the bottlenecks."
   ]
  },
  {
   "cell_type": "markdown",
   "metadata": {},
   "source": [
    "## 10.1 Search Algorithms"
   ]
  },
  {
   "cell_type": "markdown",
   "metadata": {},
   "source": [
    "A search algorithm is a method for finding an item or group of items with specific properties within a collection of items. We refer to the collection of items as a\n",
    "search space. The search space might be something concrete, such as a set of electronic medical records, or something abstract, such as the set of all integers. A\n",
    "large number of problems that occur in practice can be formulated as search\n",
    "problems.\n",
    "Many of the algorithms presented earlier in this book can be viewed as\n",
    "search algorithms. In Chapter 3, we formulated finding an approximation to the\n",
    "roots of a polynomial as a search problem, and looked at three algorithms—\n",
    "exhaustive enumeration, bisection search, and Newton-Raphson—for searching\n",
    "the space of possible answers.\n",
    "In this section, we will examine two algorithms for searching a list. Each\n",
    "meets the specification"
   ]
  },
  {
   "cell_type": "code",
   "execution_count": 1,
   "metadata": {},
   "outputs": [],
   "source": [
    "def search(L,e):\n",
    "    \"\"\"Assumes L is a list. Returns True if e is in L and False otherwise.\"\"\""
   ]
  },
  {
   "cell_type": "markdown",
   "metadata": {},
   "source": [
    "The astute reader might wonder if this is not semantically equivalent to the\n",
    "Python expression e in L. The answer is yes, it is. And if one is unconcerned\n",
    "about the efficiency of discovering whether e is in L, one should simply write that\n",
    "expression."
   ]
  },
  {
   "cell_type": "markdown",
   "metadata": {},
   "source": [
    "### 10.1.1 Linear Search and Using Indirection to Access Elements"
   ]
  },
  {
   "cell_type": "markdown",
   "metadata": {},
   "source": [
    "Python uses the following algorithm to determine if an element is in a list: "
   ]
  },
  {
   "cell_type": "code",
   "execution_count": 4,
   "metadata": {},
   "outputs": [],
   "source": [
    "def search(L,e):\n",
    "    \"\"\"Assumes L is a list. Returns True if e is in L and False otherwise.\"\"\"\n",
    "    for i in range(len(L)):\n",
    "        if L[i] == e:\n",
    "            return True\n",
    "    return False"
   ]
  },
  {
   "cell_type": "code",
   "execution_count": 5,
   "metadata": {},
   "outputs": [
    {
     "data": {
      "text/plain": [
       "True"
      ]
     },
     "execution_count": 5,
     "metadata": {},
     "output_type": "execute_result"
    }
   ],
   "source": [
    "L = [1,2,5,'a','k']\n",
    "e = 'a'\n",
    "search(L,e)"
   ]
  },
  {
   "cell_type": "markdown",
   "metadata": {},
   "source": [
    "If the element e is not in the list the algorithm will perform O(len(L)) tests,\n",
    "i.e., the complexity is at best linear in the length of L. Why “at best” linear? It will\n",
    "be linear only if each operation inside the loop can be done in constant time.\n",
    "That raises the question of whether Python retrieves the ith element of a list in\n",
    "constant time. Since our model of computation assumes that fetching the contents of an address is a constant-time operation, the question becomes whether\n",
    "we can compute the address of the ith element of a list in constant time.\n",
    "\n",
    "Let’s start by considering the simple case where each element of the list is an\n",
    "integer. This implies that each element of the list is the same size, e.g., four units\n",
    "of memory (four eight-bit bytes57). Assuming that the elements of the list are\n",
    "stored contiguously, the address in memory of the ith element of the list is simply\n",
    "start\t+\t4* i, where start is the address of the start of the list. Therefore we can assume that Python could compute the address of the ith element of a list of integers\n",
    "in constant time.\n",
    "\n",
    "Of course, we know that Python lists can contain objects of types other than\n",
    "int, and that the same list can contain objects of many different types and sizes.\n",
    "You might think that this would present a problem, but it does not.\n",
    "\n",
    "In Python, a list is represented as a length (the number of objects in the list)\n",
    "and a sequence of fixed-size pointers58 to objects. Figure 10.1 illustrates the use\n",
    "of these pointers. The shaded region represents a list containing four elements.\n",
    "The leftmost shaded box contains a pointer to an integer indicating the length of\n",
    "the list. Each of the other shaded boxes contains a pointer to an object in the list."
   ]
  },
  {
   "cell_type": "markdown",
   "metadata": {},
   "source": [
    "![](implement_list.jpg)"
   ]
  },
  {
   "cell_type": "markdown",
   "metadata": {},
   "source": [
    "If the length field occupies four units of memory, and each pointer (address)\n",
    "occupies four units of memory, the address of the ith element of the list is stored\n",
    "at the address start\t+\t4\t+\t4* i. Again, this address can be found in constant time,\n",
    "and then the value stored at that address can be used to access the ith element.\n",
    "This access too is a constant-time operation.\n",
    "\n",
    "This example illustrates one of the most important implementation techniques used in computing: indirection.59 Generally speaking, indirection involves\n",
    "accessing something by first accessing something else that contains a reference to\n",
    "the thing initially sought. This is what happens each time we use a variable to refer to the object to which that variable is bound. When we use a variable to access\n",
    "a list and then a reference stored in that list to access another object, we are going\n",
    "through two levels of indirection."
   ]
  },
  {
   "cell_type": "markdown",
   "metadata": {},
   "source": [
    "### 10.1.2 Binary Search and Exploiting Assumptions."
   ]
  },
  {
   "cell_type": "markdown",
   "metadata": {},
   "source": [
    "Getting back to the problem of implementing search(L, e), is O(len(L)) the best\n",
    "we can do? Yes, if we know nothing about the relationship of the values of the elements in the list and the order in which they are stored. In the worst case, we\n",
    "have to look at each element in L to determine whether L contains e.\n",
    "\n",
    "But suppose we know something about the order in which elements are\n",
    "stored, e.g., suppose we know that we have a list of integers stored in ascending\n",
    "order. We could change the implementation so that the search stops when it reaches a number larger than the number for which it is searching."
   ]
  },
  {
   "cell_type": "code",
   "execution_count": 6,
   "metadata": {},
   "outputs": [],
   "source": [
    "def search(L,e):\n",
    "    \"\"\"Assumes L is a list, the elements of which are in ascending order.\n",
    "       Returns True if e is in L and False otherwise.\"\"\"\n",
    "    for i in range(len(L)):\n",
    "        if L[i] == e:\n",
    "            return True\n",
    "        if L[i]>e:\n",
    "            return False\n",
    "    return False"
   ]
  },
  {
   "cell_type": "markdown",
   "metadata": {},
   "source": [
    "This would improve the average running time. However, it would not change\n",
    "the worst-case complexity of the algorithm, since in the worst case each element\n",
    "of L is examined.\n",
    "\n",
    "We can, however, get a considerable improvement in the worst-case complexity by using an algorithm, binary search, that is similar to the bisection\n",
    "search algorithm used in Chapter 3 to find an approximation to the square root\n",
    "of a floating point number. There we relied upon the fact that there is an intrinsic\n",
    "total ordering on floating point numbers. Here we rely on the assumption that\n",
    "the list is ordered.\n",
    "\n",
    "The idea is simple:\n",
    "\n",
    "1. Pick an index, i, that divides the list L roughly in half.\n",
    "2. Ask if L[i] == e.\n",
    "3. If not, ask whether L[i] is larger or smaller than e.\n",
    "4. Depending upon the answer, search either the left or right half of L for e.\n",
    "\n",
    "Given the structure of this algorithm, it is not surprising that the most\n",
    "straightforward implementation of binary search uses recursion, as shown in the following function:"
   ]
  },
  {
   "cell_type": "code",
   "execution_count": 9,
   "metadata": {},
   "outputs": [],
   "source": [
    "def search(L,e):\n",
    "    \"\"\"Assumes L is a list, the elements of which are in ascending order.\n",
    "       Returns True if e is in L and False otherwise.\"\"\"\n",
    "    \n",
    "    def bSearch(L,e,low,high):\n",
    "        #Decrements high-low\n",
    "        if high == low:\n",
    "            return L[low] == e #since len(L)=1\n",
    "        mid = (low+high)//2 \n",
    "        if L[mid] == e:\n",
    "            return True\n",
    "        elif L[mid]>e:\n",
    "            if low == mid: #nothing left to search \n",
    "                return False\n",
    "            else:\n",
    "                return bSearch(L,e,low,mid-1)\n",
    "        else:\n",
    "            return bSearch(L,e,mid+1,high)\n",
    "        \n",
    "    if len(L) == 0:\n",
    "        return False\n",
    "    else:\n",
    "        #low=0 and high=len(L)-1\n",
    "        return bSearch(L,e,0,len(L)-1)"
   ]
  },
  {
   "cell_type": "markdown",
   "metadata": {},
   "source": [
    "Functions such as search are often called wrapper functions. The function\n",
    "provides a nice interface for client code, but is essentially a pass-through that\n",
    "does no serious computation. Instead, it calls the helper function bSearch with\n",
    "appropriate arguments. This raises the question of why not eliminate search and\n",
    "have clients call bSearch directly? The reason is that the parameters low and high\n",
    "have nothing to do with the abstraction of searching a list for an element. They\n",
    "are implementation details that should be hidden from those writing programs\n",
    "that call search.\n",
    "\n",
    "Let us now analyze the complexity of bSearch. We showed in the last section\n",
    "that list access takes constant time. Therefore, we can see that excluding the recursive call, each instance of bSearch is O(1). Therefore, the complexity of bSearch\n",
    "depends only upon the number of recursive calls.\n",
    "If this were a book about algorithms, we would now dive into a careful analysis using something called a recurrence relation. But since it isn’t, we will take a much less formal approach that starts with the question “How do we know that\n",
    "the program terminates?” Recall that in Chapter 3 we asked the same question\n",
    "about a while loop. We answered the question by providing a decrementing function for the loop. We do the same thing here. In this context, the decrementing\n",
    "function has the properties:\n",
    "* It maps the values to which the formal parameters are bound to a nonnegative\n",
    "integer.\n",
    "* When its value is 0, the recursion terminates.\n",
    "* For each recursive call, the value of the decrementing function is less than the\n",
    "value of the decrementing function on entry to the instance of the function\n",
    "making the call.\n",
    "\n",
    "The decrementing function for bSearch is high–low. The if statement in\n",
    "search ensures that the value of this decrementing function is at least 0 the first\n",
    "time bSearch is called (decrementing function property 1).\n",
    "When bSearch is entered, if high–low is exactly 0, the function makes no recursive call—simply returning the value L[low] == e (satisfying decrementing\n",
    "function property 2).\n",
    "\n",
    "The function bSearch contains two recursive calls. One call uses arguments\n",
    "that cover all the elements to the left of mid, and the other call uses arguments\n",
    "that cover all the elements to the right of mid. In either case, the value of high–low\n",
    "is cut in half (satisfying decrementing function property 3).\n",
    "\n",
    "We now understand why the recursion terminates. The next question is how\n",
    "many times can the value of high–low be cut in half before high–low == 0? Recall\n",
    "that logy(x) is the number of times that y has to be multiplied by itself to reach x.\n",
    "Conversely, if x is divided by y^logy(x) times, the result is 1. This implies that\n",
    "high–low can be cut in half using integer division at most log2(high–low) times before it reaches 0.\n",
    "\n",
    "Finally, we can answer the question, what is the algorithmic complexity of\n",
    "binary search? Since when search calls bSearch the value of high–low is equal to\n",
    "len(L)-1, the complexity of search is O(log(len(L)))."
   ]
  },
  {
   "cell_type": "markdown",
   "metadata": {},
   "source": [
    "## 10.2 Sorting Algorithm"
   ]
  },
  {
   "cell_type": "markdown",
   "metadata": {},
   "source": [
    "We have just seen that if we happen to know that a list is sorted, we can exploit\n",
    "that information to greatly reduce the time needed to search a list. Does this\n",
    "mean that when asked to search a list one should first sort it and then perform\n",
    "the search?\n",
    "\n",
    "Let O(sortComplexity(L)) be the complexity of sorting a list. Since we know\n",
    "that we can always search a list in O(len(L)) time, the question of whether we\n",
    "should first sort and then search boils down to the question, is sortComplexity(L)\t+\t log(len(L))\t less\t than len(L)? The answer, sadly, is no. One cannot sort a list\n",
    "without looking at each element in the list at least once, so it is not possible to\n",
    "sort a list in sub-linear time.\n",
    "\n",
    "Fortunately, sorting can be done rather efficiently. For example, the standard\n",
    "implementation of sorting in most Python implementations runs in roughly\n",
    "O(n* log(n)) time, where n is the length of the list. In practice, you will rarely need\n",
    "to implement your own sort function. In most cases, the right thing to do is to\n",
    "use either Python’s built-in sort method (L.sort() sorts the list L) or its built-in\n",
    "function sorted (sorted(L) returns a list with the same elements as L, but does not\n",
    "mutate L). We present sorting algorithms here primarily to provide some practice\n",
    "in thinking about algorithm design and complexity analysis.\n",
    "\n",
    "We begin with a simple but inefficient algorithm, selection sort. Selection\n",
    "sort, Figure 10.4, works by maintaining the loop invariant that, given a partitioning of the list into a prefix (L[0:i]) and a suffix (L[i+1:len(L)]), the prefix is sorted and no element in the prefix is larger than the smallest element in the suffix.\n",
    "\n",
    "We use induction to reason about loop invariants.\n",
    "* Base case: At the start of the first iteration, the prefix is empty, i.e., the suffix is\n",
    "the entire list. Therefore, the invariant is (trivially) true.\n",
    "* Induction step: At each step of the algorithm, we move one element from the\n",
    "suffix to the prefix. We do this by appending a minimum element of the suffix\n",
    "to the end of the prefix. Because the invariant held before we moved the element, we know that after we append the element the prefix is still sorted. We\n",
    "also know that since we removed the smallest element in the suffix, no element\n",
    "in the prefix is larger than the smallest element in the suffix.\n",
    "* Termination: When the loop is exited, the prefix includes the entire list, and\n",
    "the suffix is empty. Therefore, the entire list is now sorted in ascending order."
   ]
  },
  {
   "cell_type": "code",
   "execution_count": 15,
   "metadata": {},
   "outputs": [],
   "source": [
    "def selSort(L):\n",
    "    \"\"\"Assumes that L is a list of elemets that can be compared using >. Sorts L in ascending order.\"\"\"\n",
    "    suffixStart = 0\n",
    "    while suffixStart != len(L):\n",
    "        #look at each element in suffix\n",
    "        for i in range(suffixStart, len(L)):\n",
    "            if L[i] < L[suffixStart]:\n",
    "                #swap position of elements\n",
    "                L[suffixStart], L[i] = L[i], L[suffixStart]\n",
    "        suffixStart += 1"
   ]
  },
  {
   "cell_type": "code",
   "execution_count": 18,
   "metadata": {},
   "outputs": [
    {
     "name": "stdout",
     "output_type": "stream",
     "text": [
      "L = [1, 3, 4, 6, 8, 10, 34, 78, 972]\n"
     ]
    }
   ],
   "source": [
    "L = [1,78,3,6,4,8,34,972,10]\n",
    "selSort(L)\n",
    "print('L =', L)"
   ]
  },
  {
   "cell_type": "markdown",
   "metadata": {},
   "source": [
    "It’s hard to imagine a simpler or more obviously correct sorting algorithm.\n",
    "Unfortunately, it is rather inefficient.62 The complexity of the inner loop is\n",
    "O(len(L)). The complexity of the outer loop is also O(len(L)). So, the complexity\n",
    "of the entire function is O(len(L)2). I.e., it is quadratic in the length of L."
   ]
  },
  {
   "cell_type": "markdown",
   "metadata": {},
   "source": [
    "### 10.2.1 Merge Sort"
   ]
  },
  {
   "cell_type": "markdown",
   "metadata": {},
   "source": [
    "Fortunately, we can do a lot better than quadratic time using a divide-andconquer algorithm. The basic idea is to combine solutions of simpler instances of\n",
    "the original problem. In general, a divide-and-conquer algorithm is characterized by:\n",
    "\n",
    "* A threshold input size, below which the problem is not subdivided,\n",
    "* The size and number of sub-instances into which an instance is split, and\n",
    "* The algorithm used to combine sub-solutions.\n",
    "\n",
    "The threshold is sometimes called the recursive base. For item 2 it is usual to\n",
    "consider the ratio of initial problem size to the sub-instance size. In most of the\n",
    "examples we’ve seen so far, the ratio was 2.\n",
    "Merge sort is a prototypical divide-and-conquer algorithm. It was invented\n",
    "in 1945, by John von Neumann, and is still widely used. Like many divide-andconquer algorithms it is most easily described recursively:\n",
    "1. If the list is of length 0 or 1, it is already sorted.\n",
    "2. If the list has more than one element, split the list into two lists, and use\n",
    "merge sort to sort each of them.\n",
    "3. Merge the results.\n",
    "The key observation made by von Neumann is that two sorted lists can be efficiently merged into a single sorted list. The idea is to look at the first element of\n",
    "each list, and move the smaller of the two to the end of the result list. When one\n",
    "of the lists is empty, all that remains is to copy the remaining items from the other list. Consider, for example, merging the two lists [1,5,12,18,19,20] and\n",
    "[2,3,4,17]:"
   ]
  },
  {
   "cell_type": "markdown",
   "metadata": {},
   "source": [
    "![](merge_sort.jpg)"
   ]
  },
  {
   "cell_type": "markdown",
   "metadata": {},
   "source": [
    "What is the complexity of the merge process? It involves two constant-time\n",
    "operations, comparing the values of elements and copying elements from one list\n",
    "to another. The number of comparisons is O(len(L)), where L is the longer of the\n",
    "two lists. The number of copy operations is O(len(L1)\t+\tlen(L2)), because each\n",
    "element gets copied exactly once. (The time to copy an element will depend on\n",
    "the size of the element. However, this does not affect the order of the growth of\n",
    "sort as a function of the number of elements in the list.) Therefore, merging two\n",
    "sorted lists is linear in the length of the lists."
   ]
  },
  {
   "cell_type": "code",
   "execution_count": 22,
   "metadata": {},
   "outputs": [],
   "source": [
    "def merge(left,right,compare):\n",
    "    \"\"\"Assumes left and right are sorted list and compare is a function defines an ordering on the elements.\n",
    "       Returns a new sorted (by compare) list containing the same elements as (left+right) would contain.\"\"\"\n",
    "    result = []\n",
    "    i,j = 0,0\n",
    "    while i<len(left) and j<len(right):\n",
    "        if compare(left[i],right[j]):\n",
    "            result.append(left[i])\n",
    "            i += 1\n",
    "        else:\n",
    "            result.append(right[j])\n",
    "            j += 1\n",
    "    while (i<len(left)):\n",
    "        result.append(left[i])\n",
    "        i += 1\n",
    "    while (j<len(right)):\n",
    "        result.append(right[j])\n",
    "        j += 1\n",
    "    return result\n",
    "\n",
    "def mergeSort(L,compare = lambda x,y: x<y):\n",
    "    \"\"\"Assumes L is a list, compare defines an ordering on elements of L. \n",
    "       Returns a new sorted list with the same element as L\"\"\"\n",
    "    if len(L)<2:\n",
    "        return L[:]\n",
    "    else:\n",
    "        middle = len(L)//2\n",
    "        left = mergeSort(L[:middle], compare)\n",
    "        right = mergeSort(L[middle:], compare)\n",
    "        return merge(left,right,compare)"
   ]
  },
  {
   "cell_type": "code",
   "execution_count": 23,
   "metadata": {},
   "outputs": [
    {
     "name": "stdout",
     "output_type": "stream",
     "text": [
      "[1, 2, 3, 4, 5] [5, 4, 3, 2, 1]\n"
     ]
    }
   ],
   "source": [
    "L = [2,1,4,5,3]\n",
    "print(mergeSort(L), mergeSort(L, lambda x, y: x > y))"
   ]
  },
  {
   "cell_type": "markdown",
   "metadata": {},
   "source": [
    "Let’s analyze the complexity of mergeSort. We already know that the time\n",
    "complexity of merge is O(len(L)). *__At each level of recursion the total number of\n",
    "elements to be merged is len(L). Therefore, the time complexity of mergeSort is\n",
    "O(len(L)) multiplied by the number of levels of recursion. Since mergeSort divides\n",
    "the list in half each time, we know that the number of levels of recursion is\n",
    "O(log(len(L)). Therefore, the time complexity of mergeSort is O(n$*$log(n)), where n\n",
    "is len(L).__*\n",
    "\n",
    "This is a lot better than selection sort’s O(len(L)2). For example, if L has\n",
    "10,000 elements, len(L)2 is 100 million but len(L)* log2(len(L)) is about 130,000.\n",
    "This improvement in time complexity comes with a price. Selection sort is an\n",
    "example of an in-place sorting algorithm. Because it works by swapping the place\n",
    "of elements within the list, it uses only a constant amount of extra storage (one\n",
    "element in our implementation). *__In contrast, the merge sort algorithm involves\n",
    "making copies of the list. This means that its space complexity is O(len(L)). This\n",
    "can be an issue for large lists.__*"
   ]
  },
  {
   "cell_type": "markdown",
   "metadata": {},
   "source": [
    "### 10.2.2 Exploting Function as Parameters"
   ]
  },
  {
   "cell_type": "markdown",
   "metadata": {},
   "source": [
    "Suppose we want to sort a list of names written as firstName lastName, e.g., the\n",
    "list ['Chris Terman', 'Tom Brady', 'Eric Grimson', 'Gisele Bundchen']. The following codedefines two ordering functions, and then  uses these to sort a list in two different ways. Each function uses the split method of type str."
   ]
  },
  {
   "cell_type": "code",
   "execution_count": 28,
   "metadata": {},
   "outputs": [],
   "source": [
    "def lastNameFirstName(name1,name2):\n",
    "    arg1 = name1.split('')\n",
    "    arg2 = name2.split('')\n",
    "    if arg1[1] != arg2[1]:\n",
    "        return arg1[1]<arg2[1]\n",
    "    else:\n",
    "        #last name the same, sort by first name\n",
    "        return arg1[0]<arg2[0]\n",
    "    \n",
    "def firstNameLastName(name1,name2):\n",
    "    arg1 = name1.split('')\n",
    "    arg2 = name2.split('')\n",
    "    if arg1[0] != arg2[0]:\n",
    "        return arg1[0]<arg2[0]\n",
    "    else:\n",
    "        return arg1[1]<arg2[1]"
   ]
  },
  {
   "cell_type": "code",
   "execution_count": 29,
   "metadata": {},
   "outputs": [
    {
     "ename": "ValueError",
     "evalue": "empty separator",
     "output_type": "error",
     "traceback": [
      "\u001b[1;31m---------------------------------------------------------------------------\u001b[0m",
      "\u001b[1;31mValueError\u001b[0m                                Traceback (most recent call last)",
      "\u001b[1;32m<ipython-input-29-2bf491156551>\u001b[0m in \u001b[0;36m<module>\u001b[1;34m\u001b[0m\n\u001b[0;32m      1\u001b[0m \u001b[0mL\u001b[0m \u001b[1;33m=\u001b[0m \u001b[1;33m[\u001b[0m\u001b[1;34m'Tom Brady'\u001b[0m\u001b[1;33m,\u001b[0m \u001b[1;34m'Eric Grimson'\u001b[0m\u001b[1;33m,\u001b[0m \u001b[1;34m'Gisele Bundchen'\u001b[0m\u001b[1;33m]\u001b[0m\u001b[1;33m\u001b[0m\u001b[1;33m\u001b[0m\u001b[0m\n\u001b[1;32m----> 2\u001b[1;33m \u001b[0mnewL\u001b[0m \u001b[1;33m=\u001b[0m \u001b[0mmergeSort\u001b[0m\u001b[1;33m(\u001b[0m\u001b[0mL\u001b[0m\u001b[1;33m,\u001b[0m\u001b[0mlastNameFirstName\u001b[0m\u001b[1;33m)\u001b[0m\u001b[1;33m\u001b[0m\u001b[1;33m\u001b[0m\u001b[0m\n\u001b[0m\u001b[0;32m      3\u001b[0m \u001b[0mprint\u001b[0m\u001b[1;33m(\u001b[0m\u001b[1;34m'Sorted by last name = '\u001b[0m\u001b[1;33m,\u001b[0m\u001b[0mnewL\u001b[0m\u001b[1;33m)\u001b[0m\u001b[1;33m\u001b[0m\u001b[1;33m\u001b[0m\u001b[0m\n\u001b[0;32m      4\u001b[0m \u001b[1;33m\u001b[0m\u001b[0m\n\u001b[0;32m      5\u001b[0m \u001b[0mnewL\u001b[0m \u001b[1;33m=\u001b[0m \u001b[0mmwrgeSort\u001b[0m\u001b[1;33m(\u001b[0m\u001b[0mL\u001b[0m\u001b[1;33m,\u001b[0m\u001b[0mfirstNameLastName\u001b[0m\u001b[1;33m)\u001b[0m\u001b[1;33m\u001b[0m\u001b[1;33m\u001b[0m\u001b[0m\n",
      "\u001b[1;32m<ipython-input-22-cd9b91b89b49>\u001b[0m in \u001b[0;36mmergeSort\u001b[1;34m(L, compare)\u001b[0m\n\u001b[0;32m     27\u001b[0m         \u001b[0mmiddle\u001b[0m \u001b[1;33m=\u001b[0m \u001b[0mlen\u001b[0m\u001b[1;33m(\u001b[0m\u001b[0mL\u001b[0m\u001b[1;33m)\u001b[0m\u001b[1;33m//\u001b[0m\u001b[1;36m2\u001b[0m\u001b[1;33m\u001b[0m\u001b[1;33m\u001b[0m\u001b[0m\n\u001b[0;32m     28\u001b[0m         \u001b[0mleft\u001b[0m \u001b[1;33m=\u001b[0m \u001b[0mmergeSort\u001b[0m\u001b[1;33m(\u001b[0m\u001b[0mL\u001b[0m\u001b[1;33m[\u001b[0m\u001b[1;33m:\u001b[0m\u001b[0mmiddle\u001b[0m\u001b[1;33m]\u001b[0m\u001b[1;33m,\u001b[0m \u001b[0mcompare\u001b[0m\u001b[1;33m)\u001b[0m\u001b[1;33m\u001b[0m\u001b[1;33m\u001b[0m\u001b[0m\n\u001b[1;32m---> 29\u001b[1;33m         \u001b[0mright\u001b[0m \u001b[1;33m=\u001b[0m \u001b[0mmergeSort\u001b[0m\u001b[1;33m(\u001b[0m\u001b[0mL\u001b[0m\u001b[1;33m[\u001b[0m\u001b[0mmiddle\u001b[0m\u001b[1;33m:\u001b[0m\u001b[1;33m]\u001b[0m\u001b[1;33m,\u001b[0m \u001b[0mcompare\u001b[0m\u001b[1;33m)\u001b[0m\u001b[1;33m\u001b[0m\u001b[1;33m\u001b[0m\u001b[0m\n\u001b[0m\u001b[0;32m     30\u001b[0m         \u001b[1;32mreturn\u001b[0m \u001b[0mmerge\u001b[0m\u001b[1;33m(\u001b[0m\u001b[0mleft\u001b[0m\u001b[1;33m,\u001b[0m\u001b[0mright\u001b[0m\u001b[1;33m,\u001b[0m\u001b[0mcompare\u001b[0m\u001b[1;33m)\u001b[0m\u001b[1;33m\u001b[0m\u001b[1;33m\u001b[0m\u001b[0m\n",
      "\u001b[1;32m<ipython-input-22-cd9b91b89b49>\u001b[0m in \u001b[0;36mmergeSort\u001b[1;34m(L, compare)\u001b[0m\n\u001b[0;32m     28\u001b[0m         \u001b[0mleft\u001b[0m \u001b[1;33m=\u001b[0m \u001b[0mmergeSort\u001b[0m\u001b[1;33m(\u001b[0m\u001b[0mL\u001b[0m\u001b[1;33m[\u001b[0m\u001b[1;33m:\u001b[0m\u001b[0mmiddle\u001b[0m\u001b[1;33m]\u001b[0m\u001b[1;33m,\u001b[0m \u001b[0mcompare\u001b[0m\u001b[1;33m)\u001b[0m\u001b[1;33m\u001b[0m\u001b[1;33m\u001b[0m\u001b[0m\n\u001b[0;32m     29\u001b[0m         \u001b[0mright\u001b[0m \u001b[1;33m=\u001b[0m \u001b[0mmergeSort\u001b[0m\u001b[1;33m(\u001b[0m\u001b[0mL\u001b[0m\u001b[1;33m[\u001b[0m\u001b[0mmiddle\u001b[0m\u001b[1;33m:\u001b[0m\u001b[1;33m]\u001b[0m\u001b[1;33m,\u001b[0m \u001b[0mcompare\u001b[0m\u001b[1;33m)\u001b[0m\u001b[1;33m\u001b[0m\u001b[1;33m\u001b[0m\u001b[0m\n\u001b[1;32m---> 30\u001b[1;33m         \u001b[1;32mreturn\u001b[0m \u001b[0mmerge\u001b[0m\u001b[1;33m(\u001b[0m\u001b[0mleft\u001b[0m\u001b[1;33m,\u001b[0m\u001b[0mright\u001b[0m\u001b[1;33m,\u001b[0m\u001b[0mcompare\u001b[0m\u001b[1;33m)\u001b[0m\u001b[1;33m\u001b[0m\u001b[1;33m\u001b[0m\u001b[0m\n\u001b[0m",
      "\u001b[1;32m<ipython-input-22-cd9b91b89b49>\u001b[0m in \u001b[0;36mmerge\u001b[1;34m(left, right, compare)\u001b[0m\n\u001b[0;32m      5\u001b[0m     \u001b[0mi\u001b[0m\u001b[1;33m,\u001b[0m\u001b[0mj\u001b[0m \u001b[1;33m=\u001b[0m \u001b[1;36m0\u001b[0m\u001b[1;33m,\u001b[0m\u001b[1;36m0\u001b[0m\u001b[1;33m\u001b[0m\u001b[1;33m\u001b[0m\u001b[0m\n\u001b[0;32m      6\u001b[0m     \u001b[1;32mwhile\u001b[0m \u001b[0mi\u001b[0m\u001b[1;33m<\u001b[0m\u001b[0mlen\u001b[0m\u001b[1;33m(\u001b[0m\u001b[0mleft\u001b[0m\u001b[1;33m)\u001b[0m \u001b[1;32mand\u001b[0m \u001b[0mj\u001b[0m\u001b[1;33m<\u001b[0m\u001b[0mlen\u001b[0m\u001b[1;33m(\u001b[0m\u001b[0mright\u001b[0m\u001b[1;33m)\u001b[0m\u001b[1;33m:\u001b[0m\u001b[1;33m\u001b[0m\u001b[1;33m\u001b[0m\u001b[0m\n\u001b[1;32m----> 7\u001b[1;33m         \u001b[1;32mif\u001b[0m \u001b[0mcompare\u001b[0m\u001b[1;33m(\u001b[0m\u001b[0mleft\u001b[0m\u001b[1;33m[\u001b[0m\u001b[0mi\u001b[0m\u001b[1;33m]\u001b[0m\u001b[1;33m,\u001b[0m\u001b[0mright\u001b[0m\u001b[1;33m[\u001b[0m\u001b[0mj\u001b[0m\u001b[1;33m]\u001b[0m\u001b[1;33m)\u001b[0m\u001b[1;33m:\u001b[0m\u001b[1;33m\u001b[0m\u001b[1;33m\u001b[0m\u001b[0m\n\u001b[0m\u001b[0;32m      8\u001b[0m             \u001b[0mresult\u001b[0m\u001b[1;33m.\u001b[0m\u001b[0mappend\u001b[0m\u001b[1;33m(\u001b[0m\u001b[0mleft\u001b[0m\u001b[1;33m[\u001b[0m\u001b[0mi\u001b[0m\u001b[1;33m]\u001b[0m\u001b[1;33m)\u001b[0m\u001b[1;33m\u001b[0m\u001b[1;33m\u001b[0m\u001b[0m\n\u001b[0;32m      9\u001b[0m             \u001b[0mi\u001b[0m \u001b[1;33m+=\u001b[0m \u001b[1;36m1\u001b[0m\u001b[1;33m\u001b[0m\u001b[1;33m\u001b[0m\u001b[0m\n",
      "\u001b[1;32m<ipython-input-28-377b52b6da68>\u001b[0m in \u001b[0;36mlastNameFirstName\u001b[1;34m(name1, name2)\u001b[0m\n\u001b[0;32m      1\u001b[0m \u001b[1;32mdef\u001b[0m \u001b[0mlastNameFirstName\u001b[0m\u001b[1;33m(\u001b[0m\u001b[0mname1\u001b[0m\u001b[1;33m,\u001b[0m\u001b[0mname2\u001b[0m\u001b[1;33m)\u001b[0m\u001b[1;33m:\u001b[0m\u001b[1;33m\u001b[0m\u001b[1;33m\u001b[0m\u001b[0m\n\u001b[1;32m----> 2\u001b[1;33m     \u001b[0marg1\u001b[0m \u001b[1;33m=\u001b[0m \u001b[0mname1\u001b[0m\u001b[1;33m.\u001b[0m\u001b[0msplit\u001b[0m\u001b[1;33m(\u001b[0m\u001b[1;34m''\u001b[0m\u001b[1;33m)\u001b[0m\u001b[1;33m\u001b[0m\u001b[1;33m\u001b[0m\u001b[0m\n\u001b[0m\u001b[0;32m      3\u001b[0m     \u001b[0marg2\u001b[0m \u001b[1;33m=\u001b[0m \u001b[0mname2\u001b[0m\u001b[1;33m.\u001b[0m\u001b[0msplit\u001b[0m\u001b[1;33m(\u001b[0m\u001b[1;34m''\u001b[0m\u001b[1;33m)\u001b[0m\u001b[1;33m\u001b[0m\u001b[1;33m\u001b[0m\u001b[0m\n\u001b[0;32m      4\u001b[0m     \u001b[1;32mif\u001b[0m \u001b[0marg1\u001b[0m\u001b[1;33m[\u001b[0m\u001b[1;36m1\u001b[0m\u001b[1;33m]\u001b[0m \u001b[1;33m!=\u001b[0m \u001b[0marg2\u001b[0m\u001b[1;33m[\u001b[0m\u001b[1;36m1\u001b[0m\u001b[1;33m]\u001b[0m\u001b[1;33m:\u001b[0m\u001b[1;33m\u001b[0m\u001b[1;33m\u001b[0m\u001b[0m\n\u001b[0;32m      5\u001b[0m         \u001b[1;32mreturn\u001b[0m \u001b[0marg1\u001b[0m\u001b[1;33m[\u001b[0m\u001b[1;36m1\u001b[0m\u001b[1;33m]\u001b[0m\u001b[1;33m<\u001b[0m\u001b[0marg2\u001b[0m\u001b[1;33m[\u001b[0m\u001b[1;36m1\u001b[0m\u001b[1;33m]\u001b[0m\u001b[1;33m\u001b[0m\u001b[1;33m\u001b[0m\u001b[0m\n",
      "\u001b[1;31mValueError\u001b[0m: empty separator"
     ]
    }
   ],
   "source": [
    "L = ['Tom Brady', 'Eric Grimson', 'Gisele Bundchen']\n",
    "newL = mergeSort(L,lastNameFirstName)\n",
    "print('Sorted by last name = ',newL)\n",
    "\n",
    "newL = mwrgeSort(L,firstNameLastName)\n",
    "print('Sorted by first name = ',newL)"
   ]
  },
  {
   "cell_type": "markdown",
   "metadata": {},
   "source": [
    "### 10.2.3 Sorting in Python"
   ]
  },
  {
   "cell_type": "markdown",
   "metadata": {},
   "source": [
    "The sorting algorithm used in most Python implementations is called timsort.64\n",
    "The key idea is to take advantage of the fact that in a lot of data sets the data is\n",
    "already partially sorted. Timsort’s worst-case performance is the same as merge\n",
    "sort’s, but on average it performs considerably better."
   ]
  },
  {
   "cell_type": "markdown",
   "metadata": {},
   "source": [
    "## 10.3 Hash Tables"
   ]
  },
  {
   "cell_type": "code",
   "execution_count": null,
   "metadata": {},
   "outputs": [],
   "source": []
  }
 ],
 "metadata": {
  "kernelspec": {
   "display_name": "Python 3",
   "language": "python",
   "name": "python3"
  },
  "language_info": {
   "codemirror_mode": {
    "name": "ipython",
    "version": 3
   },
   "file_extension": ".py",
   "mimetype": "text/x-python",
   "name": "python",
   "nbconvert_exporter": "python",
   "pygments_lexer": "ipython3",
   "version": "3.7.3"
  }
 },
 "nbformat": 4,
 "nbformat_minor": 2
}
