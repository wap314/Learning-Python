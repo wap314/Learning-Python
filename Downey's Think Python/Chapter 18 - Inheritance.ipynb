{
 "cells": [
  {
   "cell_type": "markdown",
   "metadata": {},
   "source": [
    "# Chapter 18 - Inheritance"
   ]
  },
  {
   "cell_type": "markdown",
   "metadata": {},
   "source": [
    "The language feature most often associated with object-oriented programming is inheritance. *__Inheritance is the ability to define a new class that is a modified version of an existing class.__* In this chapter I demonstrate inheritance using classes that represent playing\n",
    "cards, decks of cards, and poker hands."
   ]
  },
  {
   "cell_type": "markdown",
   "metadata": {},
   "source": [
    "## 18.1 Card Objects"
   ]
  },
  {
   "cell_type": "markdown",
   "metadata": {},
   "source": [
    "*__There are fifty-two cards in a deck, each of which belongs to one of four suits and one of\n",
    "thirteen ranks.__* The suits are Spades, Hearts, Diamonds, and Clubs (in descending order in\n",
    "bridge). The ranks are Ace, 2, 3, 4, 5, 6, 7, 8, 9, 10, Jack, Queen, and King. Depending on\n",
    "the game that you are playing, an Ace may be higher than King or lower than 2.\n",
    "\n",
    "If we want to define a new object to represent a playing card, it is obvious what the attributes should be: rank and suit. It is not as obvious what type the attributes should be.\n",
    "One possibility is to use strings containing words like 'Spade' for suits and 'Queen' for\n",
    "ranks. One problem with this implementation is that it would not be easy to compare cards\n",
    "to see which had a higher rank or suit.\n",
    "\n",
    "An alternative is to use integers to encode the ranks and suits. In this context, “encode”\n",
    "means that we are going to define a mapping between numbers and suits, or between\n",
    "numbers and ranks. This kind of encoding is not meant to be a secret (that would be\n",
    "“encryption”).\n",
    "\n",
    "For example, this table shows the suits and the corresponding integer codes:\n",
    "\n",
    "*  Spades >> 3\n",
    "*  Hearts >> 2\n",
    "*  Diamonds >> 1\n",
    "*  Clubs >> 0\n",
    "\n",
    "This code makes it easy to compare cards; because higher suits map to higher numbers, we\n",
    "can compare suits by comparing their codes.\n",
    "The mapping for ranks is fairly obvious; each of the numerical ranks maps to the corresponding integer, and for face cards:\n",
    "\n",
    "* Jack >> 11\n",
    "* Queen >> 12\n",
    "* King >> 13\n",
    "\n",
    "The class definition for Card looks like this:"
   ]
  },
  {
   "cell_type": "code",
   "execution_count": 1,
   "metadata": {},
   "outputs": [],
   "source": [
    "class Card:\n",
    "    \"\"\"Represents a standard playing card.\"\"\"\n",
    "    def __init__(self, suit=0, rank=2):\n",
    "        self.suit = suit\n",
    "        self.rank = rank"
   ]
  },
  {
   "cell_type": "markdown",
   "metadata": {},
   "source": [
    "As usual, the init method takes an optional parameter for each attribute. The default card is the 2 of Clubs.\n",
    "\n",
    "To create a card, you call Card with the suit and rank of the card you want."
   ]
  },
  {
   "cell_type": "code",
   "execution_count": 2,
   "metadata": {},
   "outputs": [],
   "source": [
    "queen_of_diamonds = Card(1,12)"
   ]
  },
  {
   "cell_type": "markdown",
   "metadata": {},
   "source": [
    "## 18.2 Class Attributes"
   ]
  },
  {
   "cell_type": "markdown",
   "metadata": {},
   "source": [
    "In order to print Card objects in a way that people can easily read, we need a mapping\n",
    "from the integer codes to the corresponding ranks and suits. A natural way to do that is\n",
    "with lists of strings. We assign these lists to __class attributes__:"
   ]
  },
  {
   "cell_type": "code",
   "execution_count": 21,
   "metadata": {},
   "outputs": [],
   "source": [
    "class Card:\n",
    "    \"\"\"Represents a standard playing card.\"\"\"\n",
    "    def __init__(self, suit=0, rank=2):\n",
    "        self.suit = suit\n",
    "        self.rank = rank\n",
    "    \n",
    "    #Class attributes are suit and rank.\n",
    "    suit_names = ['Clubs', 'Diamonds', 'Hearts', 'Spades']\n",
    "    rank_names = [None, 'Ace', '2', '3', '4', '5', '6', '7', '8', '9', '10', 'Jack', 'Queen', 'King']\n",
    "    \n",
    "    def __str__(self):\n",
    "        return '%s of %s' % (Card.rank_names[self.rank], Card.suit_names[self.suit])"
   ]
  },
  {
   "cell_type": "markdown",
   "metadata": {},
   "source": [
    "Variables like suit_names and rank_names, which are defined inside a class but outside\n",
    "of any method, are called *__class attributes because they are associated with the class object\n",
    "Card.__*\n",
    "\n",
    "This term distinguishes them from variables like suit and rank, which are called *__instance\n",
    "attributes because they are associated with a particular instance.__*\n",
    "\n",
    "Both kinds of attribute are accessed using dot notation. For example, in __str__, self\n",
    "is a Card object, and self.rank is its rank. Similarly, *__Card is a class object, and\n",
    "Card.rank_names is a list of strings associated with the class.__*\n",
    "\n",
    "Every card has its own suit and rank, but there is only one copy of suit_names and\n",
    "rank_names.\n",
    "\n",
    "Putting it all together, the expression Card.rank_names[self.rank] means “use the attribute rank from the object self as an index into the list rank_names from the class Card,\n",
    "and select the appropriate string.”\n",
    "\n",
    "The first element of rank_names is None because there is no card with rank zero. By including None as a place-keeper, we get a mapping with the nice property that the index 2 maps\n",
    "to the string '2', and so on. To avoid this tweak, we could have used a dictionary instead\n",
    "of a list.\n",
    "\n",
    "With the methods we have so far, we can create and print cards:"
   ]
  },
  {
   "cell_type": "code",
   "execution_count": 8,
   "metadata": {},
   "outputs": [
    {
     "name": "stdout",
     "output_type": "stream",
     "text": [
      "Jack of Hearts\n"
     ]
    }
   ],
   "source": [
    "card1 = Card(2,11)\n",
    "print(card1)"
   ]
  },
  {
   "cell_type": "markdown",
   "metadata": {},
   "source": [
    "Figure 18.1 is a diagram of the Card class object and one Card instance. Card is a class\n",
    "object; its type is type. card1 is an instance of Card, so its type is Card. To save space, I\n",
    "didn’t draw the contents of suit_names and rank_names."
   ]
  },
  {
   "cell_type": "markdown",
   "metadata": {},
   "source": [
    "![](class_Card.jpg)"
   ]
  },
  {
   "cell_type": "markdown",
   "metadata": {},
   "source": [
    "## 18.3 Comparing Cards"
   ]
  },
  {
   "cell_type": "markdown",
   "metadata": {},
   "source": [
    "For built-in types, there are relational operators (<, >, ==, etc.) that compare values and determine when one is greater than, less than, or equal to another. For programmer-defined\n",
    "types, we can override the behavior of the built-in operators by providing a method named\n",
    "__ lt __, which stands for “less than”.\n",
    "__ lt __ takes two parameters, self and other, and returns True if self is strictly less than\n",
    "other.\n",
    "\n",
    "The correct ordering for cards is not obvious. For example, which is better, the 3 of Clubs\n",
    "or the 2 of Diamonds? One has a higher rank, but the other has a higher suit. In order to\n",
    "compare cards, you have to decide whether rank or suit is more important.\n",
    "The answer might depend on what game you are playing, but to keep things simple, we’ll\n",
    "make the arbitrary choice that suit is more important, so all of the Spades outrank all of the\n",
    "Diamonds, and so on.\n",
    "\n",
    "With that decided, we can write __ lt __:"
   ]
  },
  {
   "cell_type": "code",
   "execution_count": 10,
   "metadata": {},
   "outputs": [],
   "source": [
    "class Card:\n",
    "    \"\"\"Represents a standard playing card.\"\"\"\n",
    "    def __init__(self, suit=0, rank=2):\n",
    "        self.suit = suit\n",
    "        self.rank = rank\n",
    "        \n",
    "    suit_names = ['Clubs', 'Diamonds', 'Hearts', 'Spades']\n",
    "    rank_names = [None, 'Ace', '2', '3', '4', '5', '6', '7', '8', '9', '10', 'Jack', 'Queen', 'King']\n",
    "    \n",
    "    def __lt__(self,other):\n",
    "        #check the suites\n",
    "        if self.suit < other.suit: return True\n",
    "        if self.suit > other.suit: return False\n",
    "        \n",
    "        #suits are the same... check ranks\n",
    "        return self.rank < other.rank\n",
    "    \n",
    "    def __str__(self):\n",
    "        return '%s of %s' % (Card.rank_names[self.rank], Card.suit_names[self.suit])"
   ]
  },
  {
   "cell_type": "code",
   "execution_count": 11,
   "metadata": {},
   "outputs": [
    {
     "name": "stdout",
     "output_type": "stream",
     "text": [
      "False\n"
     ]
    }
   ],
   "source": [
    "card1 = Card(2,11)\n",
    "card2 = Card(1,8)\n",
    "\n",
    "print(card1 < card2)"
   ]
  },
  {
   "cell_type": "code",
   "execution_count": 12,
   "metadata": {},
   "outputs": [
    {
     "name": "stdout",
     "output_type": "stream",
     "text": [
      "False\n"
     ]
    }
   ],
   "source": [
    "card1 = Card(1,11)\n",
    "card2 = Card(1,8)\n",
    "\n",
    "print(card1 < card2)"
   ]
  },
  {
   "cell_type": "markdown",
   "metadata": {},
   "source": [
    "## 18.4 Decks"
   ]
  },
  {
   "cell_type": "markdown",
   "metadata": {},
   "source": [
    "Now that we have Cards, the next step is to define Decks. Since a deck is made up of cards,\n",
    "it is natural for each Deck to contain a list of cards as an attribute.\n",
    "\n",
    "The following is a *__class definition for Deck. The init method creates the attribute cards and\n",
    "generates the standard set of fifty-two cards__*:"
   ]
  },
  {
   "cell_type": "code",
   "execution_count": 22,
   "metadata": {},
   "outputs": [],
   "source": [
    "class Deck:\n",
    "    def __init__(self):\n",
    "        self.cards = []\n",
    "        for suit in range(4):\n",
    "            for rank in range(1,14):\n",
    "                card = Card(suit,rank)\n",
    "                self.card.append(card)"
   ]
  },
  {
   "cell_type": "markdown",
   "metadata": {},
   "source": [
    "The easiest way to populate the deck is with a nested loop. The outer loop enumerates the\n",
    "suits from 0 to 3. The inner loop enumerates the ranks from 1 to 13. Each iteration creates\n",
    "a new Card with the current suit and rank, and appends it to self.cards."
   ]
  },
  {
   "cell_type": "markdown",
   "metadata": {},
   "source": [
    "## 18.5 Printing the Deck"
   ]
  },
  {
   "cell_type": "markdown",
   "metadata": {},
   "source": [
    "Here is a __ str __ method for Deck:"
   ]
  },
  {
   "cell_type": "code",
   "execution_count": 16,
   "metadata": {},
   "outputs": [],
   "source": [
    "class Deck:\n",
    "    def __init__(self):\n",
    "        self.cards = []\n",
    "        for suit in range(4):\n",
    "            for rank in range(1,14):\n",
    "                card = Card(suit,rank)\n",
    "                self.cards.append(card)\n",
    "                \n",
    "    def __str__(self):\n",
    "        res = []\n",
    "        for card in self.cards:\n",
    "            res.append(str(card))\n",
    "        return '\\n'.join(res)"
   ]
  },
  {
   "cell_type": "markdown",
   "metadata": {},
   "source": [
    "This method demonstrates an efficient way to accumulate a large string: building a list\n",
    "of strings and then using the string method join. The built-in function str invokes the\n",
    "__ str __ method on each card and returns the string representation.\n",
    "\n",
    "Since we invoke join on a newline character, the cards are separated by newlines. Here’s\n",
    "what the result looks like:"
   ]
  },
  {
   "cell_type": "code",
   "execution_count": 17,
   "metadata": {},
   "outputs": [
    {
     "name": "stdout",
     "output_type": "stream",
     "text": [
      "Ace of Clubs\n",
      "2 of Clubs\n",
      "3 of Clubs\n",
      "4 of Clubs\n",
      "5 of Clubs\n",
      "6 of Clubs\n",
      "7 of Clubs\n",
      "8 of Clubs\n",
      "9 of Clubs\n",
      "10 of Clubs\n",
      "Jack of Clubs\n",
      "Queen of Clubs\n",
      "King of Clubs\n",
      "Ace of Diamonds\n",
      "2 of Diamonds\n",
      "3 of Diamonds\n",
      "4 of Diamonds\n",
      "5 of Diamonds\n",
      "6 of Diamonds\n",
      "7 of Diamonds\n",
      "8 of Diamonds\n",
      "9 of Diamonds\n",
      "10 of Diamonds\n",
      "Jack of Diamonds\n",
      "Queen of Diamonds\n",
      "King of Diamonds\n",
      "Ace of Hearts\n",
      "2 of Hearts\n",
      "3 of Hearts\n",
      "4 of Hearts\n",
      "5 of Hearts\n",
      "6 of Hearts\n",
      "7 of Hearts\n",
      "8 of Hearts\n",
      "9 of Hearts\n",
      "10 of Hearts\n",
      "Jack of Hearts\n",
      "Queen of Hearts\n",
      "King of Hearts\n",
      "Ace of Spades\n",
      "2 of Spades\n",
      "3 of Spades\n",
      "4 of Spades\n",
      "5 of Spades\n",
      "6 of Spades\n",
      "7 of Spades\n",
      "8 of Spades\n",
      "9 of Spades\n",
      "10 of Spades\n",
      "Jack of Spades\n",
      "Queen of Spades\n",
      "King of Spades\n"
     ]
    }
   ],
   "source": [
    "deck = Deck()\n",
    "\n",
    "print(deck)"
   ]
  },
  {
   "cell_type": "markdown",
   "metadata": {},
   "source": [
    "Even though the result appears on 52 lines, it is one long string that contains newlines."
   ]
  },
  {
   "cell_type": "markdown",
   "metadata": {},
   "source": [
    "## 18.6 Add, Remove, Shuffle and Sort."
   ]
  },
  {
   "cell_type": "markdown",
   "metadata": {},
   "source": [
    "To deal cards, we would like a method that removes a card from the deck and returns it.\n",
    "The list method pop provides a convenient way to do that:"
   ]
  },
  {
   "cell_type": "code",
   "execution_count": 18,
   "metadata": {},
   "outputs": [],
   "source": [
    "class Deck:\n",
    "    def __init__(self):\n",
    "        self.cards = []\n",
    "        for suit in range(4):\n",
    "            for rank in range(1,14):\n",
    "                card = Card(suit,rank)\n",
    "                self.cards.append(card)\n",
    "                \n",
    "    def pop_card(self):\n",
    "        return self.cards.pop()\n",
    "                \n",
    "    def __str__(self):\n",
    "        res = []\n",
    "        for card in self.cards:\n",
    "            res.append(str(card))\n",
    "        return '\\n'.join(res)"
   ]
  },
  {
   "cell_type": "markdown",
   "metadata": {},
   "source": [
    "Since *__pop removes the last card in the list__*, we are dealing from the bottom of the deck.\n",
    "\n",
    "To add a card, we can use the list method append:"
   ]
  },
  {
   "cell_type": "code",
   "execution_count": 19,
   "metadata": {},
   "outputs": [],
   "source": [
    "class Deck:\n",
    "    def __init__(self):\n",
    "        self.cards = []\n",
    "        for suit in range(4):\n",
    "            for rank in range(1,14):\n",
    "                card = Card(suit,rank)\n",
    "                self.cards.append(card)\n",
    "                \n",
    "    def pop_card(self):\n",
    "        return self.cards.pop()\n",
    "    \n",
    "    def add_card(self,card):\n",
    "        self.cards.append(card)\n",
    "                \n",
    "    def __str__(self):\n",
    "        res = []\n",
    "        for card in self.cards:\n",
    "            res.append(str(card))\n",
    "        return '\\n'.join(res)"
   ]
  },
  {
   "cell_type": "markdown",
   "metadata": {},
   "source": [
    "A method like this that uses another method without doing much work is sometimes called\n",
    "a veneer. The metaphor comes from woodworking, where a veneer is a thin layer of good\n",
    "quality wood glued to the surface of a cheaper piece of wood to improve the appearance.\n",
    "\n",
    "In this case add_card is a “thin” method that expresses a list operation in terms appropriate\n",
    "for decks. It improves the appearance, or interface, of the implementation.\n",
    "\n",
    "As another example, we can write a Deck method named shuffle using the function\n",
    "shuffle from the random module:"
   ]
  },
  {
   "cell_type": "code",
   "execution_count": 44,
   "metadata": {},
   "outputs": [],
   "source": [
    "import random\n",
    "\n",
    "class Deck:\n",
    "    \n",
    "    def __init__(self):\n",
    "        self.cards = []\n",
    "        for suit in range(4):\n",
    "            for rank in range(1,14):\n",
    "                card = Card(suit,rank)\n",
    "                self.cards.append(card)\n",
    "                \n",
    "    def pop_card(self):\n",
    "        #Dealing from the bottom of the deck.\n",
    "        return self.cards.pop() #pop removes the last card in the list.\n",
    "    \n",
    "    def add_card(self,card):\n",
    "        self.cards.append(card)\n",
    "        \n",
    "    def shuffle(self):\n",
    "        random.shuffle(self.cards)\n",
    "        \n",
    "    def __str__(self):\n",
    "        res = []\n",
    "        for card in self.cards:\n",
    "            res.append(str(card))\n",
    "        return '\\n'.join(res)"
   ]
  },
  {
   "cell_type": "markdown",
   "metadata": {},
   "source": [
    "__Exercise:__ write a Deck method named sort that uses the list method sort to sort the\n",
    "cards in a Deck. sort uses the __ lt __ method we defined to determine the order."
   ]
  },
  {
   "cell_type": "markdown",
   "metadata": {},
   "source": [
    "## 18.7 Inheritance"
   ]
  },
  {
   "cell_type": "markdown",
   "metadata": {},
   "source": [
    "Inheritance is the ability to define a new class that is a modified version of an existing class.\n",
    "As an example, let’s say we want a class to represent a “hand”, that is, the cards held by\n",
    "one player. A hand is similar to a deck: both are made up of a collection of cards, and both\n",
    "require operations like adding and removing cards.\n",
    "\n",
    "A hand is also different from a deck; there are operations we want for hands that don’t\n",
    "make sense for a deck. For example, in poker we might compare two hands to see which\n",
    "one wins. In bridge, we might compute a score for a hand in order to make a bid.\n",
    "\n",
    "This relationship between classes—similar, but different—lends itself to inheritance. To\n",
    "define a new class that inherits from an existing class, you put the name of the existing\n",
    "class in parentheses:"
   ]
  },
  {
   "cell_type": "code",
   "execution_count": 24,
   "metadata": {},
   "outputs": [],
   "source": [
    "class Hand(Deck):\n",
    "    \"\"\"Represents a hand of playing cards.\"\"\""
   ]
  },
  {
   "cell_type": "markdown",
   "metadata": {},
   "source": [
    "This definition indicates that *__Hand inherits from Deck; that means we can use methods like\n",
    "pop_card and add_card for Hands as well as Decks.__*\n",
    "\n",
    "When a new class inherits from an existing one, the existing one is called the parent and\n",
    "the new class is called the child.\n",
    "\n",
    "In this example, Hand inherits __ init __ from Deck, but it doesn’t really do what we want:\n",
    "instead of populating the hand with 52 new cards, *__the init method for Hands should initialize cards with an empty list.__*\n",
    "\n",
    "*__If we provide an init method in the Hand class, it overrides the one in the Deck class:__*"
   ]
  },
  {
   "cell_type": "code",
   "execution_count": 25,
   "metadata": {},
   "outputs": [],
   "source": [
    "class Hand(Deck):\n",
    "    \"\"\"Represents a hand of playing cards.\"\"\"\n",
    "    \n",
    "    def __init__(self,label=''):\n",
    "        self.cards = []\n",
    "        self.label = label"
   ]
  },
  {
   "cell_type": "markdown",
   "metadata": {},
   "source": [
    "When you create a Hand, Python invokes this init method, not the one in Deck."
   ]
  },
  {
   "cell_type": "code",
   "execution_count": 26,
   "metadata": {},
   "outputs": [],
   "source": [
    "hand = Hand('new hand')"
   ]
  },
  {
   "cell_type": "code",
   "execution_count": 29,
   "metadata": {},
   "outputs": [
    {
     "data": {
      "text/plain": [
       "[]"
      ]
     },
     "execution_count": 29,
     "metadata": {},
     "output_type": "execute_result"
    }
   ],
   "source": [
    "hand.cards"
   ]
  },
  {
   "cell_type": "code",
   "execution_count": 30,
   "metadata": {},
   "outputs": [
    {
     "data": {
      "text/plain": [
       "'new hand'"
      ]
     },
     "execution_count": 30,
     "metadata": {},
     "output_type": "execute_result"
    }
   ],
   "source": [
    "hand.label"
   ]
  },
  {
   "cell_type": "markdown",
   "metadata": {},
   "source": [
    "The other methods are inherited from Deck, so we can use pop_card and add_card to deal\n",
    "a card:"
   ]
  },
  {
   "cell_type": "code",
   "execution_count": 31,
   "metadata": {},
   "outputs": [],
   "source": [
    "deck = Deck()"
   ]
  },
  {
   "cell_type": "code",
   "execution_count": 35,
   "metadata": {},
   "outputs": [],
   "source": [
    "card = deck.pop_card()"
   ]
  },
  {
   "cell_type": "code",
   "execution_count": 36,
   "metadata": {},
   "outputs": [
    {
     "name": "stdout",
     "output_type": "stream",
     "text": [
      "King of Spades\n"
     ]
    }
   ],
   "source": [
    "print(card)"
   ]
  },
  {
   "cell_type": "code",
   "execution_count": 37,
   "metadata": {},
   "outputs": [],
   "source": [
    "hand.add_card(card)"
   ]
  },
  {
   "cell_type": "code",
   "execution_count": 38,
   "metadata": {},
   "outputs": [
    {
     "name": "stdout",
     "output_type": "stream",
     "text": [
      "King of Spades\n"
     ]
    }
   ],
   "source": [
    "print(hand)"
   ]
  },
  {
   "cell_type": "markdown",
   "metadata": {},
   "source": [
    "A natural next step is to encapsulate this code in a method called move_cards:"
   ]
  },
  {
   "cell_type": "code",
   "execution_count": 39,
   "metadata": {},
   "outputs": [],
   "source": [
    "class Deck:\n",
    "    import random\n",
    "    \n",
    "    def __init__(self):\n",
    "        self.cards = []\n",
    "        for suit in range(4):\n",
    "            for rank in range(1,14):\n",
    "                card = Card(suit,rank)\n",
    "                self.cards.append(card)\n",
    "                \n",
    "    def pop_card(self):\n",
    "        #Dealing from the bottom of the deck.\n",
    "        return self.cards.pop() #pop removes the last card in the list.\n",
    "    \n",
    "    def add_card(self,card):\n",
    "        self.cards.append(card)\n",
    "        \n",
    "    def shuffle(self):\n",
    "        random.shuffle(self.cards)\n",
    "        \n",
    "    def move_cards(self,hand,num):\n",
    "        for i in range(num):\n",
    "            hand.add_card(self.pop_cards())\n",
    "        \n",
    "    def __str__(self):\n",
    "        res = []\n",
    "        for card in self.cards:\n",
    "            res.append(str(card))\n",
    "        return '\\n'.join(res)"
   ]
  },
  {
   "cell_type": "markdown",
   "metadata": {},
   "source": [
    "move_cards takes two arguments, a Hand object and the number of cards to deal. It modifies both self and hand, and returns None.\n",
    "\n",
    "In some games, cards are moved from one hand to another, or from a hand back to the\n",
    "deck. You can use move_cards for any of these operations: self can be either a Deck or a\n",
    "Hand, and hand, despite the name, can also be a Deck.\n",
    "\n",
    "Inheritance is a useful feature. Some programs that would be repetitive without inheritance\n",
    "can be written more elegantly with it. Inheritance can facilitate code reuse, since you can\n",
    "customize the behavior of parent classes without having to modify them. In some cases,\n",
    "the inheritance structure reflects the natural structure of the problem, which makes the\n",
    "design easier to understand.\n",
    "\n",
    "On the other hand, inheritance can make programs difficult to read. When a method is\n",
    "invoked, it is sometimes not clear where to find its definition. The relevant code may be\n",
    "spread across several modules. Also, many of the things that can be done using inheritance\n",
    "can be done as well or better without it."
   ]
  },
  {
   "cell_type": "markdown",
   "metadata": {},
   "source": [
    "## 18.8 Class Diagrams"
   ]
  },
  {
   "cell_type": "markdown",
   "metadata": {},
   "source": [
    "So far we have seen stack diagrams, which show the state of a program, and object diagrams, which show the attributes of an object and their values. These diagrams represent\n",
    "a snapshot in the execution of a program, so they change as the program runs.\n",
    "\n",
    "They are also highly detailed; for some purposes, too detailed. A class diagram is a more\n",
    "abstract representation of the structure of a program. Instead of showing individual objects, it shows classes and the relationships between them.\n",
    "\n",
    "There are several kinds of relationship between classes:\n",
    "\n",
    "* *__Objects in one class might contain references to objects in another class__*. For example,\n",
    "each Rectangle contains a reference to a Point, and each *Deck contains references to\n",
    "many Cards*. This kind of relationship is called __HAS-A__, as in, “a Rectangle has a\n",
    "Point.”\n",
    "* *__One class might inherit from another__*. This relationship is called __IS-A__, as in, “a Hand\n",
    "is a kind of a Deck.”\n",
    "* *__One class might depend on another in the sense that objects in one class take objects in the second class as parameters__*, or use objects in the second class as part of a\n",
    "computation. This kind of relationship is called a dependency.\n",
    "\n",
    "A class diagram is a graphical representation of these relationships. For example, Figure 18.2 shows the relationships between Card, Deck and Hand."
   ]
  },
  {
   "cell_type": "markdown",
   "metadata": {},
   "source": [
    "![](class_relation.jpg)"
   ]
  },
  {
   "cell_type": "markdown",
   "metadata": {},
   "source": [
    "The arrow with a hollow triangle head represents an IS-A relationship; in this case it indicates that Hand inherits from Deck.\n",
    "The standard arrow head represents a HAS-A relationship; in this case a Deck has references to Card objects.\n",
    "\n",
    "The star (*) near the arrow head is a multiplicity; it indicates how many Cards a Deck has.\n",
    "A multiplicity can be a simple number, like 52, a range, like 5..7 or a star, which indicates\n",
    "that a Deck can have any number of Cards.\n",
    "\n",
    "There are no dependencies in this diagram. They would normally be shown with a dashed\n",
    "arrow. Or if there are a lot of dependencies, they are sometimes omitted.\n",
    "A more detailed diagram might show that a Deck actually contains a list of Cards, but\n",
    "built-in types like list and dict are usually not included in class diagrams."
   ]
  },
  {
   "cell_type": "markdown",
   "metadata": {},
   "source": [
    "## 18.9 Debugging"
   ]
  },
  {
   "cell_type": "markdown",
   "metadata": {},
   "source": [
    "Inheritance can make debugging difficult because when you invoke a method on an object,\n",
    "it might be hard to figure out which method will be invoked.\n",
    "\n",
    "Suppose you are writing a function that works with Hand objects. You would like it to\n",
    "work with all kinds of Hands, like PokerHands, BridgeHands, etc. If you invoke a method\n",
    "like shuffle, you might get the one defined in Deck, but if any of the subclasses override\n",
    "this method, you’ll get that version instead. This behavior is usually a good thing, but it\n",
    "can be confusing.\n",
    "\n",
    "Any time you are unsure about the flow of execution through your program, the simplest solution is to add print statements at the beginning of the relevant methods. If\n",
    "Deck.shuffle prints a message that says something like Running Deck.shuffle, then as\n",
    "the program runs it traces the flow of execution.\n",
    "\n",
    "As an alternative, you could use this function, which takes an object and a method name\n",
    "(as a string) and returns the class that provides the definition of the method:"
   ]
  },
  {
   "cell_type": "code",
   "execution_count": 40,
   "metadata": {},
   "outputs": [],
   "source": [
    "def find_defining_class(obj, meth_name):\n",
    "    for ty in type(obj).mro():\n",
    "        if meth_name in ty.__dict__:\n",
    "            return ty"
   ]
  },
  {
   "cell_type": "markdown",
   "metadata": {},
   "source": [
    "Here's an example:"
   ]
  },
  {
   "cell_type": "code",
   "execution_count": 41,
   "metadata": {},
   "outputs": [],
   "source": [
    "hand = Hand()"
   ]
  },
  {
   "cell_type": "code",
   "execution_count": 42,
   "metadata": {},
   "outputs": [
    {
     "data": {
      "text/plain": [
       "__main__.Deck"
      ]
     },
     "execution_count": 42,
     "metadata": {},
     "output_type": "execute_result"
    }
   ],
   "source": [
    "find_defining_class(hand,'shuffle')"
   ]
  },
  {
   "cell_type": "markdown",
   "metadata": {},
   "source": [
    "So the shuffle method for this Hand is the one in Deck. \n",
    "\n",
    "find_defining_class uses *__the mro method to get the list of class objects (types) that will be\n",
    "searched for methods.__* “MRO” stands for “method resolution order”, which is the sequence\n",
    "of classes Python searches to “resolve” a method name.\n",
    "\n",
    "Here’s a design suggestion: when you override a method, the interface of the new method\n",
    "should be the same as the old. It should take the same parameters, return the same type,\n",
    "and obey the same preconditions and postconditions. If you follow this rule, you will find\n",
    "that any function designed to work with an instance of a parent class, like a Deck, will also\n",
    "work with instances of child classes like a Hand and PokerHand.\n",
    "\n",
    "If you violate this rule, which is called the “Liskov substitution principle”, your code will\n",
    "collapse like (sorry) a house of cards."
   ]
  },
  {
   "cell_type": "markdown",
   "metadata": {},
   "source": [
    "## 18.10 Data Encapsulation"
   ]
  },
  {
   "cell_type": "markdown",
   "metadata": {},
   "source": [
    "The previous chapters demonstrate a development plan we might call “object-oriented\n",
    "design”. We identified objects we needed—like Point, Rectangle and Time—and defined\n",
    "classes to represent them. In each case there is an obvious correspondence between the\n",
    "object and some entity in the real world (or at least a mathematical world).\n",
    "\n",
    "But sometimes it is less obvious what objects you need and how they should interact. In\n",
    "that case you need a different development plan. In the same way that we discovered\n",
    "function interfaces by encapsulation and generalization, we can discover class interfaces\n",
    "by data encapsulation."
   ]
  },
  {
   "cell_type": "markdown",
   "metadata": {},
   "source": [
    "## 18.11 Glossary"
   ]
  },
  {
   "cell_type": "markdown",
   "metadata": {},
   "source": [
    "* encode: To represent one set of values using another set of values by constructing a mapping between them.\n",
    "* class attribute: An attribute associated with a class object. Class attributes are defined\n",
    "inside a class definition but outside any method.\n",
    "* instance attribute: An attribute associated with an instance of a class.\n",
    "* veneer: A method or function that provides a different interface to another function without doing much computation.\n",
    "* inheritance: The ability to define a new class that is a modified version of a previously\n",
    "defined class.\n",
    "* parent class: The class from which a child class inherits.\n",
    "* child class: A new class created by inheriting from an existing class; also called a “subclass”.\n",
    "* IS-A relationship: A relationship between a child class and its parent class.\n",
    "* HAS-A relationship: A relationship between two classes where instances of one class contain references to instances of the other.\n",
    "* dependency: A relationship between two classes where instances of one class use instances of the other class, but do not store them as attributes.\n",
    "* class diagram: A diagram that shows the classes in a program and the relationships between them.\n",
    "* multiplicity: A notation in a class diagram that shows, for a HAS-A relationship, how\n",
    "many references there are to instances of another class.\n",
    "* data encapsulation: A program development plan that involves a prototype using global\n",
    "variables and a final version that makes the global variables into instance attributes."
   ]
  }
 ],
 "metadata": {
  "kernelspec": {
   "display_name": "Python 3",
   "language": "python",
   "name": "python3"
  },
  "language_info": {
   "codemirror_mode": {
    "name": "ipython",
    "version": 3
   },
   "file_extension": ".py",
   "mimetype": "text/x-python",
   "name": "python",
   "nbconvert_exporter": "python",
   "pygments_lexer": "ipython3",
   "version": "3.7.3"
  }
 },
 "nbformat": 4,
 "nbformat_minor": 2
}
