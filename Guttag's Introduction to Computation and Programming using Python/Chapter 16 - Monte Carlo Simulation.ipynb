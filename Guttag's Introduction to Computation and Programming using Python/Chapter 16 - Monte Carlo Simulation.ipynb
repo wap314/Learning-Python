{
 "cells": [
  {
   "cell_type": "markdown",
   "metadata": {},
   "source": [
    "# Chapter 16 - Monte Carlo Simulation"
   ]
  },
  {
   "cell_type": "markdown",
   "metadata": {},
   "source": [
    "In Chapters 14 and 15, we looked at different ways of using randomness in computations. Many of the examples we presented fall into the *__class of computation\n",
    "known as Monte Carlo simulation. Monte Carlo simulation is a technique used\n",
    "to approximate the probability of an event by running the same simulation multiple times and averaging the results.__*\n",
    "\n",
    "*__Stanislaw Ulam and Nicholas Metropolis coined the term Monte Carlo simulation in 1949 in homage to the games of chance played in the casino in the Principality of Monaco__*. Ulam, who is best known for designing the hydrogen bomb\n",
    "with Edward Teller, described the invention of the model as follows:\n",
    "\n",
    "*The first thoughts and attempts I made to practice [the Monte Carlo\n",
    "Method] were suggested by a question which occurred to me in 1946 as\n",
    "I was convalescing from an illness and playing solitaires. The question\n",
    "was what are the chances that a Canfield solitaire laid out with 52 cards\n",
    "will come out successfully? After spending a lot of time trying to estimate them by pure combinatorial calculations, I wondered whether a\n",
    "more practical method than “abstract thinking” might not be to lay it\n",
    "out say one hundred times and simply observe and count the number of\n",
    "successful plays. This was already possible to envisage with the beginning of the new era of fast computers,109 and I immediately thought of\n",
    "problems of neutron diffusion and other questions of mathematical\n",
    "physics, and more generally how to change processes described by certain differential equations into an equivalent form interpretable as a\n",
    "succession of random operations. Later … [in 1946, I] __described the\n",
    "idea to John von Neumann, and we began to plan actual calculations__.*\n",
    "\n",
    "*__The technique was used during the Manhattan Project to predict what would\n",
    "happen during a nuclear fission reaction__*, but did not really take off until the\n",
    "1950s, when computers became both more common and more powerful.\n",
    "\n",
    "Ulam was not the first mathematician to think about using the tools of probability to understand a game of chance. The history of probability is intimately\n",
    "connected to the history of gambling. It is the existence of uncertainty that makes\n",
    "gambling possible. And the existence of gambling provoked the development of\n",
    "much of the mathematics needed to reason about uncertainty. Contributions to\n",
    "the foundations of probability theory by Cardano, Pascal, Fermat, Bernoulli, de\n",
    "Moivre, and Laplace were all motivated by a desire to better understand (and\n",
    "perhaps profit from) games of chance."
   ]
  },
  {
   "cell_type": "markdown",
   "metadata": {},
   "source": [
    "## 16.1 Pascal's Problem"
   ]
  },
  {
   "cell_type": "markdown",
   "metadata": {},
   "source": [
    "Most of the early work on probability theory revolved around games using\n",
    "dice.111 Reputedly, Pascal’s interest in the field that came to be known as probability theory began when a friend asked him whether or not it would be profitable to bet that within twenty-four rolls of a pair of dice he would roll a double 6.\n",
    "\n",
    "This was considered a hard problem in the mid-17th century. Pascal and Fermat,\n",
    "two pretty smart guys, exchanged a number of letters about how to resolve the\n",
    "issue, but it now seems like an easy question to answer:\n",
    "    \n",
    "* On the first roll the probability of rolling a 6 on each die is 1/6, so the probability of rolling a 6 with both dice is 1/36.\n",
    "* Therefore, the probability of not rolling a double 6 on the first roll is 1 - 1/36 = 35/36.\n",
    "* Therefore the probability of not rolling a double 6 twenty-four consecutive\n",
    "times is $(35/36)^{24}$, nearly 0.51, and therefore the probability of rolling a double 6 is \n",
    "$1 - (35/36)^{24}$, about 0.49. In the long run it would not be profitable to\n",
    "bet on rolling a double 6 within twenty-four rolls.\n",
    "\n",
    "Just to be safe, let’s write a little program to simulate Pascal’s\n",
    "friend’s game and confirm that we get the same answer as Pascal."
   ]
  },
  {
   "cell_type": "code",
   "execution_count": 13,
   "metadata": {},
   "outputs": [],
   "source": [
    "import random\n",
    "\n",
    "def rollDie():\n",
    "    return random.choice([1,2,3,4,5,6])\n",
    "\n",
    "def checkPascal(numTrials):\n",
    "    \"\"\"Assumes numTrials>0 is an integer.\n",
    "       Print an estimate of the probability of winning.\"\"\"\n",
    "    numWins = 0\n",
    "    for i in range(numTrials):\n",
    "        for j in range(24):\n",
    "            d1 = rollDie()\n",
    "            d2 = rollDie()\n",
    "            if d1 == 6 and d2 == 6:\n",
    "                numWins += 1\n",
    "                break\n",
    "                \n",
    "    print('Probability of winning = ', numWins/numTrials)     "
   ]
  },
  {
   "cell_type": "code",
   "execution_count": 14,
   "metadata": {},
   "outputs": [
    {
     "name": "stdout",
     "output_type": "stream",
     "text": [
      "Probability of winning =  0.49166\n"
     ]
    }
   ],
   "source": [
    "checkPascal(1000000)"
   ]
  },
  {
   "cell_type": "markdown",
   "metadata": {},
   "source": [
    "This is indeed quite close to $1 - (35/36)^{24}$."
   ]
  },
  {
   "cell_type": "code",
   "execution_count": 15,
   "metadata": {},
   "outputs": [
    {
     "data": {
      "text/plain": [
       "0.4914038761309034"
      ]
     },
     "execution_count": 15,
     "metadata": {},
     "output_type": "execute_result"
    }
   ],
   "source": [
    "1-(35/36)**(24)"
   ]
  },
  {
   "cell_type": "markdown",
   "metadata": {},
   "source": [
    "## 16.2 Pass or Don't Pass ?"
   ]
  },
  {
   "cell_type": "markdown",
   "metadata": {},
   "source": [
    "## 16.3 Using Table Lookup to Improve Performance"
   ]
  },
  {
   "cell_type": "markdown",
   "metadata": {},
   "source": [
    "## 16.4 Finding $\\pi$"
   ]
  },
  {
   "cell_type": "markdown",
   "metadata": {},
   "source": [
    "It is easy to see how Monte Carlo simulation is useful for tackling problems in\n",
    "which nondeterminism plays a role. Interestingly, however, Monte Carlo simulation (and randomized algorithms in general) can be used to solve problems that\n",
    "are not inherently stochastic, i.e., for which there is no uncertainty about outcomes.\n",
    "\n",
    "Consider 𝜋. For thousands of years, people have known that there is a constant (called 𝜋 since the 18th century) such that the circumference of a circle is\n",
    "equal to π*diameter and the area of the circle equal to 𝜋 * radius2. What they did\n",
    "not know was the value of this constant.\n",
    "One of the earliest estimates, 4*(8/9)2 =\t 3.16, can found in the Egyptian\n",
    "Rhind Papyrus, circa 1650 BC.\n",
    "\n",
    "Archimedes of Syracuse (287-212 BCE) derived upper and lower bounds on\n",
    "the value of 𝜋 by using a high-degree polygon to approximate a circular shape.\n",
    "Using a polygon with 96 sides, he concluded that 223/71\t<\t𝜋 <\t22/7. Giving upper and lower bounds was a rather sophisticated approach for the time. Also, if\n",
    "we take his best estimate as the average of his two bounds we obtain 3.1418, an\n",
    "error of about 0.0002. Not bad!\n",
    "\n",
    "Long before computers were invented, the French mathematicians Buffon\n",
    "(1707-1788) and Laplace (1749-1827) proposed using a stochastic simulation to\n",
    "estimate the value of 𝜋.117 Think about inscribing a circle in a square with sides\n",
    "of length 2, so that the radius, r, of the circle is of length 1."
   ]
  },
  {
   "cell_type": "markdown",
   "metadata": {},
   "source": [
    "![](montecarlo_pi.jpg)"
   ]
  },
  {
   "cell_type": "markdown",
   "metadata": {},
   "source": [
    "By the definition of $\\pi$, $\\text{area} = \\pi r^{2}$. Since r is 1, $\\pi = \\text{area}$. But what’s the area\n",
    "of the circle? Buffon suggested that he could estimate the area of a circle by a\n",
    "dropping a large number of needles (which he argued would follow a random\n",
    "path as they fell) in the vicinity of the square. The ratio of the number of needles\n",
    "with tips lying within the square to the number of needles with tips lying within\n",
    "the circle could then be used to estimate the area of the circle.\n",
    "\n",
    "If the locations of the needles are truly random, we know that\n",
    "\n",
    "$ \\frac{\\text{needles in circle}}{\\text{needles in square}} = \\frac{\\text{area of circle}}{\\text{area of square}} $\n",
    "\n",
    "and solving for the area of the circle:\n",
    "\n",
    "$ \\text{area of circle} = \\frac{\\text{area of square}*\\text{needles in circle}}{\\text{needles in square}} $\n",
    "\n",
    "Recall that area of a 2 by 2 square is 4, so:\n",
    "\n",
    "$ \\text{area of circle} = \\frac{4*\\text{needles in circle}}{\\text{needles in square}} $\n",
    "\n",
    "In general, to estimate the area of some region R:\n",
    "1. Pick an enclosing region, E, such that the area of E is easy to calculate and R\t\n",
    "lies completely within E.\n",
    "2. Pick a set of random points that lie within E.\n",
    "3. Let F be the fraction of the points that fall within R.\n",
    "4. Multiply the area of E by F.\n",
    "\n",
    "The following code contains a program that estimates $\\pi$ using the Buffon-Laplace\n",
    "method. For simplicity, it considers only those needles that fall in the upper\n",
    "right-hand quadrant of the square.\n",
    "\n",
    "The function throwNeedles simulates dropping a needle by first using random.random to get a pair of positive Cartesian coordinates (x and y values) representing the position of the needle with respect to the center of the square. It then\n",
    "uses the Pythagorean theorem to compute the hypotenuse of the right triangle\n",
    "with base x and height y. This is the distance of the tip of the needle from the\n",
    "origin (the center of the square). Since the radius of the circle is 1, we know that\n",
    "the needle lies within the circle if and only if the distance from the origin is no\n",
    "greater than 1. We use this fact to count the number of needles in the circle.\n",
    "\n",
    "The function getEst uses throwNeedles to find an estimate of $\\pi$ by first dropping numNeedles needles, and then averaging the result over numTrials trials. It\n",
    "then returns the mean and standard deviation of the trials.\n",
    "\n",
    "The function estPi calls getEst with an ever-growing number of needles until\n",
    "the standard deviation returned by getEst is no larger than precision/1.96. Under the assumption that the errors are normally distributed, this implies that 95%\n",
    "of the values lie within precision of the mean."
   ]
  },
  {
   "cell_type": "code",
   "execution_count": 20,
   "metadata": {},
   "outputs": [],
   "source": [
    "def variance(X):\n",
    "    \"\"\"Assumes that X is a list of numbers.\n",
    "       Return the variance of X.\"\"\"\n",
    "    mean = sum(X)/len(X)\n",
    "    tot = 0.0\n",
    "    for x in X:\n",
    "        tot += (x-mean)**2\n",
    "    return tot/len(X)\n",
    "\n",
    "def stdDev(X):\n",
    "    \"\"\"Assumes that X is a list of numbers.\n",
    "       Return the standard deviation of X.\"\"\"\n",
    "    return variance(X)**0.5\n",
    "\n",
    "def throwNeedles(numNeedles):\n",
    "    inCircle = 0\n",
    "    for Needles in range(1, numNeedles+1):\n",
    "        #Consider only upper-right quadrant of circle\n",
    "        x = random.random()\n",
    "        y = random.random()\n",
    "        if (x*x + y*y)**0.5 <= 1:\n",
    "            inCircle += 1\n",
    "    #Since we count needles in one quadrant only, multiply result by 4.\n",
    "    return 2*(inCircle/numNeedles)\n",
    "\n",
    "def getEst(numNeedles, numTrials):\n",
    "    estimates = []\n",
    "    for t in range(numTrials):\n",
    "        piGuess = throwNeedles(numNeedles)\n",
    "        estimates.append(piGuess)\n",
    "    sDev = stdDev(estimates)\n",
    "    curEst = sum(estimates)/len(estimates)\n",
    "    print('Est. =', str(round(curEst,5)) + ',', 'Std. dev. =', str(round(sDev,5)) + ',',\n",
    "          'Needles =', numNeedles)\n",
    "    return(curEst,sDev)\n",
    "\n",
    "def estPi(precision, numTrials):\n",
    "    numNeedles = 1000\n",
    "    sDev = precision\n",
    "    while sDev > precision/1.96:\n",
    "        curEst, sDev = getEst(numNeedles, numTrials)\n",
    "        numNeedles *= 2\n",
    "    return curEst"
   ]
  },
  {
   "cell_type": "code",
   "execution_count": 19,
   "metadata": {},
   "outputs": [
    {
     "name": "stdout",
     "output_type": "stream",
     "text": [
      "Est. = 3.1364, Std. dev. = 0.05268, Needles = 1000\n",
      "Est. = 3.1468, Std. dev. = 0.03344, Needles = 2000\n",
      "Est. = 3.14147, Std. dev. = 0.02841, Needles = 4000\n",
      "Est. = 3.14086, Std. dev. = 0.01533, Needles = 8000\n",
      "Est. = 3.14216, Std. dev. = 0.013, Needles = 16000\n",
      "Est. = 3.14073, Std. dev. = 0.0095, Needles = 32000\n",
      "Est. = 3.14114, Std. dev. = 0.00709, Needles = 64000\n",
      "Est. = 3.14253, Std. dev. = 0.005, Needles = 128000\n"
     ]
    },
    {
     "data": {
      "text/plain": [
       "3.142531250000001"
      ]
     },
     "execution_count": 19,
     "metadata": {},
     "output_type": "execute_result"
    }
   ],
   "source": [
    "estPi(0.01, 100)"
   ]
  },
  {
   "cell_type": "markdown",
   "metadata": {},
   "source": [
    "As one would expect, the standard deviations decreased monotonically as we\n",
    "increased the number of samples. In the beginning the estimates of the value of π\n",
    "also improved steadily. Some were above the true value and some below, but each\n",
    "increase in numNeedles led to an improved estimate.\n",
    "\n",
    "Curiously, the estimate got worse when the number of needles went from\n",
    "8,000 to 16,000, since 3.14135 is farther from the true value of π than is 3.14143.\n",
    "However, if we look at the ranges defined by one standard deviation around each\n",
    "of the means, both ranges contain the true value of 𝜋, and the range associated\n",
    "with the larger sample size is smaller. Even though the estimate generated with\n",
    "16,000 samples happens to be farther from the actual value of 𝜋, we should have\n",
    "more confidence in its accuracy. This is an extremely important notion. It is not\n",
    "sufficient to produce a good answer. We have to have a valid reason to be confident that it is in fact a good answer. And when we drop a large enough number\n",
    "of needles, the small standard deviation gives us reason to be confident that we\n",
    "have a correct answer. Right?\n",
    "\n",
    "Not exactly. Having a small standard deviation is a necessary condition for\n",
    "having confidence in the validity of the result. It is not a sufficient condition. The\n",
    "notion of a statistically valid conclusion should never be confused with the notion of a correct conclusion.\n",
    "\n",
    "Each statistical analysis starts with a set of assumptions. The key assumption\n",
    "here is that our simulation is an accurate model of reality. Recall that the design\n",
    "of our Buffon-Laplace simulation started with a little algebra demonstrating how\n",
    "we could use the ratio of two areas to find the value of 𝜋. We then translated this\n",
    "idea into code that depended upon a little geometry and on the randomness of\n",
    "random.random.\n",
    "\n",
    "Let’s see what happens if we get any of this wrong. Suppose, for example, we\n",
    "replace the 4 in the last line of the function throwNeedles by a 2, and again run\n",
    "estPi(0.01, 100). This time it prints:"
   ]
  },
  {
   "cell_type": "code",
   "execution_count": 21,
   "metadata": {},
   "outputs": [
    {
     "name": "stdout",
     "output_type": "stream",
     "text": [
      "Est. = 1.57024, Std. dev. = 0.02508, Needles = 1000\n",
      "Est. = 1.57174, Std. dev. = 0.01795, Needles = 2000\n",
      "Est. = 1.57056, Std. dev. = 0.01306, Needles = 4000\n",
      "Est. = 1.57074, Std. dev. = 0.00923, Needles = 8000\n",
      "Est. = 1.56902, Std. dev. = 0.0058, Needles = 16000\n",
      "Est. = 1.57037, Std. dev. = 0.00501, Needles = 32000\n"
     ]
    },
    {
     "data": {
      "text/plain": [
       "1.570373749999999"
      ]
     },
     "execution_count": 21,
     "metadata": {},
     "output_type": "execute_result"
    }
   ],
   "source": [
    "estPi(0.01, 100)"
   ]
  },
  {
   "cell_type": "markdown",
   "metadata": {},
   "source": [
    "The standard deviation for a mere 32,000 needles suggests that we should\n",
    "have a fair amount of confidence in the estimate. But what does that really mean?\n",
    "It means that we can be reasonably confident that if we were to draw more samples from the same distribution, we would get a similar value. It says nothing\n",
    "about whether or not this value is close to the actual value of 𝜋. *__If you are going\n",
    "to remember only one thing about statistics, remember this: a statistically valid\n",
    "conclusion should not be confused with a correct conclusion!__*\n",
    "\n",
    "Before believing the results of a simulation, *__we need to have confidence both\n",
    "that our conceptual model is correct and that we have correctly implemented\n",
    "that model__*. Whenever possible, one should attempt to validate results against reality. In this case, one could use some other means to compute an approximation\n",
    "to the area of a circle (e.g., physical measurement) and check that the computed\n",
    "value of 𝜋 is at least in the right neighborhood."
   ]
  },
  {
   "cell_type": "markdown",
   "metadata": {},
   "source": [
    "## 16.5 Some Closing Remarks About Simulation Models"
   ]
  },
  {
   "cell_type": "markdown",
   "metadata": {},
   "source": [
    "For most of the history of science, theorists used mathematical techniques to\n",
    "construct purely analytical models that could be used to predict the behavior of a\n",
    "system from a set of parameters and initial conditions. This led to the development of important mathematical tools ranging from calculus to probability theory. These tools helped scientists develop a reasonably accurate understanding of\n",
    "the macroscopic physical world.\n",
    "\n",
    "As the 20th century progressed, the limitations of this approach became increasingly clear. Reasons for this include:\n",
    "\n",
    "* An increased interest in the social sciences, e.g., economics, led to a desire to\n",
    "construct *__good models of systems that were not mathematically tractable__*.\n",
    "* As the systems to be modeled grew increasingly complex, it seemed easier to\n",
    "successively refine a series of simulation models than to construct accurate analytic models.\n",
    "* It is often easier to extract useful intermediate results from a simulation than\n",
    "from an analytical model, e.g., to play “what if” games.\n",
    "* The availability of computers made it feasible to run large-scale simulations.\n",
    "Until the advent of the modern computer in the middle of the 20th century the\n",
    "utility of simulation was limited by the time required to perform calculations\n",
    "by hand.\n",
    "\n",
    "*__Simulation models are descriptive, not prescriptive. They tell how a system\n",
    "works under given conditions; not how to arrange the conditions to make the\n",
    "system work best__*. A simulation does not optimize, it merely describes. That is\n",
    "not to say that simulation cannot be used as part of an optimization process. For\n",
    "example, simulation is often used as part of a search process in finding an optimal set of parameter settings.\n",
    "\n",
    "Simulation models can be classified along three dimensions:\n",
    "* Deterministic versus stochastic,\n",
    "* Static versus dynamic, and\n",
    "* Discrete versus continuous.\n",
    "\n",
    "The behavior of a deterministic simulation is completely defined by the\n",
    "model. Rerunning a simulation will not change the outcome. Deterministic\n",
    "simulations are typically used when the system being modeled is too complex to\n",
    "analyze analytically, e.g., the performance of a processor chip. Stochastic simulations incorporate randomness in the model. Multiple runs of the same model\n",
    "may generate different values. This random element forces us to generate many\n",
    "outcomes to see the range of possibilities. The question of whether to generate 10\n",
    "or 1000 or 100,000 outcomes is a statistical question, as discussed earlier.\n",
    "\n",
    "In a static model, time plays no essential role. The needle-dropping simulation used to estimate π in this chapter is an example of a static simulation. In a\n",
    "dynamic model, time, or some analog, plays an essential role. In the series of\n",
    "random walks simulated in Chapter 14, the number of steps taken was used as a\n",
    "surrogate for time.\n",
    "\n",
    "In a discrete model, the values of pertinent variables are enumerable, e.g.,\n",
    "they are integers. In a continuous model, the values of pertinent variables range\n",
    "over non-enumerable sets, e.g., the real numbers. Imagine analyzing the flow of\n",
    "traffic along a highway. We might choose to model each individual car, in which\n",
    "case we have a discrete model. Alternatively, we might choose to treat traffic as a flow, where changes in the flow can be described by differential equations. This\n",
    "leads to a continuous model. In this example, the discrete model more closely resembles the physical situation (nobody drives half a car, though some cars are\n",
    "half the size of others), but is more computationally complex than a continuous\n",
    "one. In practice, models often have both discrete and continuous components.\n",
    "For example, one might choose to model the flow of blood through the human\n",
    "body using a discrete model for blood (i.e., modeling individual corpuscles) and\n",
    "a continuous model for blood pressure."
   ]
  }
 ],
 "metadata": {
  "kernelspec": {
   "display_name": "Python 3",
   "language": "python",
   "name": "python3"
  },
  "language_info": {
   "codemirror_mode": {
    "name": "ipython",
    "version": 3
   },
   "file_extension": ".py",
   "mimetype": "text/x-python",
   "name": "python",
   "nbconvert_exporter": "python",
   "pygments_lexer": "ipython3",
   "version": "3.7.3"
  }
 },
 "nbformat": 4,
 "nbformat_minor": 2
}
