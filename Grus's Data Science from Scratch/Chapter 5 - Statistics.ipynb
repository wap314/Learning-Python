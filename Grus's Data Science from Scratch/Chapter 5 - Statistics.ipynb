{
 "cells": [
  {
   "cell_type": "markdown",
   "metadata": {},
   "source": [
    "# Chapter 5 - Statistics"
   ]
  },
  {
   "cell_type": "markdown",
   "metadata": {},
   "source": [
    "Statistics refers to the mathematics and techniques with which we understand data. It\n",
    "is a rich, enormous field, more suited to a shelf (or room) in a library rather than a\n",
    "chapter in a book, and so our discussion will necessarily not be a deep one. Instead,\n",
    "I’ll try to teach you just enough to be dangerous, and pique your interest just enough\n",
    "that you’ll go off and learn more."
   ]
  },
  {
   "cell_type": "markdown",
   "metadata": {},
   "source": [
    "## Describing a Single Set of Data"
   ]
  },
  {
   "cell_type": "markdown",
   "metadata": {},
   "source": [
    "Through a combination of word-of-mouth and luck, DataSciencester has grown to\n",
    "dozens of members, and the VP of Fundraising asks you for some sort of description\n",
    "of how many friends your members have that he can include in his elevator pitches.\n",
    "Using techniques from Chapter 1, you are easily able to produce this data. But now\n",
    "you are faced with the problem of how to describe it.\n",
    "One obvious description of any data set is simply the data itself:"
   ]
  },
  {
   "cell_type": "code",
   "execution_count": 96,
   "metadata": {},
   "outputs": [],
   "source": [
    "num_friends = [100.0,49,41,40,25,21,21,19,19,18,18,16,15,15,15,15,14,14,13,13,13,13,12,12,11,10,10,10,10,10,10,10,10,10,10,10,10,10,10,10,9,9,9,9,9,9,9,9,9,9,9,9,9,9,9,9,9,9,8,8,8,8,8,8,8,8,8,8,8,8,8,7,7,7,7,7,7,7,7,7,7,7,7,7,7,7,6,6,6,6,6,6,6,6,6,6,6,6,6,6,6,6,6,6,6,6,6,6,5,5,5,5,5,5,5,5,5,5,5,5,5,5,5,5,5,4,4,4,4,4,4,4,4,4,4,4,4,4,4,4,4,4,4,4,4,3,3,3,3,3,3,3,3,3,3,3,3,3,3,3,3,3,3,3,3,2,2,2,2,2,2,2,2,2,2,2,2,2,2,2,2,2,1,1,1,1,1,1,1,1,1,1,1,1,1,1,1,1,1,1,1,1,1,1]"
   ]
  },
  {
   "cell_type": "code",
   "execution_count": 97,
   "metadata": {},
   "outputs": [
    {
     "data": {
      "text/plain": [
       "204"
      ]
     },
     "execution_count": 97,
     "metadata": {},
     "output_type": "execute_result"
    }
   ],
   "source": [
    "len(num_friends)"
   ]
  },
  {
   "cell_type": "markdown",
   "metadata": {},
   "source": [
    "For a small enough data set this might even be the best description. But for a larger\n",
    "data set, this is unwieldy and probably opaque. (Imagine staring at a list of 1 million\n",
    "numbers.) For that reason we use statistics to distill and communicate relevant fea‐\n",
    "tures of our data.\n",
    "\n",
    "As a first approach you put the friend counts into a histogram using Counter and\n",
    "plt.bar()"
   ]
  },
  {
   "cell_type": "code",
   "execution_count": 99,
   "metadata": {},
   "outputs": [],
   "source": [
    "%matplotlib notebook"
   ]
  },
  {
   "cell_type": "code",
   "execution_count": 100,
   "metadata": {},
   "outputs": [],
   "source": [
    "from collections import Counter\n",
    "import matplotlib.pyplot as plt"
   ]
  },
  {
   "cell_type": "code",
   "execution_count": 101,
   "metadata": {},
   "outputs": [],
   "source": [
    "friend_counts = Counter(num_friends)"
   ]
  },
  {
   "cell_type": "code",
   "execution_count": 102,
   "metadata": {},
   "outputs": [
    {
     "data": {
      "text/plain": [
       "Counter({100.0: 1,\n",
       "         49: 1,\n",
       "         41: 1,\n",
       "         40: 1,\n",
       "         25: 1,\n",
       "         21: 2,\n",
       "         19: 2,\n",
       "         18: 2,\n",
       "         16: 1,\n",
       "         15: 4,\n",
       "         14: 2,\n",
       "         13: 4,\n",
       "         12: 2,\n",
       "         11: 1,\n",
       "         10: 15,\n",
       "         9: 18,\n",
       "         8: 13,\n",
       "         7: 15,\n",
       "         6: 22,\n",
       "         5: 17,\n",
       "         4: 20,\n",
       "         3: 20,\n",
       "         2: 17,\n",
       "         1: 22})"
      ]
     },
     "execution_count": 102,
     "metadata": {},
     "output_type": "execute_result"
    }
   ],
   "source": [
    "friend_counts"
   ]
  },
  {
   "cell_type": "code",
   "execution_count": 103,
   "metadata": {},
   "outputs": [
    {
     "data": {
      "text/plain": [
       "17"
      ]
     },
     "execution_count": 103,
     "metadata": {},
     "output_type": "execute_result"
    }
   ],
   "source": [
    "friend_counts[2]"
   ]
  },
  {
   "cell_type": "code",
   "execution_count": 104,
   "metadata": {},
   "outputs": [
    {
     "data": {
      "application/javascript": [
       "/* Put everything inside the global mpl namespace */\n",
       "window.mpl = {};\n",
       "\n",
       "\n",
       "mpl.get_websocket_type = function() {\n",
       "    if (typeof(WebSocket) !== 'undefined') {\n",
       "        return WebSocket;\n",
       "    } else if (typeof(MozWebSocket) !== 'undefined') {\n",
       "        return MozWebSocket;\n",
       "    } else {\n",
       "        alert('Your browser does not have WebSocket support. ' +\n",
       "              'Please try Chrome, Safari or Firefox ≥ 6. ' +\n",
       "              'Firefox 4 and 5 are also supported but you ' +\n",
       "              'have to enable WebSockets in about:config.');\n",
       "    };\n",
       "}\n",
       "\n",
       "mpl.figure = function(figure_id, websocket, ondownload, parent_element) {\n",
       "    this.id = figure_id;\n",
       "\n",
       "    this.ws = websocket;\n",
       "\n",
       "    this.supports_binary = (this.ws.binaryType != undefined);\n",
       "\n",
       "    if (!this.supports_binary) {\n",
       "        var warnings = document.getElementById(\"mpl-warnings\");\n",
       "        if (warnings) {\n",
       "            warnings.style.display = 'block';\n",
       "            warnings.textContent = (\n",
       "                \"This browser does not support binary websocket messages. \" +\n",
       "                    \"Performance may be slow.\");\n",
       "        }\n",
       "    }\n",
       "\n",
       "    this.imageObj = new Image();\n",
       "\n",
       "    this.context = undefined;\n",
       "    this.message = undefined;\n",
       "    this.canvas = undefined;\n",
       "    this.rubberband_canvas = undefined;\n",
       "    this.rubberband_context = undefined;\n",
       "    this.format_dropdown = undefined;\n",
       "\n",
       "    this.image_mode = 'full';\n",
       "\n",
       "    this.root = $('<div/>');\n",
       "    this._root_extra_style(this.root)\n",
       "    this.root.attr('style', 'display: inline-block');\n",
       "\n",
       "    $(parent_element).append(this.root);\n",
       "\n",
       "    this._init_header(this);\n",
       "    this._init_canvas(this);\n",
       "    this._init_toolbar(this);\n",
       "\n",
       "    var fig = this;\n",
       "\n",
       "    this.waiting = false;\n",
       "\n",
       "    this.ws.onopen =  function () {\n",
       "            fig.send_message(\"supports_binary\", {value: fig.supports_binary});\n",
       "            fig.send_message(\"send_image_mode\", {});\n",
       "            if (mpl.ratio != 1) {\n",
       "                fig.send_message(\"set_dpi_ratio\", {'dpi_ratio': mpl.ratio});\n",
       "            }\n",
       "            fig.send_message(\"refresh\", {});\n",
       "        }\n",
       "\n",
       "    this.imageObj.onload = function() {\n",
       "            if (fig.image_mode == 'full') {\n",
       "                // Full images could contain transparency (where diff images\n",
       "                // almost always do), so we need to clear the canvas so that\n",
       "                // there is no ghosting.\n",
       "                fig.context.clearRect(0, 0, fig.canvas.width, fig.canvas.height);\n",
       "            }\n",
       "            fig.context.drawImage(fig.imageObj, 0, 0);\n",
       "        };\n",
       "\n",
       "    this.imageObj.onunload = function() {\n",
       "        fig.ws.close();\n",
       "    }\n",
       "\n",
       "    this.ws.onmessage = this._make_on_message_function(this);\n",
       "\n",
       "    this.ondownload = ondownload;\n",
       "}\n",
       "\n",
       "mpl.figure.prototype._init_header = function() {\n",
       "    var titlebar = $(\n",
       "        '<div class=\"ui-dialog-titlebar ui-widget-header ui-corner-all ' +\n",
       "        'ui-helper-clearfix\"/>');\n",
       "    var titletext = $(\n",
       "        '<div class=\"ui-dialog-title\" style=\"width: 100%; ' +\n",
       "        'text-align: center; padding: 3px;\"/>');\n",
       "    titlebar.append(titletext)\n",
       "    this.root.append(titlebar);\n",
       "    this.header = titletext[0];\n",
       "}\n",
       "\n",
       "\n",
       "\n",
       "mpl.figure.prototype._canvas_extra_style = function(canvas_div) {\n",
       "\n",
       "}\n",
       "\n",
       "\n",
       "mpl.figure.prototype._root_extra_style = function(canvas_div) {\n",
       "\n",
       "}\n",
       "\n",
       "mpl.figure.prototype._init_canvas = function() {\n",
       "    var fig = this;\n",
       "\n",
       "    var canvas_div = $('<div/>');\n",
       "\n",
       "    canvas_div.attr('style', 'position: relative; clear: both; outline: 0');\n",
       "\n",
       "    function canvas_keyboard_event(event) {\n",
       "        return fig.key_event(event, event['data']);\n",
       "    }\n",
       "\n",
       "    canvas_div.keydown('key_press', canvas_keyboard_event);\n",
       "    canvas_div.keyup('key_release', canvas_keyboard_event);\n",
       "    this.canvas_div = canvas_div\n",
       "    this._canvas_extra_style(canvas_div)\n",
       "    this.root.append(canvas_div);\n",
       "\n",
       "    var canvas = $('<canvas/>');\n",
       "    canvas.addClass('mpl-canvas');\n",
       "    canvas.attr('style', \"left: 0; top: 0; z-index: 0; outline: 0\")\n",
       "\n",
       "    this.canvas = canvas[0];\n",
       "    this.context = canvas[0].getContext(\"2d\");\n",
       "\n",
       "    var backingStore = this.context.backingStorePixelRatio ||\n",
       "\tthis.context.webkitBackingStorePixelRatio ||\n",
       "\tthis.context.mozBackingStorePixelRatio ||\n",
       "\tthis.context.msBackingStorePixelRatio ||\n",
       "\tthis.context.oBackingStorePixelRatio ||\n",
       "\tthis.context.backingStorePixelRatio || 1;\n",
       "\n",
       "    mpl.ratio = (window.devicePixelRatio || 1) / backingStore;\n",
       "\n",
       "    var rubberband = $('<canvas/>');\n",
       "    rubberband.attr('style', \"position: absolute; left: 0; top: 0; z-index: 1;\")\n",
       "\n",
       "    var pass_mouse_events = true;\n",
       "\n",
       "    canvas_div.resizable({\n",
       "        start: function(event, ui) {\n",
       "            pass_mouse_events = false;\n",
       "        },\n",
       "        resize: function(event, ui) {\n",
       "            fig.request_resize(ui.size.width, ui.size.height);\n",
       "        },\n",
       "        stop: function(event, ui) {\n",
       "            pass_mouse_events = true;\n",
       "            fig.request_resize(ui.size.width, ui.size.height);\n",
       "        },\n",
       "    });\n",
       "\n",
       "    function mouse_event_fn(event) {\n",
       "        if (pass_mouse_events)\n",
       "            return fig.mouse_event(event, event['data']);\n",
       "    }\n",
       "\n",
       "    rubberband.mousedown('button_press', mouse_event_fn);\n",
       "    rubberband.mouseup('button_release', mouse_event_fn);\n",
       "    // Throttle sequential mouse events to 1 every 20ms.\n",
       "    rubberband.mousemove('motion_notify', mouse_event_fn);\n",
       "\n",
       "    rubberband.mouseenter('figure_enter', mouse_event_fn);\n",
       "    rubberband.mouseleave('figure_leave', mouse_event_fn);\n",
       "\n",
       "    canvas_div.on(\"wheel\", function (event) {\n",
       "        event = event.originalEvent;\n",
       "        event['data'] = 'scroll'\n",
       "        if (event.deltaY < 0) {\n",
       "            event.step = 1;\n",
       "        } else {\n",
       "            event.step = -1;\n",
       "        }\n",
       "        mouse_event_fn(event);\n",
       "    });\n",
       "\n",
       "    canvas_div.append(canvas);\n",
       "    canvas_div.append(rubberband);\n",
       "\n",
       "    this.rubberband = rubberband;\n",
       "    this.rubberband_canvas = rubberband[0];\n",
       "    this.rubberband_context = rubberband[0].getContext(\"2d\");\n",
       "    this.rubberband_context.strokeStyle = \"#000000\";\n",
       "\n",
       "    this._resize_canvas = function(width, height) {\n",
       "        // Keep the size of the canvas, canvas container, and rubber band\n",
       "        // canvas in synch.\n",
       "        canvas_div.css('width', width)\n",
       "        canvas_div.css('height', height)\n",
       "\n",
       "        canvas.attr('width', width * mpl.ratio);\n",
       "        canvas.attr('height', height * mpl.ratio);\n",
       "        canvas.attr('style', 'width: ' + width + 'px; height: ' + height + 'px;');\n",
       "\n",
       "        rubberband.attr('width', width);\n",
       "        rubberband.attr('height', height);\n",
       "    }\n",
       "\n",
       "    // Set the figure to an initial 600x600px, this will subsequently be updated\n",
       "    // upon first draw.\n",
       "    this._resize_canvas(600, 600);\n",
       "\n",
       "    // Disable right mouse context menu.\n",
       "    $(this.rubberband_canvas).bind(\"contextmenu\",function(e){\n",
       "        return false;\n",
       "    });\n",
       "\n",
       "    function set_focus () {\n",
       "        canvas.focus();\n",
       "        canvas_div.focus();\n",
       "    }\n",
       "\n",
       "    window.setTimeout(set_focus, 100);\n",
       "}\n",
       "\n",
       "mpl.figure.prototype._init_toolbar = function() {\n",
       "    var fig = this;\n",
       "\n",
       "    var nav_element = $('<div/>');\n",
       "    nav_element.attr('style', 'width: 100%');\n",
       "    this.root.append(nav_element);\n",
       "\n",
       "    // Define a callback function for later on.\n",
       "    function toolbar_event(event) {\n",
       "        return fig.toolbar_button_onclick(event['data']);\n",
       "    }\n",
       "    function toolbar_mouse_event(event) {\n",
       "        return fig.toolbar_button_onmouseover(event['data']);\n",
       "    }\n",
       "\n",
       "    for(var toolbar_ind in mpl.toolbar_items) {\n",
       "        var name = mpl.toolbar_items[toolbar_ind][0];\n",
       "        var tooltip = mpl.toolbar_items[toolbar_ind][1];\n",
       "        var image = mpl.toolbar_items[toolbar_ind][2];\n",
       "        var method_name = mpl.toolbar_items[toolbar_ind][3];\n",
       "\n",
       "        if (!name) {\n",
       "            // put a spacer in here.\n",
       "            continue;\n",
       "        }\n",
       "        var button = $('<button/>');\n",
       "        button.addClass('ui-button ui-widget ui-state-default ui-corner-all ' +\n",
       "                        'ui-button-icon-only');\n",
       "        button.attr('role', 'button');\n",
       "        button.attr('aria-disabled', 'false');\n",
       "        button.click(method_name, toolbar_event);\n",
       "        button.mouseover(tooltip, toolbar_mouse_event);\n",
       "\n",
       "        var icon_img = $('<span/>');\n",
       "        icon_img.addClass('ui-button-icon-primary ui-icon');\n",
       "        icon_img.addClass(image);\n",
       "        icon_img.addClass('ui-corner-all');\n",
       "\n",
       "        var tooltip_span = $('<span/>');\n",
       "        tooltip_span.addClass('ui-button-text');\n",
       "        tooltip_span.html(tooltip);\n",
       "\n",
       "        button.append(icon_img);\n",
       "        button.append(tooltip_span);\n",
       "\n",
       "        nav_element.append(button);\n",
       "    }\n",
       "\n",
       "    var fmt_picker_span = $('<span/>');\n",
       "\n",
       "    var fmt_picker = $('<select/>');\n",
       "    fmt_picker.addClass('mpl-toolbar-option ui-widget ui-widget-content');\n",
       "    fmt_picker_span.append(fmt_picker);\n",
       "    nav_element.append(fmt_picker_span);\n",
       "    this.format_dropdown = fmt_picker[0];\n",
       "\n",
       "    for (var ind in mpl.extensions) {\n",
       "        var fmt = mpl.extensions[ind];\n",
       "        var option = $(\n",
       "            '<option/>', {selected: fmt === mpl.default_extension}).html(fmt);\n",
       "        fmt_picker.append(option);\n",
       "    }\n",
       "\n",
       "    // Add hover states to the ui-buttons\n",
       "    $( \".ui-button\" ).hover(\n",
       "        function() { $(this).addClass(\"ui-state-hover\");},\n",
       "        function() { $(this).removeClass(\"ui-state-hover\");}\n",
       "    );\n",
       "\n",
       "    var status_bar = $('<span class=\"mpl-message\"/>');\n",
       "    nav_element.append(status_bar);\n",
       "    this.message = status_bar[0];\n",
       "}\n",
       "\n",
       "mpl.figure.prototype.request_resize = function(x_pixels, y_pixels) {\n",
       "    // Request matplotlib to resize the figure. Matplotlib will then trigger a resize in the client,\n",
       "    // which will in turn request a refresh of the image.\n",
       "    this.send_message('resize', {'width': x_pixels, 'height': y_pixels});\n",
       "}\n",
       "\n",
       "mpl.figure.prototype.send_message = function(type, properties) {\n",
       "    properties['type'] = type;\n",
       "    properties['figure_id'] = this.id;\n",
       "    this.ws.send(JSON.stringify(properties));\n",
       "}\n",
       "\n",
       "mpl.figure.prototype.send_draw_message = function() {\n",
       "    if (!this.waiting) {\n",
       "        this.waiting = true;\n",
       "        this.ws.send(JSON.stringify({type: \"draw\", figure_id: this.id}));\n",
       "    }\n",
       "}\n",
       "\n",
       "\n",
       "mpl.figure.prototype.handle_save = function(fig, msg) {\n",
       "    var format_dropdown = fig.format_dropdown;\n",
       "    var format = format_dropdown.options[format_dropdown.selectedIndex].value;\n",
       "    fig.ondownload(fig, format);\n",
       "}\n",
       "\n",
       "\n",
       "mpl.figure.prototype.handle_resize = function(fig, msg) {\n",
       "    var size = msg['size'];\n",
       "    if (size[0] != fig.canvas.width || size[1] != fig.canvas.height) {\n",
       "        fig._resize_canvas(size[0], size[1]);\n",
       "        fig.send_message(\"refresh\", {});\n",
       "    };\n",
       "}\n",
       "\n",
       "mpl.figure.prototype.handle_rubberband = function(fig, msg) {\n",
       "    var x0 = msg['x0'] / mpl.ratio;\n",
       "    var y0 = (fig.canvas.height - msg['y0']) / mpl.ratio;\n",
       "    var x1 = msg['x1'] / mpl.ratio;\n",
       "    var y1 = (fig.canvas.height - msg['y1']) / mpl.ratio;\n",
       "    x0 = Math.floor(x0) + 0.5;\n",
       "    y0 = Math.floor(y0) + 0.5;\n",
       "    x1 = Math.floor(x1) + 0.5;\n",
       "    y1 = Math.floor(y1) + 0.5;\n",
       "    var min_x = Math.min(x0, x1);\n",
       "    var min_y = Math.min(y0, y1);\n",
       "    var width = Math.abs(x1 - x0);\n",
       "    var height = Math.abs(y1 - y0);\n",
       "\n",
       "    fig.rubberband_context.clearRect(\n",
       "        0, 0, fig.canvas.width, fig.canvas.height);\n",
       "\n",
       "    fig.rubberband_context.strokeRect(min_x, min_y, width, height);\n",
       "}\n",
       "\n",
       "mpl.figure.prototype.handle_figure_label = function(fig, msg) {\n",
       "    // Updates the figure title.\n",
       "    fig.header.textContent = msg['label'];\n",
       "}\n",
       "\n",
       "mpl.figure.prototype.handle_cursor = function(fig, msg) {\n",
       "    var cursor = msg['cursor'];\n",
       "    switch(cursor)\n",
       "    {\n",
       "    case 0:\n",
       "        cursor = 'pointer';\n",
       "        break;\n",
       "    case 1:\n",
       "        cursor = 'default';\n",
       "        break;\n",
       "    case 2:\n",
       "        cursor = 'crosshair';\n",
       "        break;\n",
       "    case 3:\n",
       "        cursor = 'move';\n",
       "        break;\n",
       "    }\n",
       "    fig.rubberband_canvas.style.cursor = cursor;\n",
       "}\n",
       "\n",
       "mpl.figure.prototype.handle_message = function(fig, msg) {\n",
       "    fig.message.textContent = msg['message'];\n",
       "}\n",
       "\n",
       "mpl.figure.prototype.handle_draw = function(fig, msg) {\n",
       "    // Request the server to send over a new figure.\n",
       "    fig.send_draw_message();\n",
       "}\n",
       "\n",
       "mpl.figure.prototype.handle_image_mode = function(fig, msg) {\n",
       "    fig.image_mode = msg['mode'];\n",
       "}\n",
       "\n",
       "mpl.figure.prototype.updated_canvas_event = function() {\n",
       "    // Called whenever the canvas gets updated.\n",
       "    this.send_message(\"ack\", {});\n",
       "}\n",
       "\n",
       "// A function to construct a web socket function for onmessage handling.\n",
       "// Called in the figure constructor.\n",
       "mpl.figure.prototype._make_on_message_function = function(fig) {\n",
       "    return function socket_on_message(evt) {\n",
       "        if (evt.data instanceof Blob) {\n",
       "            /* FIXME: We get \"Resource interpreted as Image but\n",
       "             * transferred with MIME type text/plain:\" errors on\n",
       "             * Chrome.  But how to set the MIME type?  It doesn't seem\n",
       "             * to be part of the websocket stream */\n",
       "            evt.data.type = \"image/png\";\n",
       "\n",
       "            /* Free the memory for the previous frames */\n",
       "            if (fig.imageObj.src) {\n",
       "                (window.URL || window.webkitURL).revokeObjectURL(\n",
       "                    fig.imageObj.src);\n",
       "            }\n",
       "\n",
       "            fig.imageObj.src = (window.URL || window.webkitURL).createObjectURL(\n",
       "                evt.data);\n",
       "            fig.updated_canvas_event();\n",
       "            fig.waiting = false;\n",
       "            return;\n",
       "        }\n",
       "        else if (typeof evt.data === 'string' && evt.data.slice(0, 21) == \"data:image/png;base64\") {\n",
       "            fig.imageObj.src = evt.data;\n",
       "            fig.updated_canvas_event();\n",
       "            fig.waiting = false;\n",
       "            return;\n",
       "        }\n",
       "\n",
       "        var msg = JSON.parse(evt.data);\n",
       "        var msg_type = msg['type'];\n",
       "\n",
       "        // Call the  \"handle_{type}\" callback, which takes\n",
       "        // the figure and JSON message as its only arguments.\n",
       "        try {\n",
       "            var callback = fig[\"handle_\" + msg_type];\n",
       "        } catch (e) {\n",
       "            console.log(\"No handler for the '\" + msg_type + \"' message type: \", msg);\n",
       "            return;\n",
       "        }\n",
       "\n",
       "        if (callback) {\n",
       "            try {\n",
       "                // console.log(\"Handling '\" + msg_type + \"' message: \", msg);\n",
       "                callback(fig, msg);\n",
       "            } catch (e) {\n",
       "                console.log(\"Exception inside the 'handler_\" + msg_type + \"' callback:\", e, e.stack, msg);\n",
       "            }\n",
       "        }\n",
       "    };\n",
       "}\n",
       "\n",
       "// from http://stackoverflow.com/questions/1114465/getting-mouse-location-in-canvas\n",
       "mpl.findpos = function(e) {\n",
       "    //this section is from http://www.quirksmode.org/js/events_properties.html\n",
       "    var targ;\n",
       "    if (!e)\n",
       "        e = window.event;\n",
       "    if (e.target)\n",
       "        targ = e.target;\n",
       "    else if (e.srcElement)\n",
       "        targ = e.srcElement;\n",
       "    if (targ.nodeType == 3) // defeat Safari bug\n",
       "        targ = targ.parentNode;\n",
       "\n",
       "    // jQuery normalizes the pageX and pageY\n",
       "    // pageX,Y are the mouse positions relative to the document\n",
       "    // offset() returns the position of the element relative to the document\n",
       "    var x = e.pageX - $(targ).offset().left;\n",
       "    var y = e.pageY - $(targ).offset().top;\n",
       "\n",
       "    return {\"x\": x, \"y\": y};\n",
       "};\n",
       "\n",
       "/*\n",
       " * return a copy of an object with only non-object keys\n",
       " * we need this to avoid circular references\n",
       " * http://stackoverflow.com/a/24161582/3208463\n",
       " */\n",
       "function simpleKeys (original) {\n",
       "  return Object.keys(original).reduce(function (obj, key) {\n",
       "    if (typeof original[key] !== 'object')\n",
       "        obj[key] = original[key]\n",
       "    return obj;\n",
       "  }, {});\n",
       "}\n",
       "\n",
       "mpl.figure.prototype.mouse_event = function(event, name) {\n",
       "    var canvas_pos = mpl.findpos(event)\n",
       "\n",
       "    if (name === 'button_press')\n",
       "    {\n",
       "        this.canvas.focus();\n",
       "        this.canvas_div.focus();\n",
       "    }\n",
       "\n",
       "    var x = canvas_pos.x * mpl.ratio;\n",
       "    var y = canvas_pos.y * mpl.ratio;\n",
       "\n",
       "    this.send_message(name, {x: x, y: y, button: event.button,\n",
       "                             step: event.step,\n",
       "                             guiEvent: simpleKeys(event)});\n",
       "\n",
       "    /* This prevents the web browser from automatically changing to\n",
       "     * the text insertion cursor when the button is pressed.  We want\n",
       "     * to control all of the cursor setting manually through the\n",
       "     * 'cursor' event from matplotlib */\n",
       "    event.preventDefault();\n",
       "    return false;\n",
       "}\n",
       "\n",
       "mpl.figure.prototype._key_event_extra = function(event, name) {\n",
       "    // Handle any extra behaviour associated with a key event\n",
       "}\n",
       "\n",
       "mpl.figure.prototype.key_event = function(event, name) {\n",
       "\n",
       "    // Prevent repeat events\n",
       "    if (name == 'key_press')\n",
       "    {\n",
       "        if (event.which === this._key)\n",
       "            return;\n",
       "        else\n",
       "            this._key = event.which;\n",
       "    }\n",
       "    if (name == 'key_release')\n",
       "        this._key = null;\n",
       "\n",
       "    var value = '';\n",
       "    if (event.ctrlKey && event.which != 17)\n",
       "        value += \"ctrl+\";\n",
       "    if (event.altKey && event.which != 18)\n",
       "        value += \"alt+\";\n",
       "    if (event.shiftKey && event.which != 16)\n",
       "        value += \"shift+\";\n",
       "\n",
       "    value += 'k';\n",
       "    value += event.which.toString();\n",
       "\n",
       "    this._key_event_extra(event, name);\n",
       "\n",
       "    this.send_message(name, {key: value,\n",
       "                             guiEvent: simpleKeys(event)});\n",
       "    return false;\n",
       "}\n",
       "\n",
       "mpl.figure.prototype.toolbar_button_onclick = function(name) {\n",
       "    if (name == 'download') {\n",
       "        this.handle_save(this, null);\n",
       "    } else {\n",
       "        this.send_message(\"toolbar_button\", {name: name});\n",
       "    }\n",
       "};\n",
       "\n",
       "mpl.figure.prototype.toolbar_button_onmouseover = function(tooltip) {\n",
       "    this.message.textContent = tooltip;\n",
       "};\n",
       "mpl.toolbar_items = [[\"Home\", \"Reset original view\", \"fa fa-home icon-home\", \"home\"], [\"Back\", \"Back to previous view\", \"fa fa-arrow-left icon-arrow-left\", \"back\"], [\"Forward\", \"Forward to next view\", \"fa fa-arrow-right icon-arrow-right\", \"forward\"], [\"\", \"\", \"\", \"\"], [\"Pan\", \"Pan axes with left mouse, zoom with right\", \"fa fa-arrows icon-move\", \"pan\"], [\"Zoom\", \"Zoom to rectangle\", \"fa fa-square-o icon-check-empty\", \"zoom\"], [\"\", \"\", \"\", \"\"], [\"Download\", \"Download plot\", \"fa fa-floppy-o icon-save\", \"download\"]];\n",
       "\n",
       "mpl.extensions = [\"eps\", \"jpeg\", \"pdf\", \"png\", \"ps\", \"raw\", \"svg\", \"tif\"];\n",
       "\n",
       "mpl.default_extension = \"png\";var comm_websocket_adapter = function(comm) {\n",
       "    // Create a \"websocket\"-like object which calls the given IPython comm\n",
       "    // object with the appropriate methods. Currently this is a non binary\n",
       "    // socket, so there is still some room for performance tuning.\n",
       "    var ws = {};\n",
       "\n",
       "    ws.close = function() {\n",
       "        comm.close()\n",
       "    };\n",
       "    ws.send = function(m) {\n",
       "        //console.log('sending', m);\n",
       "        comm.send(m);\n",
       "    };\n",
       "    // Register the callback with on_msg.\n",
       "    comm.on_msg(function(msg) {\n",
       "        //console.log('receiving', msg['content']['data'], msg);\n",
       "        // Pass the mpl event to the overridden (by mpl) onmessage function.\n",
       "        ws.onmessage(msg['content']['data'])\n",
       "    });\n",
       "    return ws;\n",
       "}\n",
       "\n",
       "mpl.mpl_figure_comm = function(comm, msg) {\n",
       "    // This is the function which gets called when the mpl process\n",
       "    // starts-up an IPython Comm through the \"matplotlib\" channel.\n",
       "\n",
       "    var id = msg.content.data.id;\n",
       "    // Get hold of the div created by the display call when the Comm\n",
       "    // socket was opened in Python.\n",
       "    var element = $(\"#\" + id);\n",
       "    var ws_proxy = comm_websocket_adapter(comm)\n",
       "\n",
       "    function ondownload(figure, format) {\n",
       "        window.open(figure.imageObj.src);\n",
       "    }\n",
       "\n",
       "    var fig = new mpl.figure(id, ws_proxy,\n",
       "                           ondownload,\n",
       "                           element.get(0));\n",
       "\n",
       "    // Call onopen now - mpl needs it, as it is assuming we've passed it a real\n",
       "    // web socket which is closed, not our websocket->open comm proxy.\n",
       "    ws_proxy.onopen();\n",
       "\n",
       "    fig.parent_element = element.get(0);\n",
       "    fig.cell_info = mpl.find_output_cell(\"<div id='\" + id + \"'></div>\");\n",
       "    if (!fig.cell_info) {\n",
       "        console.error(\"Failed to find cell for figure\", id, fig);\n",
       "        return;\n",
       "    }\n",
       "\n",
       "    var output_index = fig.cell_info[2]\n",
       "    var cell = fig.cell_info[0];\n",
       "\n",
       "};\n",
       "\n",
       "mpl.figure.prototype.handle_close = function(fig, msg) {\n",
       "    var width = fig.canvas.width/mpl.ratio\n",
       "    fig.root.unbind('remove')\n",
       "\n",
       "    // Update the output cell to use the data from the current canvas.\n",
       "    fig.push_to_output();\n",
       "    var dataURL = fig.canvas.toDataURL();\n",
       "    // Re-enable the keyboard manager in IPython - without this line, in FF,\n",
       "    // the notebook keyboard shortcuts fail.\n",
       "    IPython.keyboard_manager.enable()\n",
       "    $(fig.parent_element).html('<img src=\"' + dataURL + '\" width=\"' + width + '\">');\n",
       "    fig.close_ws(fig, msg);\n",
       "}\n",
       "\n",
       "mpl.figure.prototype.close_ws = function(fig, msg){\n",
       "    fig.send_message('closing', msg);\n",
       "    // fig.ws.close()\n",
       "}\n",
       "\n",
       "mpl.figure.prototype.push_to_output = function(remove_interactive) {\n",
       "    // Turn the data on the canvas into data in the output cell.\n",
       "    var width = this.canvas.width/mpl.ratio\n",
       "    var dataURL = this.canvas.toDataURL();\n",
       "    this.cell_info[1]['text/html'] = '<img src=\"' + dataURL + '\" width=\"' + width + '\">';\n",
       "}\n",
       "\n",
       "mpl.figure.prototype.updated_canvas_event = function() {\n",
       "    // Tell IPython that the notebook contents must change.\n",
       "    IPython.notebook.set_dirty(true);\n",
       "    this.send_message(\"ack\", {});\n",
       "    var fig = this;\n",
       "    // Wait a second, then push the new image to the DOM so\n",
       "    // that it is saved nicely (might be nice to debounce this).\n",
       "    setTimeout(function () { fig.push_to_output() }, 1000);\n",
       "}\n",
       "\n",
       "mpl.figure.prototype._init_toolbar = function() {\n",
       "    var fig = this;\n",
       "\n",
       "    var nav_element = $('<div/>');\n",
       "    nav_element.attr('style', 'width: 100%');\n",
       "    this.root.append(nav_element);\n",
       "\n",
       "    // Define a callback function for later on.\n",
       "    function toolbar_event(event) {\n",
       "        return fig.toolbar_button_onclick(event['data']);\n",
       "    }\n",
       "    function toolbar_mouse_event(event) {\n",
       "        return fig.toolbar_button_onmouseover(event['data']);\n",
       "    }\n",
       "\n",
       "    for(var toolbar_ind in mpl.toolbar_items){\n",
       "        var name = mpl.toolbar_items[toolbar_ind][0];\n",
       "        var tooltip = mpl.toolbar_items[toolbar_ind][1];\n",
       "        var image = mpl.toolbar_items[toolbar_ind][2];\n",
       "        var method_name = mpl.toolbar_items[toolbar_ind][3];\n",
       "\n",
       "        if (!name) { continue; };\n",
       "\n",
       "        var button = $('<button class=\"btn btn-default\" href=\"#\" title=\"' + name + '\"><i class=\"fa ' + image + ' fa-lg\"></i></button>');\n",
       "        button.click(method_name, toolbar_event);\n",
       "        button.mouseover(tooltip, toolbar_mouse_event);\n",
       "        nav_element.append(button);\n",
       "    }\n",
       "\n",
       "    // Add the status bar.\n",
       "    var status_bar = $('<span class=\"mpl-message\" style=\"text-align:right; float: right;\"/>');\n",
       "    nav_element.append(status_bar);\n",
       "    this.message = status_bar[0];\n",
       "\n",
       "    // Add the close button to the window.\n",
       "    var buttongrp = $('<div class=\"btn-group inline pull-right\"></div>');\n",
       "    var button = $('<button class=\"btn btn-mini btn-primary\" href=\"#\" title=\"Stop Interaction\"><i class=\"fa fa-power-off icon-remove icon-large\"></i></button>');\n",
       "    button.click(function (evt) { fig.handle_close(fig, {}); } );\n",
       "    button.mouseover('Stop Interaction', toolbar_mouse_event);\n",
       "    buttongrp.append(button);\n",
       "    var titlebar = this.root.find($('.ui-dialog-titlebar'));\n",
       "    titlebar.prepend(buttongrp);\n",
       "}\n",
       "\n",
       "mpl.figure.prototype._root_extra_style = function(el){\n",
       "    var fig = this\n",
       "    el.on(\"remove\", function(){\n",
       "\tfig.close_ws(fig, {});\n",
       "    });\n",
       "}\n",
       "\n",
       "mpl.figure.prototype._canvas_extra_style = function(el){\n",
       "    // this is important to make the div 'focusable\n",
       "    el.attr('tabindex', 0)\n",
       "    // reach out to IPython and tell the keyboard manager to turn it's self\n",
       "    // off when our div gets focus\n",
       "\n",
       "    // location in version 3\n",
       "    if (IPython.notebook.keyboard_manager) {\n",
       "        IPython.notebook.keyboard_manager.register_events(el);\n",
       "    }\n",
       "    else {\n",
       "        // location in version 2\n",
       "        IPython.keyboard_manager.register_events(el);\n",
       "    }\n",
       "\n",
       "}\n",
       "\n",
       "mpl.figure.prototype._key_event_extra = function(event, name) {\n",
       "    var manager = IPython.notebook.keyboard_manager;\n",
       "    if (!manager)\n",
       "        manager = IPython.keyboard_manager;\n",
       "\n",
       "    // Check for shift+enter\n",
       "    if (event.shiftKey && event.which == 13) {\n",
       "        this.canvas_div.blur();\n",
       "        event.shiftKey = false;\n",
       "        // Send a \"J\" for go to next cell\n",
       "        event.which = 74;\n",
       "        event.keyCode = 74;\n",
       "        manager.command_mode();\n",
       "        manager.handle_keydown(event);\n",
       "    }\n",
       "}\n",
       "\n",
       "mpl.figure.prototype.handle_save = function(fig, msg) {\n",
       "    fig.ondownload(fig, null);\n",
       "}\n",
       "\n",
       "\n",
       "mpl.find_output_cell = function(html_output) {\n",
       "    // Return the cell and output element which can be found *uniquely* in the notebook.\n",
       "    // Note - this is a bit hacky, but it is done because the \"notebook_saving.Notebook\"\n",
       "    // IPython event is triggered only after the cells have been serialised, which for\n",
       "    // our purposes (turning an active figure into a static one), is too late.\n",
       "    var cells = IPython.notebook.get_cells();\n",
       "    var ncells = cells.length;\n",
       "    for (var i=0; i<ncells; i++) {\n",
       "        var cell = cells[i];\n",
       "        if (cell.cell_type === 'code'){\n",
       "            for (var j=0; j<cell.output_area.outputs.length; j++) {\n",
       "                var data = cell.output_area.outputs[j];\n",
       "                if (data.data) {\n",
       "                    // IPython >= 3 moved mimebundle to data attribute of output\n",
       "                    data = data.data;\n",
       "                }\n",
       "                if (data['text/html'] == html_output) {\n",
       "                    return [cell, data, j];\n",
       "                }\n",
       "            }\n",
       "        }\n",
       "    }\n",
       "}\n",
       "\n",
       "// Register the function which deals with the matplotlib target/channel.\n",
       "// The kernel may be null if the page has been refreshed.\n",
       "if (IPython.notebook.kernel != null) {\n",
       "    IPython.notebook.kernel.comm_manager.register_target('matplotlib', mpl.mpl_figure_comm);\n",
       "}\n"
      ],
      "text/plain": [
       "<IPython.core.display.Javascript object>"
      ]
     },
     "metadata": {},
     "output_type": "display_data"
    },
    {
     "data": {
      "text/html": [
       "<img src=\"data:image/png;base64,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\" width=\"639.9999630089984\">"
      ],
      "text/plain": [
       "<IPython.core.display.HTML object>"
      ]
     },
     "metadata": {},
     "output_type": "display_data"
    }
   ],
   "source": [
    "xs = range(101) # largest value is 100.\n",
    "ys = [friend_counts[x] for x in xs]\n",
    "\n",
    "plt.bar(xs,ys) # Create histogram based on data xs and ys.\n",
    "plt.axis([0,101,0,25])\n",
    "plt.title(\"Histogram of Friend Counts\")\n",
    "plt.xlabel(\"# of friends\")\n",
    "plt.ylabel(\"# of people\")\n",
    "plt.show()"
   ]
  },
  {
   "cell_type": "markdown",
   "metadata": {},
   "source": [
    "Unfortunately, this chart is still too difficult to slip into conversations. So you start\n",
    "generating some statistics. Probably the simplest statistic is simply the number of data\n",
    "points:"
   ]
  },
  {
   "cell_type": "code",
   "execution_count": 15,
   "metadata": {},
   "outputs": [
    {
     "data": {
      "text/plain": [
       "204"
      ]
     },
     "execution_count": 15,
     "metadata": {},
     "output_type": "execute_result"
    }
   ],
   "source": [
    "num_points = len(num_friends)\n",
    "num_points"
   ]
  },
  {
   "cell_type": "markdown",
   "metadata": {},
   "source": [
    "You’re probably also interested in the largest and smallest values:"
   ]
  },
  {
   "cell_type": "code",
   "execution_count": 16,
   "metadata": {},
   "outputs": [
    {
     "data": {
      "text/plain": [
       "100.0"
      ]
     },
     "execution_count": 16,
     "metadata": {},
     "output_type": "execute_result"
    }
   ],
   "source": [
    "largest_value = max(num_friends)\n",
    "largest_value"
   ]
  },
  {
   "cell_type": "code",
   "execution_count": 17,
   "metadata": {},
   "outputs": [
    {
     "data": {
      "text/plain": [
       "1"
      ]
     },
     "execution_count": 17,
     "metadata": {},
     "output_type": "execute_result"
    }
   ],
   "source": [
    "smallest_value = min(num_friends)\n",
    "smallest_value"
   ]
  },
  {
   "cell_type": "markdown",
   "metadata": {},
   "source": [
    "which are just special cases of wanting to know the values in specific positions:"
   ]
  },
  {
   "cell_type": "code",
   "execution_count": 18,
   "metadata": {},
   "outputs": [
    {
     "data": {
      "text/plain": [
       "1"
      ]
     },
     "execution_count": 18,
     "metadata": {},
     "output_type": "execute_result"
    }
   ],
   "source": [
    "sorted_values = sorted(num_friends)\n",
    "smallest_value = sorted_values[0]\n",
    "smallest_value"
   ]
  },
  {
   "cell_type": "code",
   "execution_count": 19,
   "metadata": {},
   "outputs": [
    {
     "data": {
      "text/plain": [
       "1"
      ]
     },
     "execution_count": 19,
     "metadata": {},
     "output_type": "execute_result"
    }
   ],
   "source": [
    "second_smallest_values = sorted_values[1]\n",
    "second_smallest_values"
   ]
  },
  {
   "cell_type": "code",
   "execution_count": 20,
   "metadata": {},
   "outputs": [
    {
     "data": {
      "text/plain": [
       "49"
      ]
     },
     "execution_count": 20,
     "metadata": {},
     "output_type": "execute_result"
    }
   ],
   "source": [
    "second_largest_value = sorted_values[-2]\n",
    "second_largest_value"
   ]
  },
  {
   "cell_type": "markdown",
   "metadata": {},
   "source": [
    "## Central Tendencies"
   ]
  },
  {
   "cell_type": "markdown",
   "metadata": {},
   "source": [
    "Usually, we’ll want some notion of where our data is centered. Most commonly we’ll\n",
    "use the mean (or average), which is just the sum of the data divided by its count:"
   ]
  },
  {
   "cell_type": "code",
   "execution_count": 21,
   "metadata": {},
   "outputs": [],
   "source": [
    "def mean(x):\n",
    "    return sum(x)/len(x)"
   ]
  },
  {
   "cell_type": "code",
   "execution_count": 22,
   "metadata": {},
   "outputs": [
    {
     "data": {
      "text/plain": [
       "7.333333333333333"
      ]
     },
     "execution_count": 22,
     "metadata": {},
     "output_type": "execute_result"
    }
   ],
   "source": [
    "mean(num_friends)"
   ]
  },
  {
   "cell_type": "code",
   "execution_count": 24,
   "metadata": {},
   "outputs": [
    {
     "data": {
      "text/plain": [
       "2"
      ]
     },
     "execution_count": 24,
     "metadata": {},
     "output_type": "execute_result"
    }
   ],
   "source": [
    "5//2"
   ]
  },
  {
   "cell_type": "markdown",
   "metadata": {},
   "source": [
    "If you have two data points, the mean is simply the point halfway between them. As\n",
    "you add more points, the mean shifts around, but it always depends on the value of\n",
    "every point.\n",
    "\n",
    "We’ll also sometimes be interested in the median, which is the middle-most value (if\n",
    "the number of data points is odd) or the average of the two middle-most values (if the\n",
    "number of data points is even).\n",
    "\n",
    "For instance, if we have five data points in a sorted vector x, the median is x[5 // 2]\n",
    "or x[2]. If we have six data points, we want the average of x[2] (the third point) and\n",
    "x[3] (the fourth point).\n",
    "\n",
    "Notice that—unlike the mean—the median doesn’t depend on every value in your\n",
    "data. For example, if you make the largest point larger (or the smallest point smaller),\n",
    "the middle points remain unchanged, which means so does the median.\n",
    "\n",
    "The median function is slightly more complicated than you might expect, mostly\n",
    "because of the “even” case:"
   ]
  },
  {
   "cell_type": "code",
   "execution_count": 27,
   "metadata": {},
   "outputs": [],
   "source": [
    "def median(v):\n",
    "    \"\"\"Finds the 'middle-most' value of v.\"\"\"\n",
    "    n = len(v)\n",
    "    sorted_v = sorted(v)\n",
    "    midpoint = n//2\n",
    "    \n",
    "    if n%2 == 1 :\n",
    "        # If odd, return the middle value\n",
    "        return sorted_v[midpoint]\n",
    "    else:\n",
    "        # If even, return the average of the middle values.\n",
    "        lo = midpoint-1\n",
    "        hi = midpoint\n",
    "        return (sorted_v[lo] + sorted_v[hi])/2"
   ]
  },
  {
   "cell_type": "code",
   "execution_count": 28,
   "metadata": {},
   "outputs": [
    {
     "data": {
      "text/plain": [
       "6.0"
      ]
     },
     "execution_count": 28,
     "metadata": {},
     "output_type": "execute_result"
    }
   ],
   "source": [
    "median(num_friends)"
   ]
  },
  {
   "cell_type": "markdown",
   "metadata": {},
   "source": [
    "Clearly, the mean is simpler to compute, and it varies smoothly as our data changes. If\n",
    "we have n data points and one of them increases by some small amount e, then neces‐\n",
    "sarily the mean will increase by e / n. (This makes the mean amenable to all sorts of\n",
    "calculus tricks.) Whereas in order to find the median, we have to sort our data. And\n",
    "changing one of our data points by a small amount e might increase the median by e,\n",
    "by some number less than e, or not at all (depending on the rest of the data).\n",
    "\n",
    "At the same time, the mean is very sensitive to outliers in our data. If our friendliest\n",
    "user had 200 friends (instead of 100), then the mean would rise to 7.82, while the\n",
    "median would stay the same. If outliers are likely to be bad data (or otherwise unrep‐\n",
    "resentative of whatever phenomenon we’re trying to understand), then the mean can\n",
    "sometimes give us a misleading picture. For example, the story is often told that in\n",
    "the mid-1980s, the major at the University of North Carolina with the highest average\n",
    "starting salary was geography, mostly on account of NBA star (and outlier) Michael\n",
    "Jordan.\n",
    "\n",
    "A generalization of the median is the quantile, which represents the value less than\n",
    "which a certain percentile of the data lies. (The median represents the value less than\n",
    "which 50% of the data lies.)"
   ]
  },
  {
   "cell_type": "code",
   "execution_count": 29,
   "metadata": {},
   "outputs": [],
   "source": [
    "def quantile(x,p):\n",
    "    \"\"\"Returns the pth-percentile.\"\"\"\n",
    "    p_index = int(p*len(x))\n",
    "    return sorted(x)[p_index]"
   ]
  },
  {
   "cell_type": "code",
   "execution_count": 30,
   "metadata": {},
   "outputs": [
    {
     "data": {
      "text/plain": [
       "1"
      ]
     },
     "execution_count": 30,
     "metadata": {},
     "output_type": "execute_result"
    }
   ],
   "source": [
    "quantile(num_friends, 0.1)"
   ]
  },
  {
   "cell_type": "code",
   "execution_count": 31,
   "metadata": {},
   "outputs": [
    {
     "data": {
      "text/plain": [
       "3"
      ]
     },
     "execution_count": 31,
     "metadata": {},
     "output_type": "execute_result"
    }
   ],
   "source": [
    "quantile(num_friends, 0.25)"
   ]
  },
  {
   "cell_type": "code",
   "execution_count": 32,
   "metadata": {},
   "outputs": [
    {
     "data": {
      "text/plain": [
       "6"
      ]
     },
     "execution_count": 32,
     "metadata": {},
     "output_type": "execute_result"
    }
   ],
   "source": [
    "quantile(num_friends, 0.5)"
   ]
  },
  {
   "cell_type": "code",
   "execution_count": 33,
   "metadata": {},
   "outputs": [
    {
     "data": {
      "text/plain": [
       "9"
      ]
     },
     "execution_count": 33,
     "metadata": {},
     "output_type": "execute_result"
    }
   ],
   "source": [
    "quantile(num_friends, 0.75)"
   ]
  },
  {
   "cell_type": "code",
   "execution_count": 34,
   "metadata": {},
   "outputs": [
    {
     "data": {
      "text/plain": [
       "13"
      ]
     },
     "execution_count": 34,
     "metadata": {},
     "output_type": "execute_result"
    }
   ],
   "source": [
    "quantile(num_friends, 0.9)"
   ]
  },
  {
   "cell_type": "markdown",
   "metadata": {},
   "source": [
    "Less commonly you might want to look at the mode, or most-common value[s]:"
   ]
  },
  {
   "cell_type": "code",
   "execution_count": 46,
   "metadata": {},
   "outputs": [],
   "source": [
    "def mode(x):\n",
    "    \"\"\"Returns a list, might be more than one mode.\"\"\"\n",
    "    counts = Counter(x)\n",
    "    max_count = max(counts.values())\n",
    "    return [x_i for x_i,count in counts.items() if count == max_count]"
   ]
  },
  {
   "cell_type": "code",
   "execution_count": 47,
   "metadata": {},
   "outputs": [
    {
     "data": {
      "text/plain": [
       "[6, 1]"
      ]
     },
     "execution_count": 47,
     "metadata": {},
     "output_type": "execute_result"
    }
   ],
   "source": [
    "mode(num_friends)"
   ]
  },
  {
   "cell_type": "markdown",
   "metadata": {},
   "source": [
    "## Dispersion"
   ]
  },
  {
   "cell_type": "markdown",
   "metadata": {},
   "source": [
    "Dispersion refers to measures of how spread out our data is. Typically they’re statistics\n",
    "for which values near zero signify not spread out at all and for which large values\n",
    "(whatever that means) signify very spread out. For instance, a very simple measure is\n",
    "the range, which is just the difference between the largest and smallest elements:"
   ]
  },
  {
   "cell_type": "code",
   "execution_count": 50,
   "metadata": {},
   "outputs": [],
   "source": [
    "# \"range\" already means something in Python, so we'll use a different name.\n",
    "def data_range(x):\n",
    "    return max(x)-min(x)"
   ]
  },
  {
   "cell_type": "code",
   "execution_count": 51,
   "metadata": {},
   "outputs": [
    {
     "data": {
      "text/plain": [
       "99.0"
      ]
     },
     "execution_count": 51,
     "metadata": {},
     "output_type": "execute_result"
    }
   ],
   "source": [
    "data_range(num_friends)"
   ]
  },
  {
   "cell_type": "markdown",
   "metadata": {},
   "source": [
    "The range is zero precisely when the max and min are equal, which can only happen if\n",
    "the elements of x are all the same, which means the data is as undispersed as possible.\n",
    "Conversely, if the range is large, then the max is much larger than the min and the data\n",
    "is more spread out.\n",
    "\n",
    "Like the median, the range doesn’t really depend on the whole data set. A data set\n",
    "whose points are all either 0 or 100 has the same range as a data set whose values are\n",
    "0, 100, and lots of 50s. But it seems like the first data set “should” be more spread out.\n",
    "\n",
    "A more complex measure of dispersion is the variance, which is computed as:"
   ]
  },
  {
   "cell_type": "code",
   "execution_count": 62,
   "metadata": {},
   "outputs": [],
   "source": [
    "def dot(v,w):\n",
    "    \"\"\"v_1 * w_1 + ... + v_n * w_n\"\"\"\n",
    "    return sum(v_i*w_i for v_i,w_i in zip(v,w))"
   ]
  },
  {
   "cell_type": "code",
   "execution_count": 63,
   "metadata": {},
   "outputs": [],
   "source": [
    "def sum_of_squares(v):\n",
    "    \"\"\"v_1 * v_1 + ... + v_n * v_n\"\"\"\n",
    "    return dot(v,v)"
   ]
  },
  {
   "cell_type": "code",
   "execution_count": 64,
   "metadata": {},
   "outputs": [],
   "source": [
    "def de_mean(x):\n",
    "    \"\"\"Translate x by subtracting its mean (so the result has mean 0).\"\"\"\n",
    "    x_bar = mean(x)\n",
    "    return [x_i-x_bar for x_i in x]"
   ]
  },
  {
   "cell_type": "code",
   "execution_count": 65,
   "metadata": {},
   "outputs": [],
   "source": [
    "def variance(x):\n",
    "    \"\"\"Assumes x has at least two elements.\"\"\"\n",
    "    n = len(x)\n",
    "    deviations = de_mean(x)\n",
    "    return sum_of_squares(deviations)/(n-1)"
   ]
  },
  {
   "cell_type": "code",
   "execution_count": 66,
   "metadata": {},
   "outputs": [
    {
     "data": {
      "text/plain": [
       "81.54351395730716"
      ]
     },
     "execution_count": 66,
     "metadata": {},
     "output_type": "execute_result"
    }
   ],
   "source": [
    "variance(num_friends)"
   ]
  },
  {
   "cell_type": "markdown",
   "metadata": {},
   "source": [
    "Now, whatever units our data is in (e.g., “friends”), all of our measures of central ten‐\n",
    "dency are in that same unit. The range will similarly be in that same unit. The var‐\n",
    "iance, on the other hand, has units that are the square of the original units (e.g.,\n",
    "“friends squared”). As it can be hard to make sense of these, we often look instead at\n",
    "the standard deviation:"
   ]
  },
  {
   "cell_type": "code",
   "execution_count": 69,
   "metadata": {},
   "outputs": [],
   "source": [
    "import math\n",
    "\n",
    "def standard_deviation(x):\n",
    "    return math.sqrt(variance(x))"
   ]
  },
  {
   "cell_type": "code",
   "execution_count": 70,
   "metadata": {},
   "outputs": [
    {
     "data": {
      "text/plain": [
       "9.03014473623248"
      ]
     },
     "execution_count": 70,
     "metadata": {},
     "output_type": "execute_result"
    }
   ],
   "source": [
    "standard_deviation(num_friends)"
   ]
  },
  {
   "cell_type": "markdown",
   "metadata": {},
   "source": [
    "Both the range and the standard deviation have the same outlier problem that we saw\n",
    "earlier for the mean. Using the same example, if our friendliest user had instead 200\n",
    "friends, the standard deviation would be 14.89, more than 60% higher!\n",
    "\n",
    "A more robust alternative computes the difference between the 75th percentile value\n",
    "and the 25th percentile value:"
   ]
  },
  {
   "cell_type": "code",
   "execution_count": 71,
   "metadata": {},
   "outputs": [],
   "source": [
    "def interquartile_range(x):\n",
    "    return quantile(x,0.75)-quantile(x,0.25)"
   ]
  },
  {
   "cell_type": "code",
   "execution_count": 72,
   "metadata": {},
   "outputs": [
    {
     "data": {
      "text/plain": [
       "6"
      ]
     },
     "execution_count": 72,
     "metadata": {},
     "output_type": "execute_result"
    }
   ],
   "source": [
    "interquartile_range(num_friends)"
   ]
  },
  {
   "cell_type": "markdown",
   "metadata": {},
   "source": [
    "which is quite plainly unaffected by a small number of outliers."
   ]
  },
  {
   "cell_type": "markdown",
   "metadata": {},
   "source": [
    "## Correlation"
   ]
  },
  {
   "cell_type": "markdown",
   "metadata": {},
   "source": [
    "DataSciencester’s VP of Growth has a theory that the amount of time people spend\n",
    "on the site is related to the number of friends they have on the site (she’s not a VP for\n",
    "nothing), and she’s asked you to verify this.\n",
    "\n",
    "After digging through traffic logs, you’ve come up with a list daily_minutes that\n",
    "shows how many minutes per day each user spends on DataSciencester, and you’ve\n",
    "ordered it so that its elements correspond to the elements of our previous\n",
    "num_friends list. We’d like to investigate the relationship between these two metrics.\n",
    "\n",
    "We’ll first look at covariance, the paired analogue of variance. Whereas variance\n",
    "measures how a single variable deviates from its mean, covariance measures how two\n",
    "variables vary in tandem from their means:"
   ]
  },
  {
   "cell_type": "code",
   "execution_count": 73,
   "metadata": {},
   "outputs": [],
   "source": [
    "def covariance(x,y):\n",
    "    n = len(x)\n",
    "    return dot(de_mean(x), de_mean(y))/(n-1)"
   ]
  },
  {
   "cell_type": "code",
   "execution_count": 74,
   "metadata": {},
   "outputs": [],
   "source": [
    "daily_minutes = [1,68.77,51.25,52.08,38.36,44.54,57.13,51.4,41.42,31.22,34.76,54.01,38.79,47.59,49.1,27.66,41.03,36.73,48.65,28.12,46.62,35.57,32.98,35,26.07,23.77,39.73,40.57,31.65,31.21,36.32,20.45,21.93,26.02,27.34,23.49,46.94,30.5,33.8,24.23,21.4,27.94,32.24,40.57,25.07,19.42,22.39,18.42,46.96,23.72,26.41,26.97,36.76,40.32,35.02,29.47,30.2,31,38.11,38.18,36.31,21.03,30.86,36.07,28.66,29.08,37.28,15.28,24.17,22.31,30.17,25.53,19.85,35.37,44.6,17.23,13.47,26.33,35.02,32.09,24.81,19.33,28.77,24.26,31.98,25.73,24.86,16.28,34.51,15.23,39.72,40.8,26.06,35.76,34.76,16.13,44.04,18.03,19.65,32.62,35.59,39.43,14.18,35.24,40.13,41.82,35.45,36.07,43.67,24.61,20.9,21.9,18.79,27.61,27.21,26.61,29.77,20.59,27.53,13.82,33.2,25,33.1,36.65,18.63,14.87,22.2,36.81,25.53,24.62,26.25,18.21,28.08,19.42,29.79,32.8,35.99,28.32,27.79,35.88,29.06,36.28,14.1,36.63,37.49,26.9,18.58,38.48,24.48,18.95,33.55,14.24,29.04,32.51,25.63,22.22,19,32.73,15.16,13.9,27.2,32.01,29.27,33,13.74,20.42,27.32,18.23,35.35,28.48,9.08,24.62,20.12,35.26,19.92,31.02,16.49,12.16,30.7,31.22,34.65,13.13,27.51,33.2,31.57,14.1,33.42,17.44,10.12,24.42,9.82,23.39,30.93,15.03,21.67,31.09,33.29,22.61,26.89,23.48,8.38,27.81,32.35,23.84]"
   ]
  },
  {
   "cell_type": "code",
   "execution_count": 75,
   "metadata": {},
   "outputs": [
    {
     "data": {
      "text/plain": [
       "22.425435139573064"
      ]
     },
     "execution_count": 75,
     "metadata": {},
     "output_type": "execute_result"
    }
   ],
   "source": [
    "covariance(num_friends, daily_minutes)"
   ]
  },
  {
   "cell_type": "markdown",
   "metadata": {},
   "source": [
    "Recall that dot sums up the products of corresponding pairs of elements. When cor‐\n",
    "responding elements of x and y are either both above their means or both below their\n",
    "means, a positive number enters the sum. When one is above its mean and the other\n",
    "below, a negative number enters the sum. Accordingly, a “large” positive covariance\n",
    "means that x tends to be large when y is large and small when y is small. A “large”\n",
    "negative covariance means the opposite—that x tends to be small when y is large and\n",
    "vice versa. A covariance close to zero means that no such relationship exists.\n",
    "\n",
    "Nonetheless, this number can be hard to interpret, for a couple of reasons:\n",
    "* Its units are the product of the inputs’ units (e.g., friend-minutes-per-day), which\n",
    "can be hard to make sense of. (What’s a “friend-minute-per-day”?)\n",
    "* If each user had twice as many friends (but the same number of minutes), the\n",
    "covariance would be twice as large. But in a sense the variables would be just as\n",
    "interrelated. Said differently, it’s hard to say what counts as a “large” covariance.\n",
    "\n",
    "For this reason, it’s more common to look at the correlation, which divides out the\n",
    "standard deviations of both variables:"
   ]
  },
  {
   "cell_type": "code",
   "execution_count": 76,
   "metadata": {},
   "outputs": [],
   "source": [
    "def correlation(x,y):\n",
    "    stdev_x = standard_deviation(x)\n",
    "    stdev_y = standard_deviation(y)\n",
    "    if stdev_x>0 and stdev_y > 0:\n",
    "        return covariance(x,y)/ stdev_x / stdev_y\n",
    "    else:\n",
    "        return 0 # If no variation, correlation is zero."
   ]
  },
  {
   "cell_type": "code",
   "execution_count": 77,
   "metadata": {},
   "outputs": [
    {
     "data": {
      "text/plain": [
       "0.24736957366478218"
      ]
     },
     "execution_count": 77,
     "metadata": {},
     "output_type": "execute_result"
    }
   ],
   "source": [
    "correlation(num_friends, daily_minutes)"
   ]
  },
  {
   "cell_type": "markdown",
   "metadata": {},
   "source": [
    "The correlation is unitless and always lies between -1 (perfect anti-correlation) and\n",
    "1 (perfect correlation). A number like 0.25 represents a relatively weak positive corre‐\n",
    "lation.\n",
    "\n",
    "However, one thing we neglected to do was examine our data. Check out Figure 5-2."
   ]
  },
  {
   "cell_type": "markdown",
   "metadata": {},
   "source": [
    "![](corr_outlier.jpg)"
   ]
  },
  {
   "cell_type": "markdown",
   "metadata": {},
   "source": [
    "The person with 100 friends (who spends only one minute per day on the site) is a\n",
    "huge outlier, and correlation can be very sensitive to outliers. What happens if we\n",
    "ignore him?"
   ]
  },
  {
   "cell_type": "code",
   "execution_count": 86,
   "metadata": {},
   "outputs": [],
   "source": [
    "outlier = num_friends.index(100) # Index of outlier\n",
    "\n",
    "num_friends_good = [x for i,x in enumerate(num_friends) if i != outlier]\n",
    "daily_minutes_good = [x for i,x in enumerate(daily_minutes) if i != outlier]"
   ]
  },
  {
   "cell_type": "code",
   "execution_count": 87,
   "metadata": {},
   "outputs": [
    {
     "data": {
      "text/plain": [
       "0.5736792115665573"
      ]
     },
     "execution_count": 87,
     "metadata": {},
     "output_type": "execute_result"
    }
   ],
   "source": [
    "correlation(num_friends_good, daily_minutes_good)"
   ]
  },
  {
   "cell_type": "markdown",
   "metadata": {},
   "source": [
    "Without the outlier, there is a much stronger correlation (Figure 5-3)."
   ]
  },
  {
   "cell_type": "markdown",
   "metadata": {},
   "source": [
    "![](corr_wo_outlier.jpg)"
   ]
  },
  {
   "cell_type": "markdown",
   "metadata": {},
   "source": [
    "You investigate further and discover that the outlier was actually an internal test\n",
    "account that no one ever bothered to remove. So you feel pretty justified in excluding\n",
    "it."
   ]
  },
  {
   "cell_type": "markdown",
   "metadata": {},
   "source": [
    "## Simpson’s Paradox"
   ]
  },
  {
   "cell_type": "markdown",
   "metadata": {},
   "source": [
    "One not uncommon surprise when analyzing data is Simpson’s Paradox, in which\n",
    "correlations can be misleading when confounding variables are ignored.\n",
    "\n",
    "For example, imagine that you can identify all of your members as either East Coast\n",
    "data scientists or West Coast data scientists. You decide to examine which coast’s data\n",
    "scientists are friendlier:"
   ]
  },
  {
   "cell_type": "markdown",
   "metadata": {},
   "source": [
    "![](ew_coast.jpg)"
   ]
  },
  {
   "cell_type": "markdown",
   "metadata": {},
   "source": [
    "It certainly looks like the West Coast data scientists are friendlier than the East Coast\n",
    "data scientists. Your coworkers advance all sorts of theories as to why this might be:\n",
    "maybe it’s the sun, or the coffee, or the organic produce, or the laid-back Pacific vibe?\n",
    "\n",
    "When playing with the data you discover something very strange. If you only look at\n",
    "people with PhDs, the East Coast data scientists have more friends on average. And if\n",
    "you only look at people without PhDs, the East Coast data scientists also have more\n",
    "friends on average!"
   ]
  },
  {
   "cell_type": "markdown",
   "metadata": {},
   "source": [
    "![](ew_coast_phd.jpg)"
   ]
  },
  {
   "cell_type": "markdown",
   "metadata": {},
   "source": [
    "Once you account for the users’ degrees, the correlation goes in the opposite direc‐\n",
    "tion! Bucketing the data as East Coast/West Coast disguised the fact that the East\n",
    "Coast data scientists skew much more heavily toward PhD types.\n",
    "\n",
    "This phenomenon crops up in the real world with some regularity. The key issue is\n",
    "that correlation is measuring the relationship between your two variables all else being\n",
    "equal. If your data classes are assigned at random, as they might be in a well-designed\n",
    "experiment, “all else being equal” might not be a terrible assumption. But when there\n",
    "is a deeper pattern to class assignments, “all else being equal” can be an awful assump‐\n",
    "tion.\n",
    "\n",
    "The only real way to avoid this is by knowing your data and by doing what you can to\n",
    "make sure you’ve checked for possible confounding factors. Obviously, this is not\n",
    "always possible. If you didn’t have the educational attainment of these 200 data scien‐\n",
    "tists, you might simply conclude that there was something inherently more sociable\n",
    "about the West Coast."
   ]
  },
  {
   "cell_type": "markdown",
   "metadata": {},
   "source": [
    "## Some Other Correlational Caveats"
   ]
  },
  {
   "cell_type": "markdown",
   "metadata": {},
   "source": [
    "A correlation of zero indicates that there is no linear relationship between the two\n",
    "variables. However, there may be other sorts of relationships. For example, if:"
   ]
  },
  {
   "cell_type": "code",
   "execution_count": 90,
   "metadata": {},
   "outputs": [],
   "source": [
    "x = [-2, -1, 0, 1, 2]\n",
    "y = [2, 1, 0, 1, 2]"
   ]
  },
  {
   "cell_type": "markdown",
   "metadata": {},
   "source": [
    "then x and y have zero correlation. But they certainly have a relationship—each ele‐\n",
    "ment of y equals the absolute value of the corresponding element of x. What they don’t have is a relationship in which knowing how x_i compares to mean(x) gives us\n",
    "information about how y_i compares to mean(y). That is the sort of relationship that\n",
    "correlation looks for.\n",
    "\n",
    "In addition, correlation tells you nothing about how large the relationship is. The\n",
    "variables:"
   ]
  },
  {
   "cell_type": "code",
   "execution_count": 91,
   "metadata": {},
   "outputs": [],
   "source": [
    "x = [-2, 1, 0, 1, 2]\n",
    "y = [99.98, 99.99, 100, 100.01, 100.02]"
   ]
  },
  {
   "cell_type": "markdown",
   "metadata": {},
   "source": [
    "are perfectly correlated, but (depending on what you’re measuring) it’s quite possible\n",
    "that this relationship isn’t all that interesting."
   ]
  },
  {
   "cell_type": "markdown",
   "metadata": {},
   "source": [
    "## Correlation and Causation"
   ]
  },
  {
   "cell_type": "markdown",
   "metadata": {},
   "source": [
    "You have probably heard at some point that “correlation is not causation,” most likely\n",
    "by someone looking at data that posed a challenge to parts of his worldview that he\n",
    "was reluctant to question. Nonetheless, this is an important point—if x and y are\n",
    "strongly correlated, that might mean that x causes y, that y causes x, that each causes\n",
    "the other, that some third factor causes both, or it might mean nothing.\n",
    "\n",
    "Consider the relationship between num_friends and daily_minutes. It’s possible that\n",
    "having more friends on the site causes DataSciencester users to spend more time on\n",
    "the site. This might be the case if each friend posts a certain amount of content each\n",
    "day, which means that the more friends you have, the more time it takes to stay current with their updates.\n",
    "\n",
    "However, it’s also possible that the more time you spend arguing in the DataSciences‐\n",
    "ter forums, the more you encounter and befriend like-minded people. That is, spending more time on the site causes users to have more friends.\n",
    "\n",
    "A third possibility is that the users who are most passionate about data science spend\n",
    "more time on the site (because they find it more interesting) and more actively collect\n",
    "data science friends (because they don’t want to associate with anyone else).\n",
    "\n",
    "One way to feel more confident about causality is by conducting randomized trials. If\n",
    "you can randomly split your users into two groups with similar demographics and\n",
    "give one of the groups a slightly different experience, then you can often feel pretty\n",
    "good that the different experiences are causing the different outcomes.\n",
    "\n",
    "For instance, if you don’t mind being angrily accused of experimenting on your users,\n",
    "you could randomly choose a subset of your users and show them content from only\n",
    "a fraction of their friends. If this subset subsequently spent less time on the site, this\n",
    "would give you some confidence that having more friends causes more time on the\n",
    "site."
   ]
  }
 ],
 "metadata": {
  "kernelspec": {
   "display_name": "Python 3",
   "language": "python",
   "name": "python3"
  },
  "language_info": {
   "codemirror_mode": {
    "name": "ipython",
    "version": 3
   },
   "file_extension": ".py",
   "mimetype": "text/x-python",
   "name": "python",
   "nbconvert_exporter": "python",
   "pygments_lexer": "ipython3",
   "version": "3.7.3"
  }
 },
 "nbformat": 4,
 "nbformat_minor": 2
}
