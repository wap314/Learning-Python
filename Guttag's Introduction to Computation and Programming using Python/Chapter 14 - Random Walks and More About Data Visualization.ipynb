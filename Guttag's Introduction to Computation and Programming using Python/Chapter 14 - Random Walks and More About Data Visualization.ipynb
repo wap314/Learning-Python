{
 "cells": [
  {
   "cell_type": "markdown",
   "metadata": {},
   "source": [
    "# Chapter 14 - Random Walks and More About Data Visualization"
   ]
  },
  {
   "cell_type": "markdown",
   "metadata": {},
   "source": [
    "This book is about using computation to solve problems. Thus far, we have focused our attention on problems that can be solved by a *__deterministic program.\n",
    "A program is deterministic if whenever it is run on the same input, it produces\n",
    "the same output.__* Such computations are highly useful, but clearly not sufficient\n",
    "to tackle some kinds of problems. Many aspects of the world in which we live can\n",
    "be accurately modeled only as *__stochastic processes. A process is stochastic if its\n",
    "next state can depend upon some random element.__* The outcome of a stochastic\n",
    "process is usually uncertain. Therefore, we can rarely make definitive statements\n",
    "about what they will do. Instead, we make *__probabilistic statements about what\n",
    "they might do.__* The rest of this book deals with building programs that help to\n",
    "understand uncertain situations. Many of these programs will be simulation\n",
    "models.\n",
    "\n",
    "A simulation mimics the activity of a real system. For example, the code in\n",
    "Figure 8.11 simulates a person making a series of mortgage payments. Think of\n",
    "that code as an experimental device, called a simulation model, that provides\n",
    "useful information about the possible behaviors of the system being modeled.\n",
    "Among other things, simulations are widely used to predict a future state of a\n",
    "physical system (e.g., the temperature of the planet 50 years from now), and in\n",
    "lieu of physical experiments that would be too expensive, time consuming, or\n",
    "dangerous to perform (e.g., the impact of a change in the tax code).\n",
    "\n",
    "*__It is important to remember that simulation models, like all models, are only\n",
    "an approximation of reality.__* One can never be sure that the actual system will behave in the way predicted by the model. In fact, one can usually be pretty confident that the actual system will not behave exactly as predicted by the model. For\n",
    "example, not every borrower will make all mortgage payments on time. It is a\n",
    "commonly quoted truism that *__“all models are wrong, but some are useful.”__*"
   ]
  },
  {
   "cell_type": "markdown",
   "metadata": {},
   "source": [
    "## 14.1 Random Walks"
   ]
  },
  {
   "cell_type": "markdown",
   "metadata": {},
   "source": [
    "*__In 1827, the Scottish botanist Robert Brown observed that pollen particles suspended in water seemed to float around at random. He had no plausible explanation for what came to be known as Brownian motion__*, and made no attempt to\n",
    "model it mathematically. A clear mathematical model of the phenomenon was\n",
    "first presented in 1900 in Louis Bachelier’s doctoral thesis, The Theory of Speculation. However, since this thesis dealt with the then disreputable problem of understanding financial markets, it was largely ignored by respectable academics.\n",
    "Five years later, *__a young Albert Einstein brought this kind of stochastic thinking\n",
    "to the world of physics with a mathematical model almost the same as Bachelier’s\n",
    "and a description of how it could be used to confirm the existence of atoms.__*\n",
    "For some reason, people seemed to think that understanding physics was more\n",
    "important than making money, and the world started paying attention. Times\n",
    "were certainly different.\n",
    "\n",
    "*__Brownian motion is an example of a random walk.__* Random walks are widely\n",
    "used to model physical processes (e.g., diffusion), biological processes (e.g., the\n",
    "kinetics of displacement of RNA from heteroduplexes by DNA), and social processes (e.g., movements of the stock market).\n",
    "In this chapter we look at random walks for three reasons:\n",
    "* Random walks are intrinsically interesting and widely used.\n",
    "* It provides us with a good example of how to use abstract data types and inheritance to structure programs in general and simulation models in particular.\n",
    "* It provides an opportunity to introduce a few more features of Python and to\n",
    "demonstrate some additional techniques for producing plots."
   ]
  },
  {
   "cell_type": "markdown",
   "metadata": {},
   "source": [
    "## 14.2 The Drunkard's Walk"
   ]
  },
  {
   "cell_type": "markdown",
   "metadata": {},
   "source": [
    "Let’s look at a random walk that actually involves walking. A drunken farmer is\n",
    "standing in the middle of a field, and every second the farmer takes one step in a\n",
    "random direction. What is her (or his) expected distance from the origin in 1000\n",
    "seconds? If she takes many steps, is she likely to move ever farther from the\n",
    "origin, or is she more likely to wander back to the origin over and over, and end\n",
    "up not far from where she started? Let’s write a simulation to find out.\n",
    "\n",
    "Before starting to design a program, it is always a good idea to try to develop\n",
    "some intuition about the situation the program is intended to model. Let’s start\n",
    "by sketching a simple model of the situation using Cartesian coordinates. Assume that the farmer is standing in a field where the grass has, mysteriously, been\n",
    "cut to resemble a piece of graph paper. Assume further that each step the farmer\n",
    "takes is of length one and is parallel to either the x-axis or y-axis."
   ]
  },
  {
   "cell_type": "markdown",
   "metadata": {},
   "source": [
    "![](unusual_farmer.jpg)"
   ]
  },
  {
   "cell_type": "markdown",
   "metadata": {},
   "source": [
    "The picture on the left of Figure 14.1 depicts a farmer91 standing in the middle of the field. The smiley faces indicate all the places the farmer might be after\n",
    "one step. Notice that after one step she is always exactly one unit away from\n",
    "where she started. Let’s assume that she wanders eastward from her initial location on her first step. How far away might she be from her initial location after\n",
    "her second step?\n",
    "\n",
    "Looking at the smiley faces in the picture on the right, we see that with a\n",
    "probability of 0.25 she will be 0 units away, with a probability of 0.25 she will be 2\n",
    "units away, and with a probability of 0.5 she will be 2 units away. So, on average  she will be farther away after two steps than after one step. What about the\n",
    "third step? If the second step is to the top or bottom smiley face, the third step\n",
    "will bring the farmer closer to the origin half the time and farther half the time. If\n",
    "the second step is to the left smiley face (the origin), the third step will be away\n",
    "from the origin. If the second step is to the right smiley face, the third step will be\n",
    "closer to the origin a quarter of the time, and farther away three quarters of the\n",
    "time.\n",
    "\n",
    "*__It seems as if the more steps the drunk takes, the greater the expected distance from the origin.__* We could continue this exhaustive enumeration of possibilities and perhaps develop a pretty good intuition about how this distance\n",
    "grows with respect to the number of steps. However, it is getting pretty tedious,\n",
    "so it seems like a better idea to write a program to do it for us.\n",
    "\n",
    "Let’s begin the design process by thinking about some data abstractions that\n",
    "are likely to be useful in building this simulation and perhaps simulations of other kinds of random walks. As usual, we should try to invent types that correspond to the kinds of things that appear in the situation we are attempting to\n",
    "model. *__Three obvious types are Location, Field, and Drunk__*. As we look at the classes providing these types, it is worthwhile to think about what each might imply\n",
    "about the kinds of simulation models they will allow us to build.\n",
    "\n",
    "Let’s start with Location, Figure 14.2. This is a simple class, but it does embody two important decisions.  *__It described a flat 2D universe__*, e.g., the simulation will not model changes in altitude. This is consistent with the pictures above. Also, since the values supplied for deltaX and\n",
    "deltaY could be floats rather than integers, *__there is no built-in assumption in this\n",
    "class about the set of directions in which a drunk might move__*. This is a generalization of the informal model in which each step was of length one and was parallel to the x-axis or y-axis.\n",
    "\n",
    "Class Field, Figure 14.2, is also quite simple, but it too embodies notable decisions. *__It simply maintains a mapping of drunks to locations__*. It places no constraints on locations, so presumably a Field is of unbounded size. It allows\n",
    "multiple drunks to be added into a Field at random locations. It says nothing\n",
    "about the patterns in which drunks move, nor does it prohibit multiple drunks\n",
    "from occupying the same location or moving through spaces occupied by other\n",
    "drunks."
   ]
  },
  {
   "cell_type": "code",
   "execution_count": 110,
   "metadata": {},
   "outputs": [],
   "source": [
    "class Location(object):\n",
    "    \"\"\"class Location describe a flat 2D universe.\"\"\"\n",
    "    \n",
    "    def __init__(self,x,y):\n",
    "        \"\"\"x and y are numbers.\"\"\"\n",
    "        self.x, self.y = x,y\n",
    "        \n",
    "    def move(self,deltaX,deltaY):\n",
    "        \"\"\"deltaX and deltaY are (float) numbers.\"\"\"\n",
    "        return Location(self.x + deltaX, self.y + deltaY)\n",
    "    \n",
    "    def getX(self):\n",
    "        return self.x\n",
    "    \n",
    "    def getY(self):\n",
    "        return self.y\n",
    "    \n",
    "    def distFrom(self,other):\n",
    "        #other is another instance of Location\n",
    "        ox,oy = other.x,other.y\n",
    "        xDist,yDist = self.x-ox,self.y-oy\n",
    "        return (xDist**2 + yDist**2)**0.5\n",
    "    \n",
    "    def __str__(self):\n",
    "        #retunr location (x,y coordinate).\n",
    "        return '<' + str(self.x) + ', ' + str(self.y) + '>'"
   ]
  },
  {
   "cell_type": "markdown",
   "metadata": {},
   "source": [
    "Let's try a bit some method of class Location."
   ]
  },
  {
   "cell_type": "code",
   "execution_count": 111,
   "metadata": {},
   "outputs": [
    {
     "name": "stdout",
     "output_type": "stream",
     "text": [
      "2.8284271247461903\n"
     ]
    }
   ],
   "source": [
    "drunk1_loc = Location(3,4)\n",
    "drunk2_loc = Location(1,2)\n",
    "\n",
    "print(drunk1_loc.distFrom(drunk2_loc))"
   ]
  },
  {
   "cell_type": "code",
   "execution_count": 112,
   "metadata": {},
   "outputs": [],
   "source": [
    "class Field(object):\n",
    "    \"\"\"class Field maintains a mapping from drunk to location.\"\"\"\n",
    "    \n",
    "    def __init__(self):\n",
    "        self.drunks = {} #create empty dict.\n",
    "        \n",
    "    def addDrunk(self,drunk,loc):\n",
    "        if drunk in self.drunks:\n",
    "            raise ValueError('Duplicate drunk.')\n",
    "        else:\n",
    "            self.drunks[drunk] = loc #add new key:drunk and value:loc.\n",
    "            \n",
    "    def moveDrunk(self,drunk):\n",
    "        if drunk not in self.drunks:\n",
    "            raise ValueError('Drunk not in field.')\n",
    "        xDist,yDist = drunk.takeStep() #method takeStep is defined in class UsualDrunk.\n",
    "        currentLocation = self.drunks[drunk]\n",
    "        #use move method of Location to get new location.\n",
    "        self.drunks[drunk] = currentLocation.move(xDist,yDist)\n",
    "        \n",
    "    def getLoc(self,drunk):\n",
    "        if drunk not in self.drunks:\n",
    "            raise ValueError('Drunk not in the field.')\n",
    "        return self.drunks[drunk]"
   ]
  },
  {
   "cell_type": "markdown",
   "metadata": {},
   "source": [
    "*__The classes Drunk and UsualDrunk in define the ways in which a\n",
    "drunk might wander through the field. In particular the value of stepChoices in\n",
    "UsualDrunk introduces the restriction that each step is of length one and is parallel\n",
    "to either the x-axis or y-axis__*. Since the function random.choice returns a randomly\n",
    "chosen member of the sequence that it is passed, each kind of step is equally likely and not influenced by previous steps. A bit later we will look at subclasses of\n",
    "Drunk with different kinds of behaviors."
   ]
  },
  {
   "cell_type": "code",
   "execution_count": 113,
   "metadata": {},
   "outputs": [],
   "source": [
    "import random\n",
    "\n",
    "class Drunk(object):\n",
    "    def __init__(self,name=None):\n",
    "        \"\"\"Assumes name is a str.\"\"\"\n",
    "        self.name = name\n",
    "        \n",
    "    def __str__(self):\n",
    "        if self != None:\n",
    "            return self.name\n",
    "        return 'Anonymous'\n",
    "    \n",
    "class UsualDrunk(Drunk):\n",
    "    \"\"\"Define the ways in which a drunk might wander through the field.\n",
    "       In this class each step is of length one and is parallel to either\n",
    "       x-axis or y-axis.\"\"\"\n",
    "    def takeStep(self):\n",
    "        stepChoices = [(0,1), (0,-1), (1,0), (-1,0)]\n",
    "        #uniform dist. over stepChoices\n",
    "        return random.choice(stepChoices)"
   ]
  },
  {
   "cell_type": "markdown",
   "metadata": {},
   "source": [
    "The next step is to use these classes to build a simulation that answers the\n",
    "original question. Figure 14.4 contains three functions used in this simulation.\n",
    "\n",
    "The function *walk* simulates one walk of *numSteps* step. The function *simWalks* calls *walk* to simulate *numTrials* walks of *numSteps* steps each. The function *drunkTest* calls *simWalks* to simulate walks of varying length. \n",
    "\n",
    "The parameter dClass of simWalks is of type class, and is used in the first line\n",
    "of code to create a Drunk of the appropriate subclass. Later, when drunk.takeStep is\n",
    "invoked from Field.moveDrunk, the method from the appropriate subclass is automatically selected.\n",
    "\n",
    "The function drunkTest also has a parameter, dClass, of type class. It is used\n",
    "twice, once in the call to simWalks and once in the first print statement. In the\n",
    "print statement, the built-in class attribute __ name __ is used to get a string with\n",
    "the name of the class."
   ]
  },
  {
   "cell_type": "code",
   "execution_count": 114,
   "metadata": {},
   "outputs": [],
   "source": [
    "def walk(f,d,numSteps):\n",
    "    \"\"\"Assumes: f is a Field, d is a drunk in f, and numSteps an int>=0.\n",
    "       Moves d numSteps times. Return the distance between the final location\n",
    "       and the location at the start of the walk.\"\"\"\n",
    "    start = f.getLoc(d) #coord. of starting point.\n",
    "    for s in range(numSteps):\n",
    "        f.moveDrunk(d)\n",
    "    return start.distFrom(f.getLoc(d))\n",
    "\n",
    "def simWalks(numSteps, numTrials, dClass):\n",
    "    \"\"\"Assumes numSteps an int>=0, numTrials an int>0,\n",
    "       dClass a subclass of Drunk. Simulates numTrials walks\n",
    "       of numSteps each. Return a list of the final distances \n",
    "       for each trial.\"\"\"\n",
    "    Homer = dClass()\n",
    "    origin = Location(0,0)\n",
    "    distances = []\n",
    "    for t in range(numTrials):\n",
    "        f = Field()\n",
    "        f.addDrunk(Homer,origin)\n",
    "        distances.append(round(walk(f, Homer, numSteps),1))\n",
    "    return distances\n",
    "\n",
    "def drunkTest(walkLengths, numTrials, dClass):\n",
    "    \"\"\"Assumes walkLengths a sequences of int>=0, numTrials an int>0,\n",
    "       dClass a subclass of Drunk. For each number of steps in walkLengths,\n",
    "       run simWalks with numTrials walks and print results.\"\"\"\n",
    "    for numSteps in walkLengths:\n",
    "        distances = simWalks(numSteps, numTrials, dClass)\n",
    "        print(dClass.__name__, 'random walk of', numSteps, 'steps.')\n",
    "        print('Mean =', round(sum(distances)/len(distances),4))\n",
    "        print('Max =', max(distances), 'Min =', min(distances),'\\n')"
   ]
  },
  {
   "cell_type": "markdown",
   "metadata": {},
   "source": [
    "Let's try to execute *drunkTest*. Let’s try walks of zero steps (for which the\n",
    "mean, minimum and maximum distances from the origin should all be 0) and\n",
    "one step (for which the mean, minimum and maximum distances from the\n",
    "origin should all be 1)."
   ]
  },
  {
   "cell_type": "code",
   "execution_count": 117,
   "metadata": {},
   "outputs": [
    {
     "name": "stdout",
     "output_type": "stream",
     "text": [
      "UsualDrunk random walk of 0 steps.\n",
      "Mean = 0.0\n",
      "Max = 0.0 Min = 0.0 \n",
      "\n",
      "UsualDrunk random walk of 1 steps.\n",
      "Mean = 1.0\n",
      "Max = 1.0 Min = 1.0 \n",
      "\n"
     ]
    }
   ],
   "source": [
    "drunkTest((0,1), 100, UsualDrunk)"
   ]
  },
  {
   "cell_type": "code",
   "execution_count": 118,
   "metadata": {},
   "outputs": [
    {
     "name": "stdout",
     "output_type": "stream",
     "text": [
      "UsualDrunk random walk of 10 steps.\n",
      "Mean = 2.624\n",
      "Max = 6.0 Min = 0.0 \n",
      "\n",
      "UsualDrunk random walk of 100 steps.\n",
      "Mean = 9.525\n",
      "Max = 26.9 Min = 0.0 \n",
      "\n",
      "UsualDrunk random walk of 1000 steps.\n",
      "Mean = 28.195\n",
      "Max = 63.9 Min = 3.2 \n",
      "\n",
      "UsualDrunk random walk of 10000 steps.\n",
      "Mean = 83.91\n",
      "Max = 212.2 Min = 5.7 \n",
      "\n"
     ]
    }
   ],
   "source": [
    "drunkTest((10, 100, 1000, 10000), 100, UsualDrunk)"
   ]
  },
  {
   "cell_type": "markdown",
   "metadata": {},
   "source": [
    "As anticipated, the mean distance from the origin grows with the number of\n",
    "steps. Always bring some skepticism to bear when looking at the results of a simulation. Ask if the results are plausible, and “smoke test” the simulation on parameters for which you have a strong intuition about what the results should be.\n",
    "\n",
    "Now let’s look at a plot of the mean distances from the origin, Figure 14.5. To\n",
    "give a sense of how fast the distance is growing, we have placed on the plot a line\n",
    "showing the square root of the number of steps (and increased the number of\n",
    "steps to 100,000). The plot showing the square root of the number of steps versus\n",
    "the distance from the origin is a straight line because we used a logarithmic scale\n",
    "on both axes."
   ]
  },
  {
   "cell_type": "markdown",
   "metadata": {},
   "source": [
    "![](mean_dist.jpg)"
   ]
  },
  {
   "cell_type": "markdown",
   "metadata": {},
   "source": [
    "Does this plot provide any information about the expected final location of a\n",
    "drunk? *__It does tell us that on average the drunk will be somewhere on a circle\n",
    "with its center at the origin and with a radius equal to the expected distance from\n",
    "the origin. However, it tells us very little about where we might actually find the\n",
    "drunk at the end of any particular walk__*. We return to this topic in the next section."
   ]
  },
  {
   "cell_type": "markdown",
   "metadata": {},
   "source": [
    "## 14.3 Biased Random Walks"
   ]
  },
  {
   "cell_type": "markdown",
   "metadata": {},
   "source": [
    "Now that we have a working simulation, we can start modifying it to investigate\n",
    "other kinds of random walks. Suppose, for example, that we want to consider the\n",
    "behavior of a drunken farmer in the northern hemisphere who hates the cold,\n",
    "and even in his drunken stupor is able to move twice as fast when his random\n",
    "movements take him in a southward direction. Or maybe a phototropic drunk\n",
    "who always moves towards the sun (east in the morning and west in the afternoon). These are examples of *__biased random walks. The walk is still stochastic, but there is a bias in the outcome.__*\n",
    "\n",
    "The following program defines two additional subclasses of Drunk. In each case *__the specialization involves choosing an appropriate value for stepChoices__*. The function\n",
    "simAll iterates over a sequence of subclasses of Drunk to generate information\n",
    "about how each kind behaves."
   ]
  },
  {
   "cell_type": "code",
   "execution_count": 124,
   "metadata": {},
   "outputs": [],
   "source": [
    "class ColdDrunk(Drunk):\n",
    "    def takeStep(self):\n",
    "        stepChoices = [(0.0,1.0),(0.0,-2.0),(1.0,0.0),(-1.0,0.0)]\n",
    "        return random.choice(stepChoices)\n",
    "    \n",
    "class EWDrunk(Drunk):\n",
    "    def takeStep(self):\n",
    "        stepChoices = [(1.0,0.0),(-1.0,0.0)]\n",
    "        return random.choice(stepChoices)\n",
    "\n",
    "def simAll(drunkKinds, walkLengths, numTrials):\n",
    "    for dClass in drunkKinds:\n",
    "        drunkTest(walkLengths, numTrials, dClass)"
   ]
  },
  {
   "cell_type": "markdown",
   "metadata": {},
   "source": [
    "Let's run the program:"
   ]
  },
  {
   "cell_type": "code",
   "execution_count": 125,
   "metadata": {},
   "outputs": [
    {
     "name": "stdout",
     "output_type": "stream",
     "text": [
      "UsualDrunk random walk of 100 steps.\n",
      "Mean = 8.55\n",
      "Max = 17.0 Min = 0.0 \n",
      "\n",
      "UsualDrunk random walk of 1000 steps.\n",
      "Mean = 26.46\n",
      "Max = 51.0 Min = 11.4 \n",
      "\n",
      "ColdDrunk random walk of 100 steps.\n",
      "Mean = 23.31\n",
      "Max = 38.8 Min = 13.3 \n",
      "\n",
      "ColdDrunk random walk of 1000 steps.\n",
      "Mean = 248.01\n",
      "Max = 301.1 Min = 206.8 \n",
      "\n",
      "EWDrunk random walk of 100 steps.\n",
      "Mean = 7.8\n",
      "Max = 14.0 Min = 2.0 \n",
      "\n",
      "EWDrunk random walk of 1000 steps.\n",
      "Mean = 17.4\n",
      "Max = 44.0 Min = 0.0 \n",
      "\n"
     ]
    }
   ],
   "source": [
    "simAll((UsualDrunk,ColdDrunk,EWDrunk),(100,1000),10)"
   ]
  },
  {
   "cell_type": "markdown",
   "metadata": {},
   "source": [
    "It appears that our heat-seeking drunk moves away from the origin faster than\n",
    "the other two kinds of drunk. However, it is not easy to digest all of the information in this output. It is once again time to move away from textual output and\n",
    "start using plots."
   ]
  },
  {
   "cell_type": "markdown",
   "metadata": {},
   "source": [
    "Since we are showing a number of different kinds of drunks on the same\n",
    "plot, we will associate a distinct style with each type of drunk so that it is easy to\n",
    "differentiate among them. The style will have three aspects:\n",
    "* The color of the line and marker,\n",
    "* The shape of the marker, and\n",
    "* The kind of the line, e.g., solid or dotted.\n",
    "\n",
    "The class styleIterator rotates through a sequence of styles defined by the argument to styleIterator.__ init __."
   ]
  },
  {
   "cell_type": "code",
   "execution_count": 130,
   "metadata": {},
   "outputs": [],
   "source": [
    "class styleIterator(object):\n",
    "    def __init__(self,styles):\n",
    "        self.index = 0\n",
    "        self.styles = styles\n",
    "        \n",
    "    def nextStyle(self):\n",
    "        result = self.styles[self.index]\n",
    "        if self.index == len(self.styles)-1:\n",
    "            self.index = 0\n",
    "        else:\n",
    "            self.index += 1\n",
    "        return result"
   ]
  },
  {
   "cell_type": "markdown",
   "metadata": {},
   "source": [
    "The print statements in simDrunk and simAll1 contribute nothing to the result of the\n",
    "simulation. They are there because this simulation can take a rather long time to\n",
    "complete, and *__printing an occasional message indicating that progress is being\n",
    "made can be quite reassuring to a user who might be wondering if the program is\n",
    "actually making progress__*.\n",
    "\n",
    "The code produces the plot on logarithmic scale. Notice that both the\n",
    "x and y axes are on a logarithmic scale. This was done by calling the plotting\n",
    "functions pylab.semilogx and pylab.semilogy. These functions are always applied\n",
    "to the current figure."
   ]
  },
  {
   "cell_type": "code",
   "execution_count": 133,
   "metadata": {},
   "outputs": [
    {
     "name": "stdout",
     "output_type": "stream",
     "text": [
      "Starting simulation of UsualDrunk\n",
      "Starting simulation of 10 steps\n",
      "Starting simulation of 100 steps\n",
      "Starting simulation of 1000 steps\n",
      "Starting simulation of 10000 steps\n",
      "Starting simulation of 100000 steps\n",
      "Starting simulation of ColdDrunk\n",
      "Starting simulation of 10 steps\n",
      "Starting simulation of 100 steps\n",
      "Starting simulation of 1000 steps\n",
      "Starting simulation of 10000 steps\n",
      "Starting simulation of 100000 steps\n",
      "Starting simulation of EWDrunk\n",
      "Starting simulation of 10 steps\n",
      "Starting simulation of 100 steps\n",
      "Starting simulation of 1000 steps\n",
      "Starting simulation of 10000 steps\n",
      "Starting simulation of 100000 steps\n"
     ]
    },
    {
     "data": {
      "image/png": "[encoded data removed]",
      "text/plain": [
       "<Figure size 432x288 with 1 Axes>"
      ]
     },
     "metadata": {
      "needs_background": "light"
     },
     "output_type": "display_data"
    }
   ],
   "source": [
    "import pylab\n",
    "\n",
    "def simDrunk(numTrials, dClass, walkLengths):\n",
    "    meanDistances = []\n",
    "    for numSteps in walkLengths:\n",
    "        print('Starting simulation of', numSteps, 'steps')\n",
    "        trials = simWalks(numSteps, numTrials, dClass)\n",
    "        mean = sum(trials)/len(trials)\n",
    "        meanDistances.append(mean)\n",
    "    return meanDistances\n",
    "\n",
    "def simAll1(drunkKinds, walkLengths, numTrials):\n",
    "    styleChoice = styleIterator(('m-','r:','k-'))\n",
    "    for dClass in drunkKinds:\n",
    "        curStyle = styleChoice.nextStyle()\n",
    "        print('Starting simulation of', dClass.__name__)\n",
    "        means = simDrunk(numTrials, dClass, walkLengths)\n",
    "        pylab.plot(walkLengths, means, curStyle, label = dClass.__name__)\n",
    "    pylab.title('Mean Distance from Origin (' + str(numTrials) + ' trials)')\n",
    "    pylab.xlabel('Number of Steps')\n",
    "    pylab.ylabel('Distance from Origin')\n",
    "    pylab.legend(loc = 'best')\n",
    "    pylab.semilogx()\n",
    "    pylab.semilogy()\n",
    "    \n",
    "simAll1((UsualDrunk, ColdDrunk, EWDrunk),(10,100,1000,10000,100000),100)"
   ]
  },
  {
   "cell_type": "markdown",
   "metadata": {},
   "source": [
    "The usual drunk and the phototropic drunk (EWDrunk) seem to be moving\n",
    "away from the origin at approximately the same pace, but the heat-seeking drunk\n",
    "(ColdDrunk) seems to be moving away orders of magnitude faster. This is interesting, since on average he is only moving 25% faster (he takes, on average, five\n",
    "steps for every four taken by the others)."
   ]
  },
  {
   "cell_type": "code",
   "execution_count": null,
   "metadata": {},
   "outputs": [],
   "source": []
  }
 ],
 "metadata": {
  "kernelspec": {
   "display_name": "Python 3",
   "language": "python",
   "name": "python3"
  },
  "language_info": {
   "codemirror_mode": {
    "name": "ipython",
    "version": 3
   },
   "file_extension": ".py",
   "mimetype": "text/x-python",
   "name": "python",
   "nbconvert_exporter": "python",
   "pygments_lexer": "ipython3",
   "version": "3.7.3"
  }
 },
 "nbformat": 4,
 "nbformat_minor": 2
}
