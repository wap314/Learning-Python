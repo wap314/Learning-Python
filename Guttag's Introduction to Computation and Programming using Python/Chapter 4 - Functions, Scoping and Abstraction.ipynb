{
 "cells": [
  {
   "cell_type": "markdown",
   "metadata": {},
   "source": [
    "# Chapter 4 - Functions, Scoping and Abstraction"
   ]
  },
  {
   "cell_type": "markdown",
   "metadata": {},
   "source": [
    "So far we have learn about number, assignment, input/output, comparison and looping constructs. In a theoretical sense, this subset of Python is Turing complete. This means that if a problem can be solved via computation, it can be solved only using those statements that we have already seen. Which isn't to say that we should only use those statements. Consider the program we developed to implement Bisection Search:"
   ]
  },
  {
   "cell_type": "code",
   "execution_count": 2,
   "metadata": {},
   "outputs": [
    {
     "name": "stdout",
     "output_type": "stream",
     "text": [
      "Number of iteration = 5 , solution = 0.546875\n"
     ]
    }
   ],
   "source": [
    "#Implementation of Bisection Search algorithm to find square root.\n",
    "x = 0.3  #the problem\n",
    "epsilon=0.01\n",
    "low=0\n",
    "high=max(1,x)\n",
    "ans=(low+high)/2.0 #initial candidate answer (based on bisection method)\n",
    "numIter=0\n",
    "\n",
    "#Iteration stop only when L1 dist. is smaller than epsilon.\n",
    "while abs(ans**2-x)>=epsilon:\n",
    "    #print('Number of iteration =',numIter,', low =',low,', high =',high,', solution =',ans)\n",
    "    numIter+=1\n",
    "    if ans**2<x:\n",
    "        #if it's too small, the answer should lie in the right.\n",
    "        low=ans\n",
    "    else:\n",
    "        #if it's too big, the answer should lie in the left.\n",
    "        high=ans\n",
    "    ans=(low+high)/2.0\n",
    "    \n",
    "#At this point we already have the solution.\n",
    "print('Number of iteration =',numIter,', solution =',ans)"
   ]
  },
  {
   "cell_type": "code",
   "execution_count": 3,
   "metadata": {},
   "outputs": [
    {
     "data": {
      "text/plain": [
       "0.299072265625"
      ]
     },
     "execution_count": 3,
     "metadata": {},
     "output_type": "execute_result"
    }
   ],
   "source": [
    "0.546875**2"
   ]
  },
  {
   "cell_type": "markdown",
   "metadata": {},
   "source": [
    "The code above lacks general utility. It works only for values denoted by variables x and epsilon. This means that if we want to reuse it, we need to copy the code, possibly edit the variable names, and paste it where we want it. \n",
    "\n",
    "Furthermore, if we want to compute cube roots rather than square roots, we have to edit the code. If we want a program that compute both square and cube roots, the program would contain multiple chunks of almost identical code. This is a very bad thing. The more code a program contains, the more chance there is for something to go wrong and the harder the code is to maintain. \n",
    "\n",
    "Python provides several linguistic features that make it relatively easy to generalize and reuse code. The most important is the function."
   ]
  },
  {
   "cell_type": "markdown",
   "metadata": {},
   "source": [
    "## 4.1 Functions and Scoping"
   ]
  },
  {
   "cell_type": "markdown",
   "metadata": {},
   "source": [
    "The ability for programmers to define and then use their own functions, as if they were built in, is a qualitative leap forward in convenience."
   ]
  },
  {
   "cell_type": "markdown",
   "metadata": {},
   "source": [
    "### 4.1.1 Function Definitions"
   ]
  },
  {
   "cell_type": "markdown",
   "metadata": {},
   "source": [
    "In Python, each function definition is of the form:"
   ]
  },
  {
   "cell_type": "markdown",
   "metadata": {},
   "source": [
    "![](function_def.jpg)"
   ]
  },
  {
   "cell_type": "markdown",
   "metadata": {},
   "source": [
    "For example, we could define the function maxVal by the code:"
   ]
  },
  {
   "cell_type": "code",
   "execution_count": null,
   "metadata": {},
   "outputs": [],
   "source": [
    "def maxVal(x,y):\n",
    "    if x>y:\n",
    "        return x\n",
    "    else:\n",
    "        #x<=y\n",
    "        return y"
   ]
  },
  {
   "cell_type": "code",
   "execution_count": null,
   "metadata": {},
   "outputs": [],
   "source": [
    "maxVal(4,9)"
   ]
  },
  {
   "cell_type": "markdown",
   "metadata": {},
   "source": [
    "def is a reserved word that tells Python that a function is about to be defined. *Objects in the parenthesis following the function name are the formal parameters of the function. When the function is used, the formal parameters are bound to the actual parameters (arguments) of the function call (invocation)*. For example,the invocation maxVal(5,7) binds x to 5 and y to 7.\n",
    "\n",
    "A function call is an expression and like all expressions it has a value. That value is the value returned by the invoked function.\n",
    "\n",
    "Parameters provide something called *lambda abstraction*, allowing programmers to write code that manipulates not specific objects, but instead whatever objects the caller of the function chooses to use as actual parameters."
   ]
  },
  {
   "cell_type": "markdown",
   "metadata": {},
   "source": [
    "Finger exercise: Write a function isIn that accepts two strings as arguments and\n",
    "returns True if either string occurs anywhere in the other, and False otherwise.\n",
    "Hint: you might want to use the built-in str operation in."
   ]
  },
  {
   "cell_type": "code",
   "execution_count": 4,
   "metadata": {},
   "outputs": [],
   "source": [
    "#The function isIn accepts two strings as arguments and returns True if\n",
    "#either string occurs anywhere in the other, and False otherwise.\n",
    "\n",
    "def isIn(x,y):\n",
    "    if x in y or y in x:\n",
    "        #either string occur (anywhere) in the other.\n",
    "        return True\n",
    "    else:\n",
    "        #neither string occur (anywhere) in the other.\n",
    "        return False"
   ]
  },
  {
   "cell_type": "code",
   "execution_count": 5,
   "metadata": {},
   "outputs": [
    {
     "data": {
      "text/plain": [
       "True"
      ]
     },
     "execution_count": 5,
     "metadata": {},
     "output_type": "execute_result"
    }
   ],
   "source": [
    "isIn('Hand','Handphone')"
   ]
  },
  {
   "cell_type": "code",
   "execution_count": 6,
   "metadata": {},
   "outputs": [
    {
     "data": {
      "text/plain": [
       "False"
      ]
     },
     "execution_count": 6,
     "metadata": {},
     "output_type": "execute_result"
    }
   ],
   "source": [
    "'Hallo' in 'Handphone'"
   ]
  },
  {
   "cell_type": "markdown",
   "metadata": {},
   "source": [
    "### 4.1.2 Keywords Arguments and Default Value\n",
    "\n",
    "There are two ways that formal parameters get bound to actual parameters. The most common method -which we have used so far- is called positional where the first formal parameter is bound to the first actual parameter, the second formal parameter bound to the second actual etc. Python also support keyword arguments, in which formals are bound to actuals using the name of the formal parameter. Consider the function definition:"
   ]
  },
  {
   "cell_type": "code",
   "execution_count": 7,
   "metadata": {},
   "outputs": [],
   "source": [
    "def printName(firstName, lastName, reverse):\n",
    "    if reverse == True:\n",
    "        #reverse == True\n",
    "        print(lastName, firstName)\n",
    "    else:\n",
    "        #reverse == False\n",
    "        print(firstName, lastName)"
   ]
  },
  {
   "cell_type": "code",
   "execution_count": 8,
   "metadata": {},
   "outputs": [
    {
     "name": "stdout",
     "output_type": "stream",
     "text": [
      "Adi Wisnu\n"
     ]
    }
   ],
   "source": [
    "printName('Wisnu','Adi',True)"
   ]
  },
  {
   "cell_type": "code",
   "execution_count": 9,
   "metadata": {},
   "outputs": [
    {
     "name": "stdout",
     "output_type": "stream",
     "text": [
      "Wisnu Adi\n"
     ]
    }
   ],
   "source": [
    "printName('Wisnu','Adi',False)"
   ]
  },
  {
   "cell_type": "markdown",
   "metadata": {},
   "source": [
    "Which can be simplified as follows:"
   ]
  },
  {
   "cell_type": "code",
   "execution_count": 10,
   "metadata": {},
   "outputs": [],
   "source": [
    "def printName(firstName, lastName, reverse):\n",
    "    if reverse:\n",
    "        #reverse == True\n",
    "        print(lastName, firstName)\n",
    "    else:\n",
    "        #reverse == False\n",
    "        print(firstName, lastName)"
   ]
  },
  {
   "cell_type": "code",
   "execution_count": 11,
   "metadata": {},
   "outputs": [
    {
     "name": "stdout",
     "output_type": "stream",
     "text": [
      "Adi Wisnu\n"
     ]
    }
   ],
   "source": [
    "printName('Wisnu','Adi',True)"
   ]
  },
  {
   "cell_type": "code",
   "execution_count": 12,
   "metadata": {},
   "outputs": [
    {
     "name": "stdout",
     "output_type": "stream",
     "text": [
      "Wisnu Adi\n"
     ]
    }
   ],
   "source": [
    "printName('Wisnu','Adi',False)"
   ]
  },
  {
   "cell_type": "markdown",
   "metadata": {},
   "source": [
    "Keywords arguments are commonly used in conjunction with default parameter values. We can, for example, write:"
   ]
  },
  {
   "cell_type": "code",
   "execution_count": 13,
   "metadata": {},
   "outputs": [],
   "source": [
    "def printName(firstName, lastName, reverse = False):\n",
    "    if reverse:\n",
    "        #reverse == True\n",
    "        print(lastName, firstName)\n",
    "    else:\n",
    "        #reverse == False\n",
    "        print(firstName, lastName)"
   ]
  },
  {
   "cell_type": "code",
   "execution_count": 14,
   "metadata": {},
   "outputs": [
    {
     "name": "stdout",
     "output_type": "stream",
     "text": [
      "Zach De la Rocha\n"
     ]
    }
   ],
   "source": [
    "printName('Zach','De la Rocha')"
   ]
  },
  {
   "cell_type": "code",
   "execution_count": 15,
   "metadata": {},
   "outputs": [
    {
     "name": "stdout",
     "output_type": "stream",
     "text": [
      "Zach De la Rocha\n"
     ]
    }
   ],
   "source": [
    "printName('Zach','De la Rocha', False)"
   ]
  },
  {
   "cell_type": "markdown",
   "metadata": {},
   "source": [
    "### 4.1.3 Scoping\n",
    "\n",
    "Let's look at another small example:"
   ]
  },
  {
   "cell_type": "code",
   "execution_count": null,
   "metadata": {},
   "outputs": [],
   "source": [
    "def f(x): #name x used as formal parameter\n",
    "    y = 1\n",
    "    x = x + y\n",
    "    print('x =', x)\n",
    "    return x\n",
    "\n",
    "x = 3\n",
    "y = 2\n",
    "z = f(x) #value of x used as actual parameter\n",
    "\n",
    "print('z =', z)\n",
    "print('x =', x)\n",
    "print('y =', y)"
   ]
  },
  {
   "cell_type": "markdown",
   "metadata": {},
   "source": [
    "Note that any function defines a new name space, known as scope. Formal parameter x and local variable y that are used in f exist only within the scope of the definition of f. The assignment in f have no effect at all on the bindings of the names x and y that exist outside the scope of f. "
   ]
  },
  {
   "cell_type": "markdown",
   "metadata": {},
   "source": [
    "## 4.2 Specifications"
   ]
  },
  {
   "cell_type": "markdown",
   "metadata": {},
   "source": [
    "The following code defines a function, findRoot, that generalizes the bisection search. It also contain a function, testFindRoot, that can be used to test whether or not findRoot works as intended."
   ]
  },
  {
   "cell_type": "code",
   "execution_count": null,
   "metadata": {},
   "outputs": [],
   "source": [
    "def findRoot(x,power,epsilon):\n",
    "    \"\"\"Assumes x and epsilon>0 are either int or float, power>=1 is an int.\n",
    "    The function return float y such that y**power is within epsilon of x.\n",
    "    If such solution does not exist, it return none.\"\"\"\n",
    "    \n",
    "    #Text in red will appear by typing help(findRoot).\n",
    "    \n",
    "    #Negative number has no even-powered roots.\n",
    "    if x<0 and power%2==0:\n",
    "        return None\n",
    "    \n",
    "    #Take into account also when |x|<1.\n",
    "    low  = min(-1.0,x)\n",
    "    high = max(1.0,x)\n",
    "    ans = (low+high)/2.0\n",
    "    \n",
    "    #Iteration stops only when L1 dist. smaller than epsilon.\n",
    "    while abs(ans**power-x) >= epsilon:\n",
    "        if ans**power < x:\n",
    "            #then ans is on the right side.\n",
    "            low = ans\n",
    "        else:\n",
    "            #ans**power > x, then ans is on the left side.\n",
    "            high = ans\n",
    "        ans = (low+high)/2.0\n",
    "    return ans"
   ]
  },
  {
   "cell_type": "code",
   "execution_count": null,
   "metadata": {},
   "outputs": [],
   "source": [
    "def testFindRoot():\n",
    "    epsilon = 0.0001\n",
    "    \n",
    "    for x in [0.25, -0.25, 2, -2, 8, -8]:\n",
    "        for power in range(1,4):\n",
    "            print('Testing x =', str(x), 'and power = ', power)\n",
    "            result = findRoot(x,power,epsilon)\n",
    "            if result == None:\n",
    "                print('No root.')\n",
    "            else:\n",
    "                #there exist a result\n",
    "                print(' ', result**power, '~=', x)"
   ]
  },
  {
   "cell_type": "code",
   "execution_count": null,
   "metadata": {},
   "outputs": [],
   "source": [
    "help(findRoot)"
   ]
  },
  {
   "cell_type": "code",
   "execution_count": null,
   "metadata": {},
   "outputs": [],
   "source": [
    "findRoot"
   ]
  },
  {
   "cell_type": "code",
   "execution_count": null,
   "metadata": {},
   "outputs": [],
   "source": [
    "findRoot(8,3,0.1)"
   ]
  },
  {
   "cell_type": "code",
   "execution_count": null,
   "metadata": {},
   "outputs": [],
   "source": [
    "testFindRoot()"
   ]
  },
  {
   "cell_type": "markdown",
   "metadata": {},
   "source": [
    "The function testFindRoot() is a test code. It is written with goal to test whether function FindRoot() works properly."
   ]
  },
  {
   "cell_type": "markdown",
   "metadata": {},
   "source": [
    "## 4.3 Recursion"
   ]
  },
  {
   "cell_type": "markdown",
   "metadata": {},
   "source": [
    "Recursion is a very important idea, but its not so subtle, and it is more than a programming technique. *In general, a recursive definition is made up of two parts. There is at least one base case that directly specifies the result of a special case, and there is at least one recursice (inductive) case that defines the answer in terms of the answer to the question on some other input*, typically a simpler version of the same problem.\n",
    "\n",
    "A simple example of recursive definition is factorial function on natural numbers. The classic inductive definition is \n",
    "1! = 1 and (n+1)! = (n+1)n! . The first equation define the base case. The second equation defines factorial for all natural numbers, except the base case, in terms of the factorial of the previous numbers. \n",
    "\n",
    "Below we have implementation of factorial function using both __iterative__ and __recursive__ approach."
   ]
  },
  {
   "cell_type": "code",
   "execution_count": 16,
   "metadata": {},
   "outputs": [],
   "source": [
    "#Iterative implementation of factorial function.\n",
    "def factI(n):\n",
    "    \"\"\"Assumes n>0 an int. Returns n! by iterative method.\"\"\"\n",
    "    result=1\n",
    "    while n>1:\n",
    "        result=result*n # new_value = f(old_value)\n",
    "        n -= 1\n",
    "    return result"
   ]
  },
  {
   "cell_type": "code",
   "execution_count": 17,
   "metadata": {},
   "outputs": [
    {
     "name": "stdout",
     "output_type": "stream",
     "text": [
      "Help on function factI in module __main__:\n",
      "\n",
      "factI(n)\n",
      "    Assumes n>0 an int. Returns n! by iterative method.\n",
      "\n"
     ]
    }
   ],
   "source": [
    "help(factI)"
   ]
  },
  {
   "cell_type": "code",
   "execution_count": 25,
   "metadata": {},
   "outputs": [
    {
     "data": {
      "text/plain": [
       "2"
      ]
     },
     "execution_count": 25,
     "metadata": {},
     "output_type": "execute_result"
    }
   ],
   "source": [
    "factI(2)"
   ]
  },
  {
   "cell_type": "code",
   "execution_count": 26,
   "metadata": {},
   "outputs": [],
   "source": [
    "#Recursive implementation of factorial function.\n",
    "def factR(n):\n",
    "    \"\"\"Assumes n>0 an int. Returns n! by recursive method.\"\"\"\n",
    "    if n==1:\n",
    "        #base case.\n",
    "        return n\n",
    "    else:\n",
    "        #recursive case.\n",
    "        return n*factR(n-1)"
   ]
  },
  {
   "cell_type": "code",
   "execution_count": 27,
   "metadata": {},
   "outputs": [
    {
     "name": "stdout",
     "output_type": "stream",
     "text": [
      "Help on function factR in module __main__:\n",
      "\n",
      "factR(n)\n",
      "    Assumes n>0 an int. Returns n! by recursive method.\n",
      "\n"
     ]
    }
   ],
   "source": [
    "help(factR)"
   ]
  },
  {
   "cell_type": "code",
   "execution_count": 29,
   "metadata": {},
   "outputs": [
    {
     "data": {
      "text/plain": [
       "2"
      ]
     },
     "execution_count": 29,
     "metadata": {},
     "output_type": "execute_result"
    }
   ],
   "source": [
    "factR(2)"
   ]
  },
  {
   "cell_type": "markdown",
   "metadata": {},
   "source": [
    "The second program is a more obvious translation of the original recursive definition. Note that for factR, the recursion terminates with the call factR(1)."
   ]
  },
  {
   "cell_type": "markdown",
   "metadata": {},
   "source": [
    "### 4.3.1 Fibonacci Numbers\n",
    "\n",
    "The Fibonacci sequence is another common mathematical function that is usually defined recursively. In the year  1202 , the Italian mathematician Leonardo of Pisa, also known as Fibonacci, developed a formula to quantify the notion of quick grows of rabbit population.\n",
    "\n",
    "Fibonacci states that for month n<1, then females(n) = females(n-1) + females(n-2). The growth in population is described naturally by the recurrence:\n",
    "females(0)=1\n",
    "females(1)=1\n",
    "females(n+2) = females(n)+females(n+1)\n",
    "\n",
    "This definition is a little different from the recursive definition of factorial:\n",
    "\n",
    "1) Fibonacci sequence has two base cases, not just one. In general, you can have as many base cases as you need.\n",
    "\n",
    "2) Fibonacci sequence has two recursive calls, not just one. Again, there can be as many as you need.\n",
    "\n",
    "Below is an implementation of the Fibonacci sequence, along with a function that can be used to test it."
   ]
  },
  {
   "cell_type": "code",
   "execution_count": 30,
   "metadata": {},
   "outputs": [],
   "source": [
    "def fib(n):\n",
    "    \"\"\"Assumes n>=0 is an integer. Returns Fibonacci of n.\"\"\"\n",
    "    if n==0 or n==1:\n",
    "        #base case.\n",
    "        return 1\n",
    "    else:\n",
    "        #recursive case.\n",
    "        return fib(n-1) + fib(n-2)"
   ]
  },
  {
   "cell_type": "code",
   "execution_count": 31,
   "metadata": {},
   "outputs": [],
   "source": [
    "def testfib(n):\n",
    "    for i in range(n+1):\n",
    "        print('Fibonacci seq. of',i,'=',fib(i))"
   ]
  },
  {
   "cell_type": "code",
   "execution_count": 32,
   "metadata": {},
   "outputs": [
    {
     "name": "stdout",
     "output_type": "stream",
     "text": [
      "Fibonacci seq. of 0 = 1\n",
      "Fibonacci seq. of 1 = 1\n",
      "Fibonacci seq. of 2 = 2\n",
      "Fibonacci seq. of 3 = 3\n",
      "Fibonacci seq. of 4 = 5\n",
      "Fibonacci seq. of 5 = 8\n"
     ]
    }
   ],
   "source": [
    "testfib(5)"
   ]
  },
  {
   "cell_type": "code",
   "execution_count": 33,
   "metadata": {},
   "outputs": [
    {
     "data": {
      "text/plain": [
       "8"
      ]
     },
     "execution_count": 33,
     "metadata": {},
     "output_type": "execute_result"
    }
   ],
   "source": [
    "fib(5)"
   ]
  },
  {
   "cell_type": "markdown",
   "metadata": {},
   "source": [
    "### 4.3.2 Palindromes\n",
    "\n",
    "Recursion is also useful for problems that do not involves numbers. We will look at whats us known as palindrome, a string that reads the same way forward and backward. The following program checks whether a given string is a palindrome."
   ]
  },
  {
   "cell_type": "code",
   "execution_count": 7,
   "metadata": {},
   "outputs": [],
   "source": [
    "def isPalindrome(s):\n",
    "    \"\"\"Assumes s is a string. Return True if letter in s form a palindrome; False otherwise.\n",
    "    Non-letters and capitalizations are ignored.\"\"\"\n",
    "    \n",
    "    #create string without capital and non-letters.\n",
    "    def toChar(s):\n",
    "        s = s.lower() #turn capital to non-capital\n",
    "        letters = ''  #empty string\n",
    "        \n",
    "        for c in s:   #iteration on each string of s\n",
    "            if c in 'abcdefghijklmnopqrstuvwxyz':\n",
    "                #if string in s is a letter of alphabet\n",
    "                letters = letters + c\n",
    "        return letters\n",
    "    \n",
    "    #checking palindrome\n",
    "    def isPal(s):\n",
    "        if len(s)<=1:\n",
    "            #base case\n",
    "            return True\n",
    "        else:\n",
    "            #len(s)>1, the recursive part\n",
    "            return s[0] == s[-1] and isPal(s[1:-1])\n",
    "    \n",
    "    return isPal(toChar(s))"
   ]
  },
  {
   "cell_type": "code",
   "execution_count": 8,
   "metadata": {},
   "outputs": [
    {
     "name": "stdout",
     "output_type": "stream",
     "text": [
      "Help on function isPalindrome in module __main__:\n",
      "\n",
      "isPalindrome(s)\n",
      "    Assumes s is a string. Return True if letter in s form a palindrome; False otherwise.\n",
      "    Non-letters and capitalizations are ignored.\n",
      "\n"
     ]
    }
   ],
   "source": [
    "help(isPalindrome)"
   ]
  },
  {
   "cell_type": "code",
   "execution_count": 9,
   "metadata": {},
   "outputs": [
    {
     "data": {
      "text/plain": [
       "True"
      ]
     },
     "execution_count": 9,
     "metadata": {},
     "output_type": "execute_result"
    }
   ],
   "source": [
    "isPalindrome('torot')"
   ]
  },
  {
   "cell_type": "markdown",
   "metadata": {},
   "source": [
    "Above implementation of isPalindrome is an example of an important problem solving principle known as divide-and-conquer, i.e. to conquer a hard problem by breaking it into a set of subproblems with the properties that:\n",
    "\n",
    "1)The subproblems are easier to solve than the original problem, and\n",
    "\n",
    "2)Solutions of the subproblems can be combined to solve the original problem."
   ]
  },
  {
   "cell_type": "markdown",
   "metadata": {},
   "source": [
    "## 4.4 Global Variables\n",
    "\n",
    "Running fib(n) for large n took a very long time to run. In such case, suppose we want to know how many recursive calls are made? One approach is to add some code that counts the number of calls. One way to do that uses global variables.\n",
    "\n",
    "Until now, all of the function we have written communicate with their environments solely through their parameters and return values. Every one in a while, however, global variables come in handy. Consider the following code."
   ]
  },
  {
   "cell_type": "code",
   "execution_count": null,
   "metadata": {},
   "outputs": [],
   "source": [
    "def fib(x):\n",
    "    \"\"\"Assumes x>=0 an integer. Returns Fibonacci of x.\"\"\"\n",
    "    global numFibCalls\n",
    "    numFibCalls += 1\n",
    "    \n",
    "    if x==0 or x==1:\n",
    "        #base case\n",
    "        return 1\n",
    "    else:\n",
    "        #recursive case\n",
    "        return fib(x-1) + fib(x-2)\n",
    "    \n",
    "def testFib(n):\n",
    "    for i in range(n+1):\n",
    "        global numFibCalls\n",
    "        numFibCalls=0\n",
    "        print('Fibonacci seq. of',i,'=',fib(i))\n",
    "        print('fib() called',numFibCalls,'times.')"
   ]
  },
  {
   "cell_type": "code",
   "execution_count": null,
   "metadata": {},
   "outputs": [],
   "source": [
    "testFib(6)"
   ]
  },
  {
   "cell_type": "markdown",
   "metadata": {},
   "source": [
    "## 4.5 Modules\n",
    "\n",
    "So far we have assumed that our entire program is stored in one file, which is reasonable as long as programs are small. As programs gets larger, it is more convenient to store different part of them in different files.\n",
    "\n",
    "A __module__ is *a .py file containing Python definitions and statements*. Below is an example of a module called circle.py:"
   ]
  },
  {
   "cell_type": "markdown",
   "metadata": {},
   "source": [
    "![](circle_module.jpg)"
   ]
  },
  {
   "cell_type": "markdown",
   "metadata": {},
   "source": [
    "A program get access to a module through an import statement."
   ]
  },
  {
   "cell_type": "code",
   "execution_count": 39,
   "metadata": {},
   "outputs": [
    {
     "name": "stdout",
     "output_type": "stream",
     "text": [
      "3.14159\n",
      "3.14159\n",
      "6.28318\n",
      "12.56636\n",
      "4.188786666666666\n"
     ]
    }
   ],
   "source": [
    "import circle\n",
    "\n",
    "print(circle.pi)\n",
    "print(circle.area(1))\n",
    "print(circle.circumference(1))\n",
    "print(circle.sphereSurface(1))\n",
    "print(circle.sphereVolume(1))"
   ]
  },
  {
   "cell_type": "markdown",
   "metadata": {},
   "source": [
    "## 4.6 Files\n",
    "\n"
   ]
  },
  {
   "cell_type": "markdown",
   "metadata": {},
   "source": [
    "Every computer system uses files to save things from one computation to the next. Python provides many facilities for creating and accessing files. \n",
    "\n",
    "Each operating systems (OS) comes with its own file system for creating and accessing file. Python achieves operating-system independent by accessing files through something called a file handle. The following code:"
   ]
  },
  {
   "cell_type": "code",
   "execution_count": 1,
   "metadata": {},
   "outputs": [],
   "source": [
    "nameHandle = open('kids','w')"
   ]
  },
  {
   "cell_type": "markdown",
   "metadata": {},
   "source": [
    "*__instructs the OS to create a file with the name kids, and return a file handle for that file. The argument 'w' to open indicates that the file is to be opened for writing__*. \n",
    "\n",
    "The following code opens a file, uses the write method to write two lines and then closes the file. *__It is important to close the file when the program when the program is finished using it. Otherwise there is a risk that some or all of the writes may not be saved__*.  "
   ]
  },
  {
   "cell_type": "code",
   "execution_count": 1,
   "metadata": {},
   "outputs": [
    {
     "name": "stdout",
     "output_type": "stream",
     "text": [
      "Enter name: wisnu\n",
      "Enter name: harden\n"
     ]
    }
   ],
   "source": [
    "nameHandle = open('kids','w') #create file named 'kids', where the file is to be open for writing.\n",
    "\n",
    "for i in range(2): #write two lines.\n",
    "    name = input('Enter name: ')\n",
    "    nameHandle.write(name + '\\n') # \\n indicates new line character\n",
    "\n",
    "nameHandle.close()"
   ]
  },
  {
   "cell_type": "markdown",
   "metadata": {},
   "source": [
    "We can now open the file for reading (using argument 'r') and print its contents. *__Since python treats a file as a sequence of lines, we can use a for statement to iterate over the file's contents__*."
   ]
  },
  {
   "cell_type": "code",
   "execution_count": 3,
   "metadata": {},
   "outputs": [
    {
     "name": "stdout",
     "output_type": "stream",
     "text": [
      "Wisnu\n",
      "\n",
      "Harden\n",
      "\n"
     ]
    }
   ],
   "source": [
    "nameHandle = open('kids','r') #read the file 'kids'\n",
    "\n",
    "for line in nameHandle:\n",
    "    print(line)\n",
    "\n",
    "nameHandle.close()"
   ]
  },
  {
   "cell_type": "markdown",
   "metadata": {},
   "source": [
    "The extra line between David and Andrea is there because print starts a new line\n",
    "each time it encounters the '\\n' at the end of each line in the file. We could have\n",
    "avoided printing that by writing print line[:-1], thus we omit the last character which is '\\n'. The code:"
   ]
  },
  {
   "cell_type": "code",
   "execution_count": 3,
   "metadata": {},
   "outputs": [
    {
     "name": "stdout",
     "output_type": "stream",
     "text": [
      "Michael\n",
      "Mark\n"
     ]
    }
   ],
   "source": [
    "nameHandle = open('kids','w')\n",
    "\n",
    "nameHandle.write('Michael\\n')\n",
    "nameHandle.write('Mark\\n')\n",
    "nameHandle.close()\n",
    "\n",
    "nameHandle = open('kids','r')\n",
    "for line in nameHandle:\n",
    "    print(line[:-1])\n",
    "nameHandle.close()"
   ]
  },
  {
   "cell_type": "markdown",
   "metadata": {},
   "source": [
    "Notice that we have overwritten the previous contents of the file kids. If we\n",
    "don’t want to do that we can open the file for appending (instead of writing) by\n",
    "using the argument 'a'. For example, if we now run the code:"
   ]
  },
  {
   "cell_type": "code",
   "execution_count": 5,
   "metadata": {},
   "outputs": [
    {
     "name": "stdout",
     "output_type": "stream",
     "text": [
      "Michael\n",
      "Mark\n",
      "David\n",
      "Andrea\n"
     ]
    }
   ],
   "source": [
    "nameHandle = open('kids', 'a')\n",
    "nameHandle.write('David\\n')\n",
    "nameHandle.write('Andrea\\n')\n",
    "nameHandle.close()\n",
    "\n",
    "nameHandle = open('kids', 'r')\n",
    "for line in nameHandle:\n",
    "    print(line[:-1])\n",
    "nameHandle.close()"
   ]
  },
  {
   "cell_type": "markdown",
   "metadata": {},
   "source": [
    "Some of the common operations on files are summarized in Figure 4.12:"
   ]
  },
  {
   "cell_type": "markdown",
   "metadata": {},
   "source": [
    "![](file.jpg)"
   ]
  }
 ],
 "metadata": {
  "kernelspec": {
   "display_name": "Python 3",
   "language": "python",
   "name": "python3"
  },
  "language_info": {
   "codemirror_mode": {
    "name": "ipython",
    "version": 3
   },
   "file_extension": ".py",
   "mimetype": "text/x-python",
   "name": "python",
   "nbconvert_exporter": "python",
   "pygments_lexer": "ipython3",
   "version": "3.7.3"
  }
 },
 "nbformat": 4,
 "nbformat_minor": 2
}
