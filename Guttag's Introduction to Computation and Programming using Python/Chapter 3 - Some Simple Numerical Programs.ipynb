{
 "cells": [
  {
   "cell_type": "markdown",
   "metadata": {},
   "source": [
    "# Chapter 3 - Some Simple Numerical Programs"
   ]
  },
  {
   "cell_type": "markdown",
   "metadata": {},
   "source": [
    "Since we have already covered some basics of Python programming, now we're make use of them to write some simple numerical programs."
   ]
  },
  {
   "cell_type": "markdown",
   "metadata": {},
   "source": [
    "## 3.1 Exhaustive Enumeration"
   ]
  },
  {
   "cell_type": "markdown",
   "metadata": {},
   "source": [
    "The program below find cube root of a given integer (either positive or negative). If the input is not a perfect cube, it prints a message to that effect."
   ]
  },
  {
   "cell_type": "code",
   "execution_count": null,
   "metadata": {},
   "outputs": [],
   "source": [
    "#Find the cube root of a perfect cube, i.e. given int x, find int m s.t. m**3=x.\n",
    "#Note that given positive/negative int m, then x = m**3 is positive/negative respectively.\n",
    "#Thus, to simplfy the problem, we can consider first abs(x)>0.\n",
    "\n",
    "x = int(input('Enter a non-zero integer: '))\n",
    "ans  = 0 #start with zero as candidate answer.\n",
    "iter = 0\n",
    "\n",
    "#consider abs(x).\n",
    "while ans**3 < abs(x):\n",
    "    iter+=1\n",
    "    ans+=1\n",
    "    print('iteration =',iter,',solution =',ans)\n",
    "    \n",
    "#execute when ans**3 >= abs(x)   \n",
    "if ans**3 > abs(x):\n",
    "    print(x,'is not a perfect cube.')\n",
    "else:\n",
    "    # ans**3 = abs(x), note that x could be positive or negative.\n",
    "    if x<0:\n",
    "        ans=-ans\n",
    "    print('Cube root of',x,'is',ans)"
   ]
  },
  {
   "cell_type": "markdown",
   "metadata": {},
   "source": [
    "The program below find square root of a given integer. If the input is not a perfect square, it prints a message to that effect."
   ]
  },
  {
   "cell_type": "code",
   "execution_count": null,
   "metadata": {},
   "outputs": [],
   "source": [
    "#Find the square root of a perfect square, i.e. given int x, find int m s.t. m**2=x.\n",
    "#Note that a perfect square is always non-negative.\n",
    "x = int(input('Enter a non-zero integer: '))\n",
    "ans = 0\n",
    "\n",
    "if x<0:\n",
    "    print(x,'is not a perfect square.')\n",
    "else:\n",
    "    # x>=0\n",
    "    while ans**2 < x:\n",
    "        ans+=1\n",
    "    \n",
    "    # ans**2 >= x\n",
    "    if ans**2 > x:\n",
    "        print(x,'is not a perfect square.')\n",
    "    else:\n",
    "        # ans**2 = x\n",
    "        print('Square root of',x,'is',ans)"
   ]
  },
  {
   "cell_type": "markdown",
   "metadata": {},
   "source": [
    "The algorithmic technique used is a variant guess and check called exhaustive enumeration. We enumerate all possibilities until we get to the right answer or exhaust the space of possibilities. It may sound stupid at first blush, however, since modern computers are amazingly fast, it often the mist practical way to solve problems.\n",
    "\n",
    "Just for fun, let's try executing the code below and see how large an integer we need to enter before we see a perceptible pause before the result is printed."
   ]
  },
  {
   "cell_type": "code",
   "execution_count": null,
   "metadata": {},
   "outputs": [],
   "source": [
    "maxVal = int(input('Enter an integer: '))\n",
    "i=0\n",
    "\n",
    "while i<maxVal:\n",
    "    i=i+1\n",
    "print(i)"
   ]
  },
  {
   "cell_type": "markdown",
   "metadata": {},
   "source": [
    "Finger exercise: Write a program that asks the user to enter an integer and prints\n",
    "two integers, root and pwr, such that 0 < pwr < 6 and root**pwr is equal to the integer entered by the user. If no such pair of integers exists, it should print a message to that effect."
   ]
  },
  {
   "cell_type": "markdown",
   "metadata": {},
   "source": [
    "## 3.2 For Loops"
   ]
  },
  {
   "cell_type": "markdown",
   "metadata": {},
   "source": [
    "Besides while, Python provides another alternatives for iteration known as for loop. The general form of for loop is as follow:"
   ]
  },
  {
   "cell_type": "markdown",
   "metadata": {},
   "source": [
    "![](for_skelcode.jpg)"
   ]
  },
  {
   "cell_type": "markdown",
   "metadata": {},
   "source": [
    "The variable following for is bound to the first value in the sequence, and the code block is executed. The variable is then assigned to the second value in the sequence, and the code block is executed again. This process continues until the sequence is exhausted or a beak statement is excuted within the code block.\n",
    "\n",
    "The sequence of values bound to variable is most commonly generated using the built-in function range, which returns a series of integer. The range function takes three integer argument: start, stop and step.It produces the progression start, start+step, start+2.step etc. If step is positive, the last element is the largest integer start + i.step less than stop. If step is negative, the last element is the smallest integer start+i.step larger than stop. If the first argument (start) is omitted it defaults to 0, and if the last argument (step) is omitted, it defaults to 1. \n",
    "\n",
    "Consider the following code:"
   ]
  },
  {
   "cell_type": "code",
   "execution_count": null,
   "metadata": {},
   "outputs": [],
   "source": [
    "x=10\n",
    "\n",
    "for i in range(1,x,2):\n",
    "    print(i)"
   ]
  },
  {
   "cell_type": "markdown",
   "metadata": {},
   "source": [
    "Now think about the following code:"
   ]
  },
  {
   "cell_type": "code",
   "execution_count": null,
   "metadata": {},
   "outputs": [],
   "source": [
    "x=4\n",
    "\n",
    "for i in range(x):\n",
    "    print(i)\n",
    "    x=5"
   ]
  },
  {
   "cell_type": "markdown",
   "metadata": {},
   "source": [
    "It turns out that changing the value of x inside the loop does not change the number of iterations. The arguments to the range function in the line with for are evaluated just before the first iteration of the loop, and not reevaluated for subsequent iterations.\n",
    "\n",
    "To see how this works, consider :"
   ]
  },
  {
   "cell_type": "code",
   "execution_count": null,
   "metadata": {},
   "outputs": [],
   "source": [
    "x=4\n",
    "\n",
    "for j in range(x):\n",
    "    #print(j)\n",
    "    for i in range(x):\n",
    "        print(i)\n",
    "        x=2"
   ]
  },
  {
   "cell_type": "markdown",
   "metadata": {},
   "source": [
    "because the range function in the outer loop is evaluated only once, but the range function in the inner loop is evaluated each time the inner for statement is reached.\n",
    "\n",
    "The following code reimplements the exhaustive enumeration algorithm for finding cube roots. Note that the break statement in the for loop causes the loop to terminate before it has been run on each element in the sequence over which it is iterating."
   ]
  },
  {
   "cell_type": "code",
   "execution_count": null,
   "metadata": {},
   "outputs": [],
   "source": [
    "#Find the cube root of a perfect cube\n",
    "n=int(input('Enter an integer: '))\n",
    "\n",
    "for m in range(abs(n)+1):\n",
    "    if m**3 >= abs(n):\n",
    "        break\n",
    "\n",
    "# m**3 >= abs(n)\n",
    "if m**3 > abs(n):\n",
    "    print(n,'is not a perfect cube.')\n",
    "else:\n",
    "    # m**3 = abs(n). Either n<0 or n>=0.\n",
    "    if n<0:\n",
    "        m=-m\n",
    "    print('The cube root of',n,'is',m)"
   ]
  },
  {
   "cell_type": "markdown",
   "metadata": {},
   "source": [
    "The for statement can be used in conjunction with the in operator to conveniently iterate over characters of strings. Below is an example :"
   ]
  },
  {
   "cell_type": "code",
   "execution_count": null,
   "metadata": {},
   "outputs": [],
   "source": [
    "total=0\n",
    "\n",
    "for n in '123':\n",
    "    total=total+int(n)\n",
    "print('total=',total)"
   ]
  },
  {
   "cell_type": "markdown",
   "metadata": {},
   "source": [
    "## 3.3 Approximate Solutions and Bisection Search"
   ]
  },
  {
   "cell_type": "markdown",
   "metadata": {},
   "source": [
    "Can you write a program that finds the square root of non-negative integer ? Can a computer program find the square root of two ? We know that square root of two is nor a rational number (irrational), which means that there is no way to precisely represent its value as a finite strings of digit (or as a float), so the problem cannot be solved.\n",
    "\n",
    "The right thing to have asked for is a program that finds an approximation to the square root. We can think of \"close enough\" as an asnwer that lies within some constant (epsilon) of the actual answer.\n",
    "\n",
    "Below is a program that approximate the square root of non-negative integer:"
   ]
  },
  {
   "cell_type": "code",
   "execution_count": 40,
   "metadata": {},
   "outputs": [
    {
     "name": "stdout",
     "output_type": "stream",
     "text": [
      "Enter a nonnegative integer:0.25\n",
      "Number of iteration = 2501\n",
      "Failed on square root of 0.25\n"
     ]
    }
   ],
   "source": [
    "# Approximate the square root of non-negative integer\n",
    "x = float(input('Enter a nonnegative integer:'))\n",
    "epsilon = 0.01    #max. distance\n",
    "step = epsilon**2 #step size must be smaller than epsilon\n",
    "numIter = 0\n",
    "ans = 0           #initial solution \n",
    "\n",
    "#The search space is bounded interval [0,x].\n",
    "\n",
    "while abs(ans**2 - x) >= epsilon and ans <= x:\n",
    "    ans += step\n",
    "    numIter += 1\n",
    "\n",
    "#abs(ans**2 - x) < epsilon or ans*ans > x\n",
    "print('Number of iteration =', numIter)\n",
    "\n",
    "#either abs(ans**2 - x) < epsilon or ans > x\n",
    "if abs(ans**2 - x) >= epsilon: # ans > x\n",
    "    print('Failed on square root of', x)\n",
    "else:\n",
    "    #abs(ans**2 - x) < epsilon\n",
    "    print(ans, 'is close to square root of', x)"
   ]
  },
  {
   "cell_type": "markdown",
   "metadata": {},
   "source": [
    "However if we set x=0.25, the program can not find a root close to 0.5 . Note that we assume the search search space is [0,x]. However if x is between 0 and 1, then then the answer can no be found in [0,x]. This problem can be solved by using ans**2 <= x instead of ans <= x in the test part in the while loop."
   ]
  },
  {
   "cell_type": "code",
   "execution_count": 42,
   "metadata": {},
   "outputs": [
    {
     "name": "stdout",
     "output_type": "stream",
     "text": [
      "Enter a nonnegative integer:123456\n",
      "Number of iteration = 3513631\n",
      "Failed on square root of 123456.0\n"
     ]
    }
   ],
   "source": [
    "# Approximate the square root of non-negative integer\n",
    "x = float(input('Enter a nonnegative integer:'))\n",
    "epsilon = 0.01    #max. distance\n",
    "step = epsilon**2 #step size must be smaller than epsilon\n",
    "numIter = 0\n",
    "ans = 0           #initial solution \n",
    "\n",
    "while abs(ans**2 - x) >= epsilon and ans**2 <= x:\n",
    "    ans += step\n",
    "    numIter += 1\n",
    "\n",
    "#abs(ans**2 - x) < epsilon or ans**2 > x\n",
    "print('Number of iteration =', numIter)\n",
    "\n",
    "#either abs(ans**2 - x) < epsilon or ans > x\n",
    "if abs(ans**2 - x) >= epsilon: # ans > x\n",
    "    print('Failed on square root of', x)\n",
    "else:\n",
    "    #abs(ans**2 - x) < epsilon\n",
    "    print(ans, 'is close to square root of', x)"
   ]
  },
  {
   "cell_type": "markdown",
   "metadata": {},
   "source": [
    "It seems that our step size is too large, and the program skip all over the suitable answers. We can try making the step size equal epsilon**3 ."
   ]
  },
  {
   "cell_type": "code",
   "execution_count": 1,
   "metadata": {},
   "outputs": [
    {
     "name": "stdout",
     "output_type": "stream",
     "text": [
      "Enter a nonnegative integer:0.5\n",
      "Number of iteration = 700001\n",
      "0.7000009999992916 is close to square root of 0.5\n"
     ]
    }
   ],
   "source": [
    "# Approximate the square root of non-negative integer\n",
    "x = float(input('Enter a nonnegative integer:'))\n",
    "epsilon = 0.01    #max. distance\n",
    "step = epsilon**3 #step size must be smaller than epsilon\n",
    "numIter = 0\n",
    "ans = 0           #initial solution \n",
    "\n",
    "while abs(ans**2 - x) >= epsilon and ans**2 <= x:\n",
    "    ans += step\n",
    "    numIter += 1\n",
    "\n",
    "#abs(ans**2 - x) < epsilon or ans**2 > x\n",
    "print('Number of iteration =', numIter)\n",
    "\n",
    "#either abs(ans**2 - x) < epsilon or ans > x\n",
    "if abs(ans**2 - x) >= epsilon: # ans > x\n",
    "    print('Failed on square root of', x)\n",
    "else:\n",
    "    #abs(ans**2 - x) < epsilon\n",
    "    print(ans, 'is close to square root of', x)"
   ]
  },
  {
   "cell_type": "markdown",
   "metadata": {},
   "source": [
    "Note the number of iteration is at most sqrt(x)/step before the program can a find a satisfactory answer. If failed, it might be that the step size is not small enough and cause the program to skip over the answers. We need an alternative to attack the problem and choose a better algorithm rather than just fine-tune the current one.\n",
    "\n",
    "Suppose we know that the square root of a x is between 0 and max. Since we don't necessarily know where to start, let's start in the middle between 0 and max. If it's too big, the answer should be lie in the left. If it's too small, the answer should lie in the right. We then repeat the process on the smaller interval. This method is known as Bisection Search. Below is an implementation of this algorithm:"
   ]
  },
  {
   "cell_type": "code",
   "execution_count": 1,
   "metadata": {},
   "outputs": [
    {
     "name": "stdout",
     "output_type": "stream",
     "text": [
      "Enter a nonnegative integer:0.5\n",
      "Number of iteration = 5 , solution = 0.703125\n",
      "Square of 0.703125 is 0.494384765625\n"
     ]
    }
   ],
   "source": [
    "#Implementation of Bisection Search algorithm to find square root.\n",
    "x = float(input('Enter a nonnegative integer:'))\n",
    "low=0\n",
    "high=max(1,x)\n",
    "ans=(low+high)/2.0 #initial candidate answer, start in the middle 0 and max.\n",
    "epsilon=0.01\n",
    "numIter=0\n",
    "\n",
    "#enumeration stop only when L1 distance is smaller than epsilon. \n",
    "while abs(ans**2-x)>=epsilon:\n",
    "    #print('Number of iteration =',numIter,', low =',low,', high =',high,', solution =',ans)\n",
    "    numIter+=1\n",
    "    if ans**2<x:\n",
    "        #if it's too small, the answer should lie in the right.\n",
    "        low=ans\n",
    "    else:\n",
    "        #ans**2>x, since L1 dist. is not yet smaller than epsilon.\n",
    "        #if it's too big, the answer should lie in the left.\n",
    "        high=ans\n",
    "    ans=(low+high)/2.0\n",
    "\n",
    "#abs(ans**2-x)<epsilon\n",
    "print('Number of iteration =',numIter,', solution =',ans)\n",
    "print('Square of',ans,'is',ans**2)"
   ]
  },
  {
   "cell_type": "markdown",
   "metadata": {},
   "source": [
    "Notice that the number of iteration is significantly reduce. This is because we exploit the property of our search space, i.e. bounded interval of real numbers. Such set is convex, thus it allow us to execute the so called bisection search algorithm on it where the search space is divided in half in every iteration. Such method greatly reduce our search space sompared to the previous algorithm, which reduce the search space by only a very small amount (depend on step size) at each iteration.\n",
    "\n",
    "Finger exercise: What would have to be changed to make the code above\n",
    "work for finding an approximation to the cube root of both negative and positive\n",
    "numbers? (Hint: think about changing low to ensure that the answer lies within\n",
    "the region being searched.)"
   ]
  },
  {
   "cell_type": "code",
   "execution_count": 3,
   "metadata": {},
   "outputs": [
    {
     "name": "stdout",
     "output_type": "stream",
     "text": [
      "Enter an integer:-0.5\n",
      "Number of iteration = 5 , solution = -0.796875\n",
      "Cube of -0.796875 is -0.5060234069824219\n"
     ]
    }
   ],
   "source": [
    "#Implementation of Bisection Search method to find cube root of both positive and negative integer.\n",
    "x = float(input('Enter an integer:'))\n",
    "low  = 0\n",
    "high = max(1,abs(x))  #to simplifiy problem, consider first abs(x).\n",
    "ans  = (low+high)/2.0 #initial candidate answer.\n",
    "epsilon = 0.01\n",
    "iter = 0\n",
    "\n",
    "#iteration stop only when L1 distance is smaler than epsilon.\n",
    "while abs(ans**3-abs(x))>=epsilon:\n",
    "    #print('Number of iteration =',iter,', low =',low,', high =',high,', solution =',ans)\n",
    "    iter+=1\n",
    "    if ans**3<abs(x):\n",
    "        #if it's too small, the answer should lie in the right.\n",
    "        low=ans\n",
    "    else:\n",
    "        #if it's too big, the answer should lie in the left.\n",
    "        high=ans\n",
    "    ans=(low+high)/2.0\n",
    "\n",
    "#L1 distance is smaller than epsilon.         \n",
    "if x<0:\n",
    "    ans=-ans\n",
    "print('Number of iteration =',iter,', solution =',ans)\n",
    "print('Cube of',ans,'is',ans**3)"
   ]
  },
  {
   "cell_type": "markdown",
   "metadata": {},
   "source": [
    "## 3.5 Newton-Raphson"
   ]
  },
  {
   "cell_type": "markdown",
   "metadata": {},
   "source": [
    "The Newton-Raphson method is the most commonly used approximation algorithm usually attributed to Isaac Newton. It can be used to find the real roots of many function, but for now we will only look at it in the context of finding the real roots of polynomial with one variable. The generalization to polynomial with multiple variables is straightforward both mathematically and algorithmically.\n",
    "\n",
    "Note that finding a square root of c is equvalent to finding the root of quadratic (second degree) polynomial p(x)=x^2-c=0. Newton proved a theorem that if a value,call it ans, is an approximation to a root of a polynomial, then ans-(p(ans)/p'(ans)), is a better approximation. Below is the implementation of Newton-Raphson method to find square root of a given integer:"
   ]
  },
  {
   "cell_type": "code",
   "execution_count": 2,
   "metadata": {},
   "outputs": [
    {
     "name": "stdout",
     "output_type": "stream",
     "text": [
      "Enter a positive number:0.5\n",
      "Number of iteration= 2 ,solution= 0.7083333333333334\n",
      "Square of 0.7083333333333334 is 0.5017361111111112\n"
     ]
    }
   ],
   "source": [
    "#Newton-Raphson method to find square root of a positive number.\n",
    "#Find x s.t. x^2-c is within epsilon of 0. \n",
    "c=float(input('Enter a positive number:'))\n",
    "low=0\n",
    "high=max(1,c)\n",
    "ans=(low+high)/2.0 #initial candidate answer based on bisection method.\n",
    "epsilon=0.01\n",
    "numIter=0\n",
    "\n",
    "while abs(ans**2-c)>=epsilon:\n",
    "    #print('Number of iteration=',numIter,',solution=',ans)\n",
    "    ans = ans - (((ans**2)-c)/(2*ans))\n",
    "    numIter += 1   \n",
    "\n",
    "print('Number of iteration=',numIter,',solution=',ans)\n",
    "print('Square of',ans,'is',ans**2)"
   ]
  },
  {
   "cell_type": "markdown",
   "metadata": {},
   "source": [
    "Finger exercise: Add some code to the implementation of Newton-Raphson that\n",
    "keeps track of the number of iterations used to find the root. Use that code as\n",
    "part of a program that compares the efficiency of Newton-Raphson and bisection\n",
    "search. (You should discover that Newton-Raphson is more efficient.)"
   ]
  },
  {
   "cell_type": "markdown",
   "metadata": {},
   "source": [
    "It's obvious that Newton-Raphson method is more efficient that Bisection Search method."
   ]
  }
 ],
 "metadata": {
  "kernelspec": {
   "display_name": "Python 3",
   "language": "python",
   "name": "python3"
  },
  "language_info": {
   "codemirror_mode": {
    "name": "ipython",
    "version": 3
   },
   "file_extension": ".py",
   "mimetype": "text/x-python",
   "name": "python",
   "nbconvert_exporter": "python",
   "pygments_lexer": "ipython3",
   "version": "3.7.3"
  }
 },
 "nbformat": 4,
 "nbformat_minor": 2
}
