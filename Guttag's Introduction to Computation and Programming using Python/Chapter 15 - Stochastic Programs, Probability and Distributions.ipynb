{
 "cells": [
  {
   "cell_type": "markdown",
   "metadata": {},
   "source": [
    "# Chapter 15 - Stochastic Programs, Probability and Distributions"
   ]
  },
  {
   "cell_type": "markdown",
   "metadata": {},
   "source": [
    "There is something very comforting about Newtonian mechanics. You push\n",
    "down on one end of a lever, and the other end goes up. You throw a ball up in the\n",
    "air; it travels a parabolic path, and eventually comes down. 𝐹 = 𝑚𝑎. In short, everything happens for a reason. *__The physical world is a completely predictable\n",
    "place—all future states of a physical system can be derived from knowledge about\n",
    "its current state__*.\n",
    "\n",
    "For centuries, this was the prevailing scientific wisdom; then along came\n",
    "quantum mechanics and *__the Copenhagen Doctrine. The doctrine’s proponents,\n",
    "led by Bohr and Heisenberg, argued that at its most fundamental level the behavior of the physical world cannot be predicted__*. One can make probabilistic statements of the form “x is highly likely to occur,” but not statements of the form\n",
    "“x is certain to occur.” Other distinguished physicists, most notably Einstein and\n",
    "Schrödinger, vehemently disagreed.\n",
    "\n",
    "This debate roiled the worlds of physics, philosophy, and even religion. The\n",
    "heart of the debate was the validity of *__causal nondeterminism, i.e., the belief that\n",
    "not every event is caused by previous events. Einstein and Schrödinger found this\n",
    "view philosophically unacceptable__*, as exemplified by Einstein’s often-repeated\n",
    "comment, “God does not play dice.” What they could accept was *__predictive nondeterminism, i.e., the concept that our inability to make accurate measurements\n",
    "about the physical world makes it impossible to make precise predictions about\n",
    "future states__*. This distinction was nicely summed up by *__Einstein, who said, “The\n",
    "essentially statistical character of contemporary theory is solely to be ascribed to\n",
    "the fact that this theory operates with an incomplete description of physical systems.”__*\n",
    "\n",
    "The question of causal nondeterminism is still unsettled. However, whether\n",
    "the reason we cannot predict events is because they are truly unpredictable or is\n",
    "because we simply don't have enough information to predict them is of no practical importance.\n",
    "\n",
    "While the Bohr/Einstein debate was about how to understand the lowest levels of the physical world, the same issues arise at the macroscopic level. Perhaps\n",
    "the outcomes of horse races, spins of roulette wheels, and stock market investments are causally deterministic. However, there is ample evidence that it is perilous to treat them as predictably deterministic."
   ]
  },
  {
   "cell_type": "markdown",
   "metadata": {},
   "source": [
    "## 15.1 Stochastic Programs"
   ]
  },
  {
   "cell_type": "markdown",
   "metadata": {},
   "source": [
    "*__A program is deterministic if whenever it is run on the same input, it produces\n",
    "the same output__*. Notice that this is not the same as saying that the output is\n",
    "completely defined by the specification of the problem. \n",
    "\n",
    "Not all interesting specifications can be met by deterministic implementations. Consider, for example, implementing a program to play a dice game, say\n",
    "backgammon or craps. Somewhere in the program there may be a function that\n",
    "simulates a fair roll of a single six-sided die.96 Suppose it had a specification\n",
    "something like:"
   ]
  },
  {
   "cell_type": "code",
   "execution_count": 1,
   "metadata": {},
   "outputs": [],
   "source": [
    "def rollDie():\n",
    "    \"\"\"Returns an integer between 1 and 6.\"\"\""
   ]
  },
  {
   "cell_type": "markdown",
   "metadata": {},
   "source": [
    "This would be problematic, since it allows the implementation to return the\n",
    "same number each time it is called, which would make for a pretty boring game.\n",
    "It would be better to specify that *__rollDie “returns a randomly chosen int between\n",
    "1 and 6,” thus requiring a stochastic implementation__*.\n",
    "\n",
    "Most programming languages, including Python, include simple ways to\n",
    "write stochastic programs, i.e., programs that exploit randomness. The tiny program below is a simulation model. Rather than asking some person to\n",
    "roll a die multiple times, we wrote a program to simulate that activity. *__The code\n",
    "uses one of several useful functions found in the imported Python standard library module random__*. As we saw earlier, the function random.choice takes a nonempty sequence as its argument and returns a randomly chosen member of that\n",
    "sequence. *__Almost all of the functions in random are built using the function random.random, which, as we saw earlier in the book, generates a random floating\n",
    "point number between 0.0 and 1.0__*.\n",
    "\n",
    "In point of fact, *__the values returned by random.random are not truly random__*. They are what\n",
    "mathematicians call *__pseudorandom__*. For almost all practical purposes, this distinction is not\n",
    "relevant and we shall ignore it."
   ]
  },
  {
   "cell_type": "code",
   "execution_count": 6,
   "metadata": {},
   "outputs": [],
   "source": [
    "import random\n",
    "\n",
    "def rollDie():\n",
    "    \"\"\"Returns a random integer between 1 and 6.\"\"\"\n",
    "    return random.choice([1,2,3,4,5,6])\n",
    "\n",
    "def rollN(n):\n",
    "    result = ''\n",
    "    for i in range(n):\n",
    "        result = result + str(rollDie())\n",
    "    print(result)"
   ]
  },
  {
   "cell_type": "code",
   "execution_count": 7,
   "metadata": {},
   "outputs": [
    {
     "name": "stdout",
     "output_type": "stream",
     "text": [
      "4465412564114256214613315455251516536466441353626461254453533454643621125444651112645523163354526346\n"
     ]
    }
   ],
   "source": [
    "rollN(100)"
   ]
  },
  {
   "cell_type": "markdown",
   "metadata": {},
   "source": [
    "Now, imagine running rollN(10). Would you be more surprised to see it\n",
    "print 1111111111 or 5442462412? Or, to put it another way, which of these two sequences is more random? It’s a trick question. Each of these sequences is equally\n",
    "likely, because the value of each roll is independent of the values of earlier rolls.\n",
    "*__In a stochastic process, two events are independent if the outcome of one event\n",
    "has no influence on the outcome of the other__*.\n",
    "\n",
    "This is a bit easier to see if we simplify the situation by thinking about a twosided die (also known as a coin) with the values 0 and 1. This allows us to think\n",
    "of the output of a call of rollN as a binary number. When we use a binary die,\n",
    "there are $2^n$ possible sequences that testN might return. Each of these sequences\n",
    "is equally likely; therefore each has a probability of occurring of $\\left( \\frac{1}{2} \\right)^n$.\n",
    "\n",
    "Let’s go back to our six-sided die. How many different sequences are there of\n",
    "length 10? $6^{10}$. So, the probability of rolling ten consecutive 1’s is $(1/6)^{10}$. Less than one out of sixty million. Pretty low, but no lower than the probability of any other sequence, e.g., 5442462412."
   ]
  },
  {
   "cell_type": "markdown",
   "metadata": {},
   "source": [
    "## 15.2 Calculating Simple Probabilities"
   ]
  },
  {
   "cell_type": "markdown",
   "metadata": {},
   "source": [
    "In general, when we talk about the probability of a result having some property\n",
    "(e.g., all 1’s) we are asking what fraction of all possible results has that property.\n",
    "This is why probabilities range from 0 to 1. Suppose we want to know the probability of getting any sequence other than all 1’s when rolling the die. It is simply\n",
    "1 – ((1/6)^10), because the probability of something happening and the probability\n",
    "of the same thing not happening must add up to 1.\n",
    "Suppose we want to know the probability of rolling the die ten times without\n",
    "getting a single 1. One way to answer this question is to transform it into the\n",
    "question of how many of the 610 possible sequences don’t contain a 1. This can be\n",
    "computed as follows:\n",
    "\n",
    "1. The probability of not rolling a 1 on any single roll is 5/6.\n",
    "2. The probability of not rolling a 1 on either the first or the second roll is\n",
    "(5/6)*(5/6), or (5/6)^2.\n",
    "3. So, the probability of not rolling a 1 ten times in a row is (5/6)^10, slightly\n",
    "more than 0.16.\n",
    "\n",
    "Step 2 is an application of the multiplicative law for independent probabilities. Consider, for example, two independent events A and B. If A occurs one 1/3\n",
    "of the time and B occurs 1/4 of the time, the probability that both A and B occur\n",
    "is 1/4\tof\t1/3, i.e., (1/3)/4 or (1/3)*(1/4).\n",
    "\n",
    "What about the probability of rolling at least one 1? It is simply 1 minus the\n",
    "probability of not rolling at least one 1, i.e., 1 - (5/6)^10. Notice that this cannot be\n",
    "correctly computed by saying that the probability of rolling a 1 on any roll is 1/6,\n",
    "so the probability of rolling at least one 1 is 10*(1/6), i.e., 10/6. This is obviously\n",
    "incorrect, since a probability cannot be greater than 1.\n",
    "\n",
    "How about the probability of rolling exactly two 1’s in ten rolls? This is\n",
    "equivalent to asking what fraction of the first 6^10 integers has exactly two 1’s in\n",
    "its base 6 representation. We could easily write a program to generate all of these\n",
    "sequences and count the number that contained exactly one 1. Deriving the\n",
    "probability analytically is a bit tricky, and we defer it to Section 15.4.4."
   ]
  },
  {
   "cell_type": "markdown",
   "metadata": {},
   "source": [
    "## 15.2 Inferential Statistics"
   ]
  },
  {
   "cell_type": "markdown",
   "metadata": {},
   "source": [
    "As we just saw, one can use a systematic process to derive the precise probability\n",
    "of some complex event based upon knowing the probability of one or more simpler events. For example, one can easily compute the probability of flipping a\n",
    "coin and getting ten consecutive heads based on the assumption that flips are independent and we know the probability of each flip coming up heads. Suppose,\n",
    "however, that we don’t actually know the probability of the relevant simpler\n",
    "event. *__Suppose, for example, that we don’t know whether the coin is fair__* (i.e., a\n",
    "coin where heads and tails are equally likely).\n",
    "\n",
    "All is not lost. *__If we have some data about the behavior of the coin, we can\n",
    "combine that data with our knowledge of probability to derive an estimate of the\n",
    "true probability__*. We can use inferential statistics to estimate the probability of a\n",
    "single flip coming up heads, and then conventional probability to compute the\n",
    "probability of a coin with that behavior coming up heads ten times in a row.\n",
    "\n",
    "In brief (since this is not a book about statistics), the guiding principle of inferential statistics is that a random sample tends to exhibit the same properties as\n",
    "the population from which it is drawn.\n",
    "\n",
    "Suppose Harvey Dent (also known as Two-Face) flipped a coin, and it came\n",
    "up heads. You would not infer from this that the next flip would also come up\n",
    "heads. Suppose he flipped it twice, and it came up heads both time. You might\n",
    "reason that the probability of this happening for a fair coin was 0.25, so there was\n",
    "still no reason to assume the next flip would be heads. Suppose, however, 100 out\n",
    "of 100 flips came up heads. (1/2)100 (the probability of this event, assuming a fair\n",
    "coin) is a pretty small number, so you might feel safe in inferring that the coin\n",
    "has a head on both sides.\n",
    "\n",
    "Your belief in whether the coin is fair is based on the intuition that the behavior of a single sample of 100 flips is similar to the behavior of the population\n",
    "of all samples of 100 flips. This belief seems pretty sound when all 100 flips are\n",
    "heads. Suppose that 52 flips came up heads and 48 tails. Would you feel comfortable in predicting that the next 100 flips would have the same ratio of heads to\n",
    "tails? For that matter, how comfortable would you feel about even predicting that\n",
    "there would be more heads than tails in the next 100 flips? Take a few minutes to\n",
    "think about this, and then try the experiment.\n",
    "\n",
    "The following program simulates flipping a fair coin numFlips times,\n",
    "and returns the fraction of those flips that came up heads. For each flip, the call\n",
    "random.choice(('H', 'T')) randomly returns either 'H' or 'T'."
   ]
  },
  {
   "cell_type": "code",
   "execution_count": 10,
   "metadata": {},
   "outputs": [],
   "source": [
    "import random\n",
    "\n",
    "def flip(numFlips):\n",
    "    \"\"\"Assumes numFlips>0 is an integer.\"\"\"\n",
    "    heads = 0\n",
    "    for i in range(numFlips):\n",
    "        if random.choice(('H','T')) == 'H':\n",
    "            heads += 1\n",
    "    return heads/numFlips\n",
    "\n",
    "def flipSim(numFlipsPerTrial, numTrials):\n",
    "    \"\"\"Assumes both numFlipsPerTrial>0 and numTrials>0 are integers.\"\"\"\n",
    "    fracHeads = []\n",
    "    for i in range(numTrials):\n",
    "        fracHeads.append(flip(numFlipsPerTrial))\n",
    "    mean = sum(fracHeads)/len(fracHeads)\n",
    "    return mean"
   ]
  },
  {
   "cell_type": "markdown",
   "metadata": {},
   "source": [
    "Try executing the function flipSim(10, 1) a couple of times. Here’s what we\n",
    "saw the first two times we tried print('Mean =', flipSim(10, 1)):"
   ]
  },
  {
   "cell_type": "code",
   "execution_count": 23,
   "metadata": {},
   "outputs": [
    {
     "name": "stdout",
     "output_type": "stream",
     "text": [
      "Mean = 0.4\n",
      "Mean = 0.2\n"
     ]
    }
   ],
   "source": [
    "print('Mean =', flipSim(10,1))\n",
    "print('Mean =', flipSim(10,1))"
   ]
  },
  {
   "cell_type": "markdown",
   "metadata": {},
   "source": [
    "It seems that it would be inappropriate to assume much (other than that the\n",
    "coin has both heads and tails) from any one trial of 10 flips. That’s why we typically structure our simulations to include multiple trials and compare the results.\n",
    "Let’s try flipSim(10, 100) a couple of times:"
   ]
  },
  {
   "cell_type": "code",
   "execution_count": 7,
   "metadata": {},
   "outputs": [
    {
     "name": "stdout",
     "output_type": "stream",
     "text": [
      "Mean = 0.49400000000000005\n",
      "Mean = 0.5180000000000003\n"
     ]
    }
   ],
   "source": [
    "print('Mean =', flipSim(10,100))\n",
    "print('Mean =', flipSim(10,100))"
   ]
  },
  {
   "cell_type": "markdown",
   "metadata": {},
   "source": [
    "Do you feel better about these results? When we tried flipSim(100, 100000),\n",
    "we got:"
   ]
  },
  {
   "cell_type": "code",
   "execution_count": 9,
   "metadata": {},
   "outputs": [
    {
     "name": "stdout",
     "output_type": "stream",
     "text": [
      "Mean = 0.500072999999998\n",
      "Mean = 0.49974299999999794\n"
     ]
    }
   ],
   "source": [
    "print('Mean =', flipSim(10,100000))\n",
    "print('Mean =', flipSim(10,100000))"
   ]
  },
  {
   "cell_type": "markdown",
   "metadata": {},
   "source": [
    "This looks really good (especially since we know that the answer should be 0.5—\n",
    "but that’s cheating). Now it seems we can safely conclude something about the\n",
    "next flip, i.e., that heads and tails are about equally likely. But why do we think\n",
    "that we can conclude that?\n",
    "\n",
    "What we are depending upon is *__the law of large numbers. This law states that in repeated independent tests (flips in this case) with the same actual probability p of a particular outcome in each test (e.g., an actual probability of 0.5 of getting a head for each flip), the chance that\n",
    "the fraction of times that outcome occurs differs from p converges to zero as the\n",
    "number of trials goes to infinity__*.\n",
    "\n",
    "It is worth noting that *__the law of large numbers does not imply, as too many\n",
    "seem to think, that if deviations from expected behavior occur, these deviations\n",
    "are likely to be “evened out” by opposite deviations in the future. This misapplication of the law of large numbers is known as the gambler’s fallacy__*.\n",
    "\n",
    "*__People often confuse the gambler’s fallacy with regression to the mean. Regression to the mean states that following an extreme random event, the next\n",
    "random event is likely to be less extreme__*. If you were to flip a fair coin six times\n",
    "and get six heads, regression to the mean implies that the next sequence of six\n",
    "flips is likely to have closer to the expected value of three heads. It does not imply, as the gambler’s fallacy suggests, that the next sequence of flips is likely to\n",
    "have fewer heads than tails.\n",
    "\n",
    "Success in most endeavors requires a combination of skill and luck. The skill\n",
    "component determines the mean and the luck component accounts for the variability. The randomness of luck leads to regression to the mean.\n",
    "\n",
    "The following code produces a plot illustrating regression\n",
    "to the mean. The function regressToMean first generates numTrials trials of\n",
    "numFlips coin flips each. It then *__identifies all trials where the fraction of heads\n",
    "was either less than 1/3 or\tmore\tthan\t2/3 and plots these extremal values as circles. Then, for each of these points, it plots the value of the subsequent trial as a\n",
    "triangle in the same column as the circle__*.\n",
    "\n",
    "The horizontal line at 0.5, the expected mean, is created using the axhline\n",
    "function. The function pylab.xlim controls the extent of the x-axis. The function\n",
    "call pylab.xlim(xmin, xmax) sets the minimum and maximum values of the x-axis\n",
    "of the current figure. The function call pylab.xlim() returns a tuple composed of\n",
    "the minimum and maximum values of the x-axis of the current figure. The\n",
    "function pylab.ylim works the same way."
   ]
  },
  {
   "cell_type": "code",
   "execution_count": 49,
   "metadata": {},
   "outputs": [],
   "source": [
    "import pylab\n",
    "\n",
    "def regressToMean(numFlips, numTrials):\n",
    "    #Get fraction of Heads for each trials.\n",
    "    fracHeads = []\n",
    "    for t in range(numTrials):\n",
    "        fracHeads.append(flip(numFlips))\n",
    "    \n",
    "    #Find trials with extreme results and for each the next trial.\n",
    "    extremes, nextTrials = [], []\n",
    "    for i in range(len(fracHeads)-1):\n",
    "        if fracHeads[i]<0.33 or fracHeads[i]>0.66:\n",
    "            extremes.append(fracHeads[i])\n",
    "            nextTrials.append(fracHeads[i+1])\n",
    "            \n",
    "    #Plot extremes (list).\n",
    "    pylab.plot(range(len(extremes)), extremes, 'ko', label='Extreme')\n",
    "    pylab.plot(range(len(nextTrials)), nextTrials, 'k^', label='Next Trial')\n",
    "    pylab.axhline(0.5) #Create horizontal line at 0.5\n",
    "    pylab.ylim(0,1)\n",
    "    pylab.xlim(-1, len(extremes)+1)\n",
    "    pylab.xlabel('Extreme Example and Next Trial')\n",
    "    pylab.ylabel('Fraction Heads')\n",
    "    pylab.title('Regression to the Mean')\n",
    "    pylab.legend(loc='best')"
   ]
  },
  {
   "cell_type": "code",
   "execution_count": 50,
   "metadata": {},
   "outputs": [
    {
     "data": {
      "image/png": "[encoded data removed]",
      "text/plain": [
       "<Figure size 432x288 with 1 Axes>"
      ]
     },
     "metadata": {
      "needs_background": "light"
     },
     "output_type": "display_data"
    }
   ],
   "source": [
    "regressToMean(15,40)"
   ]
  },
  {
   "cell_type": "markdown",
   "metadata": {},
   "source": [
    "__Finger exercise:__ Sally averages 5 strokes a hole when she plays golf. One day, she\n",
    "took 40 strokes to complete the first nine holes. Her partner conjectured that she\n",
    "would probably regress to the mean and take 50 strokes to complete the next\n",
    "nine holes. Do you agree with her partner?"
   ]
  },
  {
   "cell_type": "markdown",
   "metadata": {},
   "source": [
    "The following program contains *__a function, flipPlot, that produces two plots intended to show the law of large numbers at work__*. The first plot shows how the absolute value of the difference between the number of heads and number of tails changes with the number of flips. The second plot compares the ratio of heads to tails versus the number of flips. *__The line random.seed(0) near the bottom ensures that the pseudorandom number generator used by random.random will\n",
    "generate the same sequence of pseudorandom numbers each time this code is executed__*. This is convenient for debugging. *__The function random.seed can be\n",
    "called with any number. If it is called with no argument, the seed is chosen at\n",
    "random__*."
   ]
  },
  {
   "cell_type": "code",
   "execution_count": 44,
   "metadata": {},
   "outputs": [],
   "source": [
    "import pylab\n",
    "\n",
    "def flipPlot(minExp, maxExp):\n",
    "    \"\"\"Assumes minExp>0 and maxExp>0 are integers; minExp < maxExp. \n",
    "       Plot results of 2**minExp and 2**maxExp coin flips.\"\"\"\n",
    "    ratios, diffs, xAxis = [], [], []\n",
    "    \n",
    "    #create list for x-axis, where the x-axis is number of flips.\n",
    "    for exp in range(minExp, maxExp+1):\n",
    "        xAxis.append(2**exp) \n",
    "    \n",
    "    for numFlips in xAxis:\n",
    "        numHeads = 0\n",
    "        for n in range(numFlips):\n",
    "            if random.choice(('H','T')) == 'H':\n",
    "                numHeads += 1\n",
    "        numTails = numFlips - numHeads\n",
    "        try:\n",
    "            ratios.append(numHeads/numTails)\n",
    "            diffs.append(abs(numHeads-numTails))\n",
    "        except ZeroDivisionError:\n",
    "            continue\n",
    "            \n",
    "    pylab.title('Difference Between Heads and Tails')\n",
    "    pylab.xlabel('Number of Flips')\n",
    "    pylab.ylabel('Abs(#Heads-#Tails)')\n",
    "    pylab.plot(xAxis, diffs, 'ko')\n",
    "    \n",
    "    pylab.figure() #Show both figures instead of just the last one.\n",
    "\n",
    "    pylab.title('Heads/Tails Ratios')\n",
    "    pylab.xlabel('Number of Flips')\n",
    "    pylab.ylabel('#Heads/#Tails')\n",
    "    pylab.plot(xAxis, ratios, 'ko')"
   ]
  },
  {
   "cell_type": "code",
   "execution_count": 45,
   "metadata": {},
   "outputs": [
    {
     "data": {
      "image/png": "[encoded data removed]",
      "text/plain": [
       "<Figure size 432x288 with 1 Axes>"
      ]
     },
     "metadata": {
      "needs_background": "light"
     },
     "output_type": "display_data"
    },
    {
     "data": {
      "image/png": "[encoded data removed]",
      "text/plain": [
       "<Figure size 432x288 with 1 Axes>"
      ]
     },
     "metadata": {
      "needs_background": "light"
     },
     "output_type": "display_data"
    }
   ],
   "source": [
    "random.seed(0)\n",
    "flipPlot(4,20)"
   ]
  },
  {
   "cell_type": "markdown",
   "metadata": {},
   "source": [
    "The plot on the left seems to suggest that the absolute difference between the\n",
    "number of heads and the number of tails fluctuates in the beginning, crashes\n",
    "downwards, and then moves rapidly upwards. However, we need to keep in mind\n",
    "that we have only two data points to the right of x\t=\t300,000. The fact that pylab.plot connected these points with lines may mislead us into seeing trends\n",
    "when all we have are isolated points. This is not an uncommon phenomenon, so\n",
    "you should always ask how many points a plot actually contains before jumping\n",
    "to any conclusion about what it means.\n",
    "\n",
    "It’s hard to see much of anything in the plot on the right, which is mostly a\n",
    "flat line. This too is deceptive. Even though there are sixteen data points, most of\n",
    "them are crowded into a small amount of real estate on the left side of the plot, so\n",
    "that the detail is impossible to see. This occurs because the plotted points have x\n",
    "values of 24,\t25,\t26,\t…,\t220, so the values on the x-axis range from 16\tto over a million, and unless instructed otherwise PyLab will place these points based on their\n",
    "relative distance from the origin. This is called *__linear scaling. Because most of the\n",
    "points have x values that are small relative to 220, they will appear relatively close\n",
    "to the origin__*.\n",
    "\n",
    "Fortunately, these visualization problems are easy to address in PyLab. As we\n",
    "saw in Chapter 11 and earlier in this chapter, we can easily instruct our program\n",
    "to plot unconnected points, e.g., by writing pylab.plot(xAxis, diffs, 'ko').\n",
    "Both plots in Figure 15.7 use a logarithmic scale on the x-axis. Since the x\n",
    "values generated by flipPlot are $2^{minExp}$, $2^{minExp+1}$,..., $2^{maxExp}$, using a logarithmic\n",
    "x-axis causes the points to be evenly spaced along the x-axis—providing maximum separation between points. The left-hand plot in Figure 15.7 uses a logarithmic scale on the y-axis as well as on the x-axis. The y values on this plot range\n",
    "from nearly 0 to around 550. If the y-axis were linearly scaled, it would be difficult to see the relatively small differences in y values on the left side of the plot.\n",
    "On the other hand, on the plot on the right the y values are fairly tightly grouped,\n",
    "so we use a linear y-axis."
   ]
  },
  {
   "cell_type": "markdown",
   "metadata": {},
   "source": [
    "__Finger exercise:__ Modify the code in Figure 15.5 so that it produces plots like\n",
    "those shown in Figure 15.7."
   ]
  },
  {
   "cell_type": "code",
   "execution_count": 37,
   "metadata": {},
   "outputs": [
    {
     "data": {
      "image/png": "[encoded data removed]",
      "text/plain": [
       "<Figure size 432x288 with 1 Axes>"
      ]
     },
     "metadata": {
      "needs_background": "light"
     },
     "output_type": "display_data"
    },
    {
     "data": {
      "image/png": "[encoded data removed]",
      "text/plain": [
       "<Figure size 432x288 with 1 Axes>"
      ]
     },
     "metadata": {
      "needs_background": "light"
     },
     "output_type": "display_data"
    }
   ],
   "source": [
    "import pylab\n",
    "\n",
    "def flipPlot(minExp, maxExp):\n",
    "    \"\"\"Assumes minExp>0 and maxExp>0 are integers; minExp < maxExp. \n",
    "       Plot results of 2**minExp and 2**maxExp coin flips.\"\"\"\n",
    "    ratios, diffs, xAxis = [], [], []\n",
    "    \n",
    "    for exp in range(minExp, maxExp+1):\n",
    "        xAxis.append(2**exp) #create list for x-axis, where the x-axis is number of flips.\n",
    "    \n",
    "    for numFlips in xAxis:\n",
    "        numHeads = 0\n",
    "        for n in range(numFlips):\n",
    "            if random.choice(('H','T')) == 'H':\n",
    "                numHeads += 1\n",
    "        numTails = numFlips - numHeads\n",
    "        try:\n",
    "            ratios.append(numHeads/numTails)\n",
    "            diffs.append(abs(numHeads-numTails))\n",
    "        except ZeroDivisionError:\n",
    "            continue\n",
    "            \n",
    "    pylab.title('Difference Between Heads and Tails')\n",
    "    pylab.xlabel('Number of Flips')\n",
    "    pylab.ylabel('Abs(#Heads-#Tails)')\n",
    "    pylab.plot(xAxis, diffs, 'ko')\n",
    "    pylab.semilogx()\n",
    "    pylab.semilogy()\n",
    "    pylab.figure()\n",
    "\n",
    "    pylab.title('Heads/Tails Ratios')\n",
    "    pylab.xlabel('Number of Flips')\n",
    "    pylab.ylabel('#Heads/#Tails')\n",
    "    pylab.plot(xAxis, ratios, 'ko')\n",
    "    pylab.semilogx()\n",
    "    pylab.semilogy()\n",
    "\n",
    "random.seed(0)\n",
    "flipPlot(4,20)"
   ]
  },
  {
   "cell_type": "markdown",
   "metadata": {},
   "source": [
    "These plots are easier to interpret than the earlier plots. The plot on the right\n",
    "suggests pretty strongly that the ratio of heads to tails converges to 1.0 as the\n",
    "number of flips gets large. The meaning of the plot on the left is a bit less clear. It\n",
    "appears that the absolute difference grows with the number of flips, but it is not\n",
    "completely convincing.\n",
    "\n",
    "It is never possible to achieve perfect accuracy through sampling without\n",
    "sampling the entire population. No matter how many samples we examine, we\n",
    "can never be sure that the sample set is typical until we examine every element of\n",
    "the population (and since we are often dealing with infinite populations, e.g., all\n",
    "possible sequences of coin flips, this is often impossible). Of course, this is not to\n",
    "say that an estimate cannot be precisely correct. We might flip a coin twice, get\n",
    "one heads and one tails, and conclude that the true probability of each is 0.5. We\n",
    "would have reached the right conclusion, but our reasoning would have been\n",
    "faulty.\n",
    "\n",
    "*__How many samples do we need to look at before we can have justified confidence in our answer? This depends on the variance in the underlying distribution__*. Roughly speaking, variance is a measure of how much spread there is in the\n",
    "possible different outcomes. More formally, the variance of a collection of values,\n",
    "𝑋, is defined as:\n",
    "\n",
    "$Var(X) = \\frac{\\sum_{x \\in X} (x-\\mu)^2 }{\\lvert X \\rvert} $\n",
    "\n",
    "where |𝑋| is the size of the collection and 𝜇 (mu) its mean. Informally, the variance describes what fraction of the values are close to the mean. If many values\n",
    "are relatively close to the mean, the variance is relatively small. If many values are\n",
    "relatively far from the mean, the variance is relatively large. If all values are the\n",
    "same, the variance is zero.\n",
    "\n",
    "*__The standard deviation of a collection of values is the square root of the variance. While it contains exactly the same information as the variance, the standard deviation is easier to interpret because it is in the same units as the original\n",
    "data__*. For example, is easier to understand the statement “the mean height of a\n",
    "population is 70 inches with a standard deviation of 4 inches,” than the sentence\n",
    "“the mean of height of a population is 70 inches with a variance of 16 inches.”\n",
    "\n",
    "The following code contains implementations of variance and standard deviation."
   ]
  },
  {
   "cell_type": "code",
   "execution_count": 51,
   "metadata": {},
   "outputs": [],
   "source": [
    "def variance(X):\n",
    "    \"\"\"Assumes that X is a list of numbers.\n",
    "       Return the variance of X.\"\"\"\n",
    "    mean = sum(X)/len(X)\n",
    "    tot = 0.0\n",
    "    for x in X:\n",
    "        tot += (x-mean)**2\n",
    "    return tot/len(X)\n",
    "\n",
    "def stdDev(X):\n",
    "    \"\"\"Assumes that X is a list of numbers.\n",
    "       Return the standard deviation of X.\"\"\"\n",
    "    return variance(X)**0.5"
   ]
  },
  {
   "cell_type": "markdown",
   "metadata": {},
   "source": [
    "We can use the notion of standard deviation to think about the relationship\n",
    "between the number of samples we have looked at and how much confidence we\n",
    "should have in the answer we have computed. Figure 15.9 contains a modified\n",
    "version of flipPlot. It uses the helper functions defined at the top of the figure to\n",
    "run multiple trials of each number of coin flips, and then plots the means for\n",
    "abs(heads - tails) and the heads/tails ratio. It also plots the standard deviation\n",
    "of each. The helper function makePlot contains the code used to produce the\n",
    "plots. The function runTrial simulates one trial of numFlips coins."
   ]
  },
  {
   "cell_type": "code",
   "execution_count": 52,
   "metadata": {},
   "outputs": [],
   "source": [
    "import pylab\n",
    "\n",
    "def makePlot(xVals, yVals, title, xLabel, yLabel, style, logX=False, logY=False):\n",
    "    \"\"\"Return figure plot with xVals as x-axis and yVals as y-axis.\"\"\"\n",
    "    pylab.figure() #plot all figure instead of just the last figure.\n",
    "    pylab.title(title)\n",
    "    pylab.xlabel(xLabel)\n",
    "    pylab.ylabel(yLabel)\n",
    "    pylab.plot(xVals, yVals, style)\n",
    "    if logX:\n",
    "        pylab.semilogx()\n",
    "    if logY:\n",
    "        pylab.semilogy()\n",
    "        \n",
    "def runTrials(numFlips):\n",
    "    \"\"\"Run coin flipping (one trial only) for numFlips flips.\n",
    "       Return both number of Heads and Tails.\"\"\"\n",
    "    numHeads=0\n",
    "    for n in range(numFlips):\n",
    "        if random.choice(('H','T')) == 'H':\n",
    "            numHeads +=1\n",
    "    numTails = numFlips - numHeads\n",
    "    return (numHeads,numTails)\n",
    "\n",
    "def flipPlot1(minExp, maxExp, numTrials):\n",
    "    \"\"\"Assumes minExp>0, maxExp>0 and numTrials>0 are integers; minExp < maxExp.\n",
    "       Plots summaries of results of numTrials trials of 2**minExp to 2**maxExp coin flips.\"\"\"\n",
    "    ratiosMeans, diffsMeans, ratiosSDs, diffsSDs = [], [], [], []\n",
    "    xAxis = []\n",
    "    \n",
    "    #Create lists for x-axis.\n",
    "    for exp in range(minExp, maxExp+1):\n",
    "        xAxis.append(2**exp)\n",
    "    \n",
    "    #Create lists for y-axis.\n",
    "    for numFlips in xAxis:\n",
    "        ratios, diffs = [], []\n",
    "        for t in range(numTrials):\n",
    "            numHeads, numTails = runTrials(numFlips)\n",
    "            ratios.append(numHeads/numTails)\n",
    "            diffs.append(abs(numHeads-numTails))\n",
    "        ratiosMeans.append(sum(ratios)/numTrials)\n",
    "        diffsMeans.append(sum(diffs)/numTrials)\n",
    "        ratiosSDs.append(stdDev(ratios))\n",
    "        diffsSDs.append(stdDev(diffs))\n",
    "    \n",
    "    #At this point we're ready to plot ratiosMeans, diffsMeans, ratiosSDs and diffsSDs.\n",
    "    numTrialsString = '(' + str(numTrials) + ' Trials)'\n",
    "    title = 'Mean of Heads/Tails Ratios ' + numTrialsString\n",
    "    makePlot(xAxis, ratiosMeans, title, 'Number of Flips', 'Mean of Heads/Tails', 'ko', logX=True)\n",
    "    \n",
    "    title = 'Standard Deviation of Heads/Tails Ratios ' + numTrialsString\n",
    "    makePlot(xAxis, ratiosSDs, title, 'Number of Flips', 'Standard Deviation', 'ko', logX=True,\n",
    "             logY=True)"
   ]
  },
  {
   "cell_type": "markdown",
   "metadata": {},
   "source": [
    "Let's try:"
   ]
  },
  {
   "cell_type": "code",
   "execution_count": 53,
   "metadata": {},
   "outputs": [
    {
     "data": {
      "image/png": "[encoded data removed]",
      "text/plain": [
       "<Figure size 432x288 with 1 Axes>"
      ]
     },
     "metadata": {
      "needs_background": "light"
     },
     "output_type": "display_data"
    },
    {
     "data": {
      "image/png": "[encoded data removed]",
      "text/plain": [
       "<Figure size 432x288 with 1 Axes>"
      ]
     },
     "metadata": {
      "needs_background": "light"
     },
     "output_type": "display_data"
    }
   ],
   "source": [
    "flipPlot1(4, 20, 20)"
   ]
  },
  {
   "cell_type": "markdown",
   "metadata": {},
   "source": [
    "This is encouraging. *__The mean heads/tails ratio is converging towards 1 and\n",
    "the log of the standard deviation is falling linearly with the log of the number of\n",
    "flips per trial. By the time we get to about $10^{6}$ coin flips per trial, the standard\n",
    "deviation (about $10^{-3}$) is roughly three decimal orders of magnitude smaller than\n",
    "the mean (about 1), indicating that the variance across the trials was small__*. We\n",
    "can, therefore, have considerable confidence that the expected heads/tails ratio is\n",
    "quite close to 1.0. As we flip more coins, not only do we have a more precise answer, but more important, we also have reason to be more confident that it is\n",
    "close to the right answer.\n",
    "\n",
    "What about the absolute difference between the number of heads and the\n",
    "number of tails? We can take a look at that by modify to the end of flipPlot1:"
   ]
  },
  {
   "cell_type": "code",
   "execution_count": 56,
   "metadata": {},
   "outputs": [],
   "source": [
    "import pylab\n",
    "\n",
    "def makePlot(xVals, yVals, title, xLabel, yLabel, style, logX=False, logY=False):\n",
    "    \"\"\"Return figure plot with xVals as x-axis and yVals as y-axis.\"\"\"\n",
    "    pylab.figure()\n",
    "    pylab.title(title)\n",
    "    pylab.xlabel(xLabel)\n",
    "    pylab.ylabel(yLabel)\n",
    "    pylab.plot(xVals, yVals, style)\n",
    "    if logX:\n",
    "        pylab.semilogx()\n",
    "    if logY:\n",
    "        pylab.semilogy()\n",
    "        \n",
    "def runTrials(numFlips):\n",
    "    \"\"\"Run coin flipping (one trial only) for numFlips flips.\n",
    "       Return both number of Heads and Tails.\"\"\"\n",
    "    numHeads=0\n",
    "    for n in range(numFlips):\n",
    "        if random.choice(('H','T')) == 'H':\n",
    "            numHeads +=1\n",
    "    numTails = numFlips - numHeads\n",
    "    return (numHeads,numTails)\n",
    "\n",
    "def flipPlot1(minExp, maxExp, numTrials):\n",
    "    \"\"\"Assumes minExp>0, maxExp>0 and numTrials>0 are integers; minExp < maxExp.\n",
    "       Plots summaries of results of numTrials trials of 2**minExp to 2**maxExp coin flips.\"\"\"\n",
    "    ratiosMeans, diffsMeans, ratiosSDs, diffsSDs = [], [], [], []\n",
    "    xAxis = []\n",
    "    \n",
    "    #Create lists for x-axis.\n",
    "    for exp in range(minExp, maxExp+1):\n",
    "        xAxis.append(2**exp)\n",
    "    \n",
    "    #Create lists for y-axis.\n",
    "    for numFlips in xAxis:\n",
    "        ratios, diffs = [], []\n",
    "        for t in range(numTrials):\n",
    "            numHeads, numTails = runTrials(numFlips)\n",
    "            ratios.append(numHeads/numTails)\n",
    "            diffs.append(abs(numHeads-numTails))\n",
    "        ratiosMeans.append(sum(ratios)/numTrials)\n",
    "        diffsMeans.append(sum(diffs)/numTrials)\n",
    "        ratiosSDs.append(stdDev(ratios))\n",
    "        diffsSDs.append(stdDev(diffs))\n",
    "    \n",
    "    #At this point we're ready to plot ratiosMeans, diffsMeans, ratiosSDs and diffsSDs.\n",
    "    numTrialsString = '(' + str(numTrials) + ' Trials)'\n",
    "    title = 'Mean Heads/Tails Ratios ' + numTrialsString\n",
    "    makePlot(xAxis, ratiosMeans, title, 'Number of Flips', 'Mean Heads/Tails', 'ko', logX=True)\n",
    "    \n",
    "    title = 'Standard Deviation of Heads/Tails Ratios ' + numTrialsString\n",
    "    makePlot(xAxis, ratiosSDs, title, 'Number of Flips', 'Standard Deviation', 'ko', logX=True,\n",
    "             logY=True)\n",
    "    \n",
    "    title = 'Mean abs(#Heads-#Tails) ' + numTrialsString\n",
    "    makePlot(xAxis, diffsMeans, title, 'Number of Flips', 'Mean abs(#Heads-#Tails)', 'ko', logX=True,\n",
    "             logY=True)\n",
    "    \n",
    "    title = 'Standard Deviation of abs(#Heads-#Tails) ' + numTrialsString\n",
    "    makePlot(xAxis, diffsSDs, title, 'Number of Flips', 'Standard Deviation', 'ko', logX=True,\n",
    "             logY=True)"
   ]
  },
  {
   "cell_type": "code",
   "execution_count": 57,
   "metadata": {},
   "outputs": [
    {
     "data": {
      "image/png": "[encoded data removed]",
      "text/plain": [
       "<Figure size 432x288 with 1 Axes>"
      ]
     },
     "metadata": {
      "needs_background": "light"
     },
     "output_type": "display_data"
    },
    {
     "data": {
      "image/png": "[encoded data removed]",
      "text/plain": [
       "<Figure size 432x288 with 1 Axes>"
      ]
     },
     "metadata": {
      "needs_background": "light"
     },
     "output_type": "display_data"
    },
    {
     "data": {
      "image/png": "[encoded data removed]",
      "text/plain": [
       "<Figure size 432x288 with 1 Axes>"
      ]
     },
     "metadata": {
      "needs_background": "light"
     },
     "output_type": "display_data"
    },
    {
     "data": {
      "image/png": "[encoded data removed]",
      "text/plain": [
       "<Figure size 432x288 with 1 Axes>"
      ]
     },
     "metadata": {
      "needs_background": "light"
     },
     "output_type": "display_data"
    }
   ],
   "source": [
    "flipPlot1(4, 20, 20)"
   ]
  },
  {
   "cell_type": "markdown",
   "metadata": {},
   "source": [
    "As expected, the absolute difference between the numbers of heads and tails\n",
    "grows with the number of flips. Furthermore, since we are averaging the results\n",
    "over twenty trials, the plot is considerably smoother than when we plotted the\n",
    "results of a single trial in Figure 15.7. But what’s up with the plot on the right of\n",
    "Figure 15.12? The standard deviation is growing with the number of flips. Does\n",
    "this mean that as the number of flips increases we should have less rather than\n",
    "more confidence in the estimate of the expected value of the difference between\n",
    "heads and tails?\n",
    "\n",
    "No, it does not. *__The standard deviation should always be viewed in the context of the mean__*. If the mean were a billion and the standard deviation 100, we\n",
    "would view the dispersion of the data as small. But if the mean were 100 and the\n",
    "standard deviation 100, we would view the dispersion as large.\n",
    "\n",
    "*__The coefficient of variation is the standard deviation divided by the mean.\n",
    "When comparing data sets with different means (as here), the coefficient of variation is often more informative than the standard deviation__*. Note that the coefficient of variation is not defined\n",
    "when the mean is 0."
   ]
  },
  {
   "cell_type": "code",
   "execution_count": 60,
   "metadata": {},
   "outputs": [],
   "source": [
    "def CV(X):\n",
    "    \"\"\"Calculate the coefficient of variation: SD divided by the mean.\"\"\"\n",
    "    mean = sum(X)/len(X)\n",
    "    try:\n",
    "        return stdDev(X)/mean\n",
    "    except ZeroDivisionError:\n",
    "        return float('nan')"
   ]
  },
  {
   "cell_type": "code",
   "execution_count": 65,
   "metadata": {},
   "outputs": [],
   "source": [
    "def runTrials(numFlips):\n",
    "    \"\"\"Run coin flipping (only one trial) for numFlips flips.\"\"\"\n",
    "    numHeads=0\n",
    "    for n in range(numFlips):\n",
    "        if random.choice(('H','T')) == 'H':\n",
    "            numHeads +=1\n",
    "    numTails = numFlips - numHeads\n",
    "    return (numHeads,numTails)\n",
    "\n",
    "\n",
    "def flipPlot2(minExp, maxExp, numTrials):\n",
    "    \"\"\"Assumes minExp and maxExp positive ints; minExp < maxExp. numTrials a positive integer\n",
    "       Plots summaries of results of numTrials trials of 2**minExp to 2**maxExp coin flips\"\"\"\n",
    "    ratiosMeans, diffsMeans, ratiosSDs, diffsSDs = [], [], [], []\n",
    "    ratiosCVs, diffsCVs, xAxis = [], [], []\n",
    "    \n",
    "    #create x-axis.\n",
    "    for exp in range(minExp, maxExp + 1):\n",
    "        xAxis.append(2**exp) \n",
    "        \n",
    "    #simulate coin flipping for each numFlips in the x-axis.\n",
    "    for numFlips in xAxis:\n",
    "        ratios, diffs = [], []\n",
    "        \n",
    "        #For each numFlips flips, repeat exp. for numTrials trials.\n",
    "        for t in range(numTrials):\n",
    "            numHeads, numTails = runTrials(numFlips)\n",
    "            ratios.append(numHeads/float(numTails))\n",
    "            diffs.append(abs(numHeads - numTails))\n",
    "            \n",
    "        ratiosMeans.append(sum(ratios)/numTrials)\n",
    "        diffsMeans.append(sum(diffs)/numTrials)\n",
    "        ratiosSDs.append(stdDev(ratios))\n",
    "        diffsSDs.append(stdDev(diffs))\n",
    "        ratiosCVs.append(CV(ratios))\n",
    "        diffsCVs.append(CV(diffs))\n",
    "      \n",
    "    #At this point we're ready to plot  ratiosMeans, diffsMeans,\n",
    "    #ratiosSDs, diffsSDs, ratiosCVs and diffsCVs.\n",
    "    numTrialsString = ' (' + str(numTrials) + ' Trials)'\n",
    "    title = 'Mean of Heads/Tails Ratios ' + numTrialsString\n",
    "    makePlot(xAxis, ratiosMeans, title, 'Number of flips',\n",
    "    'Mean Heads/Tails', 'ko', logX = True)\n",
    "    \n",
    "    title = 'SD of Heads/Tails Ratios ' + numTrialsString\n",
    "    makePlot(xAxis, ratiosSDs, title, 'Number of flips',\n",
    "    'Standard Deviation', 'ko', logX = True, logY = True)\n",
    "    \n",
    "    title = 'Mean of abs(#Heads - #Tails) ' + numTrialsString\n",
    "    makePlot(xAxis, diffsMeans, title,'Number of Flips',\n",
    "    'Mean of abs(#Heads - #Tails)', 'ko',\n",
    "    logX = True, logY = True)\n",
    "    \n",
    "    title = 'SD of abs(#Heads - #Tails)' + numTrialsString\n",
    "    makePlot(xAxis, diffsSDs, title, 'Number of Flips',\n",
    "    'Standard Deviation', 'ko', logX = True, logY = True)\n",
    "    \n",
    "    title = 'Coeff. of Var. of Heads/Tails Ratio' + numTrialsString\n",
    "    makePlot(xAxis, ratiosCVs, title, 'Number of Flips',\n",
    "    'Coeff. of Var.', 'ko', logX = True, logY = True)\n",
    "    \n",
    "    title = 'Coeff. of Var. of abs(#Heads - #Tails)' + numTrialsString\n",
    "    makePlot(xAxis, diffsCVs, title, 'Number of Flips',\n",
    "    'Coeff. of Var.', 'ko', logX = True)"
   ]
  },
  {
   "cell_type": "code",
   "execution_count": 66,
   "metadata": {},
   "outputs": [
    {
     "data": {
      "image/png": "[encoded data removed]",
      "text/plain": [
       "<Figure size 432x288 with 1 Axes>"
      ]
     },
     "metadata": {
      "needs_background": "light"
     },
     "output_type": "display_data"
    },
    {
     "data": {
      "image/png": "[encoded data removed]",
      "text/plain": [
       "<Figure size 432x288 with 1 Axes>"
      ]
     },
     "metadata": {
      "needs_background": "light"
     },
     "output_type": "display_data"
    },
    {
     "data": {
      "image/png": "[encoded data removed]",
      "text/plain": [
       "<Figure size 432x288 with 1 Axes>"
      ]
     },
     "metadata": {
      "needs_background": "light"
     },
     "output_type": "display_data"
    },
    {
     "data": {
      "image/png": "[encoded data removed]",
      "text/plain": [
       "<Figure size 432x288 with 1 Axes>"
      ]
     },
     "metadata": {
      "needs_background": "light"
     },
     "output_type": "display_data"
    },
    {
     "data": {
      "image/png": "[encoded data removed]",
      "text/plain": [
       "<Figure size 432x288 with 1 Axes>"
      ]
     },
     "metadata": {
      "needs_background": "light"
     },
     "output_type": "display_data"
    },
    {
     "data": {
      "image/png": "[encoded data removed]",
      "text/plain": [
       "<Figure size 432x288 with 1 Axes>"
      ]
     },
     "metadata": {
      "needs_background": "light"
     },
     "output_type": "display_data"
    }
   ],
   "source": [
    "flipPlot2(4, 20, 20)"
   ]
  },
  {
   "cell_type": "markdown",
   "metadata": {},
   "source": [
    "In this case we see that the plot of coefficient of variation for the heads/tails\n",
    "ratio is not much different from the plot of the standard deviation in Figure\n",
    "15.10. This is not surprising, since the only difference between the two is the division by the mean, and since the mean is close to 1 that makes little difference.\n",
    "\n",
    "On the other hand, the plot of the coefficient of variation for the absolute difference between heads and tails is a different story. While the standard deviation\n",
    "exhibited a clear trend in Figure 15.12, it would take a brave person to argue that\n",
    "the coefficient of variation is trending in any direction. It seems to be fluctuating\n",
    "wildly. *__This suggests that dispersion in the values of abs(heads – tails) is independent of the number of flips. It’s not growing, as the standard deviation might\n",
    "have misled us to believe, but it’s not shrinking either__*. Perhaps a trend would appear if we tried 1000 trials instead of 20. Let’s see."
   ]
  },
  {
   "cell_type": "code",
   "execution_count": 67,
   "metadata": {},
   "outputs": [],
   "source": [
    "def runTrials(numFlips):\n",
    "    \"\"\"Run coin flipping (only one trial) for numFlips flips.\"\"\"\n",
    "    numHeads=0\n",
    "    for n in range(numFlips):\n",
    "        if random.choice(('H','T')) == 'H':\n",
    "            numHeads +=1\n",
    "    numTails = numFlips - numHeads\n",
    "    return (numHeads,numTails)\n",
    "\n",
    "\n",
    "def flipPlot2(minExp, maxExp, numTrials):\n",
    "    \"\"\"Assumes minExp and maxExp positive ints; minExp < maxExp. numTrials a positive integer\n",
    "       Plots summaries of results of numTrials trials of 2**minExp to 2**maxExp coin flips\"\"\"\n",
    "    ratiosMeans, diffsMeans, ratiosSDs, diffsSDs = [], [], [], []\n",
    "    ratiosCVs, diffsCVs, xAxis = [], [], []\n",
    "    \n",
    "    #create x-axis.\n",
    "    for exp in range(minExp, maxExp + 1):\n",
    "        xAxis.append(2**exp) \n",
    "        \n",
    "    #simulate coin flipping for each numFlips in the x-axis.\n",
    "    for numFlips in xAxis:\n",
    "        ratios, diffs = [], []\n",
    "        \n",
    "        #For each numFlips flips, repeat exp. for numTrials trials.\n",
    "        for t in range(numTrials):\n",
    "            numHeads, numTails = runTrials(numFlips)\n",
    "            ratios.append(numHeads/float(numTails))\n",
    "            diffs.append(abs(numHeads - numTails))\n",
    "            \n",
    "        ratiosMeans.append(sum(ratios)/numTrials)\n",
    "        diffsMeans.append(sum(diffs)/numTrials)\n",
    "        ratiosSDs.append(stdDev(ratios))\n",
    "        diffsSDs.append(stdDev(diffs))\n",
    "        ratiosCVs.append(CV(ratios))\n",
    "        diffsCVs.append(CV(diffs))\n",
    "      \n",
    "    #At this point we're ready to plot  ratiosMeans, diffsMeans,\n",
    "    #ratiosSDs, diffsSDs, ratiosCVs and diffsCVs.\n",
    "#     numTrialsString = ' (' + str(numTrials) + ' Trials)'\n",
    "#     title = 'Mean of Heads/Tails Ratios ' + numTrialsString\n",
    "#     makePlot(xAxis, ratiosMeans, title, 'Number of flips',\n",
    "#     'Mean Heads/Tails', 'ko', logX = True)\n",
    "    \n",
    "#     title = 'SD of Heads/Tails Ratios ' + numTrialsString\n",
    "#     makePlot(xAxis, ratiosSDs, title, 'Number of flips',\n",
    "#     'Standard Deviation', 'ko', logX = True, logY = True)\n",
    "    \n",
    "#     title = 'Mean of abs(#Heads - #Tails) ' + numTrialsString\n",
    "#     makePlot(xAxis, diffsMeans, title,'Number of Flips',\n",
    "#     'Mean of abs(#Heads - #Tails)', 'ko',\n",
    "#     logX = True, logY = True)\n",
    "    \n",
    "    title = 'SD of abs(#Heads - #Tails)' + numTrialsString\n",
    "    makePlot(xAxis, diffsSDs, title, 'Number of Flips',\n",
    "    'Standard Deviation', 'ko', logX = True, logY = True)\n",
    "    \n",
    "#     title = 'Coeff. of Var. of Heads/Tails Ratio' + numTrialsString\n",
    "#     makePlot(xAxis, ratiosCVs, title, 'Number of Flips',\n",
    "#     'Coeff. of Var.', 'ko', logX = True, logY = True)\n",
    "    \n",
    "    title = 'Coeff. of Var. of abs(#Heads - #Tails)' + numTrialsString\n",
    "    makePlot(xAxis, diffsCVs, title, 'Number of Flips',\n",
    "    'Coeff. of Var.', 'ko', logX = True)"
   ]
  },
  {
   "cell_type": "code",
   "execution_count": 68,
   "metadata": {},
   "outputs": [
    {
     "ename": "KeyboardInterrupt",
     "evalue": "",
     "output_type": "error",
     "traceback": [
      "\u001b[1;31m---------------------------------------------------------------------------\u001b[0m",
      "\u001b[1;31mKeyboardInterrupt\u001b[0m                         Traceback (most recent call last)",
      "\u001b[1;32m<ipython-input-68-14b0ae02615d>\u001b[0m in \u001b[0;36m<module>\u001b[1;34m\u001b[0m\n\u001b[1;32m----> 1\u001b[1;33m \u001b[0mflipPlot2\u001b[0m\u001b[1;33m(\u001b[0m\u001b[1;36m4\u001b[0m\u001b[1;33m,\u001b[0m \u001b[1;36m20\u001b[0m\u001b[1;33m,\u001b[0m \u001b[1;36m1000\u001b[0m\u001b[1;33m)\u001b[0m\u001b[1;33m\u001b[0m\u001b[1;33m\u001b[0m\u001b[0m\n\u001b[0m",
      "\u001b[1;32m<ipython-input-67-a7b9ff439dea>\u001b[0m in \u001b[0;36mflipPlot2\u001b[1;34m(minExp, maxExp, numTrials)\u001b[0m\n\u001b[0;32m     25\u001b[0m         \u001b[1;31m#For each numFlips flips, repeat exp. for numTrials trials.\u001b[0m\u001b[1;33m\u001b[0m\u001b[1;33m\u001b[0m\u001b[1;33m\u001b[0m\u001b[0m\n\u001b[0;32m     26\u001b[0m         \u001b[1;32mfor\u001b[0m \u001b[0mt\u001b[0m \u001b[1;32min\u001b[0m \u001b[0mrange\u001b[0m\u001b[1;33m(\u001b[0m\u001b[0mnumTrials\u001b[0m\u001b[1;33m)\u001b[0m\u001b[1;33m:\u001b[0m\u001b[1;33m\u001b[0m\u001b[1;33m\u001b[0m\u001b[0m\n\u001b[1;32m---> 27\u001b[1;33m             \u001b[0mnumHeads\u001b[0m\u001b[1;33m,\u001b[0m \u001b[0mnumTails\u001b[0m \u001b[1;33m=\u001b[0m \u001b[0mrunTrials\u001b[0m\u001b[1;33m(\u001b[0m\u001b[0mnumFlips\u001b[0m\u001b[1;33m)\u001b[0m\u001b[1;33m\u001b[0m\u001b[1;33m\u001b[0m\u001b[0m\n\u001b[0m\u001b[0;32m     28\u001b[0m             \u001b[0mratios\u001b[0m\u001b[1;33m.\u001b[0m\u001b[0mappend\u001b[0m\u001b[1;33m(\u001b[0m\u001b[0mnumHeads\u001b[0m\u001b[1;33m/\u001b[0m\u001b[0mfloat\u001b[0m\u001b[1;33m(\u001b[0m\u001b[0mnumTails\u001b[0m\u001b[1;33m)\u001b[0m\u001b[1;33m)\u001b[0m\u001b[1;33m\u001b[0m\u001b[1;33m\u001b[0m\u001b[0m\n\u001b[0;32m     29\u001b[0m             \u001b[0mdiffs\u001b[0m\u001b[1;33m.\u001b[0m\u001b[0mappend\u001b[0m\u001b[1;33m(\u001b[0m\u001b[0mabs\u001b[0m\u001b[1;33m(\u001b[0m\u001b[0mnumHeads\u001b[0m \u001b[1;33m-\u001b[0m \u001b[0mnumTails\u001b[0m\u001b[1;33m)\u001b[0m\u001b[1;33m)\u001b[0m\u001b[1;33m\u001b[0m\u001b[1;33m\u001b[0m\u001b[0m\n",
      "\u001b[1;32m<ipython-input-67-a7b9ff439dea>\u001b[0m in \u001b[0;36mrunTrials\u001b[1;34m(numFlips)\u001b[0m\n\u001b[0;32m      3\u001b[0m     \u001b[0mnumHeads\u001b[0m\u001b[1;33m=\u001b[0m\u001b[1;36m0\u001b[0m\u001b[1;33m\u001b[0m\u001b[1;33m\u001b[0m\u001b[0m\n\u001b[0;32m      4\u001b[0m     \u001b[1;32mfor\u001b[0m \u001b[0mn\u001b[0m \u001b[1;32min\u001b[0m \u001b[0mrange\u001b[0m\u001b[1;33m(\u001b[0m\u001b[0mnumFlips\u001b[0m\u001b[1;33m)\u001b[0m\u001b[1;33m:\u001b[0m\u001b[1;33m\u001b[0m\u001b[1;33m\u001b[0m\u001b[0m\n\u001b[1;32m----> 5\u001b[1;33m         \u001b[1;32mif\u001b[0m \u001b[0mrandom\u001b[0m\u001b[1;33m.\u001b[0m\u001b[0mchoice\u001b[0m\u001b[1;33m(\u001b[0m\u001b[1;33m(\u001b[0m\u001b[1;34m'H'\u001b[0m\u001b[1;33m,\u001b[0m\u001b[1;34m'T'\u001b[0m\u001b[1;33m)\u001b[0m\u001b[1;33m)\u001b[0m \u001b[1;33m==\u001b[0m \u001b[1;34m'H'\u001b[0m\u001b[1;33m:\u001b[0m\u001b[1;33m\u001b[0m\u001b[1;33m\u001b[0m\u001b[0m\n\u001b[0m\u001b[0;32m      6\u001b[0m             \u001b[0mnumHeads\u001b[0m \u001b[1;33m+=\u001b[0m\u001b[1;36m1\u001b[0m\u001b[1;33m\u001b[0m\u001b[1;33m\u001b[0m\u001b[0m\n\u001b[0;32m      7\u001b[0m     \u001b[0mnumTails\u001b[0m \u001b[1;33m=\u001b[0m \u001b[0mnumFlips\u001b[0m \u001b[1;33m-\u001b[0m \u001b[0mnumHeads\u001b[0m\u001b[1;33m\u001b[0m\u001b[1;33m\u001b[0m\u001b[0m\n",
      "\u001b[1;32m~\\Anaconda3\\lib\\random.py\u001b[0m in \u001b[0;36mchoice\u001b[1;34m(self, seq)\u001b[0m\n\u001b[0;32m    257\u001b[0m         \u001b[1;34m\"\"\"Choose a random element from a non-empty sequence.\"\"\"\u001b[0m\u001b[1;33m\u001b[0m\u001b[1;33m\u001b[0m\u001b[0m\n\u001b[0;32m    258\u001b[0m         \u001b[1;32mtry\u001b[0m\u001b[1;33m:\u001b[0m\u001b[1;33m\u001b[0m\u001b[1;33m\u001b[0m\u001b[0m\n\u001b[1;32m--> 259\u001b[1;33m             \u001b[0mi\u001b[0m \u001b[1;33m=\u001b[0m \u001b[0mself\u001b[0m\u001b[1;33m.\u001b[0m\u001b[0m_randbelow\u001b[0m\u001b[1;33m(\u001b[0m\u001b[0mlen\u001b[0m\u001b[1;33m(\u001b[0m\u001b[0mseq\u001b[0m\u001b[1;33m)\u001b[0m\u001b[1;33m)\u001b[0m\u001b[1;33m\u001b[0m\u001b[1;33m\u001b[0m\u001b[0m\n\u001b[0m\u001b[0;32m    260\u001b[0m         \u001b[1;32mexcept\u001b[0m \u001b[0mValueError\u001b[0m\u001b[1;33m:\u001b[0m\u001b[1;33m\u001b[0m\u001b[1;33m\u001b[0m\u001b[0m\n\u001b[0;32m    261\u001b[0m             \u001b[1;32mraise\u001b[0m \u001b[0mIndexError\u001b[0m\u001b[1;33m(\u001b[0m\u001b[1;34m'Cannot choose from an empty sequence'\u001b[0m\u001b[1;33m)\u001b[0m \u001b[1;32mfrom\u001b[0m \u001b[1;32mNone\u001b[0m\u001b[1;33m\u001b[0m\u001b[1;33m\u001b[0m\u001b[0m\n",
      "\u001b[1;32m~\\Anaconda3\\lib\\random.py\u001b[0m in \u001b[0;36m_randbelow\u001b[1;34m(self, n, int, maxsize, type, Method, BuiltinMethod)\u001b[0m\n\u001b[0;32m    227\u001b[0m \u001b[1;33m\u001b[0m\u001b[0m\n\u001b[0;32m    228\u001b[0m         \u001b[0mrandom\u001b[0m \u001b[1;33m=\u001b[0m \u001b[0mself\u001b[0m\u001b[1;33m.\u001b[0m\u001b[0mrandom\u001b[0m\u001b[1;33m\u001b[0m\u001b[1;33m\u001b[0m\u001b[0m\n\u001b[1;32m--> 229\u001b[1;33m         \u001b[0mgetrandbits\u001b[0m \u001b[1;33m=\u001b[0m \u001b[0mself\u001b[0m\u001b[1;33m.\u001b[0m\u001b[0mgetrandbits\u001b[0m\u001b[1;33m\u001b[0m\u001b[1;33m\u001b[0m\u001b[0m\n\u001b[0m\u001b[0;32m    230\u001b[0m         \u001b[1;31m# Only call self.getrandbits if the original random() builtin method\u001b[0m\u001b[1;33m\u001b[0m\u001b[1;33m\u001b[0m\u001b[1;33m\u001b[0m\u001b[0m\n\u001b[0;32m    231\u001b[0m         \u001b[1;31m# has not been overridden or if a new getrandbits() was supplied.\u001b[0m\u001b[1;33m\u001b[0m\u001b[1;33m\u001b[0m\u001b[1;33m\u001b[0m\u001b[0m\n",
      "\u001b[1;31mKeyboardInterrupt\u001b[0m: "
     ]
    }
   ],
   "source": [
    "flipPlot2(4, 20, 1000)"
   ]
  },
  {
   "cell_type": "markdown",
   "metadata": {},
   "source": [
    "## 15.4 Distributions"
   ]
  },
  {
   "cell_type": "markdown",
   "metadata": {},
   "source": [
    "*__A histogram is a plot designed to show the distribution of values in a set of data__*.\n",
    "The values are first sorted, and then divided into a fixed number of equal-width\n",
    "bins. A plot is then drawn that shows the number of elements in each bin."
   ]
  },
  {
   "cell_type": "code",
   "execution_count": 71,
   "metadata": {},
   "outputs": [
    {
     "data": {
      "text/plain": [
       "Text(0, 0.5, 'Number of Occurences.')"
      ]
     },
     "execution_count": 71,
     "metadata": {},
     "output_type": "execute_result"
    },
    {
     "data": {
      "image/png": "[encoded data removed]",
      "text/plain": [
       "<Figure size 432x288 with 1 Axes>"
      ]
     },
     "metadata": {
      "needs_background": "light"
     },
     "output_type": "display_data"
    }
   ],
   "source": [
    "import pylab\n",
    "\n",
    "vals = []\n",
    "for i in range(1000):\n",
    "    num1 = random.choice(range(0,101))\n",
    "    num2 = random.choice(range(0,101))\n",
    "    vals.append(num1+num2)\n",
    "    \n",
    "pylab.hist(vals, bins = 10)\n",
    "pylab.ylabel('Number of Occurences.')"
   ]
  },
  {
   "cell_type": "markdown",
   "metadata": {},
   "source": [
    "The function call pylab.hist(vals, bins = 10) produces a histogram with ten\n",
    "bins. PyLab has automatically chosen the width of each bin based on the number\n",
    "of bins and the range of values. Looking at the code, we know that the smallest\n",
    "number that might appears in vals is 0 and the largest number 200. Therefore,\n",
    "the possible values on the x-axis range from 0 to 200. Each bin represents an\n",
    "equal fraction of the values on the x-axis, so the first bin will contain the elements 0-19, the next bin the elements 20-39, etc.\n",
    "\n",
    "__Finger exercise:__ In Figure 15.18, why are the bins near the middle of the histogram taller than the the bins near the sides? Hint: think about why 7 is the most\n",
    "common outcome of rolling a pair of dice.\n",
    "\n",
    "By now you must be getting awfully bored with flipping coins. Nevertheless,\n",
    "we are going to ask you to look at yet one more coin-flipping simulation. The\n",
    "simulation in Figure 15.19 illustrates more of PyLab’s plotting capabilities, and\n",
    "gives us an opportunity to get a visual notion of what standard deviation means.\n",
    "It produces two histograms. The first shows the result of a simulation of 100,000\n",
    "trials of 100 flips of a fair coin. The second shows the result of a simulation of\n",
    "100,000 trials of 1,000 flips of a fair coin.\n",
    "\n",
    "The method pylab.annotate is used to place some statistics on the figure\n",
    "showing the histogram. The first argument is the string to be displayed on the\n",
    "figure. The next two arguments control where the string is placed. The argument\n",
    "xycoords = 'axes fraction' indicates the placement of the text will be expressed as\n",
    "a fraction of the width and height of the figure. The argument xy = (0.67, 0.5)\n",
    "indicates that the text should begin two thirds of the way from the left edge of the\n",
    "figure and half way from the bottom edge of the figure."
   ]
  },
  {
   "cell_type": "code",
   "execution_count": 73,
   "metadata": {},
   "outputs": [],
   "source": [
    "import random\n",
    "\n",
    "def flip(numFlips):\n",
    "    \"\"\"Assumes numFlips>=0 is an integer.\n",
    "       Return thr fraction of Heads in a single trial.\"\"\"\n",
    "    heads = 0\n",
    "    for i in range(numFlips):\n",
    "        if random.choice(('H','T')) == 'H':\n",
    "            heads += 1\n",
    "    return heads/float(numFlips)\n",
    "\n",
    "def flipSim(numFlipsPerTrial, numTrials):\n",
    "    \"\"\"Run numTrials trials of coin flipping and return\n",
    "       mean & SD of fraction of Heads for each trial.\"\"\"\n",
    "    fracHeads = []\n",
    "    for i in range(numTrials):\n",
    "        fracHeads.append(flip(numFlipsPerTrial))\n",
    "    mean = sum(fracHeads)/len(fracHeads)\n",
    "    sd = stdDev(fracHeads)\n",
    "    return (fracHeads, mean, sd)\n",
    "\n",
    "def labelPlot(numFlips, numTrials, mean, sd):\n",
    "    pylab.title(str(numTrials) + ' trials of ' + str(numFlips) + ' flips each')\n",
    "    pylab.xlabel('Fraction of Heads')\n",
    "    pylab.ylabel('Number of Trials')\n",
    "    pylab.annotate('Mean = ' + str(round(mean,4))\\\n",
    "                  + '\\nSD = ' + str(round(sd,4)), size = 'x-large',\n",
    "                  xycoords = 'axes fraction', xy = (0.67,0.70))\n",
    "    \n",
    "def makePlots(numFlips1, numFlips2, numTrials):\n",
    "    val1, mean1, sd1 = flipSim(numFlips1, numTrials)\n",
    "    pylab.hist(val1, bins=20)\n",
    "    xmin, xmax = pylab.xlim()\n",
    "    labelPlot(numFlips1, numTrials, mean1, sd1)\n",
    "    pylab.figure()\n",
    "    \n",
    "    val2, mean2, sd2 = flipSim(numFlips2, numTrials)\n",
    "    pylab.hist(val2, bins=20)\n",
    "    pylab.xlim(xmin,xmax)\n",
    "    labelPlot(numFlips2, numTrials, mean2, sd2)"
   ]
  },
  {
   "cell_type": "code",
   "execution_count": 76,
   "metadata": {},
   "outputs": [
    {
     "data": {
      "image/png": "[encoded data removed]",
      "text/plain": [
       "<Figure size 432x288 with 1 Axes>"
      ]
     },
     "metadata": {
      "needs_background": "light"
     },
     "output_type": "display_data"
    },
    {
     "data": {
      "image/png": "[encoded data removed]",
      "text/plain": [
       "<Figure size 432x288 with 1 Axes>"
      ]
     },
     "metadata": {
      "needs_background": "light"
     },
     "output_type": "display_data"
    }
   ],
   "source": [
    "makePlots(100, 1000, 10000)"
   ]
  },
  {
   "cell_type": "markdown",
   "metadata": {},
   "source": [
    "To facilitate comparing the two figures, we have used pylab.xlim to force the\n",
    "bounds of the x-axis in the second plot to match those in the first plot, rather\n",
    "than letting PyLab choose the bounds.\n",
    "\n",
    "When the code in Figure 15.19 is run, it produces the plots in Figure 15.20.\n",
    "Notice that while the means in both plots are about the same, the standard deviations are quite different. *__The spread of outcomes is much tighter when we flip the\n",
    "coin 1000 times per trial than when we flip the coin 100 times per trial.__*"
   ]
  },
  {
   "cell_type": "markdown",
   "metadata": {},
   "source": [
    "### 15.4.1 Probability Distributions"
   ]
  },
  {
   "cell_type": "markdown",
   "metadata": {},
   "source": [
    "A histogram is a depiction of a frequency distribution. It tells us how often a random variable has taken on a value in some range, e.g., how often the fraction of\n",
    "times a coin came up heads was between 0.4 and 0.5. It also provides information\n",
    "about the relative frequency of various ranges. For example, we can easily see that\n",
    "the fraction of heads falls between 0.4 and 0.5 far more frequently than it falls between 0.3 and 0.4. A probability distribution captures the notion of relative frequency by giving the probability of a random value taking on a value within a\n",
    "range.\n",
    "\n",
    "Probability distributions fall into two groups: discrete probability distributions and continuous probability distributions, depending upon whether they define the probability distribution for a discrete or a continuous random variable.\n",
    "A discrete random variable can take on one of a finite set of values, e.g., the values associated with a roll of a die. A continuous random variable can take on any\n",
    "of the infinite real values between two real numbers, e.g., the speed of a car traveling between 0 miles per hour and the car’s maximum speed.\n",
    "\n",
    "Discrete probability distributions are easier to describe. Since there are a finite number of values that the variable can take on, the distribution can be described by simply listing the probability of each value.\n",
    "\n",
    "Continuous probability distributions are trickier. Since there are an infinite\n",
    "number of possible values, the probability that a continuous random variable will\n",
    "take on a specific value is usually 0. For example, the probability that a car is\n",
    "travelling at exactly 81.3457283 miles per hour is probably 0. Mathematicians\n",
    "like to describe continuous probability distributions using a probability density\n",
    "function, often abbreviated as PDF. A PDF describes the probability of a random\n",
    "variable lying between two values. Think of the PDF as defining a curve where\n",
    "the values on the x-axis lie between the minimum and maximum value of the\n",
    "random variable. (In some cases the x-axis is infinitely long.) Under the assumption that x1 and x2 lie in the domain of the random variable, the probability of the\n",
    "variable having a value between x1 and x2 is the area under the curve between x1\n",
    "and x2. Figure 15.21 shows the probability density functions for the expressions\n",
    "random.random() and random.random() + random.random()."
   ]
  },
  {
   "cell_type": "markdown",
   "metadata": {},
   "source": [
    "![](random_random.jpg)"
   ]
  },
  {
   "cell_type": "markdown",
   "metadata": {},
   "source": [
    "For random.random() the area under the curve from 0 to 1 is 1. This makes\n",
    "sense because we know that the probability of random.random() returning a value\n",
    "between 0 and 1 is 1. On the other hand, if we consider the area under the part of\n",
    "the curve for random.random() between 0.2 and 0.4,\tit is 0.2—indicating that the\n",
    "probability of random.random() returning a value between 0.2 and 0.4 is 0.2. Similarly, the area under the curve for random.random() + random.random() from 0 to 2\n",
    "is 1, and the area under the curve from 0 to 1 is 0.5. Notice, by the way that the\n",
    "PDF for random.random() indicates that every possible interval of the same length\n",
    "has the same probability, whereas the PDF for random.random() + random.random()\n",
    "indicates that some intervals are more probable than others."
   ]
  },
  {
   "cell_type": "markdown",
   "metadata": {},
   "source": [
    "### 15.4.2 Normal Distributions"
   ]
  },
  {
   "cell_type": "markdown",
   "metadata": {},
   "source": [
    "A normal or Gaussian distribution is defined by the PDF:\n",
    "\n",
    "$P(x) = \\frac{1}{\\sigma \\sqrt{2\\pi}} \\exp \\left[- \\frac{(x-\\mu)^2}{2\\sigma^2}\\right]$\n",
    "\n",
    "If you don’t feel like studying this equation, that’s fine. Just remember that\n",
    "normal distributions peak at the mean, fall off symmetrically above and below\n",
    "the mean, and asymptotically approach 0. They have the nice mathematical\n",
    "property of being completely specified by two parameters: the mean and the\n",
    "standard deviation (the only two parameters in the equation). Knowing these is\n",
    "equivalent to knowing the entire distribution. The shape of the normal distribution resembles (in the eyes of some) that of a bell, so it sometimes is referred to as\n",
    "a bell curve.\n",
    "\n",
    "Figure 15.22 shows part of the PDF for a normal distribution with a mean of\n",
    "0 and and standard deviation of 1. We can only show a portion of the PDF, because the tails of a normal distribution converge towards 0, but don’t reach it. In\n",
    "principle, no value has a zero probability of occurring."
   ]
  },
  {
   "cell_type": "markdown",
   "metadata": {},
   "source": [
    "![](normal_dist.jpg)"
   ]
  },
  {
   "cell_type": "markdown",
   "metadata": {},
   "source": [
    "Normal distributions can be easily generated in Python programs by calling\n",
    "random.gauss(mu, sigma), which returns a randomly chosen floating point number\n",
    "from a normal distribution with mean and standard deviation sigma.\n",
    "Normal distributions are frequently used in constructing probabilistic models because they have nice mathematical properties. Of course, finding a mathematically nice model is of no use if it provides a bad model of the actual data.\n",
    "\n",
    "Fortunately, many random variables have an approximately normal distribution.\n",
    "For example, physical properties of plants and animals (e.g., height, weight, body\n",
    "temperature) typically have approximately normal distributions. Importantly,\n",
    "*__many experiments have normally distributed measurement errors. This assumption was used in the early 1800s by the German mathematician and physicist Karl\n",
    "Gauss, who assumed a normal distribution of measurement errors in his analysis\n",
    "of astronomical data__* (which led to the normal distribution becoming known as\n",
    "the Gaussian distribution in much of the scientific community).\n",
    "\n",
    "One of the nice properties of normal distributions is that independent of the\n",
    "mean and standard deviation, the number of standard deviations from the mean\n",
    "needed to encompass a fixed fraction of the data is a constant. For example,\n",
    "*__~68.27% of the data will always lie with one standard deviation of the mean,\n",
    "~95.45% within two standard deviations of the mean, and ~99.73% within three\n",
    "standard deviations of the mean. This is sometimes called the 68-95-99.7 rule,\n",
    "but is more often called the empirical rule__*.\n",
    "\n",
    "The rule can be derived by integrating the formula defining a normal distribution to get the area under the curve. Looking at Figure 15.22, it is easy to believe that roughly two thirds of the total area under the curve lies between –1\n",
    "and 1, roughly 95% between -2 and 2, and almost all of it between -3 and 3. But\n",
    "that’s only one example, and it is always dangerous to generalize from a single example. We could accept the empirical rule on the unimpeachable authority of\n",
    "Wikipedia. However, just to be sure, and as an excuse to introduce a Python library worth knowing about, let’s check it ourselves.\n",
    "\n",
    "The SciPy library contains many mathematical functions commonly used by\n",
    "scientists and engineers. SciPy is organized into modules covering different scientific computing domains, such as signal processing and image processing. We\n",
    "will use a number of functions from SciPy later in this book. Here we use the\n",
    "function scipy.integrate.quad, which finds an approximation to the value of integrating a function between two points.\n",
    "\n",
    "The function scipy.integrate.quad has three required parameters and one\n",
    "optional parameter:\n",
    "* a function or method to be integrated (if the function takes more than one argument, it is integrated along the axis corresponding to the first argument).\n",
    "* a number representing the lower limit of the integration,\n",
    "* a number representing the upper limit of the integration, and\n",
    "* an optional tuple supplying values for all arguments, except the first, of the\n",
    "function to be integrated.\n",
    "\n",
    "The quad function returns a tuple of two floating point numbers. The first is\n",
    "an approximation to the value of the integral, and the second an estimate of the\n",
    "absolute error in the result.\n",
    "\n",
    "Consider, for example, evaluating the integral of the unary function abs in\n",
    "the interval 0 to 5. We don’t need any fancy math to compute the area under this\n",
    "curve: it’s simply the area of a right triangle with base and altitude of length 5,\n",
    "i.e., 12.5. So, it shouldn’t be a surprise that"
   ]
  },
  {
   "cell_type": "code",
   "execution_count": 95,
   "metadata": {},
   "outputs": [
    {
     "data": {
      "text/plain": [
       "(12.5, 1.3877787807814457e-13)"
      ]
     },
     "execution_count": 95,
     "metadata": {},
     "output_type": "execute_result"
    }
   ],
   "source": [
    "from scipy import integrate\n",
    "\n",
    "scipy.integrate.quad(abs,0,5)"
   ]
  },
  {
   "cell_type": "markdown",
   "metadata": {},
   "source": [
    "The following code computes the area under portions of normal distributions for some randomly chosen means and standard deviations. "
   ]
  },
  {
   "cell_type": "code",
   "execution_count": 98,
   "metadata": {},
   "outputs": [
    {
     "name": "stdout",
     "output_type": "stream",
     "text": [
      "For mu = -4 and sigma = 4 :\n",
      "  Fraction within 1 std = 0.6827\n",
      "  Fraction within 2 std = 0.9545\n",
      "  Fraction within 3 std = 0.9973\n",
      "For mu = 2 and sigma = 6 :\n",
      "  Fraction within 1 std = 0.6827\n",
      "  Fraction within 2 std = 0.9545\n",
      "  Fraction within 3 std = 0.9973\n",
      "For mu = -4 and sigma = 5 :\n",
      "  Fraction within 1 std = 0.6827\n",
      "  Fraction within 2 std = 0.9545\n",
      "  Fraction within 3 std = 0.9973\n"
     ]
    }
   ],
   "source": [
    "import scipy.integrate\n",
    "\n",
    "def gaussian(x, mu, sigma):\n",
    "    factor1 = (1.0/(sigma*((2*pylab.pi)**0.5)))\n",
    "    factor2 = pylab.e**-(((x-mu)**2)/(2*sigma**2))\n",
    "    return factor1*factor2\n",
    "\n",
    "def checkEmpirical(numTrials):\n",
    "    for t in range(numTrials):\n",
    "        mu = random.randint(-10,10)\n",
    "        sigma = random.randint(1,10)\n",
    "        print('For mu =', mu, 'and sigma =', sigma, ':')\n",
    "        for numStd in (1,2,3):\n",
    "            area = scipy.integrate.quad(gaussian, mu-numStd*sigma, mu+numStd*sigma, (mu,sigma))[0]\n",
    "            print('  Fraction within', numStd, 'std =', round(area,4))\n",
    "            \n",
    "checkEmpirical(3)"
   ]
  },
  {
   "cell_type": "markdown",
   "metadata": {},
   "source": [
    "People frequently use the empirical rule to derive confidence intervals. Instead of estimating an unknown value (e.g., the expected number of heads) by a\n",
    "single value, *__a confidence interval provides a range that is likely to contain the\n",
    "unknown value and a degree of confidence that the unknown value lies within\n",
    "that range__*. For example, a political poll might indicate that a candidate is likely to\n",
    "get *__52% of the vote ±4% (i.e., the confidence interval is of size 8) with a confidence level of 95%. What this means is that the pollster believes that 95% of the\n",
    "time the candidate will receive between 48% and 56% of the vote__*. Together the\n",
    "confidence interval and the confidence level are intended to indicate the reliability of the estimate. Almost always, *__increasing the confidence level will require\n",
    "widening the confidence interval__*.\n",
    "\n",
    "Suppose that we run 100 trials of 100 coin flips each. Suppose further that\n",
    "the mean fraction of heads is 0.4999 and the standard deviation 0.0497. For reasons we will discuss in Section 17.2, we can assume that the distribution of the\n",
    "means of the trials was normal. Therefore, we can conclude that if we conducted\n",
    "more trials of 100\tflips each,\n",
    "\n",
    "* approximately 95% of the time the fraction of heads will be 0.4999\t±0.0994 and\n",
    "* more than 99%\tof the time the fraction of heads will be 0.4999\t±0.1491\n",
    "\n",
    "It is often useful to visualize confidence interval using error bars as shown in the following code:"
   ]
  },
  {
   "cell_type": "code",
   "execution_count": 99,
   "metadata": {},
   "outputs": [],
   "source": [
    "import pylab\n",
    "\n",
    "def showErrorBars(minExp, maxExp, numTrials):\n",
    "    \"\"\"Assumes minExp>0 and maxExp<0 are integers with minExp < maxExp.\n",
    "       numTrials>0 is an integer. This funcion plot the mean of fraction\n",
    "       of heads with error bars.\"\"\"\n",
    "    means, sds, xVals = [], [], []\n",
    "    \n",
    "    for exp in range(minExp, maxExp+1):\n",
    "        xVals.append(2**exp)\n",
    "        fracHeads, mean, sd = flipSim(2**exp, numTrials)\n",
    "        means.append(mean)\n",
    "        sds.append(sd)\n",
    "        \n",
    "    pylab.errorbar(xVals, means, yerr = 1.96*pylab.array(sds))\n",
    "    pylab.semilogx()\n",
    "    pylab.title('Mean Fraction of Heads (' + str(numTrials) + ' trials)')\n",
    "    pylab.xlabel('Number of flips per trial')\n",
    "    pylab.ylabel('Fraction of heads and 95% confidence')"
   ]
  },
  {
   "cell_type": "markdown",
   "metadata": {},
   "source": [
    "The function showErrorBars calls flipSim and the uses:\n",
    "    \n",
    "    pylab.errorbar(xVals, means, yerr = 1.96*pylab.array(sds))\n",
    "    \n",
    "to produce error bar plot. The first two arguments give the x and y values to be plotted.\n",
    "The third argument says that the values in sds should be multiplied by 1.96 and\n",
    "used to create vertical error bars. We multiply by 1.96 because 95% of the data in\n",
    "a normal distribution falls within 1.96 standard deviations of the mean. Let's try the code:"
   ]
  },
  {
   "cell_type": "code",
   "execution_count": 100,
   "metadata": {},
   "outputs": [
    {
     "data": {
      "image/png": "[encoded data removed]",
      "text/plain": [
       "<Figure size 432x288 with 1 Axes>"
      ]
     },
     "metadata": {
      "needs_background": "light"
     },
     "output_type": "display_data"
    }
   ],
   "source": [
    "showErrorBars(3,10,100)"
   ]
  },
  {
   "cell_type": "markdown",
   "metadata": {},
   "source": [
    "Unsurprisingly, the error bars shrink (the standard deviation gets smaller) as the number of flips per trial grows."
   ]
  },
  {
   "cell_type": "markdown",
   "metadata": {},
   "source": [
    "### 15.4.3 Continuous and Discrete Uniform Distribution"
   ]
  },
  {
   "cell_type": "markdown",
   "metadata": {},
   "source": [
    "A uniform distribution can be either discrete or continuous. A continuous\n",
    "uniform distribution also called a rectangular distribution, has the property that\n",
    "all intervals of the same length have the same probability. Consider the function\n",
    "random.random. As we saw in Section 15.4.1, the area under the PDF for any interval of a given length is the same. For example, the area under the curve between\n",
    "0.23 and 0.33 is the same as the area under the curve between 0.53 and 0.63.\n",
    "\n",
    "One can fully characterize a continuous uniform distribution with a single\n",
    "parameter, its range (i.e., minimum and maximum values). If the range of possible values is from 𝑚𝑖𝑛 to 𝑚𝑎𝑥, the probability of a value falling in the range 𝑥 to\n",
    "𝑦 is given by:\n",
    "\n",
    "$ \n",
    "  P(x,y) =\n",
    "  \\begin{cases}\n",
    "      \\frac{y-x}{max-min} & \\text{if $x \\geq min$ and $y \\leq max$} \\\\\n",
    "                      0   & \\text{otherwise}\n",
    "  \\end{cases}\n",
    "$\n",
    "\n",
    "Elements drawn from a continuous uniform distributions can be generated\n",
    "by calling random.uniform(min, max), which returns a randomly chosen floating\n",
    "point number between min and max.\n",
    "Discrete uniform distributions occur when each possible value occurs equally often, but the space of possible values is not continuous. For example, when a\n",
    "fair die is rolled, each of the six possible values is equally probable, but the outcomes are not uniformly distributed over the real numbers between 1 and 6—\n",
    "most values, e.g., 2.5, have a probability of 0 and a few values, e.g. 3, have a probability of $\\frac{1}{6}$.\n",
    "\n",
    "One can fully characterize a discrete uniform distribution by :\n",
    "\n",
    "$ P(x) = \n",
    "    \\begin{cases}\n",
    "        \\frac{1}{|S|} & \\text{if $x \\in S$} \\\\\n",
    "        0             & \\text{otherwise}\n",
    "    \\end{cases}\n",
    "$\n",
    "\n",
    "where $S$ is the set of possible values and $|S|$ the number of elements in $S$."
   ]
  },
  {
   "cell_type": "markdown",
   "metadata": {},
   "source": [
    "### 15.4.4 Binomial and Multinomial Distributions"
   ]
  },
  {
   "cell_type": "markdown",
   "metadata": {},
   "source": [
    "Random variables that can take on only a discrete set of values are called categorical (also nominal or discrete) variables.\n",
    "\n",
    "When a categorical variable has only two possible values (e.g., success or failure), the probability distribution is called a binomial distribution. One way to\n",
    "think about a binomial distribution is as the probability of a test succeeding exactly k times times in n independent trials. If the probability of a success in a single trial is p, the probability of exactly k successes in n independent trials is given\n",
    "by the formula :\n",
    "\n",
    "$ {n \\choose x}p^{k}(1-p)^{n-k}  $  where $ {n \\choose k} = \\frac{n!}{k!(n-k)!} $. The formula ${n \\choose k}$ is known as the binomial coefficient. One way to read it is as \"n choose k\", since it is equivalent to the number of subsets of size k that can be constructed from a set of size n.\n",
    "\n",
    "In Section 15.2, we asked about the probability of rolling exactly two 1’s in\n",
    "ten rolls of a die. We now have the tools in hand to calculate this probability.\n",
    "Think of the ten rolls as ten independent trials, where the trial is a success if a 1 is\n",
    "rolled and a failure otherwise. The binomial distribution tells us that the probability of having exactly two successful trials out of ten is :\n",
    "\n",
    "$ {10 \\choose 2} {\\left( \\frac{1}{6} \\right)}^2 {\\left( \\frac{5}{8} \\right)}^8 \\approx 0.291 $"
   ]
  },
  {
   "cell_type": "markdown",
   "metadata": {},
   "source": [
    "__Finger exercise:__ Implement a function that calculates the probability of rolling\n",
    "exactly two 3’s in k rolls of a fair die. Use this function to plot the probability as k\n",
    "varies from 2 to 100."
   ]
  },
  {
   "cell_type": "markdown",
   "metadata": {},
   "source": [
    "The multinomial distribution is a generalization of the binomial distribution\n",
    "to categorical data with more than two possible values. It applies when there are\n",
    "n independent trials each of which has m mutually exclusive outcomes, with each\n",
    "outcome having a fixed probability of occurring. The multinomial distribution\n",
    "gives the probability of any given combination of numbers of occurrences of the\n",
    "various categories."
   ]
  },
  {
   "cell_type": "markdown",
   "metadata": {},
   "source": [
    "### 15.4.5 Exponential and Geometric Distribution"
   ]
  },
  {
   "cell_type": "markdown",
   "metadata": {},
   "source": [
    "*__Exponential distributions occur quite commonly. They are often used to model\n",
    "inter-arrival times__*, e.g., of cars entering a highway or requests for a Web page.\n",
    "\n",
    "Consider, for example, *__the concentration of a drug in the human body. Assume that at each time step each molecule has a constant probability p of being\n",
    "cleared__* (i.e., of no longer being in the body). The system is memoryless in the\n",
    "sense that at each time step the probability of a molecule being cleared is independent of what happened at previous times. At time t\t=\t0, the probability of an\n",
    "individual molecule still being in the body is 1. At time t\t=\t1, the probability of\n",
    "that molecule still being in the body is 1\t- p. At time t\t=\t2, the probability of that\n",
    "molecule still being in the body is (1\t– p)2. More generally, *__at time $t$ the probability of an individual molecule having survived is $(1-p)^t$, i.e., it is exponential in $t$__*.\n",
    "\n",
    "Suppose that at time $t_{0}$ there are $M_{0}$ molecules of the drug. In general, at time\n",
    "$t$, the number of molecules will be $M_{0}$ multiplied by the probability that an individual module has survived to time $t$. The function clear implemented in Figure\n",
    "15.26 plots the expected number of remaining molecules versus time."
   ]
  },
  {
   "cell_type": "code",
   "execution_count": 103,
   "metadata": {},
   "outputs": [],
   "source": [
    "import pylab\n",
    "\n",
    "def clear(n,p, steps):\n",
    "    \"\"\"Assumes n>0 and steps>0 are integer, p a float.\n",
    "       n: the initial number of molecules.\n",
    "       p: the probability of a molecule being cleared.\n",
    "       steps: the length of the simulation.\"\"\"\n",
    "    numRemaining = [n]\n",
    "    for t in range(steps):\n",
    "        numRemaining.append(n*((1-p)**t))\n",
    "    \n",
    "    pylab.plot(numRemaining)\n",
    "    pylab.xlabel('Time')\n",
    "    pylab.ylabel('Molecules Remaining')\n",
    "    pylab.title('Clearance of Drug')"
   ]
  },
  {
   "cell_type": "markdown",
   "metadata": {},
   "source": [
    "Let's try the code:"
   ]
  },
  {
   "cell_type": "code",
   "execution_count": 104,
   "metadata": {},
   "outputs": [
    {
     "data": {
      "image/png": "[encoded data removed]",
      "text/plain": [
       "<Figure size 432x288 with 1 Axes>"
      ]
     },
     "metadata": {
      "needs_background": "light"
     },
     "output_type": "display_data"
    }
   ],
   "source": [
    "clear(1000, 0.01, 1000)"
   ]
  },
  {
   "cell_type": "markdown",
   "metadata": {},
   "source": [
    "This is an example of *__exponential decay__*. In practice, *__exponential decay is often talked about in terms of half-life, i.e., the expected time required for the initial value to decay by 50%__*. One can also talk about the half-life of a single item.\n",
    "For example, the half-life of a single molecule is the time at which the probability\n",
    "of that molecule having been cleared is 0.5. Notice that as time increases, the\n",
    "number of remaining molecules approaches 0. But it will never quite get there.\n",
    "This should not be interpreted as suggesting that a fraction of a molecule remains. Rather it should be interpreted as saying that since the system is probabilistic, one can never guarantee that all of the molecules have been cleared.\n",
    "\n",
    "What happens if we make the y-axis logarithmic (by using pylab.semilogy)?"
   ]
  },
  {
   "cell_type": "code",
   "execution_count": 105,
   "metadata": {},
   "outputs": [],
   "source": [
    "import pylab\n",
    "\n",
    "def clear(n,p, steps):\n",
    "    \"\"\"Assumes n>0 and steps>0 are integer, p a float.\n",
    "       n: the initial number of molecules.\n",
    "       p: the probability of a molecule being cleared.\n",
    "       steps: the length of the simulation.\"\"\"\n",
    "    numRemaining = [n]\n",
    "    for t in range(steps):\n",
    "        numRemaining.append(n*((1-p)**t))\n",
    "    \n",
    "    pylab.plot(numRemaining)\n",
    "    pylab.xlabel('Time')\n",
    "    pylab.ylabel('Molecules Remaining')\n",
    "    pylab.title('Clearance of Drug')\n",
    "    pylab.semilogy()"
   ]
  },
  {
   "cell_type": "code",
   "execution_count": 106,
   "metadata": {},
   "outputs": [
    {
     "data": {
      "image/png": "[encoded data removed]",
      "text/plain": [
       "<Figure size 432x288 with 1 Axes>"
      ]
     },
     "metadata": {
      "needs_background": "light"
     },
     "output_type": "display_data"
    }
   ],
   "source": [
    "clear(1000, 0.01, 1000)"
   ]
  },
  {
   "cell_type": "markdown",
   "metadata": {},
   "source": [
    "We see that the values on the y-axis\n",
    "are changing exponentially quickly relative to the values on the x-axis. If we make\n",
    "the y-axis itself change exponentially quickly, we get a straight line. *__The slope of\n",
    "that line is the rate of decay__*.\n",
    "\n",
    "Exponential growth is the inverse of exponential decay. It too is quite commonly seen in nature. Compound interest, the growth of algae in a swimming\n",
    "pool, and the chain reaction in an atomic bomb are all examples of exponential\n",
    "growth.\n",
    "\n",
    "Exponential distributions can easily be generated in Python by calling the\n",
    "function random.expovariate(lambd),105 where lambd is 1.0 divided by the desired\n",
    "mean. The function returns a value between 0 and positive infinity if lambd is\n",
    "positive, and between negative infinity and 0 if lambd is negative.\n",
    "\n",
    "*__The geometric distribution is the discrete analog of the exponential distribution__*. It is usually thought of as *__describing the number of independent attempts\n",
    "required to achieve a first success (or a first failure)__*. Imagine, for example, that\n",
    "you have a balky car that starts only half of the time you turn the key (or push the\n",
    "starter button). A geometric distribution could be used to characterize the expected number of times you would have to attempt to start the car before being\n",
    "successful. The following code produce histogram that visualize the problem."
   ]
  },
  {
   "cell_type": "code",
   "execution_count": 5,
   "metadata": {},
   "outputs": [
    {
     "data": {
      "text/plain": [
       "Text(0.5, 1.0, 'Probability of Starting Each Try = 0.5')"
      ]
     },
     "execution_count": 5,
     "metadata": {},
     "output_type": "execute_result"
    },
    {
     "data": {
      "image/png": "[encoded data removed]",
      "text/plain": [
       "<Figure size 432x288 with 1 Axes>"
      ]
     },
     "metadata": {
      "needs_background": "light"
     },
     "output_type": "display_data"
    }
   ],
   "source": [
    "import random\n",
    "import pylab\n",
    "\n",
    "def successStart(successProb, numTrials):\n",
    "    \"\"\"Assumes successProb is a float rep probability of a single attempt being\n",
    "       successfull. numTrials>0 is an integer. Return a list of the number of \n",
    "       attempts needed before a success for each trial.\"\"\"\n",
    "    \n",
    "    triesBeforeSuccess = []\n",
    "    \n",
    "    for t in range(numTrials):\n",
    "        consecFailures = 0\n",
    "        while random.random() > successProb:\n",
    "            consecFailures += 1\n",
    "        triesBeforeSuccess.append(consecFailures)\n",
    "    return triesBeforeSuccess\n",
    "\n",
    "probOfSuccess = 0.5\n",
    "numTrials = 5000\n",
    "distribution = successStart(probOfSuccess, numTrials)\n",
    "\n",
    "pylab.hist(distribution, bins=14)\n",
    "pylab.xlabel('Tries Before Success')\n",
    "pylab.ylabel('Number of Occurences Out of ' + str(numTrials))\n",
    "pylab.title('Probability of Starting Each Try = ' + str(probOfSuccess))"
   ]
  },
  {
   "cell_type": "markdown",
   "metadata": {},
   "source": [
    "The histogram implies that most of the time you’ll get the car going within a\n",
    "few attempts. On the other hand, the long tail suggests that on occasion you may\n",
    "run the risk of draining your battery before the car gets going."
   ]
  },
  {
   "cell_type": "markdown",
   "metadata": {},
   "source": [
    "### 15.4.6 Benford's Distribution"
   ]
  },
  {
   "cell_type": "markdown",
   "metadata": {},
   "source": [
    "Benford’s law defines a really strange distribution. Let S be a large set of decimal\n",
    "integers. How frequently would you expect each nonzero digit to appear as the\n",
    "first digit? Most of us would probably guess one ninth of the time. And when\n",
    "people are making up sets of numbers (e.g., faking experimental data or perpetrating financial fraud) this is typically true. It is not, however, typically true of\n",
    "many naturally occurring data sets. Instead, they follow a distribution predicted\n",
    "by Benford’s law.\n",
    "\n",
    "*__A set of decimal numbers is said to satisfy Benford’s law if the probability\n",
    "of the first digit being d is consistent with $P(d) = \\log_{10} \\left( 1+ \\frac{1}{d} \\right)$.__*\n",
    "For example, this law predicts that the probability of the first digit being 1 is\n",
    "about\t30%! Shockingly, many actual data sets seem to observe this law. It is possible to show that the Fibonacci sequence, for example, satisfies it perfectly.\n",
    "That’s kind of plausible, since the sequence is generated by a formula. It’s less\n",
    "easy to understand why such diverse data sets as iPhone pass codes, the number\n",
    "of Twitter followers per user, the population of countries, or the distances of stars\n",
    "from the earth closely approximate Benford’s law."
   ]
  },
  {
   "cell_type": "markdown",
   "metadata": {},
   "source": [
    "## 15.5 Hashing and Collisions"
   ]
  },
  {
   "cell_type": "code",
   "execution_count": null,
   "metadata": {},
   "outputs": [],
   "source": []
  },
  {
   "cell_type": "markdown",
   "metadata": {},
   "source": [
    "## 15.6 How Often Does the Better Team Win"
   ]
  },
  {
   "cell_type": "code",
   "execution_count": null,
   "metadata": {},
   "outputs": [],
   "source": []
  }
 ],
 "metadata": {
  "kernelspec": {
   "display_name": "Python 3",
   "language": "python",
   "name": "python3"
  },
  "language_info": {
   "codemirror_mode": {
    "name": "ipython",
    "version": 3
   },
   "file_extension": ".py",
   "mimetype": "text/x-python",
   "name": "python",
   "nbconvert_exporter": "python",
   "pygments_lexer": "ipython3",
   "version": "3.7.3"
  }
 },
 "nbformat": 4,
 "nbformat_minor": 2
}
