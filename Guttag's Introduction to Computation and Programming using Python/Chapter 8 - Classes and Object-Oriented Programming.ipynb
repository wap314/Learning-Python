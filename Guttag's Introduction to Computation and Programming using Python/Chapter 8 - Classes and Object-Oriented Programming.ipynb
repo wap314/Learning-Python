{
 "cells": [
  {
   "cell_type": "markdown",
   "metadata": {},
   "source": [
    "# Chapter 8 - Classes and Object-Oriented Programming"
   ]
  },
  {
   "cell_type": "markdown",
   "metadata": {},
   "source": [
    "Our last major topic related to programming in Python is classes. We will use classes to organize programs around modules and data abstraction.\n",
    "\n",
    "*__We emphasize using classes in the context of object-oriented programming, where the key is thinking about objects as collections as both data and the methods that operate on that data.__*"
   ]
  },
  {
   "cell_type": "markdown",
   "metadata": {},
   "source": [
    "## 8.1 Abstract Data Types and Classes"
   ]
  },
  {
   "cell_type": "markdown",
   "metadata": {},
   "source": [
    "*__Abstract data type is a set of objects and the operations on those objects.__* These are bound together so that when we pass an object, we provide access to both the data attributes of the object and operations that make it easy to manipulate that data.\n",
    "\n",
    "*__The specifications of those operations define an interface between the abstract data type and the rest of the program. The interface defines the behaviour of the operation - what they do, not how they do it.__*\n",
    "\n",
    "In Python, one implements data abstraction using classes. The following program contains a class definition that provides a straightforward implementation of a set-of-integers abstraction called IntSet."
   ]
  },
  {
   "cell_type": "code",
   "execution_count": 1,
   "metadata": {},
   "outputs": [],
   "source": [
    "#Each class definition begin with the reserved word class followed by \n",
    "#the name of the class and some information about how it relates to other \n",
    "#classes. In this case, the first line indicates that IntSet is a subclass of object.\n",
    "\n",
    "\n",
    "class IntSet(object):\n",
    "    \"\"\"An IntSet is a set of integers.\"\"\"\n",
    "    #Information about the implementation (not the abstraction).\n",
    "    #Value of the set is represented by a list of integers, self.vals .\n",
    "    #Each int in the set occurs in the self.vals exactly once.\n",
    "    \n",
    "    \n",
    "    #Python has a number of special method names that starts and ends with \n",
    "    #two underscores. The first these is __init__ . Whenever a class is instantiated, \n",
    "    #a call is made to the __init__ method defined in that class.\n",
    "    \n",
    "    #Instantiation\n",
    "    def __init__(self):\n",
    "        \"\"\"Create an empty set of integers.\"\"\"\n",
    "        self.vals = []\n",
    "    \n",
    "    #method insert\n",
    "    def insert(self,e):\n",
    "        \"\"\"Assumes e is an integer and insert e into self.\"\"\"\n",
    "        if e not in self.vals:\n",
    "            self.vals.append(e)\n",
    "    \n",
    "    #method member\n",
    "    def member(self,e):\n",
    "        \"\"\"Assumes e is an integer. Returns True if e is in self and\n",
    "           False otherwise.\"\"\"\n",
    "        return e in self.vals\n",
    "    \n",
    "    def __str__(self):\n",
    "        \"\"\"Return a string representation of self.\"\"\"\n",
    "        self.vals.sort()\n",
    "        result = ''\n",
    "        for e in self.vals:\n",
    "            result = result + str(e) + ','\n",
    "        return '{' + result[:-1] + '}' #-1 omits trailing comma"
   ]
  },
  {
   "cell_type": "markdown",
   "metadata": {},
   "source": [
    "A class definition creates an object of type \"type\" and associates with that class object a set of objects of type \"instancemethod\". "
   ]
  },
  {
   "cell_type": "code",
   "execution_count": 2,
   "metadata": {},
   "outputs": [
    {
     "name": "stdout",
     "output_type": "stream",
     "text": [
      "<class 'type'> <class 'function'>\n"
     ]
    }
   ],
   "source": [
    "print(type(IntSet), type(IntSet.insert))"
   ]
  },
  {
   "cell_type": "markdown",
   "metadata": {},
   "source": [
    "*__When a function definition occurs within a class definition, the defined function is called a method and is associated with the class.__* Classes supports two kinds of operations:\n",
    "\n",
    "* *__Instantiation is used to create instances of the class.__* For example, s = IntSet() creates a new object of type IntSet. This object is called an instance of IntSet.\n",
    "* *__Attribute references use dot notation to access attributes associated with the class.__* For example, s.member refers to the method member associated with the instance s of type IntSet.\n",
    "\n",
    "When the line of code \n",
    "\n",
    "s = IntSet()\n",
    "\n",
    "is executed, the interpreter will create a new instance of type IntSet, and the call IntSet.__ init __ with the newly created object as the actual parameter that is bound to the formal parameter \"self\". When invoked, IntSet.__ init __ create vals, an object of type list, which becomes part of the newly created instance of type IntSet. This list is called a data attribute of the instance of IntSet.\n",
    "\n",
    "*__Methods associated with an instance of a class can be invoked using dot notation.__* For example, the code:"
   ]
  },
  {
   "cell_type": "code",
   "execution_count": 3,
   "metadata": {},
   "outputs": [
    {
     "name": "stdout",
     "output_type": "stream",
     "text": [
      "{}\n",
      "True\n"
     ]
    }
   ],
   "source": [
    "s = IntSet()       #creates new instance of IntSet\n",
    "print(s)\n",
    "s.insert(3)        #inserts the integer 3 into that IntSet\n",
    "print(s.member(3)) #prints True if 3 is a member of IntSet"
   ]
  },
  {
   "cell_type": "markdown",
   "metadata": {},
   "source": [
    "Note that \"member\" has two formal parameters, but we calling it with only one actual parameter. This is an artifact of the dot notation. Throughout this book, *__we follow the convention of using \"self\" as the name of the formal parameter to which this actual parameter is bound. Python programmers observer this convention almost universally__*, and we strongly suggest that you use it as well.\n",
    "\n",
    "*__Attributes can be associated either with a class itself or with instances of a class:__*\n",
    "\n",
    "* *__Method attributes are defined in a class definition__*, for example IntSet.member is an attribute of the class InsSet. When the class is instantiated, e.g by the statement s=IntSet(), instance attributes e.g., s.member, is created. Keep in mind that IntSet.member and s.member are different objects.\n",
    "* *__When data attributes are associated with a class we call them class variables. When they are associated with an instance we call them instance variable__*. For example, vals is an instance variable because for each instance of class IntSet, vals is bound to a different list.\n",
    "\n",
    "The last method defined in the class __ str __ , is another one of those special __ method. *__When the print command is used, the __ str __ function associated with the object to be printed is automatically invoked.__* For example:"
   ]
  },
  {
   "cell_type": "code",
   "execution_count": 34,
   "metadata": {},
   "outputs": [
    {
     "name": "stdout",
     "output_type": "stream",
     "text": [
      "{3,4}\n"
     ]
    }
   ],
   "source": [
    "s = IntSet()\n",
    "s.insert(3)\n",
    "s.insert(4)\n",
    "print(s)"
   ]
  },
  {
   "cell_type": "markdown",
   "metadata": {},
   "source": [
    "### 8.1.1 Designing Programs using Abstract Data types"
   ]
  },
  {
   "cell_type": "markdown",
   "metadata": {},
   "source": [
    "Abstract data types are a big deal. They lead to a different way of thinking about\n",
    "organizing large programs. *__When we think about the world, we rely on abstractions.__* For example, we\n",
    "think of bonds as having an interest rate and a maturity date as data attributes.\n",
    "We also think of bonds as having operations such as “set price” and “calculate\n",
    "yield to maturity.” Abstract data types allow us to incorporate this kind of organization into the design of programs.\n",
    "\n",
    "*__Data abstraction encourages program designers to focus on the centrality of\n",
    "data objects rather than functions.__* Thinking about a program more as a collection of types than as a collection of functions leads to a profoundly different organizing principle.Among other things, it encourages one to think about\n",
    "programming as a process of combining relatively large chunks, since data abstractions typically encompass more functionality than do individual functions.\n",
    "This, in turn, *__leads us to think of the essence of programming as a process not of\n",
    "writing individual lines of code, but of composing abstractions.__*\n",
    "\n",
    " For many years, the only program libraries\n",
    "in common use were statistical or scientific. Today, however, there is a great\n",
    "range of available program libraries (especially for Python), often based on a rich\n",
    "set of data abstractions"
   ]
  },
  {
   "cell_type": "markdown",
   "metadata": {},
   "source": [
    "### 8.1.2 Using Classes to Keep Track of Students and Faculty"
   ]
  },
  {
   "cell_type": "markdown",
   "metadata": {},
   "source": [
    "As an example use of classes, imagine that you are designing a program to help keep track of all the students and faculty at a university. Is there an abstraction that covers the common attributes of students, professors and staffs ? The following program contains class that incorporates some of the common attributes (name and birthday) of humans. It makes use of the standard Python library module datetime, which provides methods for creating and manipulating methods."
   ]
  },
  {
   "cell_type": "code",
   "execution_count": 57,
   "metadata": {},
   "outputs": [],
   "source": [
    "import datetime\n",
    "\n",
    "class Person(object):\n",
    "    \n",
    "    def __init__(self,name):\n",
    "        \"\"\"Create a person.\"\"\"\n",
    "        #Class \"Person\" has three attributes: name, lastName and birthday\n",
    "        self.name = name \n",
    "        try:\n",
    "            lastBlank = name.rindex(' ')\n",
    "            self.lastName = name[lastBlank+1:]\n",
    "        except:\n",
    "            self.lastName = name\n",
    "        self.birthday = None \n",
    "    \n",
    "    def getName(self):\n",
    "        \"\"\"Returns self's full name.\"\"\"\n",
    "        return self.name\n",
    "    \n",
    "    def getLastName(self):\n",
    "        \"\"\"Return self's last name.\"\"\"\n",
    "        return self.lastName\n",
    "    \n",
    "    def setBirthday(self, birthdate):\n",
    "        \"\"\"Assumes birthdate is of type datetime.date\n",
    "           Sets self's birthday to birthdate.\"\"\"\n",
    "        self.birthday = birthdate\n",
    "        \n",
    "    def getAge(self):\n",
    "        \"\"\"Return self's current age in days.\"\"\"\n",
    "        if self.birthday == None:\n",
    "            raise ValueError\n",
    "        return (datetime.date.today() - self.birthday).days #days is an attribute of datetime.date\n",
    "    \n",
    "    def __lt__(self,other):\n",
    "        \"\"\"Return True if self precedes other in alphabetical order, and\n",
    "           False otherwise. Comparison is based on last names, but if there\n",
    "           are the same full names are compared.\"\"\"\n",
    "        if self.lastName == other.lastName:\n",
    "            return self.name < other.name\n",
    "        return self.lastName < other.lastName\n",
    "    \n",
    "    def __str__(self):\n",
    "        \"\"\"Return self's name.\"\"\"\n",
    "        return self.name"
   ]
  },
  {
   "cell_type": "markdown",
   "metadata": {},
   "source": [
    "The following code make use of Person."
   ]
  },
  {
   "cell_type": "code",
   "execution_count": 64,
   "metadata": {},
   "outputs": [
    {
     "data": {
      "text/plain": [
       "13697"
      ]
     },
     "execution_count": 64,
     "metadata": {},
     "output_type": "execute_result"
    }
   ],
   "source": [
    "me  = Person('Wisnu Adi Pradana')\n",
    "\n",
    "me.setBirthday(datetime.date(1983,1,24))\n",
    "# print(me.birthday)\n",
    "\n",
    "me.getAge()"
   ]
  },
  {
   "cell_type": "code",
   "execution_count": 65,
   "metadata": {},
   "outputs": [
    {
     "name": "stdout",
     "output_type": "stream",
     "text": [
      "Westbrook\n",
      "Westbrook\n",
      "Russel Westbrook is 21540 days ols.\n"
     ]
    }
   ],
   "source": [
    "me  = Person('Wisnu A. Pradana')\n",
    "him = Person('Russel Westbrook')\n",
    "her = Person('Madonna')\n",
    "\n",
    "print(him.getLastName())\n",
    "print(him.lastName)\n",
    "him.setBirthday(datetime.date(1961,8,4))\n",
    "print(him.getName(), 'is', him.getAge(), 'days ols.')"
   ]
  },
  {
   "cell_type": "markdown",
   "metadata": {},
   "source": [
    "Notice that whenever Person is instantiated an argument is supplied to the __ init __ function. In general, when instantiating a class we need to look at the specification of the __ init __ function for that class to know what arguments to supply and what properties those arguments should have.\n",
    "\n",
    "After the above code is executed, there will be three instances of class Person. One can then access information about these three instances using the methods associated with them. "
   ]
  },
  {
   "cell_type": "markdown",
   "metadata": {},
   "source": [
    "Whenever Person is instantiated an argument is suppplied to the __ init __ function. "
   ]
  },
  {
   "cell_type": "code",
   "execution_count": 70,
   "metadata": {},
   "outputs": [
    {
     "name": "stdout",
     "output_type": "stream",
     "text": [
      "Wisnu A. Pradana\n",
      "Russel Westbrook\n",
      "Madonna\n"
     ]
    }
   ],
   "source": [
    "plist = [me,him,her]\n",
    "\n",
    "for p in plist:\n",
    "    print(p)"
   ]
  },
  {
   "cell_type": "code",
   "execution_count": 69,
   "metadata": {},
   "outputs": [
    {
     "name": "stdout",
     "output_type": "stream",
     "text": [
      "Madonna\n",
      "Wisnu A. Pradana\n",
      "Russel Westbrook\n"
     ]
    }
   ],
   "source": [
    "plist.sort()\n",
    "\n",
    "for p in plist:\n",
    "    print(p)"
   ]
  },
  {
   "cell_type": "markdown",
   "metadata": {},
   "source": [
    "## 8.2 Inheritance"
   ]
  },
  {
   "cell_type": "markdown",
   "metadata": {},
   "source": [
    "Inheritance provides a convenient mechanisms for building groups of related abstractions. It allows programmers to create a type hierarchy in which each type inherits atrributes from the types above it in hierarchy. \n",
    "\n",
    "The class object is at the top of hierarchy. Because Person inherits all of the properties of objects, programs can bind a variable to a Person, append a Person to a list, etc.\n",
    "\n",
    "Consider the following example:"
   ]
  },
  {
   "cell_type": "code",
   "execution_count": 72,
   "metadata": {},
   "outputs": [],
   "source": [
    "class MITPerson(Person):\n",
    "    \n",
    "    nextIdNum = 0 #add class variable: identification number\n",
    "    \n",
    "    def __init__(self,name):\n",
    "        Person.__init__(self,name)\n",
    "        self.idNum = MITPerson.nextIdNum #add new instance variable: idnum\n",
    "        MITPerson.nextIdNum += 1\n",
    "        \n",
    "    def getIdNum(self):\n",
    "        return self.idNum\n",
    "    \n",
    "    def isStudent(self):\n",
    "        return isinstance(self, Student)\n",
    "    \n",
    "    def __lt__(self,other):\n",
    "        return self.idNum < other.idNum"
   ]
  },
  {
   "cell_type": "markdown",
   "metadata": {},
   "source": [
    "The class MITPerson inherits attributes from its parent class, Person, including all of the attributes that Person inherited from its parent class, object. In the jargon of OOP, MITPerson is a subclass of Person, and therefore inherit the attributes of its superclass. *__In addition to what it inherits, the subclass can__* :\n",
    "\n",
    "* *__Add new attributes__*. For example: the subclass MITPerson has added the class variable nextIdNum, the instance variable idNum,  and the method getIdNum.\n",
    "\n",
    "* *__Override__*, i.e. replace attributes of the superclass.\n",
    "\n",
    "The method MITPerson.__ init __ first invokes Person.__ init __ to initialize the inherited instance variable self.name. It then initialize self.idNum, an instance variable that instances of MITPerson have but instances of Person do not.\n",
    "\n",
    "The instance variable self.idNum is initialized using a class variable, nextIdNum, that belongs to the class MITPerson, rather than to instances of the class.\n",
    "\n",
    "Consider the code:"
   ]
  },
  {
   "cell_type": "code",
   "execution_count": 88,
   "metadata": {},
   "outputs": [
    {
     "name": "stdout",
     "output_type": "stream",
     "text": [
      "Barbara Beaver's id number is 15\n"
     ]
    }
   ],
   "source": [
    "p1 = MITPerson('Barbara Beaver') #creates a new MITPerson\n",
    "print(str(p1) + '\\'s id number is ' + str(p1.getIdNum()))\n",
    "\n",
    "#in a string, the character “\\” is an escape character used to indicate\n",
    "#that the next character should be treated in a special way. the “\\” indicates \n",
    "#that the apostrophe is part of the string, not a delimiter terminating the string."
   ]
  },
  {
   "cell_type": "code",
   "execution_count": 79,
   "metadata": {},
   "outputs": [
    {
     "name": "stdout",
     "output_type": "stream",
     "text": [
      "John Wick's id number is 6\n"
     ]
    }
   ],
   "source": [
    "p2 = MITPerson('John Wick') #creates a new MITPerson\n",
    "print(str(p2) + '\\'s id number is ' + str(p2.getIdNum()))"
   ]
  },
  {
   "cell_type": "markdown",
   "metadata": {},
   "source": [
    "The second line is a bit more complicated. When it attempts to evaluate the expression str(p1), the runtime system\n",
    "first checks to see if there is an __ str __ method associated with class MITPerson.\n",
    "Since there is not, it next checks to see if there is an __ str __ method associated\n",
    "with the superclass, Person, of MITPerson. There is, so it uses that. When the\n",
    "runtime system attempts to evaluate the expression p1.getidNum(), it first checks\n",
    "to see if there is a getIdNum method associated with class MITPerson. There is, so it\n",
    "invokes that method and prints.\n",
    "\n",
    "Consider the code :"
   ]
  },
  {
   "cell_type": "code",
   "execution_count": 89,
   "metadata": {},
   "outputs": [],
   "source": [
    "p1 = MITPerson('Mark Guttag')\n",
    "p2 = MITPerson('Billy Beaver')\n",
    "p3 = MITPerson('Billy Beaver')\n",
    "\n",
    "p4 = Person('Billy Beaver')"
   ]
  },
  {
   "cell_type": "code",
   "execution_count": 90,
   "metadata": {},
   "outputs": [
    {
     "name": "stdout",
     "output_type": "stream",
     "text": [
      "p1 < p2 = True\n",
      "p2 < p3 = True\n",
      "p3 < p2 = False\n",
      "p4 < p1 = True\n"
     ]
    }
   ],
   "source": [
    "print('p1 < p2 =', p1 < p2)\n",
    "print('p2 < p3 =', p2 < p3)\n",
    "print('p3 < p2 =', p3 < p2)\n",
    "print('p4 < p1 =', p4 < p1)"
   ]
  },
  {
   "cell_type": "markdown",
   "metadata": {},
   "source": [
    "Since p1, p2, and p3 are all of type MITPerson, the interpreter will use the __ lt __\n",
    "method defined in class MITPerson when evaluating the first two comparisons, so\n",
    "the ordering will be based on identification numbers. In the third comparison,\n",
    "the < operator is applied to operands of different types. Since the first argument\n",
    "of the expression is used to determine which __ lt __ method to invoke, p4 < p1 is\n",
    "shorthand for p4.__ lt __(p1). Therefore, the interpreter uses the __ lt __ method associated with the type of p4, Person, and the “people” will be ordered by name. If we try:"
   ]
  },
  {
   "cell_type": "code",
   "execution_count": 82,
   "metadata": {},
   "outputs": [
    {
     "ename": "AttributeError",
     "evalue": "'Person' object has no attribute 'idNum'",
     "output_type": "error",
     "traceback": [
      "\u001b[1;31m---------------------------------------------------------------------------\u001b[0m",
      "\u001b[1;31mAttributeError\u001b[0m                            Traceback (most recent call last)",
      "\u001b[1;32m<ipython-input-82-79113c80648e>\u001b[0m in \u001b[0;36m<module>\u001b[1;34m\u001b[0m\n\u001b[1;32m----> 1\u001b[1;33m \u001b[0mprint\u001b[0m\u001b[1;33m(\u001b[0m\u001b[1;34m'p1 < p4 ='\u001b[0m\u001b[1;33m,\u001b[0m \u001b[0mp1\u001b[0m\u001b[1;33m<\u001b[0m\u001b[0mp4\u001b[0m\u001b[1;33m)\u001b[0m\u001b[1;33m\u001b[0m\u001b[1;33m\u001b[0m\u001b[0m\n\u001b[0m",
      "\u001b[1;32m<ipython-input-72-d988f7c028ac>\u001b[0m in \u001b[0;36m__lt__\u001b[1;34m(self, other)\u001b[0m\n\u001b[0;32m     15\u001b[0m \u001b[1;33m\u001b[0m\u001b[0m\n\u001b[0;32m     16\u001b[0m     \u001b[1;32mdef\u001b[0m \u001b[0m__lt__\u001b[0m\u001b[1;33m(\u001b[0m\u001b[0mself\u001b[0m\u001b[1;33m,\u001b[0m\u001b[0mother\u001b[0m\u001b[1;33m)\u001b[0m\u001b[1;33m:\u001b[0m\u001b[1;33m\u001b[0m\u001b[1;33m\u001b[0m\u001b[0m\n\u001b[1;32m---> 17\u001b[1;33m         \u001b[1;32mreturn\u001b[0m \u001b[0mself\u001b[0m\u001b[1;33m.\u001b[0m\u001b[0midNum\u001b[0m \u001b[1;33m<\u001b[0m \u001b[0mother\u001b[0m\u001b[1;33m.\u001b[0m\u001b[0midNum\u001b[0m\u001b[1;33m\u001b[0m\u001b[1;33m\u001b[0m\u001b[0m\n\u001b[0m",
      "\u001b[1;31mAttributeError\u001b[0m: 'Person' object has no attribute 'idNum'"
     ]
    }
   ],
   "source": [
    "print('p1 < p4 =', p1<p4)"
   ]
  },
  {
   "cell_type": "markdown",
   "metadata": {},
   "source": [
    "because the object to which p4 is bound does not have an attribute idNum."
   ]
  },
  {
   "cell_type": "markdown",
   "metadata": {},
   "source": [
    "### 8.2.1 Multiple Levels of Inheritance"
   ]
  },
  {
   "cell_type": "markdown",
   "metadata": {},
   "source": [
    "The following code add another couple levels of inheritance to the class hierarchy."
   ]
  },
  {
   "cell_type": "code",
   "execution_count": 91,
   "metadata": {},
   "outputs": [],
   "source": [
    "class Student(MITPerson):\n",
    "    pass\n",
    "\n",
    "class UG(Student):\n",
    "    def __init__(self,name,classYear):\n",
    "        MITPerson.__init__(self,name)\n",
    "        self.year = classYear\n",
    "    \n",
    "    def getClass(self):\n",
    "        return self.year\n",
    "    \n",
    "class Grad(Student):\n",
    "    pass"
   ]
  },
  {
   "cell_type": "markdown",
   "metadata": {},
   "source": [
    "![](2_kindofstudents.jpg)"
   ]
  },
  {
   "cell_type": "markdown",
   "metadata": {},
   "source": [
    "Adding UG seems logical, because we want to associate a year of graduation\n",
    "(or perhaps anticipated graduation) with each undergraduate. But what is going\n",
    "on with the classes Student and Grad? *__By using the Python reserved word pass as\n",
    "the body, we indicate that the class has no attributes other than those inherited\n",
    "from its superclass.__* Why would one ever want to create a class with no new attributes?\n",
    "\n",
    "By introducing the class Grad, we gain the ability to create two different kinds\n",
    "of students and use their types to distinguish one kind of object from another.\n",
    "\n",
    "For example, the code:"
   ]
  },
  {
   "cell_type": "code",
   "execution_count": 92,
   "metadata": {},
   "outputs": [
    {
     "name": "stdout",
     "output_type": "stream",
     "text": [
      "Buzz Aldrin is a graduate student is True\n",
      "Billy Beaver is an undergraduate student True\n"
     ]
    }
   ],
   "source": [
    "p5 = Grad('Buzz Aldrin')\n",
    "p6 = UG('Billy Beaver', 1984)\n",
    "\n",
    "print(p5, 'is a graduate student is', type(p5) == Grad)\n",
    "print(p6, 'is an undergraduate student', type(p6) == UG)"
   ]
  },
  {
   "cell_type": "markdown",
   "metadata": {},
   "source": [
    "The utility of the intermediate type Student is a bit subtler. Consider going\n",
    "back to class MITPerson and adding the method:"
   ]
  },
  {
   "cell_type": "code",
   "execution_count": 94,
   "metadata": {},
   "outputs": [
    {
     "name": "stdout",
     "output_type": "stream",
     "text": [
      "Buzz Aldrin is a student is True\n",
      "Billy Beaver is a student is True\n",
      "Billy Beaver is a student is False\n"
     ]
    }
   ],
   "source": [
    "print(p5, 'is a student is', p5.isStudent())\n",
    "print(p6, 'is a student is', p6.isStudent())\n",
    "\n",
    "print(p3, 'is a student is', p3.isStudent()) #p3 is an instance of MITPerson, not Student."
   ]
  },
  {
   "cell_type": "markdown",
   "metadata": {},
   "source": [
    "## 8.3 Encapsulation and Information Hiding"
   ]
  },
  {
   "cell_type": "markdown",
   "metadata": {},
   "source": [
    "As long as we are dealing with students, it would be a shame not to make them suffer through taking classes and getting grades. The following program contains a class that can be used to keep track of the grades of a collection of students."
   ]
  },
  {
   "cell_type": "code",
   "execution_count": 67,
   "metadata": {},
   "outputs": [],
   "source": [
    "class Grades(object):\n",
    "    \n",
    "    def __init__(self):\n",
    "        \"\"\"Create empty grade book.\"\"\"\n",
    "        self.students = []   #list keep track of the students in the class.\n",
    "        self.grades = {}     #Dictionary maps a student's identification number (id num) to a list of grades.\n",
    "        self.isSorted = True #Instance var. isSorted is used to keep track of whether or not the list \n",
    "                             #of students has been sorted since the last time a student was added to it.\n",
    "        \n",
    "    def addStudent(self,student):\n",
    "        \"\"\"Assumes: student is of type Student. Add student to the grade book.\"\"\"\n",
    "        if student in self.students:\n",
    "            raise ValueError('Duplicate student')\n",
    "        self.students.append(student)\n",
    "        self.grades[student.getIdNum()] = []\n",
    "        self.isSorted = False\n",
    "        \n",
    "    def addGrade(self,student,grade):\n",
    "        \"\"\"Assumes: grade is a float. Add grade to the list of grades for student.\"\"\"\n",
    "        try:\n",
    "            self.grades[student.getIdNum()].append(grade)\n",
    "        except:\n",
    "            raise ValueError('Student not in mapping')\n",
    "            \n",
    "    def getGrades(self,student):\n",
    "        \"\"\"Return a list of grades for student.\"\"\"\n",
    "        try: #return a copy of list of student's grades\n",
    "            return self.grades[student.getIdNum()][:]\n",
    "        except:\n",
    "            raise ValueError('Student not in mapping.')\n",
    "                \n",
    "    def getStudents(self):\n",
    "        \"\"\"Return a sorted list of the students in the grade book.\"\"\"\n",
    "        if not self.isSorted:\n",
    "            self.students.sort()\n",
    "            self.isSorted = True\n",
    "        return self.students[:] #return copy of list students"
   ]
  },
  {
   "cell_type": "markdown",
   "metadata": {},
   "source": [
    "The following code contains a function that uses class Grades to produce a grade report for some students taking a course named sixHundred."
   ]
  },
  {
   "cell_type": "code",
   "execution_count": 70,
   "metadata": {},
   "outputs": [],
   "source": [
    "def gradeReport(course):\n",
    "    \"\"\"Assumes course is of type Grades.\"\"\"\n",
    "    report = ''\n",
    "    for s in course.getStudents():\n",
    "        tot = 0.0\n",
    "        numGrades = 0\n",
    "        for g in course.getGrades(s):\n",
    "            tot += g\n",
    "            numGrades += 1\n",
    "        try:\n",
    "            average = tot/numGrades\n",
    "            report = report + '\\n'\\\n",
    "                     + str(s) + '\\'s mean grade is ' + str(average)\n",
    "        except ZeroDivisionError:\n",
    "            report = report + '\\n'\\\n",
    "                     + str(s) + ' has no grades.'\n",
    "        return report"
   ]
  },
  {
   "cell_type": "code",
   "execution_count": 73,
   "metadata": {},
   "outputs": [
    {
     "name": "stdout",
     "output_type": "stream",
     "text": [
      "\n",
      "Jane Doe's mean grade is 75.0\n"
     ]
    }
   ],
   "source": [
    "ug1 = UG('Jane Doe', 2014)\n",
    "ug2 = UG('John Doe', 2015)\n",
    "ug3 = UG('David Henry', 2003)\n",
    "g1 = Grad('Billy Buckner')\n",
    "g2 = Grad('Bucky F. Dent')\n",
    "\n",
    "sixHundred = Grades()\n",
    "\n",
    "sixHundred.addStudent(ug1)\n",
    "sixHundred.addStudent(ug2)\n",
    "sixHundred.addStudent(g1)\n",
    "sixHundred.addStudent(g2)\n",
    "\n",
    "for s in sixHundred.getStudents():\n",
    "    sixHundred.addGrade(s, 75)\n",
    "    \n",
    "sixHundred.addGrade(g1, 25)\n",
    "sixHundred.addGrade(g2, 100)\n",
    "sixHundred.addStudent(ug3)\n",
    "\n",
    "print(gradeReport(sixHundred))"
   ]
  },
  {
   "cell_type": "markdown",
   "metadata": {},
   "source": [
    "There are two important concepts at the heart of OOP. The first is the idea of encapsulation. By this we men the bundling together of sata attributes and the method for operating on them. For example, if we write:"
   ]
  },
  {
   "cell_type": "code",
   "execution_count": 51,
   "metadata": {},
   "outputs": [],
   "source": [
    "Rafael = MITPerson('Rafael Raeif')"
   ]
  },
  {
   "cell_type": "markdown",
   "metadata": {},
   "source": [
    "we can use dot notation to access attributes such as Rafael's name and identificaton number."
   ]
  },
  {
   "cell_type": "code",
   "execution_count": 52,
   "metadata": {},
   "outputs": [
    {
     "data": {
      "text/plain": [
       "1"
      ]
     },
     "execution_count": 52,
     "metadata": {},
     "output_type": "execute_result"
    }
   ],
   "source": [
    "Rafael.getIdNum()"
   ]
  },
  {
   "cell_type": "markdown",
   "metadata": {},
   "source": [
    "The second important concept is information hiding. This is one of the keys to modularity. If those parts of the program that use a class (i.e. the client of the class) rely only on the specifications of the methods in the class, a programmer implementing the class is free to change the implementation of the class (e.g. to improve efficiency) without worrying that the change will break code the uses the class. \n",
    "\n",
    "Python 3 uses a naming convention to make attributes invisible outside the class. When the name of an attribute starts with __ but does not end with __ , that attribute is not visible outside the class. \n",
    "\n",
    "Consider the following class:"
   ]
  },
  {
   "cell_type": "code",
   "execution_count": 59,
   "metadata": {},
   "outputs": [],
   "source": [
    "class infoHiding(object):\n",
    "    \n",
    "    def __init__(self):\n",
    "        self.visible = 'Look at me.'\n",
    "        self.__alsoVisible__ = 'Look at me too.'\n",
    "        self.__invisible = 'Don\\'t look at me directly.' #Not visible outside the class.\n",
    "        \n",
    "    def printVisible(self):\n",
    "        print(self.visible)\n",
    "        \n",
    "    def printInvisible(self):\n",
    "        print(self.__invisible)\n",
    "    \n",
    "    def __printInvisible(self):\n",
    "        print(self.__invisible)\n",
    "        \n",
    "    def __printInvisible__(self):\n",
    "        print(self.__invisible)"
   ]
  },
  {
   "cell_type": "markdown",
   "metadata": {},
   "source": [
    "When we run the code:"
   ]
  },
  {
   "cell_type": "code",
   "execution_count": 62,
   "metadata": {},
   "outputs": [
    {
     "name": "stdout",
     "output_type": "stream",
     "text": [
      "Look at me.\n",
      "Look at me too.\n"
     ]
    },
    {
     "ename": "AttributeError",
     "evalue": "'infoHiding' object has no attribute '__invisible'",
     "output_type": "error",
     "traceback": [
      "\u001b[1;31m---------------------------------------------------------------------------\u001b[0m",
      "\u001b[1;31mAttributeError\u001b[0m                            Traceback (most recent call last)",
      "\u001b[1;32m<ipython-input-62-9b292bd504d0>\u001b[0m in \u001b[0;36m<module>\u001b[1;34m\u001b[0m\n\u001b[0;32m      3\u001b[0m \u001b[0mprint\u001b[0m\u001b[1;33m(\u001b[0m\u001b[0mtest\u001b[0m\u001b[1;33m.\u001b[0m\u001b[0mvisible\u001b[0m\u001b[1;33m)\u001b[0m\u001b[1;33m\u001b[0m\u001b[1;33m\u001b[0m\u001b[0m\n\u001b[0;32m      4\u001b[0m \u001b[0mprint\u001b[0m\u001b[1;33m(\u001b[0m\u001b[0mtest\u001b[0m\u001b[1;33m.\u001b[0m\u001b[0m__alsoVisible__\u001b[0m\u001b[1;33m)\u001b[0m\u001b[1;33m\u001b[0m\u001b[1;33m\u001b[0m\u001b[0m\n\u001b[1;32m----> 5\u001b[1;33m \u001b[0mprint\u001b[0m\u001b[1;33m(\u001b[0m\u001b[0mtest\u001b[0m\u001b[1;33m.\u001b[0m\u001b[0m__invisible\u001b[0m\u001b[1;33m)\u001b[0m\u001b[1;33m\u001b[0m\u001b[1;33m\u001b[0m\u001b[0m\n\u001b[0m",
      "\u001b[1;31mAttributeError\u001b[0m: 'infoHiding' object has no attribute '__invisible'"
     ]
    }
   ],
   "source": [
    "test = infoHiding()\n",
    "\n",
    "print(test.visible)\n",
    "print(test.__alsoVisible__)\n",
    "print(test.__invisible)"
   ]
  },
  {
   "cell_type": "markdown",
   "metadata": {},
   "source": [
    "The code:"
   ]
  },
  {
   "cell_type": "code",
   "execution_count": 63,
   "metadata": {},
   "outputs": [
    {
     "name": "stdout",
     "output_type": "stream",
     "text": [
      "Don't look at me directly.\n",
      "Don't look at me directly.\n"
     ]
    },
    {
     "ename": "AttributeError",
     "evalue": "'infoHiding' object has no attribute '__printInvisible'",
     "output_type": "error",
     "traceback": [
      "\u001b[1;31m---------------------------------------------------------------------------\u001b[0m",
      "\u001b[1;31mAttributeError\u001b[0m                            Traceback (most recent call last)",
      "\u001b[1;32m<ipython-input-63-cbb8a91aea77>\u001b[0m in \u001b[0;36m<module>\u001b[1;34m\u001b[0m\n\u001b[0;32m      3\u001b[0m \u001b[0mtest\u001b[0m\u001b[1;33m.\u001b[0m\u001b[0mprintInvisible\u001b[0m\u001b[1;33m(\u001b[0m\u001b[1;33m)\u001b[0m\u001b[1;33m\u001b[0m\u001b[1;33m\u001b[0m\u001b[0m\n\u001b[0;32m      4\u001b[0m \u001b[0mtest\u001b[0m\u001b[1;33m.\u001b[0m\u001b[0m__printInvisible__\u001b[0m\u001b[1;33m(\u001b[0m\u001b[1;33m)\u001b[0m\u001b[1;33m\u001b[0m\u001b[1;33m\u001b[0m\u001b[0m\n\u001b[1;32m----> 5\u001b[1;33m \u001b[0mtest\u001b[0m\u001b[1;33m.\u001b[0m\u001b[0m__printInvisible\u001b[0m\u001b[1;33m(\u001b[0m\u001b[1;33m)\u001b[0m\u001b[1;33m\u001b[0m\u001b[1;33m\u001b[0m\u001b[0m\n\u001b[0m",
      "\u001b[1;31mAttributeError\u001b[0m: 'infoHiding' object has no attribute '__printInvisible'"
     ]
    }
   ],
   "source": [
    "test = infoHiding()\n",
    "\n",
    "test.printInvisible()\n",
    "test.__printInvisible__()\n",
    "test.__printInvisible()"
   ]
  },
  {
   "cell_type": "markdown",
   "metadata": {},
   "source": [
    "And the code:"
   ]
  },
  {
   "cell_type": "code",
   "execution_count": 58,
   "metadata": {},
   "outputs": [
    {
     "ename": "AttributeError",
     "evalue": "'subClass' object has no attribute '_subClass__invisible'",
     "output_type": "error",
     "traceback": [
      "\u001b[1;31m---------------------------------------------------------------------------\u001b[0m",
      "\u001b[1;31mAttributeError\u001b[0m                            Traceback (most recent call last)",
      "\u001b[1;32m<ipython-input-58-4c4380ec2896>\u001b[0m in \u001b[0;36m<module>\u001b[1;34m\u001b[0m\n\u001b[0;32m      4\u001b[0m         \u001b[0mprint\u001b[0m\u001b[1;33m(\u001b[0m\u001b[1;34m'from subclass'\u001b[0m\u001b[1;33m,\u001b[0m \u001b[0mself\u001b[0m\u001b[1;33m.\u001b[0m\u001b[0m__invisible\u001b[0m\u001b[1;33m)\u001b[0m\u001b[1;33m\u001b[0m\u001b[1;33m\u001b[0m\u001b[0m\n\u001b[0;32m      5\u001b[0m \u001b[1;33m\u001b[0m\u001b[0m\n\u001b[1;32m----> 6\u001b[1;33m \u001b[0mtestSub\u001b[0m \u001b[1;33m=\u001b[0m \u001b[0msubClass\u001b[0m\u001b[1;33m(\u001b[0m\u001b[1;33m)\u001b[0m\u001b[1;33m\u001b[0m\u001b[1;33m\u001b[0m\u001b[0m\n\u001b[0m",
      "\u001b[1;32m<ipython-input-58-4c4380ec2896>\u001b[0m in \u001b[0;36m__init__\u001b[1;34m(self)\u001b[0m\n\u001b[0;32m      2\u001b[0m \u001b[1;33m\u001b[0m\u001b[0m\n\u001b[0;32m      3\u001b[0m     \u001b[1;32mdef\u001b[0m \u001b[0m__init__\u001b[0m\u001b[1;33m(\u001b[0m\u001b[0mself\u001b[0m\u001b[1;33m)\u001b[0m\u001b[1;33m:\u001b[0m\u001b[1;33m\u001b[0m\u001b[1;33m\u001b[0m\u001b[0m\n\u001b[1;32m----> 4\u001b[1;33m         \u001b[0mprint\u001b[0m\u001b[1;33m(\u001b[0m\u001b[1;34m'from subclass'\u001b[0m\u001b[1;33m,\u001b[0m \u001b[0mself\u001b[0m\u001b[1;33m.\u001b[0m\u001b[0m__invisible\u001b[0m\u001b[1;33m)\u001b[0m\u001b[1;33m\u001b[0m\u001b[1;33m\u001b[0m\u001b[0m\n\u001b[0m\u001b[0;32m      5\u001b[0m \u001b[1;33m\u001b[0m\u001b[0m\n\u001b[0;32m      6\u001b[0m \u001b[0mtestSub\u001b[0m \u001b[1;33m=\u001b[0m \u001b[0msubClass\u001b[0m\u001b[1;33m(\u001b[0m\u001b[1;33m)\u001b[0m\u001b[1;33m\u001b[0m\u001b[1;33m\u001b[0m\u001b[0m\n",
      "\u001b[1;31mAttributeError\u001b[0m: 'subClass' object has no attribute '_subClass__invisible'"
     ]
    }
   ],
   "source": [
    "class subClass(infoHiding):\n",
    "    \n",
    "    def __init__(self):\n",
    "        print('from subclass', self.__invisible)\n",
    "        \n",
    "testSub = subClass()"
   ]
  },
  {
   "cell_type": "markdown",
   "metadata": {},
   "source": [
    "Notice that when a subclass attempt to use a hidden attribute of its superclass an AttributeError occurs. This can make information hiding in Python a bit cumbersome."
   ]
  },
  {
   "cell_type": "markdown",
   "metadata": {},
   "source": [
    "### 8.3.1 Generators"
   ]
  },
  {
   "cell_type": "markdown",
   "metadata": {},
   "source": []
  }
 ],
 "metadata": {
  "kernelspec": {
   "display_name": "Python 3",
   "language": "python",
   "name": "python3"
  },
  "language_info": {
   "codemirror_mode": {
    "name": "ipython",
    "version": 3
   },
   "file_extension": ".py",
   "mimetype": "text/x-python",
   "name": "python",
   "nbconvert_exporter": "python",
   "pygments_lexer": "ipython3",
   "version": "3.7.3"
  }
 },
 "nbformat": 4,
 "nbformat_minor": 2
}
