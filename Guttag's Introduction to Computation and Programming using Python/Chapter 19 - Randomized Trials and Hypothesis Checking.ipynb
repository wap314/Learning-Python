{
 "cells": [
  {
   "cell_type": "markdown",
   "metadata": {},
   "source": [
    "# Chapter 19 - Randomized Trials and Hypothesis Checking"
   ]
  },
  {
   "cell_type": "markdown",
   "metadata": {},
   "source": [
    "*__Dr. X invented a drug, PED-X, designed to help professional bicycle racers ride\n",
    "faster.__* When he tried to market it, the racers insisted that Dr. X demonstrate that\n",
    "his drug was superior to PED-Y, the banned drug that they had been using for\n",
    "years. Dr. X raised money from some investors, and launched a *__randomized trial__*.\n",
    "\n",
    "He persuaded 200 professional cyclists to participate in his trial. *__He then divided them randomly into two groups: treatment and control. Each member of\n",
    "the treatment group received a dose of PED-X. Members of the control group\n",
    "were told that they were being given a dose of PED-X, but were instead given a\n",
    "dose of PED-Y__*.\n",
    "\n",
    "Each cyclist was asked to bike 50 miles as fast as possible. *__The finishing times\n",
    "for each group were normally distributed. The mean finishing time of the treatment group was 118.79 minutes, and that of the control group was 120.17\n",
    "minutes.__* Figure 19.1 shows the time for each cyclist."
   ]
  },
  {
   "cell_type": "markdown",
   "metadata": {},
   "source": [
    "![](treat_control.jpg)"
   ]
  },
  {
   "cell_type": "markdown",
   "metadata": {},
   "source": [
    "Dr. X was elated until he ran into a statistician who pointed out that it was\n",
    "almost inevitable that one of the two groups would have a lower mean than the\n",
    "other, and perhaps the difference in means was merely a random occurrence.\n",
    "When she saw the crestfallen look on the scientist’s face, the statistician offered to\n",
    "show him how to check the statistical significance of his study."
   ]
  },
  {
   "cell_type": "markdown",
   "metadata": {},
   "source": [
    "## 19.1 Checking Significance"
   ]
  },
  {
   "cell_type": "markdown",
   "metadata": {},
   "source": [
    "In any experiment that involves drawing samples at random from a population,\n",
    "there is always the possibility that an observed effect occurred purely by chance.\n",
    "Figure 19.2 is a visualization of how temperatures in January of 2014 varied from\n",
    "the average temperatures in January from 1951 to 1980. Now, imagine that you\n",
    "constructed a sample by choosing twenty random spots on the planet, and then\n",
    "discovered that the mean change in temperature for the sample was +1 degree\n",
    "Celsius. *__What is the probability that the observed change in mean temperature\n",
    "was an artifact of the sites you happened to sample rather than an indication that\n",
    "the planet as a whole is warming? Answering this kind of question is what statistical significance is all about.__*"
   ]
  },
  {
   "cell_type": "markdown",
   "metadata": {},
   "source": [
    "![](temp_diff.jpg)"
   ]
  },
  {
   "cell_type": "markdown",
   "metadata": {},
   "source": [
    "In the early part of the 20th century, *__Ronald Fisher developed an approach to\n",
    "statistical hypothesis testing that has become the most commonly used approach\n",
    "for evaluating the probability of an observed effect having occurred purely by\n",
    "chance__*. Fisher claims to have invented the method in response to a claim by Dr.\n",
    "Muriel Bristol-Roach that when she drank tea with milk in it she could detect\n",
    "whether the tea or the milk was poured into the teacup first. Fisher challenged\n",
    "her to a “tea test” in which she was given eight cups of tea (four for each order of\n",
    "adding tea and milk), and asked to identify those cups into which the tea had\n",
    "been poured before the milk. She did this perfectly. Fisher then calculated the\n",
    "probability of her having done this purely by chance. As we saw in Section 15.4.4,\n",
    "$ {8 \\choose 4} = 70 $, i.e., *__there are 70\tdifferent ways to choose 4 cups out of 8. Since only one\n",
    "of these 70 combinations includes all 4 cups in which the tea was poured first,\n",
    "Fisher calculated that the probability of Dr. Bristol-Roach having chosen correctly by pure luck was $\\frac{1}{70} \\approx 0.014$. From this he concluded that it was highly unlikely\n",
    "that her success could be attributed to luck__*.\n",
    "\n",
    "*__Fisher’s approach to significance testing__* can be summarized as\n",
    "\n",
    "1. *__State a null hypothesis and an alternative hypothesis__*. The null hypothesis is\n",
    "that the “treatment” has no interesting effect. For the “tea test,” the null hypothesis was that Dr. Bristol-Roach had no ability to taste the difference. The\n",
    "alternative hypothesis is a hypothesis that can be true only if the null hypothesis is false, e.g., that Dr. Bristol-Roach could taste the difference. Actually, in his formulation, Fisher had only a null hypothesis. The idea of an alternative hypothesis was introduced later by Jerzey Newman and Egon Pearson.\n",
    "\n",
    "2. *__Understand statistical assumptions about the sample being evaluated__*. For the\n",
    "“tea test” Fisher assumed that Dr. Bristol-Roach was making independent\n",
    "decisions for each cup.\n",
    "\n",
    "3. *__Compute a relevant test statistic__*. In this case, the test statistic was the fraction of correct answers given by Dr. Bristol-Roach.\n",
    "\n",
    "4. *__Derive the probability of that test statistic under the null hypothesis__*. In this\n",
    "case, the probability of getting all of the cups right by accident, i.e., 0.014.\n",
    "\n",
    "5. *__Decide whether that probability is sufficiently small that you are willing to\n",
    "assume that the null hypothesis is false, i.e., to reject the null hypothesis__*.\n",
    "Common values for the rejection level, which should be chosen in advance,\n",
    "are 0.05 and 0.01.\n",
    "\n",
    "Returning to our cyclists, imagine that the times for the treatment and control groups were samples drawn from infinite populations of finishing times for\n",
    "PED-X users and PED-Y users. *__The null hypothesis for this experiment is that\n",
    "the means of those two larger populations are the same, i.e., the difference between the population mean of the treatment group and the population mean of\n",
    "the control group is 0. The alternative hypothesis is that they are not the same,\n",
    "i.e., the difference in means is not equal to 0.__*\n",
    "\n",
    "Next, we go about trying to reject the null hypothesis. *__We choose a threshold,\n",
    "α, for statistical significance, and try to show that the probability of the data having been drawn from distributions consistent with the null hypothesis is less than\n",
    "α. We then say that we can reject the null hypothesis with confidence α, and accept the negation of the null hypothesis with probability 1\t– α.__*\n",
    "\n",
    "The choice of α affects the kind of errors we make. *__The larger α, the more often we will reject a null hypothesis that is actually true. These are known as type I\n",
    "errors. When α is smaller, we will more often accept a null hypothesis that is actually false. These are known as type II errors.__*\n",
    "\n",
    "Most commonly, people choose α = 0.05. However, depending upon the consequences of being wrong, it might be preferable to choose a smaller or larger α.\n",
    "Imagine, for example, that the null hypothesis is that there is no difference in the\n",
    "rate of premature death between those taking PED-X and those taking PED-Y.\n",
    "One might well want to choose a small α, say 0.01, as the basis for rejecting that\n",
    "hypothesis before deciding whether or not one drug was safer than the other. On\n",
    "the other hand, if the null hypothesis were that there is no difference in the taste\n",
    "of PED-X and PED-Y, one might comfortably choose a pretty large α.\n",
    "\n",
    "The next step is to compute the test statistic. *__The most common test statistic\n",
    "is the t-statistic. The t-statistic tells us how different, measured in units of standard error, the estimate derived from the data is from the null hypothesis. The\n",
    "larger the t-statistic, the more likely the null hypothesis can be rejected__*. For our\n",
    "example, the t-statistic tells us how many standard errors the difference in the\n",
    "two means (118.79 – 120.17 =\t-1.38) is from 0. *__The t-statistic for our PED-X example is -2.13165598142. What does this mean? How do we use it?__*\n",
    "\n",
    "We use the t-statistic in much the same way we use the number of standard\n",
    "deviations from the mean to compute confidence intervals (see Section 15.4.2).\n",
    "Recall that for all normal distributions the probability of an example lying within\n",
    "a fixed number of standard deviations of the mean is fixed. Here we do something slightly more complex that *__takes into account the number of samples used\n",
    "to compute the standard error. Instead of assuming a normal distribution, we assume a t-distribution__*.\n",
    "\n",
    "*__T-distributions were first described, in 1908, by William Gosset, a statistician\n",
    "working for the Arthur Guinness and Son brewery__*. Guiness forbade Gosset from publishing under his own name. He used the pseudonym\n",
    "“Student” when he published his seminal 1908 paper, “Probable Error of a Mean,” about t-distributions. As a result, the distribution is frequently called “Student’s t-distribution.”\n",
    "*__The t-distribution is actually a family of distributions, since the shape of the distribution depends upon the degrees of freedom in the sample__*.\n",
    "\n",
    "*__The degrees of freedom describes the amount of independent information\n",
    "used to derive the t-statistic.__* In general, we can think of degrees of freedom as the\n",
    "number of independent observations in a sample that are available to estimate\n",
    "some statistic about the population from which that sample is drawn.\n",
    "\n",
    "*__A t-distribution looks a lot like a normal distribution, and the larger the degrees of freedom the closer it is to a normal distribution__*. For small degrees of\n",
    "freedom, the t-distributions have notably fatter tails than normal distributions.\n",
    "For degrees of freedom of 30 or more, t-distributions are very close to normal.\n",
    "\n",
    "Now let's use the sample variance to estimate the population variance:\n",
    "\n",
    "$ \\text{variance} = \\frac{\\sum_{x \\in X} (x-\\mu)^2}{|X|} $\n",
    "\n",
    "so the variance of our sample is \n",
    "\n",
    "$ \\frac{(100-200)^2 + (200-200)^2 + (300-200)^2}{3} $\n",
    "\n",
    "*__It might appear that we are using three independent pieces of information,\n",
    "but we are not__*. The three terms in the numerator are not independent of each\n",
    "other, because all three observations were used to compute the mean of the sample of 200 riders. *__The degrees of freedom is 2, since once we know the mean and\n",
    "any two of the three observations, the value of the third observation is fixed.__*\n",
    "\n",
    "*__The larger the degrees of freedom, the higher the probability that the sample\n",
    "statistic is representative of the population. The degrees of freedom in a t-statistic\n",
    "computed from a single sample is one less than the sample size, because the mean\n",
    "of the sample is used in calculating the t-statistic__*. If two samples are used, the degrees of freedom is two less than the sum of the sample sizes, because the mean\n",
    "of each sample is used in calculating the t-statistic. For example, for the PEDX/PED-Y experiment, the degrees of freedom is 198.\n",
    "\n",
    "*__Given the degrees of freedom, we can draw a plot showing the appropriate t-distribution, and then see where the t-statistic we have computed for our PED-X\n",
    "example lies on the distribution.__* The code in Figure 19.3 does that, and produces\n",
    "the plot in Figure 19.4. The code first uses the function scipy.random.standard_t\n",
    "to generate a large number of examples drawn from a t-distribution with 198 degrees of freedom. It then draws white lines at the t-statistic and the negative of\n",
    "the t-statistic for the PED-X sample."
   ]
  },
  {
   "cell_type": "code",
   "execution_count": 3,
   "metadata": {},
   "outputs": [
    {
     "data": {
      "text/plain": [
       "Text(0, 0.5, 'Probability')"
      ]
     },
     "execution_count": 3,
     "metadata": {},
     "output_type": "execute_result"
    },
    {
     "data": {
      "image/png": "[encoded data removed]",
      "text/plain": [
       "<Figure size 432x288 with 1 Axes>"
      ]
     },
     "metadata": {
      "needs_background": "light"
     },
     "output_type": "display_data"
    }
   ],
   "source": [
    "import scipy\n",
    "import pylab\n",
    "\n",
    "tStat = -2.13165598142 #t-statistic for PED-X example\n",
    "tDist = []\n",
    "numBins = 1000\n",
    "\n",
    "#Generate a large number of examples drawn from a t-distribution with 198 degrees of freedom.\n",
    "for i in range(10000000):\n",
    "    tDist.append(scipy.random.standard_t(198))\n",
    "\n",
    "pylab.hist(tDist, bins = numBins, weights = pylab.array(len(tDist)*[1.0])/len(tDist))\n",
    "\n",
    "#draws white lines at the t-statistic and the negative of the t-statistic for the PED-X sample.\n",
    "pylab.axvline(tStat, color = 'w')\n",
    "pylab.axvline(-tStat, color = 'w')\n",
    "\n",
    "pylab.title('T-distribution with 198 Degrees of Freedom')\n",
    "pylab.xlabel('T-statistic')\n",
    "pylab.ylabel('Probability')"
   ]
  },
  {
   "cell_type": "markdown",
   "metadata": {},
   "source": [
    "*__The sum of the fractions of the area of the histogram to the left and right of\n",
    "the white lines equals the probability of getting a value at least as extreme as the\n",
    "observed value__* if\n",
    "\n",
    "* the sample is representative of the population, and\n",
    "* the null hypothesis is true.\n",
    "\n",
    "*__We need to look at both tails because our null hypothesis is that the population means are equal. So, the test should fail if the mean of the treatment group is\n",
    "either significantly larger or significantly smaller than the mean of the control\n",
    "group__*.\n",
    "\n",
    "*__Under the assumption that the null hypothesis holds, the probability of getting a value at least as extreme as the observed value is called a p-value. For our\n",
    "PED-X example, the p-value is the probability of seeing a difference in the means\n",
    "at least as large as the observed difference, under the assumption that the actual\n",
    "population means of the treatment and controls are identical.__*\n",
    "\n",
    "It may seem a bit odd that p-values tell us something about the probability of\n",
    "an event occurring if the null hypothesis holds, when what we are usually hoping\n",
    "is that the null hypothesis doesn’t hold. However, it is not so different in character from the classic “scientific method,” which is based upon designing experiments that have the potential to refute a hypothesis. The code in Figure 19.5\n",
    "computes and prints the t-statistic and p-value for our two samples. The library\n",
    "function stats.ttest_ind performs a two-tailed two-sample t-test and returns\n",
    "both the t-statistic and the p-value. Setting the parameter equal_var to False indicates that we don’t know whether the two populations have the same variance."
   ]
  },
  {
   "cell_type": "code",
   "execution_count": 17,
   "metadata": {},
   "outputs": [
    {
     "name": "stdout",
     "output_type": "stream",
     "text": [
      "Treatment mean - control mean = -1.0541339328928956 minutes\n",
      "The t-statistic from two-sample test is -1.6230682035101052\n",
      "The p-value from two-sample test is 0.10625130022840797\n"
     ]
    }
   ],
   "source": [
    "from scipy import stats\n",
    "import random\n",
    "\n",
    "treatmentDist = (119.5, 5.0)\n",
    "controlDist = (120, 4.0)\n",
    "sampleSize = 100\n",
    "treatmentTimes, controlTimes = [], []\n",
    "\n",
    "for s in range(sampleSize):\n",
    "    #Generate (pseudo) random numberd from Gaussian dist: random.gauss (mu, sigma)\n",
    "    treatmentTimes.append(random.gauss(treatmentDist[0], treatmentDist[1]))\n",
    "    controlTimes.append(random.gauss(controlDist[0], controlDist[1]))\n",
    "\n",
    "#We have two samples, each from control and treatment group.\n",
    "#Compute mean of each sample.\n",
    "controlMean = sum(controlTimes)/len(controlTimes)\n",
    "treatmentMean = sum(treatmentTimes)/len(treatmentTimes)\n",
    "\n",
    "print('Treatment mean - control mean =', treatmentMean - controlMean, 'minutes')\n",
    "\n",
    "#Perform two-tailed two sample t-test which return both t-statistics and p-value.\n",
    "twoSampleTest = stats.ttest_ind(treatmentTimes, controlTimes, equal_var = False)\n",
    "\n",
    "print('The t-statistic from two-sample test is', twoSampleTest[0])\n",
    "print('The p-value from two-sample test is', twoSampleTest[1])"
   ]
  },
  {
   "cell_type": "markdown",
   "metadata": {},
   "source": [
    "When we run the code, it reports\n",
    "\n",
    "    Treatment mean - control mean = -1.3766016405102306 minutes\n",
    "    The t-statistic from two-sample test is -2.13165598142\n",
    "    The p-value from two-sample test is 0.0343720799815\n",
    "    \n",
    "“Yes,” Dr. X crowed, “it seems that the probability of PED-X being no better\n",
    "than PED-Y is less than 3.5%, and therefore the probability that PED-X has an\n",
    "effect is more than 96.5%. Let the cash registers start ringing.” Alas, his elation\n",
    "lasted only until he read the next section of this chapter."
   ]
  },
  {
   "cell_type": "markdown",
   "metadata": {},
   "source": [
    "## 19.2 Beware of P-Values"
   ]
  },
  {
   "cell_type": "markdown",
   "metadata": {},
   "source": [
    "It is way too easy to read something into a p-value that it doesn’t really imply. *__It\n",
    "is tempting to think of a p-value as the probability of the null hypothesis being\n",
    "true. But this is not what it actually means__*.\n",
    "\n",
    "The null hypothesis is analogous to a defendant in the Anglo-American\n",
    "criminal justice system. That system is based on a principle called “presumption\n",
    "of innocence,” i.e., innocent until proven guilty. Analogously, *__we assume that the\n",
    "null hypothesis is true unless we see enough evidence to the contrary__*. In a trial, a\n",
    "jury can rule that a defendant is “guilty” or “not guilty.” A “not guilty” verdict\n",
    "implies that the evidence was insufficient to convince the jury that the defendant\n",
    "was guilty “beyond a reasonable doubt.” Think of it as equivalent to “guilt was\n",
    "not proven.” A verdict of “not guilty” does not imply that the evidence was sufficient to convince the jury that the defendant was innocent. And it says nothing\n",
    "about what the jury would have concluded had it seen different evidence. Think\n",
    "of a p-value as a jury verdict where the standard “beyond a reasonable doubt”\n",
    "corresponds to choosing a very small α, and the evidence is the data from which\n",
    "the t-statistic was constructed.\n",
    "\n",
    "*__A small p-value indicates that a particular sample is unlikely if the null hypothesis is true__*. It is analogous to a jury concluding that it was unlikely that it\n",
    "would have been presented with this set of evidence if the defendant were innocent, and therefore reaching a guilty verdict. Of course, that doesn’t mean that\n",
    "the defendant is actually guilty. Perhaps the jury was presented with misleading\n",
    "evidence. Analogously, *__a low p-value might be attributable to the null hypothesis\n",
    "actually being false, or it could simply be that the sample is unrepresentative of\n",
    "the population from which it is drawn, i.e., the evidence is misleading__*.\n",
    "\n",
    "As you might expect, Dr. X staunchly claimed that his experiment showed\n",
    "that the null hypothesis was probably false. Dr. Y insisted that the low p-value\n",
    "was probably attributable to an unrepresentative sample, and funded another experiment of the same size as Dr. X’s. When the statistics were computed using the\n",
    "samples from her experiment, the code printed:\n",
    "\n",
    "    Treatment mean - control mean = 0.1760912816 minutes\n",
    "    The t-statistic from two-sample test is -0.274609731618\n",
    "    The p-value from two-sample test is 0.783908632676\n",
    "    \n",
    "This p-value is almost 24 times larger than that obtained from Dr. X’s experiment, and since it is considerably larger than 0.5, provides no reason to doubt\n",
    "the null hypothesis. Confusion reigned. But we can clear it up!\n",
    "\n",
    "You may not be surprised to discover that this is not a true story—after all,\n",
    "the idea of a cyclist taking a performance-enhancing drug strains credulity. In\n",
    "fact, the samples for the experiments were generated by the code below."
   ]
  },
  {
   "cell_type": "code",
   "execution_count": 9,
   "metadata": {},
   "outputs": [],
   "source": [
    "import random\n",
    "\n",
    "treatmentDist = (119.5, 5.0)\n",
    "controlDist = (120, 4.0)\n",
    "sampleSize = 100\n",
    "treatmentTimes, controlTimes = [], []\n",
    "\n",
    "for s in range(sampleSize):\n",
    "    #Generate (pseudo) random numberd from Gaussian dist: random.gauss (mu, sigma)\n",
    "    treatmentTimes.append(random.gauss(treatmentDist[0], treatmentDist[1]))\n",
    "    controlTimes.append(random.gauss(controlDist[0], controlDist[1]))"
   ]
  },
  {
   "cell_type": "markdown",
   "metadata": {},
   "source": [
    "Since the experiment is purely computational, we can run it many times to\n",
    "get many different samples. When we generated 10,000 pairs of samples (one\n",
    "from each distribution) and plotted the probability of the p-values, we got the\n",
    "plot in Figure 19.7."
   ]
  },
  {
   "cell_type": "markdown",
   "metadata": {},
   "source": [
    "![](pval_dist.jpg)"
   ]
  },
  {
   "cell_type": "markdown",
   "metadata": {},
   "source": [
    "Since more than 11.6% of the p-values lie below 0.05, it is not terribly surprising that the first experiment we ran happened to show significance at the 5%\n",
    "level. On the other hand, that the second experiment yielded a completely different result is also not surprising. *__What does seem surprising is that given that we\n",
    "know that the means of the two distributions are actually different, we get a result that is significant at the 5% level only about 11.6% of the time. More than\n",
    "88% of the time we would fail to reject a fallacious null hypothesis at the 5% level.__* (If we increase the sample size in our example to 2000, we fail to reject the fallacious null hypothesis only about 6% of the time.)\n",
    "\n",
    "*__That p-values can be unreliable indicators of whether it is truly appropriate\n",
    "to reject a null hypothesis is one of the reasons that so many of the results appearing in the scientific literature cannot be reproduced by other scientists__*. One\n",
    "problem is that there is a strong relationship between *__the study power (the size of\n",
    "the samples)__* and the credibility of the statistical finding.\n",
    "\n",
    "Why are so many studies under-powered? If we were truly running an experiment with people (rather than a simulation) it would be twenty times more expensive to draw samples of size 2000 than samples of size 100.\n",
    "The problem of sample size is an intrinsic attribute of what is called the frequentist approach to statistics. In Chapter 20, we discuss an alternative approach\n",
    "that attempts to mitigate this problem."
   ]
  },
  {
   "cell_type": "markdown",
   "metadata": {},
   "source": [
    "## 19.3 One-Tail and One-Sample Tests"
   ]
  },
  {
   "cell_type": "markdown",
   "metadata": {},
   "source": [
    "Thus far in this chapter, we have looked only at two-tailed two-sample tests.\n",
    "There are times when it is more appropriate to use a one-tailed and/or a onesample t-test.\n",
    "\n",
    "Let’s first consider a one-tailed two-sample test. In our two-tailed test of the\n",
    "relative effectiveness of PED-X and PED-Y, we considered three cases: 1) they\n",
    "were equally effective, 2) PED-X was more effective than PED-Y, and 3) PED-Y\n",
    "was more effective than PED-X. The goal was to reject the null hypothesis\n",
    "(case 1) by arguing that if it were true, it would be unlikely to see as large a difference as observed in the means of the PED-X and PED-Y samples.\n",
    "\n",
    "Suppose, however, that PED-X were substantially less expensive than PED-Y.\n",
    "To find a market for his compound, Dr. X would only need to show that PED-X\n",
    "is at least as effective as PED-Y. One way to think about this is that *__we want to\n",
    "reject the hypothesis that the means are equal or that the PED-X mean is larger.\n",
    "Note that this is strictly weaker than the hypothesis that the means are equal.\n",
    "(Hypothesis A is strictly weaker than hypothesis B, if whenever B\tis true A\tis true,\n",
    "but not vice versa.)__*\n",
    "\n",
    "To do this, we start with the a two-sample test with the original null hypothesis computed by the code in Figure 19.5. It printed\n",
    "\n",
    "    Treatment mean - control mean = -1.37660164051 minutes\n",
    "    The t-statistic from two-sample test is -2.13165598142\n",
    "    The p-value from two-sample test is 0.0343720799815\n",
    "\n",
    "allowing us to reject the null hypothesis at about the 3.5% level.\n",
    "\n",
    "How about our weaker hypothesis? Recall Figure 19.4. We observed that under the assumption that the null hypothesis holds, the sum of the fractions of the\n",
    "areas of the histogram to the left and right of the white lines equals the probability of getting a value at least as extreme as the observed value. *__However, to reject\n",
    "our weaker hypothesis we don’t need to take into account the area under the left\n",
    "tail, because that corresponds to PED-X being more effective than PED-Y (a negative time difference), and we’re interested only in rejecting the hypothesis that\n",
    "PED-X is less effective. I.e., we can do a one-tailed test.__*\n",
    "\n",
    "Since the t-distribution is symmetric, to get the value for a one-tailed test we\n",
    "divide the p-value from the two-tailed test in half. So the p-value for the onetailed test is 0.01718603999075. This allows us to reject our weaker hypothesis at\n",
    "about the 1.7% level, something that we could not do using the two-tailed test.\n",
    "\n",
    "Because a one-tailed test provides more power to detect an effect, it is tempting to use a one-tailed test whenever one has a hypothesis about the direction of\n",
    "an effect. This is usually not a good idea. *__A one-tailed test is appropriate only if\n",
    "the consequences of missing an effect in the untested direction are negligible.__*\n",
    "\n",
    "Now let’s look at a one-sample test. Suppose that, after years of experience of\n",
    "people using PED-Y, it was well established that *the mean time for a racer on\n",
    "PED-Y to complete a fifty-mile course is 120 minutes*. *__To discover whether or\n",
    "not PED-X had a different effect than PED-Y, we would test the null hypothesis\n",
    "that the mean time for a single PED-X sample is equal to 120__*. We can do this using the function scipy.stats.ttest_1samp, which takes as arguments a single sample and the population mean against which it is to be compared. It returns a tuple\n",
    "containing the t-statistic and p-value."
   ]
  },
  {
   "cell_type": "code",
   "execution_count": 48,
   "metadata": {},
   "outputs": [
    {
     "name": "stdout",
     "output_type": "stream",
     "text": [
      "Treatment mean - control mean = -2.0074871944163277 minutes\n",
      "The t-statistic from one-sample test is -2.2441763444545106\n",
      "The p-value from one-sample test is 0.027047691776865744\n"
     ]
    }
   ],
   "source": [
    "from scipy import stats\n",
    "import random\n",
    "\n",
    "treatmentDist = (119.5, 5.0)\n",
    "controlDist = (120, 4.0)\n",
    "sampleSize = 100\n",
    "treatmentTimes, controlTimes = [], []\n",
    "\n",
    "for s in range(sampleSize):\n",
    "    #Generate (pseudo) random numberd from Gaussian dist: random.gauss (mu, sigma)\n",
    "    treatmentTimes.append(random.gauss(treatmentDist[0], treatmentDist[1]))\n",
    "    controlTimes.append(random.gauss(controlDist[0], controlDist[1]))\n",
    "\n",
    "#We have two samples, each from control and treatment group.\n",
    "#Compute mean of each sample.\n",
    "controlMean = sum(controlTimes)/len(controlTimes)\n",
    "treatmentMean = sum(treatmentTimes)/len(treatmentTimes)\n",
    "\n",
    "print('Treatment mean - control mean =', treatmentMean - controlMean, 'minutes')\n",
    "\n",
    "oneSampleTest = stats.ttest_1samp(treatmentTimes, 120)\n",
    "print('The t-statistic from one-sample test is', oneSampleTest[0])\n",
    "print('The p-value from one-sample test is', oneSampleTest[1])"
   ]
  },
  {
   "cell_type": "markdown",
   "metadata": {},
   "source": [
    "It is not surprising that the p-value is smaller than the one we got using the\n",
    "two-sample two-tail test. By assuming that we know one of the two means, we\n",
    "have removed a source of uncertainty.\n",
    "\n",
    "So, after all this, what have we learned from our statistical analysis of PED-X\n",
    "and PED-Y? *__Even though there is a difference in the expected performance of\n",
    "PED-X and and PED-Y users, no finite sample of PED-X and PED-Y users is\n",
    "guaranteed to reveal that difference. Moreover, because the difference in the expected means is small (less than half a percent), it is unlikely that an experiment\n",
    "of the size Dr. X ran (100 riders in each group) will yield evidence that would allow us to conclude at the 95% confidence level that there is a difference in means.__*\n",
    "We could increase the likelihood of getting a result that is statistically significant\n",
    "at the 95% level by using a one-tailed test, but that would be misleading, because\n",
    "we have no reason to assume that PED-X is not less effective than PED-Y"
   ]
  },
  {
   "cell_type": "markdown",
   "metadata": {},
   "source": [
    "## 19.4 Significant or Not"
   ]
  },
  {
   "cell_type": "markdown",
   "metadata": {},
   "source": [
    "Lyndsay and John have wasted an inordinate amount of time over the last several\n",
    "years playing a game called Words with Friends. They have played each other\n",
    "1,273 times, and Lyndsay has won 666 of those games, prompting her to boast,\n",
    "“I’m way better at this game than you are.” John asserted that Lyndsay’s claim was\n",
    "nonsense, and that the difference in wins could be (and probably should be) attributed entirely to luck.\n",
    "\n",
    "John, who had recently read a book about statistics, proposed the following\n",
    "way to find out whether it was reasonable to attribute Lyndsay’s relative success\n",
    "to skill:\n",
    "* Treat each of the 1,273 games as an experiment returning 1 if Lyndsay was the\n",
    "victor and 0 if she was not.\n",
    "* *__Choose the null hypothesis that the mean value of those experiments is 0.5.__*\n",
    "* Perform a two-tailed one-sample test for that null hypothesis."
   ]
  },
  {
   "cell_type": "code",
   "execution_count": 51,
   "metadata": {},
   "outputs": [
    {
     "name": "stdout",
     "output_type": "stream",
     "text": [
      "The p-value of one-sample testis  0.0982205871243577\n"
     ]
    }
   ],
   "source": [
    "from scipy import stats\n",
    "\n",
    "numGames = 1273\n",
    "lyndsayWins = 666\n",
    "outcomes = [1.0]*lyndsayWins + [0.0]*(numGames-lyndsayWins)\n",
    "\n",
    "print('The p-value of one-sample testis ', stats.ttest_1samp(outcomes, 0.5)[1])"
   ]
  },
  {
   "cell_type": "markdown",
   "metadata": {},
   "source": [
    "prompting John to claim that the difference wasn’t even close to being significant\n",
    "at the 5% level.\n",
    "\n",
    "Lyndsay, who had not studied statistics, but had read Chapter 16 of this\n",
    "book, was not satisfied. “Let’s run a Monte Carlo simulation,” she suggested."
   ]
  },
  {
   "cell_type": "code",
   "execution_count": 52,
   "metadata": {},
   "outputs": [
    {
     "name": "stdout",
     "output_type": "stream",
     "text": [
      "Probability of result at least this extreme by accident =  0.0539\n"
     ]
    }
   ],
   "source": [
    "import random\n",
    "\n",
    "numGames = 1273\n",
    "lyndsayWins = 666\n",
    "numTrials = 10000\n",
    "atLeast = 0\n",
    "\n",
    "for t in range(numTrials):\n",
    "    LWins = 0\n",
    "    for g in range(numGames):\n",
    "        if random.random() < 0.5:\n",
    "            LWins += 1\n",
    "    if LWins >= lyndsayWins:\n",
    "        atLeast += 1\n",
    "\n",
    "print('Probability of result at least this extreme by accident = ', atLeast/numTrials)"
   ]
  },
  {
   "cell_type": "markdown",
   "metadata": {},
   "source": [
    "prompting her to claim that John’s statistical test was completely bogus and that\n",
    "the difference in wins was statistically significant at the 5% level.\n",
    "“No,” *__John explained patiently, “It’s your simulation that’s bogus. It assumed\n",
    "that you were the better player, and performed the equivalent of a one-tailed test.\n",
    "The inner loop of your simulation is wrong. You should have performed the\n",
    "equivalent of a two-tailed test by testing whether, in the simulation, either player\n",
    "won more than the 666 games that you won in actual competition.”__* "
   ]
  },
  {
   "cell_type": "code",
   "execution_count": 54,
   "metadata": {},
   "outputs": [
    {
     "name": "stdout",
     "output_type": "stream",
     "text": [
      "Probability of result at least this extreme by accident =  0.1064\n"
     ]
    }
   ],
   "source": [
    "import random\n",
    "\n",
    "numGames = 1273\n",
    "lyndsayWins = 666\n",
    "numTrials = 10000\n",
    "atLeast = 0\n",
    "\n",
    "for t in range(numTrials):\n",
    "    LWins, JWins = 0, 0\n",
    "    for g in range(numGames):\n",
    "        if random.random() < 0.5:\n",
    "            LWins += 1\n",
    "        else:\n",
    "            JWins += 1\n",
    "    if LWins >= lyndsayWins or JWins >= lyndsayWins:\n",
    "        atLeast += 1\n",
    "\n",
    "print('Probability of result at least this extreme by accident = ', atLeast/numTrials)"
   ]
  },
  {
   "cell_type": "markdown",
   "metadata": {},
   "source": [
    "“That’s pretty darned close to what my two-tailed test predicted,” crowed\n",
    "John. Lyndsay’s unladylike response was not appropriate for inclusion in a family-oriented book."
   ]
  },
  {
   "cell_type": "markdown",
   "metadata": {},
   "source": [
    "## 19.5 Which N ?"
   ]
  },
  {
   "cell_type": "markdown",
   "metadata": {},
   "source": [
    "A professor wondered whether attending lectures was correlated with grades in\n",
    "his department. He recruited 40 freshmen and gave them all ankle bracelets so\n",
    "that he could track their whereabouts. Half of the students were not allowed to\n",
    "attend any of the lectures in any of their classes,134 and half were required to attend all of the lectures.135 Over the next four years, each student took 40 different classes, yielding 800 grades for each group of students.\n",
    "\n",
    "When the professor performed a two-tailed t-test on the means of these two\n",
    "samples of size 800, the p-value was about 0.01. This disappointed the professor,\n",
    "who was hoping that there would be no statistically significant effect—so that he\n",
    "would feel less guilty about canceling lectures and going to the beach. In desperation, he took a look at the mean GPAs of the two groups, and discovered that there was very little difference. How, he wondered, could such a small difference\n",
    "in means be significant at that level?\n",
    "\n",
    "*__When the sample size is large enough, even a small effect can be highly statistically significant. I.e., N matters, a lot.__* Figure 19.10 plots the mean p-value of\n",
    "1000 trials against the size of the samples used in those trials. For each sample\n",
    "size and each trial we generated *__two samples. Each was was drawn from a Gaussian with a standard deviation of 5. One had a mean of 100 and the other a mean\n",
    "of 100.5. The mean p-value drops linearly with the sample size. The 0.5% difference in means becomes consistently statistically significant at the 5% level when\n",
    "the sample size reaches about 1500__*, and at the 1% level when the sample size exceeds about 2600."
   ]
  },
  {
   "cell_type": "markdown",
   "metadata": {},
   "source": [
    "![](sample_pval.jpg)"
   ]
  },
  {
   "cell_type": "markdown",
   "metadata": {},
   "source": [
    "Returning to our example, was the professor justified in using an N of 800 for\n",
    "each arm of his study? To put it another way, were there really 800 independent\n",
    "examples for each cohort of 20 students? Probably not. There were 800 grades\n",
    "per sample, but only 20 students, and the 40 grades associated with each student\n",
    "should probably not be viewed as independent examples. After all, some students\n",
    "consistently get good grades, and some students consistently get grades that disappoint.\n",
    "\n",
    "The professor decided to look at the data a different way. He computed the\n",
    "GPA for each student. When he performed a two-tailed t-test on these two samples, each of size 20, the p-value was about 0.3. He felt much better."
   ]
  },
  {
   "cell_type": "code",
   "execution_count": 55,
   "metadata": {},
   "outputs": [],
   "source": [
    "import pylab\n",
    "\n",
    "def variance(X):\n",
    "    \"\"\"Assumes that X is a list of numbers.\n",
    "       Return the variance of X.\"\"\"\n",
    "    mean = sum(X)/len(X)\n",
    "    tot = 0.0\n",
    "    for x in X:\n",
    "        tot += (x-mean)**2\n",
    "    return tot/len(X)\n",
    "\n",
    "def stdDev(X):\n",
    "    \"\"\"Assumes that X is a list of numbers.\n",
    "       Return the standard deviation of X.\"\"\"\n",
    "    return variance(X)**0.5\n",
    "\n",
    "def getBMData(filename):\n",
    "    \"\"\"Read the contents of the given file. Assumes the file\n",
    "    in a comma-separated format, with 6 elements in each entry:\n",
    "    0. Name (string), 1. Gender (string), 2. Age (int)\n",
    "    3. Division (int), 4. Country (string), 5. Overall time (float)\n",
    "    Returns: dict containing a list for each of the 6 variables.\"\"\"\n",
    "    \n",
    "    data = {} #create empty dictionary.\n",
    "    f = open(filename)\n",
    "    line = f.readline() #read the first line\n",
    "    \n",
    "    #create empty list for all 6 elements.\n",
    "    data['name'], data['gender'], data['age'] = [], [], []\n",
    "    data['division'], data['country'], data['time'] = [], [], []\n",
    "    \n",
    "    while line != '':\n",
    "        split = line.split(',') #create a list by separating wrt comma\n",
    "        data['name'].append(split[0])\n",
    "        data['gender'].append(split[1])\n",
    "        data['age'].append(int(split[2]))\n",
    "        data['division'].append(int(split[3]))\n",
    "        data['country'].append(split[4])\n",
    "        data['time'].append(float(split[5][:-1])) #remove \\n (omit last character)\n",
    "        line  = f.readline() #read the next line\n",
    "    \n",
    "    f.close()\n",
    "    return data"
   ]
  },
  {
   "cell_type": "code",
   "execution_count": 80,
   "metadata": {},
   "outputs": [
    {
     "name": "stdout",
     "output_type": "stream",
     "text": [
      "ITA and JPN have significantly different means, p-value = 0.025\n"
     ]
    }
   ],
   "source": [
    "from scipy import stats\n",
    "\n",
    "data = getBMData('bm_results2012.txt')\n",
    "countriesToCompare = ['BEL', 'BRA', 'FRA', 'JPN', 'ITA']\n",
    "\n",
    "#Build mapping from country to list of female finishing times\n",
    "countryTimes = {}\n",
    "for i in range(len(data['name'])): #for each racer\n",
    "    if data['country'][i] in countriesToCompare and data['gender'][i] == 'F':\n",
    "        try:\n",
    "            countryTimes[data['country'][i]].append(data['time'][i])\n",
    "        except KeyError:\n",
    "            countryTimes[data['country'][i]] = [data['time'][i]]\n",
    "            \n",
    "#Compare finishing times of countries\n",
    "for c1 in countriesToCompare:\n",
    "    for c2 in countriesToCompare:\n",
    "        if c1 < c2: # < rather than != so each pair examined once.\n",
    "            pVal = stats.ttest_ind(countryTimes[c1], countryTimes[c2], equal_var=False)[1]\n",
    "            if pVal < 0.05:\n",
    "                print(c1, 'and', c2, 'have significantly different means,', \n",
    "                      'p-value =', round(pVal,4))"
   ]
  },
  {
   "cell_type": "markdown",
   "metadata": {},
   "source": [
    "It looks as if either Italy or Japan can claim to have faster women runners\n",
    "than the other.136 However, such a conclusion would be pretty tenuous. While\n",
    "one set of runners did have a faster mean time than the other, *__the sample sizes(20 and 32) were small and perhaps not representative of the capabilities of\n",
    "women marathoners in each country.__*\n",
    "\n",
    "*__More important, there is a flaw in the way we constructed our experiment.\n",
    "We checked 10 null hypotheses (one for each distinct pair of countries), and discovered that one of them could be rejected at the 5% level.__* One way to think\n",
    "about it is that we were actually checking the null hypothesis: “for all pairs of\n",
    "countries, the mean finishing times of their female marathon runners are the\n",
    "same.” It might be fine to reject that null hypothesis, but that is not the same as\n",
    "rejecting the null hypothesis that women marathon runners from Italy and Japan\n",
    "are equally fast.\n",
    "\n",
    "The point is made starkly by the following example. In that example, we\n",
    "draw twenty pairs of samples of size 200 from the same population, and for each\n",
    "we test whether the means of the samples are statistically different."
   ]
  },
  {
   "cell_type": "code",
   "execution_count": 92,
   "metadata": {},
   "outputs": [
    {
     "name": "stdout",
     "output_type": "stream",
     "text": [
      "Number of statistically significant (p<0.05) results = 1\n"
     ]
    }
   ],
   "source": [
    "import random\n",
    "from scipy import stats\n",
    "\n",
    "numHyps = 20 #Number of hypothesis (multiple hypothesis)\n",
    "sampleSize = 30\n",
    "population = []\n",
    "\n",
    "#Create a large population.\n",
    "for i in range(5000): \n",
    "    population.append(random.gauss(0,1))\n",
    "    \n",
    "sample1s, sample2s = [], []\n",
    "for i in range(numHyps): #Generate many pair of small samples.\n",
    "    #Sample is in the form list of list\n",
    "    sample1s.append(random.sample(population, sampleSize))\n",
    "    sample2s.append(random.sample(population, sampleSize))\n",
    "    \n",
    "#Check pairs of statistically significant difference.\n",
    "numSig = 0\n",
    "for i in range(numHyps):\n",
    "    if scipy.stats.ttest_ind(sample1s[i], sample2s[i])[1] < 0.05:\n",
    "        numSig += 1\n",
    "\n",
    "print('Number of statistically significant (p<0.05) results =', numSig)"
   ]
  },
  {
   "cell_type": "markdown",
   "metadata": {},
   "source": [
    "Since the samples are all drawn from the same population, we know that the null\n",
    "hypothesis is true. Yet, when we run the code it prints\n",
    "\n",
    "    Number of statistically significant (p < 0.05) results = 1\n",
    "    \n",
    "indicating that the null hypothesis can be rejected for one pair.\n",
    "\n",
    "This is not particularly surprising. Recall that a p-value of 0.05 indicates that\n",
    "if the null hypothesis holds, the probability of seeing a difference in means at\n",
    "least as large as the difference for the two samples is 0.05.\tTherefore, *__it is not terribly surprising that if we examine twenty pairs of samples, at least one of them has means that are statistically significantly different from each other. Running\n",
    "large sets of related experiments, and then cherry-picking the result you like__*, can\n",
    "be kindly described as sloppy. An unkind person might call it something else.\n",
    "\n",
    "Returning to our Boston Marathon experiment, we checked whether or not\n",
    "we could reject the null hypothesis (no difference in means) for 10 pairs of samples. *__When running an experiment involving multiple hypotheses, the simplest\n",
    "and most conservative approach is to use something called the Bonferroni correction. The intuition behind it is simple: when checking a family of m hypotheses, one way of maintaining an appropriate family-wise error rate is to test each\n",
    "individual hypothesis at a level of $\\frac{1}{m} \\alpha$.__* Using the Bonferroni correction to see if\n",
    "the difference between Italy and Japan is significant at the 𝛼 = 0.05 level, we\n",
    "should check if the p-value is less that 0.05/10 i.e., 0.005—which it is not.\n",
    "\n",
    "*__The Bonferroni correction is conservative (i.e., it fails to reject the null hypothesis more often than necessary) if there are a large number of tests or the test\n",
    "statistics for the tests are positively correlated.__* An additional issue is the absence\n",
    "of a generally accepted definition of “family of hypotheses.” It is obvious that the\n",
    "hypotheses generated by the code in Figure 19.12 are related, and therefore a correction needs to be applied. But the situation is not always so clear cut."
   ]
  }
 ],
 "metadata": {
  "kernelspec": {
   "display_name": "Python 3",
   "language": "python",
   "name": "python3"
  },
  "language_info": {
   "codemirror_mode": {
    "name": "ipython",
    "version": 3
   },
   "file_extension": ".py",
   "mimetype": "text/x-python",
   "name": "python",
   "nbconvert_exporter": "python",
   "pygments_lexer": "ipython3",
   "version": "3.7.3"
  }
 },
 "nbformat": 4,
 "nbformat_minor": 2
}
