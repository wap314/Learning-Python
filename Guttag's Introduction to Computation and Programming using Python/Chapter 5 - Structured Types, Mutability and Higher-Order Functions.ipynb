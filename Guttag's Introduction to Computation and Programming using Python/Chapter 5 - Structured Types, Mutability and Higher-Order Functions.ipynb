{
 "cells": [
  {
   "cell_type": "markdown",
   "metadata": {},
   "source": [
    "# Chapter 5 - Structured Types, Mutability and Higher-Order Functions"
   ]
  },
  {
   "cell_type": "markdown",
   "metadata": {},
   "source": [
    "Thus far we have dealt with three types of objects: int, float and str. The numeric types int and float are scalar types, i.e. objects of these types have no accessible internal structure. In contrast, str can be thought of as a structured (non-scalar) type. One can use indexing to extract individual characters from a string and slicing to extract substrings.\n",
    "\n",
    "In this chapter, we introduce four additional structured types. One, tuple, is a rather simple generalization of str. The other three -list, range and dict- are more interesting."
   ]
  },
  {
   "cell_type": "markdown",
   "metadata": {},
   "source": [
    "## 5.1 Tuples\n",
    "\n",
    "*Like strings, tuples are immutable ordered sequence of elements. The difference is that the elements of a tuple need not be characters. The individual elements can be of any type, and need not be of the same type as each other.*\n",
    "\n",
    "Literals of type tuple are written by enclosing a comma-separated list of elements within parentheses. For example, we can write:"
   ]
  },
  {
   "cell_type": "code",
   "execution_count": 1,
   "metadata": {},
   "outputs": [
    {
     "name": "stdout",
     "output_type": "stream",
     "text": [
      "()\n",
      "(1, 'two', 3)\n"
     ]
    }
   ],
   "source": [
    "t1 = ()\n",
    "t2 = (1,'two',3)\n",
    "\n",
    "print(t1)\n",
    "print(t2)"
   ]
  },
  {
   "cell_type": "markdown",
   "metadata": {},
   "source": [
    "Repetition can be used on tuples."
   ]
  },
  {
   "cell_type": "code",
   "execution_count": 2,
   "metadata": {},
   "outputs": [
    {
     "name": "stdout",
     "output_type": "stream",
     "text": [
      "('a', 2, 'a', 2, 'a', 2)\n"
     ]
    }
   ],
   "source": [
    "t3 = 3*('a',2)\n",
    "print(t3)"
   ]
  },
  {
   "cell_type": "markdown",
   "metadata": {},
   "source": [
    "Like strings, tuple can be concatenated, indexed and sliced. Consider"
   ]
  },
  {
   "cell_type": "code",
   "execution_count": 3,
   "metadata": {},
   "outputs": [
    {
     "name": "stdout",
     "output_type": "stream",
     "text": [
      "t2 = ((1, '2', 3), 3.14)\n",
      "(t1+t2) = (1, '2', 3, (1, '2', 3), 3.14)\n",
      "(t1+t2)[3] = (1, '2', 3)\n",
      "(t1+t2)[2:5] = (3, (1, '2', 3), 3.14)\n"
     ]
    }
   ],
   "source": [
    "t1 = (1,'2',3)\n",
    "t2 = (t1, 3.14)\n",
    "\n",
    "print('t2 =',t2)\n",
    "print('(t1+t2) =',(t1+t2))\n",
    "print('(t1+t2)[3] =',(t1+t2)[3])\n",
    "print('(t1+t2)[2:5] =',(t1+t2)[2:5])"
   ]
  },
  {
   "cell_type": "markdown",
   "metadata": {},
   "source": [
    "A for statement can be used to iterate over the elements of a tuple:"
   ]
  },
  {
   "cell_type": "code",
   "execution_count": 4,
   "metadata": {},
   "outputs": [],
   "source": [
    "def intersect(t1,t2):\n",
    "    \"\"\"Assume t1 and t2 are tuples. Return a tuple containing elements that are in both t1 and t2.\"\"\"\n",
    "    result = ()\n",
    "    for e in t1:\n",
    "        if e in t2:\n",
    "            result += (e,)\n",
    "    \n",
    "    return result"
   ]
  },
  {
   "cell_type": "code",
   "execution_count": 5,
   "metadata": {},
   "outputs": [
    {
     "data": {
      "text/plain": [
       "(2,)"
      ]
     },
     "execution_count": 5,
     "metadata": {},
     "output_type": "execute_result"
    }
   ],
   "source": [
    "t1 = (1,2,'abc')\n",
    "t2 = ('sdc',5,2)\n",
    "\n",
    "intersect(t1,t2)"
   ]
  },
  {
   "cell_type": "markdown",
   "metadata": {},
   "source": [
    "### 5.1.1 Sequences and Multiple Assignment\n",
    "\n",
    "*If you know the length of a sequence (tuple or string), it can be convenient to use Python's multiple assignment statement to extract the individual elements*.\n",
    "\n",
    "This mechanism is particularly convenient when used in conjunction with function that return fixed-size sequences. Consider, for example the following function definition:"
   ]
  },
  {
   "cell_type": "code",
   "execution_count": 1,
   "metadata": {},
   "outputs": [],
   "source": [
    "def findExtremeDivisors(n1,n2):\n",
    "    \"\"\"Assume that both n1>0 and n2>0 are integers. Returns a tuple\n",
    "    containing the smallest common divisor > 1 and the largest common\n",
    "    divisor of n1 and n2. If no common divisor, returns (None,None).\"\"\"\n",
    "    minVal, maxVal = None, None\n",
    "    \n",
    "    for i in range(2, min(n1,n2)+1):\n",
    "        if n1%i == 0 and n2%i == 0:\n",
    "            if minVal == None:\n",
    "                #if we don't have minVal yet, then i is minVal.\n",
    "                minVal = i\n",
    "            #if minVal already exist, then i is maxVal.\n",
    "            maxVal = i\n",
    "    return (minVal,maxVal)"
   ]
  },
  {
   "cell_type": "markdown",
   "metadata": {},
   "source": [
    "The multiple assignment statement:"
   ]
  },
  {
   "cell_type": "code",
   "execution_count": 2,
   "metadata": {},
   "outputs": [],
   "source": [
    "minDivisor, maxDivisor = findExtremeDivisors(100,200)"
   ]
  },
  {
   "cell_type": "markdown",
   "metadata": {},
   "source": [
    "will bind minDivisor to 2 and maxDivisor to 100"
   ]
  },
  {
   "cell_type": "code",
   "execution_count": 3,
   "metadata": {},
   "outputs": [
    {
     "name": "stdout",
     "output_type": "stream",
     "text": [
      "2 , 100\n"
     ]
    }
   ],
   "source": [
    "print(minDivisor,',',maxDivisor)"
   ]
  },
  {
   "cell_type": "markdown",
   "metadata": {},
   "source": [
    "## 5.3 Ranges\n",
    "\n",
    "*Like string and tuple , ranges are immutable. The range function returns an object of type range.* The range function takes three integer argument: start, stop and step, and returns the progression of integers start, start+step, start+2.step, etc. If step>0, the last element is the largest integer start+i.step less than stop. If step is negative, the last element is the smallest integer start+i.step greater than stop. If only two arguments are supplied, a step of 1 is used. If only one argument is supplied, that argument is the stop, start default to 0, and step default to 1.\n",
    "\n",
    "All of the operations on tuples are also available for ranges, except for concatenation and repetition. For example:"
   ]
  },
  {
   "cell_type": "code",
   "execution_count": 10,
   "metadata": {},
   "outputs": [
    {
     "data": {
      "text/plain": [
       "4"
      ]
     },
     "execution_count": 10,
     "metadata": {},
     "output_type": "execute_result"
    }
   ],
   "source": [
    "range(10)[2:6][2]"
   ]
  },
  {
   "cell_type": "markdown",
   "metadata": {},
   "source": [
    "When the == operator is used to compare objects of type range, it returns True if the two ranges represent the same sequence of integers. For example:"
   ]
  },
  {
   "cell_type": "code",
   "execution_count": 11,
   "metadata": {},
   "outputs": [
    {
     "data": {
      "text/plain": [
       "True"
      ]
     },
     "execution_count": 11,
     "metadata": {},
     "output_type": "execute_result"
    }
   ],
   "source": [
    "range(0,7,2) == range(0,8,2)"
   ]
  },
  {
   "cell_type": "markdown",
   "metadata": {},
   "source": [
    "However"
   ]
  },
  {
   "cell_type": "code",
   "execution_count": 12,
   "metadata": {},
   "outputs": [
    {
     "data": {
      "text/plain": [
       "False"
      ]
     },
     "execution_count": 12,
     "metadata": {},
     "output_type": "execute_result"
    }
   ],
   "source": [
    "range(0,7,2) == range(6,-1,-2)"
   ]
  },
  {
   "cell_type": "markdown",
   "metadata": {},
   "source": [
    "because though the two ranges contain the same integers,\n",
    "they occur in a different order.\n",
    "\n",
    "The most common use of range is in for loops, but objects of type range can be used anywhere a sequence of integers can be used."
   ]
  },
  {
   "cell_type": "markdown",
   "metadata": {},
   "source": [
    "## 5.3 List and Mutability\n",
    "\n",
    "Like a tuple, a list is an ordered sequence of values, where each values is identified by an index. The syntax for expressing literal of type list is similar to that used for tuples; the difference is that we use square brackets rather than parentheses. The empty list is written as [ ], and singleton list are written without that comma before the closing bracket. So, for example:"
   ]
  },
  {
   "cell_type": "code",
   "execution_count": 13,
   "metadata": {},
   "outputs": [
    {
     "name": "stdout",
     "output_type": "stream",
     "text": [
      "I did it all\n",
      "4\n",
      "love\n"
     ]
    }
   ],
   "source": [
    "L = ['I did it all', 4, 'love']\n",
    "\n",
    "for i in range(len(L)):\n",
    "    print(L[i])"
   ]
  },
  {
   "cell_type": "code",
   "execution_count": 25,
   "metadata": {},
   "outputs": [
    {
     "name": "stdout",
     "output_type": "stream",
     "text": [
      "I did it all\n",
      "4\n",
      "love\n"
     ]
    }
   ],
   "source": [
    "L = ['I did it all', 4, 'love']\n",
    "\n",
    "for _ in range(len(L)):\n",
    "    print(L[_])"
   ]
  },
  {
   "cell_type": "markdown",
   "metadata": {},
   "source": [
    "Occasionally, the fact that square brackets are used for literals of type list, indexing into list and slicing list can lead to some visual confusion. For example:"
   ]
  },
  {
   "cell_type": "code",
   "execution_count": null,
   "metadata": {},
   "outputs": [],
   "source": [
    "[1,2,3,4][1:3][1]"
   ]
  },
  {
   "cell_type": "markdown",
   "metadata": {},
   "source": [
    "Lists differ from tuples in one hugely important way: list are mutable. In contrast, tuples and strings are immutable. Objects of immutable types cannot be modified. On the other hand, objects of type list can be modified after they are created.\n",
    "\n",
    "The distinction between mutating an object and assigning an object to a variable may appear subtle. However, if you keep repeating the mantra, \"In Python a variable is merely a name, i.e. a label that can be attached to an object,\" it will brings you to clarity.\n",
    "\n",
    "When the statements:"
   ]
  },
  {
   "cell_type": "code",
   "execution_count": 15,
   "metadata": {},
   "outputs": [
    {
     "name": "stdout",
     "output_type": "stream",
     "text": [
      "['MIT', 'Caltech']\n",
      "['Harvard', 'Yale', 'Brown']\n"
     ]
    }
   ],
   "source": [
    "Techs = ['MIT','Caltech']\n",
    "Ivys = ['Harvard','Yale','Brown']\n",
    "\n",
    "print(Techs)\n",
    "print(Ivys)"
   ]
  },
  {
   "cell_type": "markdown",
   "metadata": {},
   "source": [
    "are executed, the interpreter creates two new lists and binds the appropriate variables to them, as pictured in figure below:"
   ]
  },
  {
   "cell_type": "markdown",
   "metadata": {},
   "source": [
    "![](two_lists.jpg)"
   ]
  },
  {
   "cell_type": "markdown",
   "metadata": {},
   "source": [
    "The assignments statements:"
   ]
  },
  {
   "cell_type": "code",
   "execution_count": 16,
   "metadata": {},
   "outputs": [
    {
     "name": "stdout",
     "output_type": "stream",
     "text": [
      "[['MIT', 'Caltech'], ['Harvard', 'Yale', 'Brown']]\n",
      "[['MIT', 'Caltech'], ['Harvard', 'Yale', 'Brown']]\n"
     ]
    }
   ],
   "source": [
    "Univs = [Techs, Ivys]\n",
    "Univs1 = [['MIT','Caltech'],['Harvard','Yale','Brown']]\n",
    "\n",
    "print(Univs)\n",
    "print(Univs1)"
   ]
  },
  {
   "cell_type": "markdown",
   "metadata": {},
   "source": [
    "also create new lists and bind variables to them. The elements of these lists are themselves lists. The three print statements:"
   ]
  },
  {
   "cell_type": "code",
   "execution_count": 3,
   "metadata": {},
   "outputs": [
    {
     "name": "stdout",
     "output_type": "stream",
     "text": [
      "Univs = [['MIT', 'Caltech'], ['Harvard', 'Yale', 'Brown']]\n",
      "Univs1 = [['MIT', 'Caltech'], ['Harvard', 'Yale', 'Brown']]\n",
      "True\n"
     ]
    }
   ],
   "source": [
    "print('Univs =', Univs)\n",
    "print('Univs1 =', Univs1)\n",
    "print(Univs == Univs1)"
   ]
  },
  {
   "cell_type": "markdown",
   "metadata": {},
   "source": [
    "It appears as if Univs and Univs1 are bound to the same value. But appearance can be deceiving. As the next figure illustrates, Univs and Univs1 are bound to quite different values."
   ]
  },
  {
   "cell_type": "markdown",
   "metadata": {},
   "source": [
    "![](same_lists.jpg)"
   ]
  },
  {
   "cell_type": "markdown",
   "metadata": {},
   "source": [
    "That Univs and Univs1 are bound to different objects can be verified using the built-in Python function id, which returns a unique integer identifier for an object. This function allows us to test object equality. When we run the following code:"
   ]
  },
  {
   "cell_type": "code",
   "execution_count": 4,
   "metadata": {},
   "outputs": [
    {
     "name": "stdout",
     "output_type": "stream",
     "text": [
      "True\n",
      "False\n",
      "id of Univs = 1576167825992\n",
      "id of Univs1 = 1576167826248\n"
     ]
    }
   ],
   "source": [
    "print(Univs == Univs1)           #test value equality\n",
    "print(id(Univs) == id(Univs1))   #test object equality\n",
    "print('id of Univs =',id(Univs))\n",
    "print('id of Univs1 =', id(Univs1))"
   ]
  },
  {
   "cell_type": "markdown",
   "metadata": {},
   "source": [
    "Notice that the elements of Univs are not copies of the lists to which Techs and Ivys are bound, but are rather the lists themselves. The elements of Univs1 are list that contain the same elements as the lists in Univs, but they are not the same lists. We can see this by running the code:"
   ]
  },
  {
   "cell_type": "code",
   "execution_count": 5,
   "metadata": {},
   "outputs": [
    {
     "name": "stdout",
     "output_type": "stream",
     "text": [
      "Ids of Univs[0] and Univs[1] 1576167825800 1576167784264\n",
      "Ids of Univs1[0] and Univs1[1] 1576167826504 1576167826120\n"
     ]
    }
   ],
   "source": [
    "print('Ids of Univs[0] and Univs[1]', id(Univs[0]), id(Univs[1]))\n",
    "print('Ids of Univs1[0] and Univs1[1]', id(Univs1[0]), id(Univs1[1]))"
   ]
  },
  {
   "cell_type": "markdown",
   "metadata": {},
   "source": [
    "Why does this matter? It matter because lists are mutable. Consider the code:"
   ]
  },
  {
   "cell_type": "code",
   "execution_count": 17,
   "metadata": {},
   "outputs": [
    {
     "name": "stdout",
     "output_type": "stream",
     "text": [
      "['MIT', 'Caltech', 'RPI']\n"
     ]
    }
   ],
   "source": [
    "Techs.append('RPI')\n",
    "print(Techs)"
   ]
  },
  {
   "cell_type": "markdown",
   "metadata": {},
   "source": [
    "The append method has a side effect. Rather create a new list, it mutate the existing list Techs by adding a new element. the string 'RPI', to the end of it. The following figure depicts the state of the computation after append is executed."
   ]
  },
  {
   "cell_type": "markdown",
   "metadata": {},
   "source": [
    "![](append_list.jpg)"
   ]
  },
  {
   "cell_type": "markdown",
   "metadata": {},
   "source": [
    "The object to which Univs is bound still contains the same two lists, but the content of one of those list has been changed. Consequently, the print statements:"
   ]
  },
  {
   "cell_type": "code",
   "execution_count": 7,
   "metadata": {},
   "outputs": [
    {
     "name": "stdout",
     "output_type": "stream",
     "text": [
      "Univs = [['MIT', 'Caltech', 'RPI'], ['Harvard', 'Yale', 'Brown']]\n",
      "Univs1 = [['MIT', 'Caltech'], ['Harvard', 'Yale', 'Brown']]\n"
     ]
    }
   ],
   "source": [
    "print('Univs =', Univs)\n",
    "print('Univs1 =', Univs1)"
   ]
  },
  {
   "cell_type": "markdown",
   "metadata": {},
   "source": [
    "What we have here is something called aliasing. There are two distinct paths to the same list object. One path is through the variable Techs and the other through the first element of the list object to which Univs is bound. One can mutate the object via either path, and the effect of the mutation will be visible through both paths. Unintentional aliasing leads to programming errors that are often enormously hard to track down.\n",
    "\n",
    "As with tuples, a for statement can be used to iterate over the elements of a list. For example:"
   ]
  },
  {
   "cell_type": "code",
   "execution_count": 23,
   "metadata": {},
   "outputs": [
    {
     "name": "stdout",
     "output_type": "stream",
     "text": [
      "Univs = [['MIT', 'Caltech', 'RPI'], ['Harvard', 'Yale', 'Brown']]\n",
      "Univs contain ['MIT', 'Caltech', 'RPI']\n",
      "which contains\n",
      "      MIT\n",
      "      Caltech\n",
      "      RPI\n",
      "Univs contain ['Harvard', 'Yale', 'Brown']\n",
      "which contains\n",
      "      Harvard\n",
      "      Yale\n",
      "      Brown\n"
     ]
    }
   ],
   "source": [
    "print('Univs =',Univs)\n",
    "\n",
    "for e in Univs:\n",
    "    print('Univs contain',e)\n",
    "    print('which contains')\n",
    "    \n",
    "    for u in e:\n",
    "        print('     ',u)"
   ]
  },
  {
   "cell_type": "markdown",
   "metadata": {},
   "source": [
    "When we append one list to another, e.g. Tech.append(Ivys), the original structure is maintained, i.e. the result is a list that contain a list. Suppose we do not want to maintain this structure, but want to add the elements of one list into another list. We can do that by using list concatenation or the extent method."
   ]
  },
  {
   "cell_type": "code",
   "execution_count": 26,
   "metadata": {},
   "outputs": [
    {
     "name": "stdout",
     "output_type": "stream",
     "text": [
      "L3 = [1, 2, 3, 4, 5, 6]\n",
      "L1 = [1, 2, 3, 4, 5, 6]\n",
      "L1 = [1, 2, 3, 4, 5, 6, [4, 5, 6]]\n"
     ]
    }
   ],
   "source": [
    "L1 = [1,2,3]\n",
    "L2 = [4,5,6]\n",
    "L3 = L1+L2\n",
    "print('L3 =',L3)\n",
    "\n",
    "L1.extend(L2)    #extend element of L1 with those element of L2\n",
    "print('L1 =',L1)\n",
    "\n",
    "L1.append(L2)    #L2 become an element of L1\n",
    "print('L1 =',L1)"
   ]
  },
  {
   "cell_type": "markdown",
   "metadata": {},
   "source": [
    "Note that operator + creates a new list and return it. In contrast, extend and append each mutated L1.\n",
    "\n",
    "The following figure contains some short description of some of the methods associated with list. All of these mutate the list, except count and index."
   ]
  },
  {
   "cell_type": "markdown",
   "metadata": {},
   "source": [
    "![](list_methods.jpg)"
   ]
  },
  {
   "cell_type": "markdown",
   "metadata": {},
   "source": [
    "### 5.3.1 Cloning\n",
    "\n",
    "It is usually prudent to avoid mutating a list over which one is iterating. Consider, for example, the code:"
   ]
  },
  {
   "cell_type": "code",
   "execution_count": 11,
   "metadata": {},
   "outputs": [],
   "source": [
    "def removeDups(L1,L2):\n",
    "    \"\"\"Assumes that L1 and L2 are lists. Removes any element in L1 that also occurs in L2.\"\"\"\n",
    "    for e1 in L1:\n",
    "        if e1 in L2:\n",
    "            L1.remove(e1)"
   ]
  },
  {
   "cell_type": "code",
   "execution_count": 12,
   "metadata": {},
   "outputs": [
    {
     "name": "stdout",
     "output_type": "stream",
     "text": [
      "L1 = [2, 3, 4]\n"
     ]
    }
   ],
   "source": [
    "L1 = [1,2,3,4]\n",
    "L2 = [1,2,5,6]\n",
    "removeDups(L1,L2)\n",
    "print('L1 =',L1)"
   ]
  },
  {
   "cell_type": "markdown",
   "metadata": {},
   "source": [
    "You might surprised to see the result. This happen when the list is modified within the loop. "
   ]
  },
  {
   "cell_type": "markdown",
   "metadata": {},
   "source": [
    "### 5.3.2 List Comprehension\n",
    "\n",
    "List comprehension provides a concise way to apply an operation to the values in a sequence. It creates a new list in which each element is the result of applying a given operation to a value from a sequence . For example:"
   ]
  },
  {
   "cell_type": "code",
   "execution_count": 14,
   "metadata": {},
   "outputs": [
    {
     "name": "stdout",
     "output_type": "stream",
     "text": [
      "[1, 4, 9, 16, 25, 36]\n"
     ]
    }
   ],
   "source": [
    "L = [x**2 for x in range(1,7)]\n",
    "print(L)"
   ]
  },
  {
   "cell_type": "code",
   "execution_count": 28,
   "metadata": {},
   "outputs": [
    {
     "name": "stdout",
     "output_type": "stream",
     "text": [
      "[0, 2, 4, 6, 8]\n"
     ]
    }
   ],
   "source": [
    "L = [2*x for x in range(5)]\n",
    "print(L)"
   ]
  },
  {
   "cell_type": "code",
   "execution_count": 30,
   "metadata": {},
   "outputs": [
    {
     "name": "stdout",
     "output_type": "stream",
     "text": [
      "[0, 1, 2]\n"
     ]
    }
   ],
   "source": [
    "L = [x for x in range(3)]\n",
    "print(L)"
   ]
  },
  {
   "cell_type": "code",
   "execution_count": 6,
   "metadata": {},
   "outputs": [
    {
     "data": {
      "text/plain": [
       "[1, 4, 9, 16, 25]"
      ]
     },
     "execution_count": 6,
     "metadata": {},
     "output_type": "execute_result"
    }
   ],
   "source": [
    "L1 = [1,2,3,4,5]\n",
    "L2 = [x**2 for x in L1]\n",
    "L2"
   ]
  },
  {
   "cell_type": "markdown",
   "metadata": {},
   "source": [
    "The for clause in a list comprehension can be followed by one or more if and for statements that are applied to the values produced by the for clause. These additional clauses modify the sequence of values generated by the first for clause and produce a new sequence of values, to which the operation associated with the comprehension is applied. For example, the code :"
   ]
  },
  {
   "cell_type": "code",
   "execution_count": 15,
   "metadata": {},
   "outputs": [
    {
     "name": "stdout",
     "output_type": "stream",
     "text": [
      "[1, 4, 9]\n"
     ]
    }
   ],
   "source": [
    "mixed = [1,2,'a',3,4.0]\n",
    "O = [x**2 for x in mixed if type(x) == int]\n",
    "print(O)"
   ]
  },
  {
   "cell_type": "markdown",
   "metadata": {},
   "source": [
    "## Functions as Objects\n",
    "\n",
    "*In Python, functions are __first-class objects__. That means that they can be treated as like objects of any other type, e.g. int or list. Using functions as arguments allows a style of coding called higher-order programming.* It can be particularly convenient in conjunction with list.\n",
    "\n",
    "Below is an example of applying a function to element of a list:"
   ]
  },
  {
   "cell_type": "code",
   "execution_count": 7,
   "metadata": {},
   "outputs": [],
   "source": [
    "def applyToEach(L,f):\n",
    "    \"\"\"Assumes L is a list, while f is a function. \n",
    "    Mutates L by replacing each element , e, of L by f(e).\"\"\"\n",
    "    for i in range(len(L)):\n",
    "        L[i] = f(L[i])"
   ]
  },
  {
   "cell_type": "code",
   "execution_count": 32,
   "metadata": {},
   "outputs": [],
   "source": [
    "def mapping(f,L):\n",
    "    for i in range(len(L)):\n",
    "        L[i] = f(L[i])"
   ]
  },
  {
   "cell_type": "code",
   "execution_count": 33,
   "metadata": {},
   "outputs": [],
   "source": [
    "#Recursive implementation of factorial function.\n",
    "def factR(n):\n",
    "    \"\"\"Assumes n>0 an int. Returns n! by recursive method.\"\"\"\n",
    "    if n==1:\n",
    "        #base case.\n",
    "        return n\n",
    "    else:\n",
    "        #recursive case.\n",
    "        return n*factR(n-1)\n",
    "\n",
    "#Recursive implementation of Fibonacci sequence.\n",
    "def fib(n):\n",
    "    \"\"\"Assumes n>=0 is an integer. Returns Fibonacci of n.\"\"\"\n",
    "    if n==0 or n==1:\n",
    "        #base case.\n",
    "        return 1\n",
    "    else:\n",
    "        #recursive case.\n",
    "        return fib(n-1) + fib(n-2)"
   ]
  },
  {
   "cell_type": "code",
   "execution_count": 10,
   "metadata": {},
   "outputs": [
    {
     "name": "stdout",
     "output_type": "stream",
     "text": [
      "L = [1, -2, 3.33]\n",
      "Apply abs to each element of L.\n",
      "L = [1, 2, 3.33]\n",
      "Apply int to each element of [1, 2, 3.33]\n",
      "L = [1, 2, 3]\n",
      "Apply factorial to each element of [1, 2, 3]\n",
      "L = [1, 2, 6]\n",
      "Apply Fibonacci to each element of [1, 2, 6]\n",
      "L = [1, 2, 13]\n"
     ]
    }
   ],
   "source": [
    "L = [1,-2,3.33]\n",
    "print('L =', L)\n",
    "\n",
    "print('Apply abs to each element of L.')\n",
    "applyToEach(L,abs)\n",
    "print('L =', L)\n",
    "\n",
    "print('Apply int to each element of', L)\n",
    "applyToEach(L,int)\n",
    "print('L =', L)\n",
    "\n",
    "print('Apply factorial to each element of', L)\n",
    "applyToEach(L, factR)\n",
    "print('L =', L)\n",
    "\n",
    "print('Apply Fibonacci to each element of', L)\n",
    "applyToEach(L, fib)\n",
    "print('L =', L)"
   ]
  },
  {
   "cell_type": "code",
   "execution_count": 35,
   "metadata": {},
   "outputs": [
    {
     "name": "stdout",
     "output_type": "stream",
     "text": [
      "L = [1, 2, 3.33]\n",
      "L = [1, 2, 3]\n"
     ]
    }
   ],
   "source": [
    "L = [1,-2,3.33]\n",
    "\n",
    "mapping(abs,L)\n",
    "print('L =', L)\n",
    "\n",
    "mapping(int,L)\n",
    "print('L =', L)"
   ]
  },
  {
   "cell_type": "markdown",
   "metadata": {},
   "source": [
    "*The function applyToEach is called higher-order because it has an argument that is itself a function. Python has built in higher order function, __map__, that is similar to, but more general than, the applyToEach function. It is designed to be used in conjunction with a for loop.* In its simplest form, the first argument to map is a unary function (function that has only one parameter) and the second argument is any ordered collection of values suitable as arguments to the first argument. \n",
    "\n",
    "When used in a for loop, map behaves like the range function in that it returns one value for each iteration of the loop. These values are generated by applying the first argument to each element of the second argument. For example, the code:"
   ]
  },
  {
   "cell_type": "code",
   "execution_count": 36,
   "metadata": {},
   "outputs": [
    {
     "name": "stdout",
     "output_type": "stream",
     "text": [
      "2\n",
      "13\n",
      "5\n"
     ]
    }
   ],
   "source": [
    "for i in map(fib,[2,6,4]):\n",
    "    print(i)"
   ]
  },
  {
   "cell_type": "code",
   "execution_count": 38,
   "metadata": {},
   "outputs": [
    {
     "name": "stdout",
     "output_type": "stream",
     "text": [
      "1\n",
      "2\n",
      "3\n"
     ]
    }
   ],
   "source": [
    "for i in map(abs,[-1,-2,-3]):\n",
    "    print(i)"
   ]
  },
  {
   "cell_type": "markdown",
   "metadata": {},
   "source": [
    "More generally, the first argument to map can be a function of n arguments, in which case it must be followed by n subsequent ordered collections (each of the same length). For example, the code:"
   ]
  },
  {
   "cell_type": "code",
   "execution_count": 35,
   "metadata": {},
   "outputs": [
    {
     "name": "stdout",
     "output_type": "stream",
     "text": [
      "1\n",
      "28\n",
      "9\n"
     ]
    }
   ],
   "source": [
    "L1 = [1,28,36]\n",
    "L2 = [2,57,9]\n",
    "\n",
    "for i in map(min,L1,L2):\n",
    "    print(i)"
   ]
  },
  {
   "cell_type": "markdown",
   "metadata": {},
   "source": [
    "Python support the creation of __anonymous function__ (*functions that are not bound to a name*), using the reserved word lambda. The general form of lambda expression is:\n",
    "\n",
    "lambda <sequence of variable names>: <expression>"
   ]
  },
  {
   "cell_type": "markdown",
   "metadata": {},
   "source": [
    "![](lambda_expression.jpg)"
   ]
  },
  {
   "cell_type": "markdown",
   "metadata": {},
   "source": [
    "For example, the lambda expression lambda x,y : xy returns a function that returns the product of its two arguments. Lambda expressions are frequently used as arguments to higher-order functions. For example, the code:"
   ]
  },
  {
   "cell_type": "code",
   "execution_count": 19,
   "metadata": {},
   "outputs": [
    {
     "name": "stdout",
     "output_type": "stream",
     "text": [
      "[1, 4, 3, 1]\n"
     ]
    }
   ],
   "source": [
    "L = []\n",
    "\n",
    "for i in map(lambda x,y: x**y, [1,2,3,4], [3,2,1,0]):\n",
    "    L.append(i)\n",
    "    \n",
    "print(L)"
   ]
  },
  {
   "cell_type": "code",
   "execution_count": 42,
   "metadata": {},
   "outputs": [
    {
     "name": "stdout",
     "output_type": "stream",
     "text": [
      "[1, 2, 4]\n"
     ]
    }
   ],
   "source": [
    "L = [] # empty list\n",
    "\n",
    "for i in map(lambda x: 2**x, range(3)):\n",
    "    L.append(i)\n",
    "    \n",
    "print(L)"
   ]
  },
  {
   "cell_type": "code",
   "execution_count": 48,
   "metadata": {},
   "outputs": [
    {
     "name": "stdout",
     "output_type": "stream",
     "text": [
      "[2, 4, 6, 8, 10]\n"
     ]
    }
   ],
   "source": [
    "#Create list of even number\n",
    "L = []\n",
    "\n",
    "for i in map(lambda x: 2*x, range(1,6)):\n",
    "    L.append(i)\n",
    "    \n",
    "print(L)"
   ]
  },
  {
   "cell_type": "code",
   "execution_count": 49,
   "metadata": {},
   "outputs": [
    {
     "name": "stdout",
     "output_type": "stream",
     "text": [
      "[1, 3, 5, 7, 9, 11]\n"
     ]
    }
   ],
   "source": [
    "#Create list of odd number\n",
    "L = []\n",
    "\n",
    "for i in map(lambda x: 2*x+1, range(6)):\n",
    "    L.append(i)\n",
    "    \n",
    "print(L)"
   ]
  },
  {
   "cell_type": "markdown",
   "metadata": {},
   "source": [
    "## Strings, Tuples, Ranges and Lists\n",
    "\n",
    "We have looked at four different sequences type: str, tuple range and list. They are similar in that objects of these types can be operated upon as described in the following figure:"
   ]
  },
  {
   "cell_type": "markdown",
   "metadata": {},
   "source": [
    "![](similar.jpg)"
   ]
  },
  {
   "cell_type": "markdown",
   "metadata": {},
   "source": [
    "Differences is summarized as follows: "
   ]
  },
  {
   "cell_type": "markdown",
   "metadata": {},
   "source": [
    "![](differences.jpg)"
   ]
  },
  {
   "cell_type": "markdown",
   "metadata": {},
   "source": [
    "Since lists are mutable, they can be constructed incrementally during a computation. The following code incrementally builds a list containing all of the even numbers in another list."
   ]
  },
  {
   "cell_type": "code",
   "execution_count": 32,
   "metadata": {},
   "outputs": [
    {
     "name": "stdout",
     "output_type": "stream",
     "text": [
      "L = [1, 2, 3, 4]\n",
      "evenElems = [2, 4]\n"
     ]
    }
   ],
   "source": [
    "L = [1,2,3,4]\n",
    "print('L =', L)\n",
    "evenElems = []\n",
    "\n",
    "for e in L:\n",
    "    if e%2 == 0:\n",
    "        evenElems.append(e)\n",
    "        \n",
    "print('evenElems =', evenElems)"
   ]
  },
  {
   "cell_type": "markdown",
   "metadata": {},
   "source": [
    "One advantage of tuples is that because they are immutable, aliasing is never a worry. Another advantage of their being immutable is that tuples, unlike lists, can be used as keys in dictionaries, as we will see in the next section.\n",
    "\n",
    "Since strings can contain only characters, they are considerably less versatile than tuples or list. On the other hand, when you are working with string of characters there are many built-in methods that make life easy. The following figure contains short description of a few of them. Since string are immutable these all return values and have no side effect."
   ]
  },
  {
   "cell_type": "markdown",
   "metadata": {},
   "source": [
    "![](string_methods.jpg)"
   ]
  },
  {
   "cell_type": "markdown",
   "metadata": {},
   "source": [
    "One of useful built-in method is split, which takes two strings as arguments. The second argument specifies a separator that is used to split the first argument into a sequence of substrings. For example:"
   ]
  },
  {
   "cell_type": "code",
   "execution_count": 9,
   "metadata": {},
   "outputs": [
    {
     "name": "stdout",
     "output_type": "stream",
     "text": [
      "['My', 'favourite', 'Professor--John', 'Dalton--rocks!']\n",
      "['My favourite Professor', '', 'John Dalton', '', 'rocks!']\n",
      "['My favourite Professor', 'John Dalton', 'rocks!']\n"
     ]
    }
   ],
   "source": [
    "print('My favourite Professor--John Dalton--rocks!'.split(' '))\n",
    "print('My favourite Professor--John Dalton--rocks!'.split('-'))\n",
    "print('My favourite Professor--John Dalton--rocks!'.split('--'))"
   ]
  },
  {
   "cell_type": "markdown",
   "metadata": {},
   "source": [
    "The second argument is optional. If that argument is omitted the first string is splitted using arbitrary strings of whitespace characters (space, tab, newline, return and formfeed)."
   ]
  },
  {
   "cell_type": "markdown",
   "metadata": {},
   "source": [
    "## 5.6 Dictionaries\n",
    "\n",
    "Objects of type dict (short for dictionary) are like lists except that we index them using keys. Think of dictionary as key/value pairs. Literals of type dict are enclosed in curly braces, and each element is written as a key followed by a colon followed by a value. For example, the code :"
   ]
  },
  {
   "cell_type": "code",
   "execution_count": 50,
   "metadata": {},
   "outputs": [
    {
     "name": "stdout",
     "output_type": "stream",
     "text": [
      "{'Jan': 1, 'Feb': 2, 'Mar': 3, 'Apr': 4, 'May': 5, 1: 'Jan', 2: 'Feb', 3: 'Mar', 4: 'Apr', 5: 'May'}\n",
      "The third month is Mar\n",
      "Apr and Jan are 3 months apart.\n"
     ]
    }
   ],
   "source": [
    "monthNumbers = {'Jan':1, 'Feb':2, 'Mar':3, 'Apr':4, 'May':5, 1:'Jan', 2:'Feb', 3:'Mar', 4:'Apr', 5:'May'}\n",
    "print(monthNumbers)\n",
    "print('The third month is',monthNumbers[3])\n",
    "\n",
    "dist = monthNumbers['Apr'] - monthNumbers['Jan']\n",
    "print('Apr and Jan are', dist, 'months apart.')"
   ]
  },
  {
   "cell_type": "code",
   "execution_count": 52,
   "metadata": {},
   "outputs": [
    {
     "data": {
      "text/plain": [
       "'Jan'"
      ]
     },
     "execution_count": 52,
     "metadata": {},
     "output_type": "execute_result"
    }
   ],
   "source": [
    "monthNumbers[1]"
   ]
  },
  {
   "cell_type": "markdown",
   "metadata": {},
   "source": [
    "The entries in a dict are unordered and cannot be accessed with an index. Like list, dictionaries are mutable. We can add an entry by writing:"
   ]
  },
  {
   "cell_type": "code",
   "execution_count": 53,
   "metadata": {},
   "outputs": [
    {
     "name": "stdout",
     "output_type": "stream",
     "text": [
      "{'Jan': 1, 'Feb': 2, 'Mar': 3, 'Apr': 4, 'May': 5, 1: 'Jan', 2: 'Feb', 3: 'Mar', 4: 'Apr', 5: 'May', 'June': 6}\n",
      "6\n"
     ]
    }
   ],
   "source": [
    "monthNumbers['June'] = 6 #add new entry in the dict.\n",
    "print(monthNumbers)\n",
    "print(monthNumbers['June'])"
   ]
  },
  {
   "cell_type": "markdown",
   "metadata": {},
   "source": [
    "or change an entry by writing:"
   ]
  },
  {
   "cell_type": "code",
   "execution_count": 32,
   "metadata": {},
   "outputs": [
    {
     "name": "stdout",
     "output_type": "stream",
     "text": [
      "{'Jan': 1, 'Feb': 2, 'Mar': 3, 'Apr': 4, 'May': 5, 1: 'Jan', 2: 'Feb', 3: 'Mar', 4: 'Apr', 5: 'May', 'June': 6}\n",
      "{'Jan': 1, 'Feb': 2, 'Mar': 3, 'Apr': 4, 'May': 'V', 1: 'Jan', 2: 'Feb', 3: 'Mar', 4: 'Apr', 5: 'May', 'June': 6}\n"
     ]
    }
   ],
   "source": [
    "print(monthNumbers)\n",
    "monthNumbers['May'] = 'V'\n",
    "print(monthNumbers)"
   ]
  },
  {
   "cell_type": "markdown",
   "metadata": {},
   "source": [
    "Dictionaries are one of the great things about Python. They greatly reduce the difficulty of writing a variety of programs. In the following code, we use dictionaries to write a (pretty horrible) program to translate between languages. Since one of the lines of code was too long to fit on the page, we used a backlash , \\, to indicate that the next line of text is a continuation of the previous line."
   ]
  },
  {
   "cell_type": "code",
   "execution_count": 35,
   "metadata": {},
   "outputs": [
    {
     "name": "stdout",
     "output_type": "stream",
     "text": [
      "Je bois \"good\" rouge vin, et mange pain. \n",
      "I drink of wine red. \n"
     ]
    }
   ],
   "source": [
    "EtoF = {'bread':'pain', 'wine':'vin', 'with':'avec', 'I':'Je','eat':'mange', 'drink':'bois', 'John':'Jean',\n",
    "        'friends':'amis', 'and': 'et', 'of':'du','red':'rouge'}\n",
    "FtoE = {'pain':'bread', 'vin':'wine', 'avec':'with', 'Je':'I','mange':'eat', 'bois':'drink', 'Jean':'John',\n",
    "        'amis':'friends', 'et':'and', 'du':'of', 'rouge':'red'}\n",
    "dicts = {'English to French':EtoF, 'French to English':FtoE}\n",
    "\n",
    "def translateWord(word,dictionary):\n",
    "    if word in dictionary.keys():\n",
    "        return dictionary[word]\n",
    "    elif word != '':\n",
    "        return '\"' + word + '\"'\n",
    "    return word\n",
    "\n",
    "def translate(phrase, dicts, direction):\n",
    "    UCletters = 'ABCDEFGHIJKLMNOPQRSTUVWXYZ'\n",
    "    LCletters = 'abcdefghijklmnopqrstuvwxyz'\n",
    "    letters = UCletters + LCletters\n",
    "    dictionary = dicts[direction]\n",
    "    translation = ''\n",
    "    word = ''\n",
    "    for c in phrase:\n",
    "        if c in letters:\n",
    "            word = word + c\n",
    "        else:\n",
    "            translation = translation\\\n",
    "                            + translateWord(word,dictionary) + c\n",
    "            word = ''\n",
    "    return translation + ' ' + translateWord(word,dictionary)\n",
    "\n",
    "print(translate('I drink good red wine, and eat bread.',dicts,'English to French'))\n",
    "print(translate('Je bois du vin rouge.',dicts, 'French to English'))"
   ]
  },
  {
   "cell_type": "markdown",
   "metadata": {},
   "source": [
    "Remember that dictionaries are mutable. So one muct be careful about side effects. For example:"
   ]
  },
  {
   "cell_type": "code",
   "execution_count": 36,
   "metadata": {},
   "outputs": [
    {
     "name": "stdout",
     "output_type": "stream",
     "text": [
      "{'pain': 'bread', 'vin': 'wine', 'avec': 'with', 'Je': 'I', 'mange': 'eat', 'bois': 'drink', 'Jean': 'John', 'amis': 'friends', 'et': 'and', 'du': 'of', 'rouge': 'red'}\n",
      "{'pain': 'bread', 'vin': 'wine', 'avec': 'with', 'Je': 'I', 'mange': 'eat', 'bois': 'wood', 'Jean': 'John', 'amis': 'friends', 'et': 'and', 'du': 'of', 'rouge': 'red'}\n",
      "I wood of wine red. \n"
     ]
    }
   ],
   "source": [
    "print(FtoE)\n",
    "FtoE['bois'] = 'wood'\n",
    "print(FtoE)\n",
    "print(translate('Je bois du vin rouge.', dicts, 'French to English'))"
   ]
  },
  {
   "cell_type": "markdown",
   "metadata": {},
   "source": [
    "Most programming languages do not contain a built-in type that provides a mapping from keys to values. Instead, programmers use other types to provide similar functionality. For example, it is relatively easy to implement a dictionary by using a list in which each element is a key/value pair. One can then write a function that does the associative retrieval:"
   ]
  },
  {
   "cell_type": "code",
   "execution_count": 41,
   "metadata": {},
   "outputs": [],
   "source": [
    "def keySearch(L,k):\n",
    "    for i in L:\n",
    "        if i[0] == k:\n",
    "            return i[1]\n",
    "    return None"
   ]
  },
  {
   "cell_type": "markdown",
   "metadata": {},
   "source": [
    "The problem with such an implementation is that it is computationally inefficient. In the worst case, a program might have to examine each element in the list to perform a single retrieval. In contrast, the built-in implementation is quite fast. It uses a technique called __hashing__ *to do the lookup in time that is nearly independent of the size of the dictionary*."
   ]
  },
  {
   "cell_type": "markdown",
   "metadata": {},
   "source": [
    "A for statement can be used to iterate over the entries in a dictionary. However, the value assigned to the iteration variable is a key, not a key/value pair. The order in which the keys are seen in the iteration is not defined. For example, the code:"
   ]
  },
  {
   "cell_type": "code",
   "execution_count": 54,
   "metadata": {},
   "outputs": [
    {
     "name": "stdout",
     "output_type": "stream",
     "text": [
      "['Jan', 'Feb', 'Mar', 'Apr', 'May', '1', '2', '3', '4', '5']\n",
      "['1', '2', '3', '4', '5', 'Apr', 'Feb', 'Jan', 'Mar', 'May']\n"
     ]
    }
   ],
   "source": [
    "monthNumbers = {'Jan':1, 'Feb':2, 'Mar':3, 'Apr':4, 'May':5, 1:'Jan', 2:'Feb', 3:'Mar', 4:'Apr', 5:'May'}\n",
    "keys = []\n",
    "\n",
    "for i in monthNumbers:\n",
    "    keys.append(str(i))\n",
    "\n",
    "print(keys)\n",
    "keys.sort()\n",
    "print(keys)"
   ]
  },
  {
   "cell_type": "code",
   "execution_count": 56,
   "metadata": {},
   "outputs": [
    {
     "name": "stdout",
     "output_type": "stream",
     "text": [
      "['Jan', 'Feb', 'Mar', 'Apr', 'May', '1', '2', '3', '4', '5']\n"
     ]
    }
   ],
   "source": [
    "monthNumbers = {'Jan':1, 'Feb':2, 'Mar':3, 'Apr':4, 'May':5, 1:'Jan', 2:'Feb', 3:'Mar', \n",
    "                4:'Apr', 5:'May'}\n",
    "keys = []\n",
    "\n",
    "for i in monthNumbers:\n",
    "    keys.append(str(i))\n",
    "    \n",
    "print(keys)"
   ]
  },
  {
   "cell_type": "markdown",
   "metadata": {},
   "source": [
    "The method keys returns an object of type dict_keys. This is an example of a view object. The order in which the keys appear in the view is not defined. A view object is dynamic in that if the object with which it associated changes, the change is visible through the view object. For example:"
   ]
  },
  {
   "cell_type": "code",
   "execution_count": 40,
   "metadata": {},
   "outputs": [
    {
     "name": "stdout",
     "output_type": "stream",
     "text": [
      "dict_keys(['Jan', 'Feb', 'Mar', 'Apr', 'May'])\n",
      "dict_keys(['Jan', 'Feb', 'Mar', 'Apr', 'May', 'June'])\n"
     ]
    }
   ],
   "source": [
    "birthStones = {'Jan':'Garnet', 'Feb':'Amethyst', 'Mar':'Acquamarine','Apr':'Diamond', 'May':'Emerald'}\n",
    "\n",
    "months = birthStones.keys() #return dict_keys type obeject.\n",
    "print(months)\n",
    "\n",
    "birthStones['June'] = 'Pearl'\n",
    "print(months)"
   ]
  },
  {
   "cell_type": "markdown",
   "metadata": {},
   "source": [
    "Objects of type dict_keys can be iterated over using for, and membership can be tested using in. An object of type dict_keys can easily be converted into a list.\n",
    "\n",
    "Not all types of objects can be used as keys: a key must be an object of a hashable type. A type is hashable if it has:\n",
    "\n",
    "* A _hash_ method that maps an object of the type to an int, and for every object the value returned by _hash_ does not change during the lifetime of the object, and\n",
    "\n",
    "* An _eq_ method that is used to compare objects for equality.\n",
    "\n",
    "All of Pyhton's built-in immutable types are hashable, and none of Python's built-in mutable types are hashable. It is often convenient to use tuples as keys. Imagine, for example, using a tuple of the form (flightNumber,day) to represent airline flights. It would then be easy to use such tuples as keys in a dictionary implementing a mapping from flights to arrival times. The following figure contains some of the more useful operations on dictionaries."
   ]
  },
  {
   "cell_type": "markdown",
   "metadata": {},
   "source": [
    "![](dict_methods.jpg)"
   ]
  }
 ],
 "metadata": {
  "kernelspec": {
   "display_name": "Python 3",
   "language": "python",
   "name": "python3"
  },
  "language_info": {
   "codemirror_mode": {
    "name": "ipython",
    "version": 3
   },
   "file_extension": ".py",
   "mimetype": "text/x-python",
   "name": "python",
   "nbconvert_exporter": "python",
   "pygments_lexer": "ipython3",
   "version": "3.7.3"
  }
 },
 "nbformat": 4,
 "nbformat_minor": 2
}
